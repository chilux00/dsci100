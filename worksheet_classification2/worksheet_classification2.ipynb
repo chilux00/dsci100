{
 "cells": [
  {
   "cell_type": "markdown",
   "metadata": {
    "deletable": false,
    "editable": false,
    "nbgrader": {
     "cell_type": "markdown",
     "checksum": "bb69fc939a5c45b9e0c7f2af231ad536",
     "grade": false,
     "grade_id": "cell-83e402ae256bacca",
     "locked": true,
     "schema_version": 3,
     "solution": false
    }
   },
   "source": [
    "# Worksheet 7 - Classification (Part II)\n",
    "\n",
    "### Lecture and Tutorial Learning Goals:\n",
    "\n",
    "After completing this week's lecture and tutorial work, you will be able to:\n",
    "\n",
    "* Describe what a test data set is and how it is used in classification.\n",
    "* Understand several ways of representing classifier performance: accuracy, precision, and recall, and the confusion matrix.\n",
    "* Using R, evaluate classifier performance using a test data set and appropriate metrics.\n",
    "* Using R, execute cross-validation in R to choose the number of neighbours.\n",
    "* Identify when it is necessary to scale variables before classification and do this using R\n",
    "* In a dataset with > 2 attributes, perform k-nearest neighbour classification in R using the `tidymodels` package to predict the class of a test dataset.\n",
    "* Describe advantages and disadvantages of the k-nearest neighbour classification algorithm.\n",
    "\n",
    "This worksheet covers parts of [the Classification II chapter](https://datasciencebook.ca/classification2.html) of the online textbook. You should read this chapter before attempting the worksheet."
   ]
  },
  {
   "cell_type": "code",
   "execution_count": 1,
   "metadata": {
    "deletable": false,
    "editable": false,
    "nbgrader": {
     "cell_type": "code",
     "checksum": "b2bf0e24e6922491ca915a749088f6fc",
     "grade": false,
     "grade_id": "cell-e3518ed3d64fb67c",
     "locked": true,
     "schema_version": 3,
     "solution": false
    },
    "scrolled": true
   },
   "outputs": [
    {
     "name": "stderr",
     "output_type": "stream",
     "text": [
      "── \u001b[1mAttaching core tidyverse packages\u001b[22m ──────────────────────── tidyverse 2.0.0 ──\n",
      "\u001b[32m✔\u001b[39m \u001b[34mdplyr    \u001b[39m 1.1.3     \u001b[32m✔\u001b[39m \u001b[34mreadr    \u001b[39m 2.1.4\n",
      "\u001b[32m✔\u001b[39m \u001b[34mforcats  \u001b[39m 1.0.0     \u001b[32m✔\u001b[39m \u001b[34mstringr  \u001b[39m 1.5.0\n",
      "\u001b[32m✔\u001b[39m \u001b[34mggplot2  \u001b[39m 3.4.3     \u001b[32m✔\u001b[39m \u001b[34mtibble   \u001b[39m 3.2.1\n",
      "\u001b[32m✔\u001b[39m \u001b[34mlubridate\u001b[39m 1.9.2     \u001b[32m✔\u001b[39m \u001b[34mtidyr    \u001b[39m 1.3.0\n",
      "\u001b[32m✔\u001b[39m \u001b[34mpurrr    \u001b[39m 1.0.2     \n",
      "── \u001b[1mConflicts\u001b[22m ────────────────────────────────────────── tidyverse_conflicts() ──\n",
      "\u001b[31m✖\u001b[39m \u001b[34mdplyr\u001b[39m::\u001b[32mfilter()\u001b[39m masks \u001b[34mstats\u001b[39m::filter()\n",
      "\u001b[31m✖\u001b[39m \u001b[34mdplyr\u001b[39m::\u001b[32mlag()\u001b[39m    masks \u001b[34mstats\u001b[39m::lag()\n",
      "\u001b[36mℹ\u001b[39m Use the conflicted package (\u001b[3m\u001b[34m<http://conflicted.r-lib.org/>\u001b[39m\u001b[23m) to force all conflicts to become errors\n",
      "── \u001b[1mAttaching packages\u001b[22m ────────────────────────────────────── tidymodels 1.1.1 ──\n",
      "\n",
      "\u001b[32m✔\u001b[39m \u001b[34mbroom       \u001b[39m 1.0.5     \u001b[32m✔\u001b[39m \u001b[34mrsample     \u001b[39m 1.2.0\n",
      "\u001b[32m✔\u001b[39m \u001b[34mdials       \u001b[39m 1.2.0     \u001b[32m✔\u001b[39m \u001b[34mtune        \u001b[39m 1.1.2\n",
      "\u001b[32m✔\u001b[39m \u001b[34minfer       \u001b[39m 1.0.4     \u001b[32m✔\u001b[39m \u001b[34mworkflows   \u001b[39m 1.1.3\n",
      "\u001b[32m✔\u001b[39m \u001b[34mmodeldata   \u001b[39m 1.2.0     \u001b[32m✔\u001b[39m \u001b[34mworkflowsets\u001b[39m 1.0.1\n",
      "\u001b[32m✔\u001b[39m \u001b[34mparsnip     \u001b[39m 1.1.1     \u001b[32m✔\u001b[39m \u001b[34myardstick   \u001b[39m 1.2.0\n",
      "\u001b[32m✔\u001b[39m \u001b[34mrecipes     \u001b[39m 1.0.8     \n",
      "\n",
      "── \u001b[1mConflicts\u001b[22m ───────────────────────────────────────── tidymodels_conflicts() ──\n",
      "\u001b[31m✖\u001b[39m \u001b[34mscales\u001b[39m::\u001b[32mdiscard()\u001b[39m masks \u001b[34mpurrr\u001b[39m::discard()\n",
      "\u001b[31m✖\u001b[39m \u001b[34mdplyr\u001b[39m::\u001b[32mfilter()\u001b[39m   masks \u001b[34mstats\u001b[39m::filter()\n",
      "\u001b[31m✖\u001b[39m \u001b[34mrecipes\u001b[39m::\u001b[32mfixed()\u001b[39m  masks \u001b[34mstringr\u001b[39m::fixed()\n",
      "\u001b[31m✖\u001b[39m \u001b[34mdplyr\u001b[39m::\u001b[32mlag()\u001b[39m      masks \u001b[34mstats\u001b[39m::lag()\n",
      "\u001b[31m✖\u001b[39m \u001b[34myardstick\u001b[39m::\u001b[32mspec()\u001b[39m masks \u001b[34mreadr\u001b[39m::spec()\n",
      "\u001b[31m✖\u001b[39m \u001b[34mrecipes\u001b[39m::\u001b[32mstep()\u001b[39m   masks \u001b[34mstats\u001b[39m::step()\n",
      "\u001b[34m•\u001b[39m Use \u001b[32mtidymodels_prefer()\u001b[39m to resolve common conflicts.\n",
      "\n",
      "\n",
      "Attaching package: ‘testthat’\n",
      "\n",
      "\n",
      "The following object is masked from ‘package:rsample’:\n",
      "\n",
      "    matches\n",
      "\n",
      "\n",
      "The following object is masked from ‘package:dplyr’:\n",
      "\n",
      "    matches\n",
      "\n",
      "\n",
      "The following object is masked from ‘package:purrr’:\n",
      "\n",
      "    is_null\n",
      "\n",
      "\n",
      "The following objects are masked from ‘package:readr’:\n",
      "\n",
      "    edition_get, local_edition\n",
      "\n",
      "\n",
      "The following object is masked from ‘package:tidyr’:\n",
      "\n",
      "    matches\n",
      "\n",
      "\n",
      "\n",
      "Attaching package: ‘rlang’\n",
      "\n",
      "\n",
      "The following objects are masked from ‘package:testthat’:\n",
      "\n",
      "    is_false, is_null, is_true\n",
      "\n",
      "\n",
      "The following objects are masked from ‘package:purrr’:\n",
      "\n",
      "    %@%, flatten, flatten_chr, flatten_dbl, flatten_int, flatten_lgl,\n",
      "    flatten_raw, invoke, splice\n",
      "\n",
      "\n"
     ]
    }
   ],
   "source": [
    "### Run this cell before continuing.\n",
    "library(tidyverse)\n",
    "library(repr)\n",
    "library(tidymodels)\n",
    "options(repr.matrix.max.rows = 6)\n",
    "source('tests.R')\n",
    "source('cleanup.R')"
   ]
  },
  {
   "cell_type": "markdown",
   "metadata": {
    "deletable": false,
    "editable": false,
    "nbgrader": {
     "cell_type": "markdown",
     "checksum": "e3bb815c573d1e593ccde12f9813ae9c",
     "grade": false,
     "grade_id": "cell-8699740184695c66",
     "locked": true,
     "schema_version": 3,
     "solution": false,
     "task": false
    }
   },
   "source": [
    "**Question 0.1** Multiple Choice:\n",
    "<br>{points: 1}\n",
    "\n",
    "Before applying k-nearest neighbour to a classification task, we need to scale the data. What is the purpose of this step?\n",
    "\n",
    "A. To help speed up the knn algorithm.\n",
    "\n",
    "B. To convert all data observations to numeric values.\n",
    "\n",
    "C. To ensure all data observations will be on a comparable scale and contribute equal shares to the calculation of the distance between points.\n",
    "\n",
    "D. None of the above.\n",
    "\n",
    "*Assign your answer to an object called `answer0.1`. Make sure your answer is an uppercase letter and is surrounded by quotation marks (e.g. `\"F\"`)*."
   ]
  },
  {
   "cell_type": "code",
   "execution_count": 6,
   "metadata": {
    "deletable": false,
    "nbgrader": {
     "cell_type": "code",
     "checksum": "868196915f89a2cd8b75833d3b31265c",
     "grade": false,
     "grade_id": "cell-59b72939f6fa91c3",
     "locked": false,
     "schema_version": 3,
     "solution": true,
     "task": false
    }
   },
   "outputs": [],
   "source": [
    "# your code here\n",
    "answer0.1 <- \"C\""
   ]
  },
  {
   "cell_type": "code",
   "execution_count": 7,
   "metadata": {
    "deletable": false,
    "editable": false,
    "nbgrader": {
     "cell_type": "code",
     "checksum": "75a155e993fb8cc210f042093cdedc2d",
     "grade": true,
     "grade_id": "cell-3f57245c4f46b1d0",
     "locked": true,
     "points": 1,
     "schema_version": 3,
     "solution": false,
     "task": false
    }
   },
   "outputs": [
    {
     "name": "stdout",
     "output_type": "stream",
     "text": [
      "\u001b[32mTest passed\u001b[39m 🥳\n",
      "\u001b[32mTest passed\u001b[39m 🥇\n",
      "[1] \"Success!\"\n"
     ]
    }
   ],
   "source": [
    "test_0.1()"
   ]
  },
  {
   "cell_type": "markdown",
   "metadata": {
    "deletable": false,
    "editable": false,
    "nbgrader": {
     "cell_type": "markdown",
     "checksum": "8a11edce9d541795eaab3b4341f90781",
     "grade": false,
     "grade_id": "cell-a84aabceb5b01847",
     "locked": true,
     "schema_version": 3,
     "solution": false,
     "task": false
    }
   },
   "source": [
    "**Question 0.2** Multiple Choice:\n",
    "<br>{points: 1}\n",
    "\n",
    "The confusion matrix is:\n",
    "\n",
    "A. A way to confuse you.\n",
    "\n",
    "B. A table where rows correspond to predicted class and columns correspond to true class.\n",
    "\n",
    "C. Each cell in the confusion matrix displays the number of observations with a particular predicted/true class as given by the row and column labels.\n",
    "\n",
    "D. Is an important tool for understanding what type of mistakes a classifier makes and how often these mistakes happen.\n",
    "\n",
    "E. All of the above except A.\n",
    "\n",
    "*Assign your answer to an object called `answer0.2`. Make sure your answer is an uppercase letter and is surrounded by quotation marks (e.g. `\"F\"`)*."
   ]
  },
  {
   "cell_type": "code",
   "execution_count": 8,
   "metadata": {
    "deletable": false,
    "nbgrader": {
     "cell_type": "code",
     "checksum": "3f38b747d4147cefeadaa685ee4eec58",
     "grade": false,
     "grade_id": "cell-7ef3ba67e8089e9e",
     "locked": false,
     "schema_version": 3,
     "solution": true,
     "task": false
    }
   },
   "outputs": [],
   "source": [
    "# your code here\n",
    "answer0.2 <- \"E\""
   ]
  },
  {
   "cell_type": "code",
   "execution_count": 9,
   "metadata": {
    "deletable": false,
    "editable": false,
    "nbgrader": {
     "cell_type": "code",
     "checksum": "417284435a1320d0d5ea5280f4465d03",
     "grade": true,
     "grade_id": "cell-69f1548e869df200",
     "locked": true,
     "points": 1,
     "schema_version": 3,
     "solution": false,
     "task": false
    }
   },
   "outputs": [
    {
     "name": "stdout",
     "output_type": "stream",
     "text": [
      "\u001b[32mTest passed\u001b[39m 🥳\n",
      "\u001b[32mTest passed\u001b[39m 😸\n",
      "[1] \"Success!\"\n"
     ]
    }
   ],
   "source": [
    "test_0.2()"
   ]
  },
  {
   "cell_type": "markdown",
   "metadata": {
    "deletable": false,
    "editable": false,
    "nbgrader": {
     "cell_type": "markdown",
     "checksum": "85ae692724797a75ef3c7607ddb52937",
     "grade": false,
     "grade_id": "cell-1734097c6dca49fb",
     "locked": true,
     "schema_version": 3,
     "solution": false,
     "task": false
    }
   },
   "source": [
    "**Question 0.3** Multiple Choice:\n",
    "<br>{points: 1}\n",
    "\n",
    "Precision and recall are ways to summarize the confusion matrix. What is something we must do before calculating precision and recall?\n",
    "\n",
    "A. Turn the values (counts of observations) appearing in each cell of the table into a proportion. \n",
    "\n",
    "B. Choose one of the class label as being more interesting and equate that with the \"positive\" label.\n",
    "\n",
    "C. Flip the column and rows of the matrix.\n",
    "\n",
    "D. None of the above.\n",
    "\n",
    "*Assign your answer to an object called `answer0.3`. Make sure your answer is an uppercase letter and is surrounded by quotation marks (e.g. `\"F\"`)*."
   ]
  },
  {
   "cell_type": "code",
   "execution_count": 10,
   "metadata": {
    "deletable": false,
    "nbgrader": {
     "cell_type": "code",
     "checksum": "068f14657e59f74dfd9f3df8a0a2c0c8",
     "grade": false,
     "grade_id": "cell-a77e5fbd4b7f6079",
     "locked": false,
     "schema_version": 3,
     "solution": true,
     "task": false
    }
   },
   "outputs": [],
   "source": [
    "# your code here\n",
    "answer0.3 <- \"B\""
   ]
  },
  {
   "cell_type": "code",
   "execution_count": 11,
   "metadata": {
    "deletable": false,
    "editable": false,
    "nbgrader": {
     "cell_type": "code",
     "checksum": "66cf9f24b68d3c36bdf815bf6c0f72da",
     "grade": true,
     "grade_id": "cell-7761709105afb61e",
     "locked": true,
     "points": 1,
     "schema_version": 3,
     "solution": false,
     "task": false
    }
   },
   "outputs": [
    {
     "name": "stdout",
     "output_type": "stream",
     "text": [
      "\u001b[32mTest passed\u001b[39m 🌈\n",
      "\u001b[32mTest passed\u001b[39m 🥇\n",
      "[1] \"Success!\"\n"
     ]
    }
   ],
   "source": [
    "test_0.3()"
   ]
  },
  {
   "cell_type": "markdown",
   "metadata": {
    "deletable": false,
    "editable": false,
    "nbgrader": {
     "cell_type": "markdown",
     "checksum": "efeb2215f120a2a1b03bc51db3520cc6",
     "grade": false,
     "grade_id": "cell-0ae53a5320742a59",
     "locked": true,
     "schema_version": 3,
     "solution": false,
     "task": false
    }
   },
   "source": [
    "## 1. Fruit Data Example - (Part II)\n",
    "**Question 1.0** \n",
    "<br>{points: 1}\n",
    "\n",
    "You will recognize a few of the first questions in this worksheet from last week's tutorial. This will help you repeat some of the fundamentals of classification before tackling the later questions in this worksheet, which integrate concepts you learned from this week's material. First, load the file `fruit_data.csv` (found in the data folder) from the previous tutorial into your notebook.\n",
    "\n",
    "`mutate()` the `fruit_name` column such that it is a factor using `as_factor()`.\n",
    "\n",
    "*Assign your data to an object called `fruit_data`.*"
   ]
  },
  {
   "cell_type": "code",
   "execution_count": 19,
   "metadata": {
    "deletable": false,
    "nbgrader": {
     "cell_type": "code",
     "checksum": "5dec1e49d953d99d5f1175fa39fdce56",
     "grade": false,
     "grade_id": "cell-79fb584a3431ca43",
     "locked": false,
     "schema_version": 3,
     "solution": true,
     "task": false
    }
   },
   "outputs": [
    {
     "data": {
      "text/html": [
       "<table class=\"dataframe\">\n",
       "<caption>A data.frame: 59 × 7</caption>\n",
       "<thead>\n",
       "\t<tr><th scope=col>fruit_label</th><th scope=col>fruit_name</th><th scope=col>fruit_subtype</th><th scope=col>mass</th><th scope=col>width</th><th scope=col>height</th><th scope=col>color_score</th></tr>\n",
       "\t<tr><th scope=col>&lt;int&gt;</th><th scope=col>&lt;fct&gt;</th><th scope=col>&lt;chr&gt;</th><th scope=col>&lt;int&gt;</th><th scope=col>&lt;dbl&gt;</th><th scope=col>&lt;dbl&gt;</th><th scope=col>&lt;dbl&gt;</th></tr>\n",
       "</thead>\n",
       "<tbody>\n",
       "\t<tr><td>1</td><td>apple</td><td>granny_smith</td><td>192</td><td>8.4</td><td>7.3</td><td>0.55</td></tr>\n",
       "\t<tr><td>1</td><td>apple</td><td>granny_smith</td><td>180</td><td>8.0</td><td>6.8</td><td>0.59</td></tr>\n",
       "\t<tr><td>1</td><td>apple</td><td>granny_smith</td><td>176</td><td>7.4</td><td>7.2</td><td>0.60</td></tr>\n",
       "\t<tr><td>⋮</td><td>⋮</td><td>⋮</td><td>⋮</td><td>⋮</td><td>⋮</td><td>⋮</td></tr>\n",
       "\t<tr><td>4</td><td>lemon</td><td>unknown</td><td>116</td><td>5.9</td><td>8.1</td><td>0.73</td></tr>\n",
       "\t<tr><td>4</td><td>lemon</td><td>unknown</td><td>152</td><td>6.5</td><td>8.5</td><td>0.72</td></tr>\n",
       "\t<tr><td>4</td><td>lemon</td><td>unknown</td><td>118</td><td>6.1</td><td>8.1</td><td>0.70</td></tr>\n",
       "</tbody>\n",
       "</table>\n"
      ],
      "text/latex": [
       "A data.frame: 59 × 7\n",
       "\\begin{tabular}{lllllll}\n",
       " fruit\\_label & fruit\\_name & fruit\\_subtype & mass & width & height & color\\_score\\\\\n",
       " <int> & <fct> & <chr> & <int> & <dbl> & <dbl> & <dbl>\\\\\n",
       "\\hline\n",
       "\t 1 & apple & granny\\_smith & 192 & 8.4 & 7.3 & 0.55\\\\\n",
       "\t 1 & apple & granny\\_smith & 180 & 8.0 & 6.8 & 0.59\\\\\n",
       "\t 1 & apple & granny\\_smith & 176 & 7.4 & 7.2 & 0.60\\\\\n",
       "\t ⋮ & ⋮ & ⋮ & ⋮ & ⋮ & ⋮ & ⋮\\\\\n",
       "\t 4 & lemon & unknown & 116 & 5.9 & 8.1 & 0.73\\\\\n",
       "\t 4 & lemon & unknown & 152 & 6.5 & 8.5 & 0.72\\\\\n",
       "\t 4 & lemon & unknown & 118 & 6.1 & 8.1 & 0.70\\\\\n",
       "\\end{tabular}\n"
      ],
      "text/markdown": [
       "\n",
       "A data.frame: 59 × 7\n",
       "\n",
       "| fruit_label &lt;int&gt; | fruit_name &lt;fct&gt; | fruit_subtype &lt;chr&gt; | mass &lt;int&gt; | width &lt;dbl&gt; | height &lt;dbl&gt; | color_score &lt;dbl&gt; |\n",
       "|---|---|---|---|---|---|---|\n",
       "| 1 | apple | granny_smith | 192 | 8.4 | 7.3 | 0.55 |\n",
       "| 1 | apple | granny_smith | 180 | 8.0 | 6.8 | 0.59 |\n",
       "| 1 | apple | granny_smith | 176 | 7.4 | 7.2 | 0.60 |\n",
       "| ⋮ | ⋮ | ⋮ | ⋮ | ⋮ | ⋮ | ⋮ |\n",
       "| 4 | lemon | unknown | 116 | 5.9 | 8.1 | 0.73 |\n",
       "| 4 | lemon | unknown | 152 | 6.5 | 8.5 | 0.72 |\n",
       "| 4 | lemon | unknown | 118 | 6.1 | 8.1 | 0.70 |\n",
       "\n"
      ],
      "text/plain": [
       "   fruit_label fruit_name fruit_subtype mass width height color_score\n",
       "1  1           apple      granny_smith  192  8.4   7.3    0.55       \n",
       "2  1           apple      granny_smith  180  8.0   6.8    0.59       \n",
       "3  1           apple      granny_smith  176  7.4   7.2    0.60       \n",
       "⋮  ⋮           ⋮          ⋮             ⋮    ⋮     ⋮      ⋮          \n",
       "57 4           lemon      unknown       116  5.9   8.1    0.73       \n",
       "58 4           lemon      unknown       152  6.5   8.5    0.72       \n",
       "59 4           lemon      unknown       118  6.1   8.1    0.70       "
      ]
     },
     "metadata": {},
     "output_type": "display_data"
    }
   ],
   "source": [
    "# your code here\n",
    "fruit_data <- read.csv(\"data/fruit_data.csv\") |>\n",
    "mutate(fruit_name = as_factor(fruit_name))\n",
    "fruit_data"
   ]
  },
  {
   "cell_type": "code",
   "execution_count": 20,
   "metadata": {
    "deletable": false,
    "editable": false,
    "nbgrader": {
     "cell_type": "code",
     "checksum": "7c3b4f5dbc24925a81ee52993294d627",
     "grade": true,
     "grade_id": "cell-03b586646cc9ea74",
     "locked": true,
     "points": 1,
     "schema_version": 3,
     "solution": false,
     "task": false
    }
   },
   "outputs": [
    {
     "name": "stdout",
     "output_type": "stream",
     "text": [
      "\u001b[32mTest passed\u001b[39m 😀\n",
      "\u001b[32mTest passed\u001b[39m 🎉\n",
      "\u001b[32mTest passed\u001b[39m 😀\n",
      "\u001b[32mTest passed\u001b[39m 🥳\n",
      "[1] \"Success!\"\n"
     ]
    }
   ],
   "source": [
    "test_1.0()"
   ]
  },
  {
   "cell_type": "markdown",
   "metadata": {
    "deletable": false,
    "editable": false,
    "nbgrader": {
     "cell_type": "markdown",
     "checksum": "96c22def398ef9777be1d806a18c328d",
     "grade": false,
     "grade_id": "cell-9691b09f8cd7044c",
     "locked": true,
     "schema_version": 3,
     "solution": false,
     "task": false
    }
   },
   "source": [
    "Let's take a look at the first six observations in the fruit dataset. Run the cell below."
   ]
  },
  {
   "cell_type": "code",
   "execution_count": 21,
   "metadata": {
    "deletable": false,
    "editable": false,
    "nbgrader": {
     "cell_type": "code",
     "checksum": "f93525a5f4e7f3394f97443382f48b42",
     "grade": false,
     "grade_id": "cell-19eb282d44a51d90",
     "locked": true,
     "schema_version": 3,
     "solution": false,
     "task": false
    }
   },
   "outputs": [
    {
     "data": {
      "text/html": [
       "<table class=\"dataframe\">\n",
       "<caption>A data.frame: 6 × 7</caption>\n",
       "<thead>\n",
       "\t<tr><th scope=col>fruit_label</th><th scope=col>fruit_name</th><th scope=col>fruit_subtype</th><th scope=col>mass</th><th scope=col>width</th><th scope=col>height</th><th scope=col>color_score</th></tr>\n",
       "\t<tr><th scope=col>&lt;int&gt;</th><th scope=col>&lt;fct&gt;</th><th scope=col>&lt;chr&gt;</th><th scope=col>&lt;int&gt;</th><th scope=col>&lt;dbl&gt;</th><th scope=col>&lt;dbl&gt;</th><th scope=col>&lt;dbl&gt;</th></tr>\n",
       "</thead>\n",
       "<tbody>\n",
       "\t<tr><td>1</td><td>apple   </td><td>granny_smith</td><td>192</td><td>8.4</td><td>7.3</td><td>0.55</td></tr>\n",
       "\t<tr><td>1</td><td>apple   </td><td>granny_smith</td><td>180</td><td>8.0</td><td>6.8</td><td>0.59</td></tr>\n",
       "\t<tr><td>1</td><td>apple   </td><td>granny_smith</td><td>176</td><td>7.4</td><td>7.2</td><td>0.60</td></tr>\n",
       "\t<tr><td>2</td><td>mandarin</td><td>mandarin    </td><td> 86</td><td>6.2</td><td>4.7</td><td>0.80</td></tr>\n",
       "\t<tr><td>2</td><td>mandarin</td><td>mandarin    </td><td> 84</td><td>6.0</td><td>4.6</td><td>0.79</td></tr>\n",
       "\t<tr><td>2</td><td>mandarin</td><td>mandarin    </td><td> 80</td><td>5.8</td><td>4.3</td><td>0.77</td></tr>\n",
       "</tbody>\n",
       "</table>\n"
      ],
      "text/latex": [
       "A data.frame: 6 × 7\n",
       "\\begin{tabular}{lllllll}\n",
       " fruit\\_label & fruit\\_name & fruit\\_subtype & mass & width & height & color\\_score\\\\\n",
       " <int> & <fct> & <chr> & <int> & <dbl> & <dbl> & <dbl>\\\\\n",
       "\\hline\n",
       "\t 1 & apple    & granny\\_smith & 192 & 8.4 & 7.3 & 0.55\\\\\n",
       "\t 1 & apple    & granny\\_smith & 180 & 8.0 & 6.8 & 0.59\\\\\n",
       "\t 1 & apple    & granny\\_smith & 176 & 7.4 & 7.2 & 0.60\\\\\n",
       "\t 2 & mandarin & mandarin     &  86 & 6.2 & 4.7 & 0.80\\\\\n",
       "\t 2 & mandarin & mandarin     &  84 & 6.0 & 4.6 & 0.79\\\\\n",
       "\t 2 & mandarin & mandarin     &  80 & 5.8 & 4.3 & 0.77\\\\\n",
       "\\end{tabular}\n"
      ],
      "text/markdown": [
       "\n",
       "A data.frame: 6 × 7\n",
       "\n",
       "| fruit_label &lt;int&gt; | fruit_name &lt;fct&gt; | fruit_subtype &lt;chr&gt; | mass &lt;int&gt; | width &lt;dbl&gt; | height &lt;dbl&gt; | color_score &lt;dbl&gt; |\n",
       "|---|---|---|---|---|---|---|\n",
       "| 1 | apple    | granny_smith | 192 | 8.4 | 7.3 | 0.55 |\n",
       "| 1 | apple    | granny_smith | 180 | 8.0 | 6.8 | 0.59 |\n",
       "| 1 | apple    | granny_smith | 176 | 7.4 | 7.2 | 0.60 |\n",
       "| 2 | mandarin | mandarin     |  86 | 6.2 | 4.7 | 0.80 |\n",
       "| 2 | mandarin | mandarin     |  84 | 6.0 | 4.6 | 0.79 |\n",
       "| 2 | mandarin | mandarin     |  80 | 5.8 | 4.3 | 0.77 |\n",
       "\n"
      ],
      "text/plain": [
       "  fruit_label fruit_name fruit_subtype mass width height color_score\n",
       "1 1           apple      granny_smith  192  8.4   7.3    0.55       \n",
       "2 1           apple      granny_smith  180  8.0   6.8    0.59       \n",
       "3 1           apple      granny_smith  176  7.4   7.2    0.60       \n",
       "4 2           mandarin   mandarin       86  6.2   4.7    0.80       \n",
       "5 2           mandarin   mandarin       84  6.0   4.6    0.79       \n",
       "6 2           mandarin   mandarin       80  5.8   4.3    0.77       "
      ]
     },
     "metadata": {},
     "output_type": "display_data"
    }
   ],
   "source": [
    "# Run this cell. \n",
    "slice(fruit_data, 1:6)"
   ]
  },
  {
   "cell_type": "markdown",
   "metadata": {
    "deletable": false,
    "editable": false,
    "nbgrader": {
     "cell_type": "markdown",
     "checksum": "9bbc0b46966cf89cba182cf5cd89213a",
     "grade": false,
     "grade_id": "cell-8859cd0f52f211a7",
     "locked": true,
     "schema_version": 3,
     "solution": false,
     "task": false
    }
   },
   "source": [
    "Run the cell below, and find the nearest neighbour based on mass and width to the first observation just by looking at the scatterplot (the first observation has been circled for you)."
   ]
  },
  {
   "cell_type": "code",
   "execution_count": 22,
   "metadata": {
    "deletable": false,
    "editable": false,
    "nbgrader": {
     "cell_type": "code",
     "checksum": "c595e24a25160d27fc35efb21453f56e",
     "grade": false,
     "grade_id": "cell-3833e64a2fd0000c",
     "locked": true,
     "schema_version": 3,
     "solution": false,
     "task": false
    }
   },
   "outputs": [
    {
     "data": {
      "application/pdf": "[encoded data removed]",
      "image/jpeg": "[encoded data removed]",
      "image/png": "[encoded data removed]",
      "image/svg+xml": [
       "<?xml version=\"1.0\" encoding=\"UTF-8\"?>\n",
       "<svg xmlns=\"http://www.w3.org/2000/svg\" xmlns:xlink=\"http://www.w3.org/1999/xlink\" width=\"720pt\" height=\"432pt\" viewBox=\"0 0 720 432\" version=\"1.1\">\n",
       "<defs>\n",
       "<g>\n",
       "<symbol overflow=\"visible\" id=\"glyph0-0\">\n",
       "<path style=\"stroke:none;\" d=\"M 0.359375 0 L 0.359375 -7.359375 L 3.296875 -7.359375 L 3.296875 0 Z M 0.734375 -0.359375 L 2.9375 -0.359375 L 2.9375 -7 L 0.734375 -7 Z M 0.734375 -0.359375 \"/>\n",
       "</symbol>\n",
       "<symbol overflow=\"visible\" id=\"glyph0-1\">\n",
       "<path style=\"stroke:none;\" d=\"M 0.84375 0 L 0.84375 -0.828125 L 2.78125 -0.828125 L 2.78125 -6.671875 L 1.0625 -5.453125 L 1.0625 -6.359375 L 2.859375 -7.59375 L 3.75 -7.59375 L 3.75 -0.828125 L 5.609375 -0.828125 L 5.609375 0 Z M 0.84375 0 \"/>\n",
       "</symbol>\n",
       "<symbol overflow=\"visible\" id=\"glyph1-0\">\n",
       "<path style=\"stroke:none;\" d=\"M 0.53125 0 L 0.53125 -10.671875 L 4.78125 -10.671875 L 4.78125 0 Z M 1.0625 -0.53125 L 4.25 -0.53125 L 4.25 -10.140625 L 1.0625 -10.140625 Z M 1.0625 -0.53125 \"/>\n",
       "</symbol>\n",
       "<symbol overflow=\"visible\" id=\"glyph1-1\">\n",
       "<path style=\"stroke:none;\" d=\"M 8.203125 -3.609375 C 8.203125 -3.054688 8.125 -2.546875 7.96875 -2.078125 C 7.8125 -1.617188 7.582031 -1.222656 7.28125 -0.890625 C 6.988281 -0.566406 6.617188 -0.3125 6.171875 -0.125 C 5.734375 0.0625 5.222656 0.15625 4.640625 0.15625 C 4.003906 0.15625 3.445312 0.0351562 2.96875 -0.203125 C 2.488281 -0.453125 2.085938 -0.804688 1.765625 -1.265625 C 1.453125 -1.734375 1.210938 -2.300781 1.046875 -2.96875 C 0.890625 -3.632812 0.8125 -4.394531 0.8125 -5.25 C 0.8125 -6.226562 0.898438 -7.085938 1.078125 -7.828125 C 1.265625 -8.566406 1.523438 -9.179688 1.859375 -9.671875 C 2.203125 -10.171875 2.613281 -10.546875 3.09375 -10.796875 C 3.582031 -11.046875 4.132812 -11.171875 4.75 -11.171875 C 5.125 -11.171875 5.472656 -11.128906 5.796875 -11.046875 C 6.128906 -10.972656 6.429688 -10.847656 6.703125 -10.671875 C 6.972656 -10.503906 7.207031 -10.273438 7.40625 -9.984375 C 7.613281 -9.703125 7.773438 -9.351562 7.890625 -8.9375 L 6.546875 -8.6875 C 6.398438 -9.164062 6.164062 -9.507812 5.84375 -9.71875 C 5.53125 -9.925781 5.160156 -10.03125 4.734375 -10.03125 C 4.347656 -10.03125 4 -9.9375 3.6875 -9.75 C 3.375 -9.570312 3.109375 -9.300781 2.890625 -8.9375 C 2.671875 -8.582031 2.503906 -8.128906 2.390625 -7.578125 C 2.273438 -7.035156 2.21875 -6.398438 2.21875 -5.671875 C 2.46875 -6.140625 2.820312 -6.5 3.28125 -6.75 C 3.75 -7 4.285156 -7.125 4.890625 -7.125 C 5.390625 -7.125 5.84375 -7.039062 6.25 -6.875 C 6.65625 -6.71875 7 -6.484375 7.28125 -6.171875 C 7.570312 -5.867188 7.796875 -5.5 7.953125 -5.0625 C 8.117188 -4.632812 8.203125 -4.148438 8.203125 -3.609375 Z M 6.765625 -3.546875 C 6.765625 -3.921875 6.71875 -4.257812 6.625 -4.5625 C 6.53125 -4.875 6.390625 -5.140625 6.203125 -5.359375 C 6.015625 -5.578125 5.78125 -5.742188 5.5 -5.859375 C 5.226562 -5.972656 4.910156 -6.03125 4.546875 -6.03125 C 4.296875 -6.03125 4.039062 -5.992188 3.78125 -5.921875 C 3.519531 -5.847656 3.28125 -5.722656 3.0625 -5.546875 C 2.851562 -5.378906 2.679688 -5.15625 2.546875 -4.875 C 2.421875 -4.601562 2.359375 -4.269531 2.359375 -3.875 C 2.359375 -3.46875 2.410156 -3.085938 2.515625 -2.734375 C 2.617188 -2.390625 2.765625 -2.085938 2.953125 -1.828125 C 3.148438 -1.566406 3.382812 -1.359375 3.65625 -1.203125 C 3.9375 -1.054688 4.25 -0.984375 4.59375 -0.984375 C 4.9375 -0.984375 5.238281 -1.039062 5.5 -1.15625 C 5.769531 -1.269531 6 -1.4375 6.1875 -1.65625 C 6.375 -1.882812 6.515625 -2.15625 6.609375 -2.46875 C 6.710938 -2.789062 6.765625 -3.148438 6.765625 -3.546875 Z M 6.765625 -3.546875 \"/>\n",
       "</symbol>\n",
       "<symbol overflow=\"visible\" id=\"glyph1-2\">\n",
       "<path style=\"stroke:none;\" d=\"M 8.09375 -9.875 C 7.539062 -9.03125 7.03125 -8.21875 6.5625 -7.4375 C 6.101562 -6.65625 5.707031 -5.867188 5.375 -5.078125 C 5.039062 -4.296875 4.78125 -3.488281 4.59375 -2.65625 C 4.414062 -1.820312 4.328125 -0.9375 4.328125 0 L 2.859375 0 C 2.859375 -0.882812 2.960938 -1.75 3.171875 -2.59375 C 3.378906 -3.4375 3.660156 -4.265625 4.015625 -5.078125 C 4.367188 -5.898438 4.78125 -6.703125 5.25 -7.484375 C 5.71875 -8.273438 6.210938 -9.050781 6.734375 -9.8125 L 0.828125 -9.8125 L 0.828125 -11.015625 L 8.09375 -11.015625 Z M 8.09375 -9.875 \"/>\n",
       "</symbol>\n",
       "<symbol overflow=\"visible\" id=\"glyph1-3\">\n",
       "<path style=\"stroke:none;\" d=\"M 8.203125 -3.078125 C 8.203125 -2.609375 8.128906 -2.175781 7.984375 -1.78125 C 7.835938 -1.382812 7.609375 -1.039062 7.296875 -0.75 C 6.992188 -0.46875 6.601562 -0.242188 6.125 -0.078125 C 5.65625 0.078125 5.097656 0.15625 4.453125 0.15625 C 3.804688 0.15625 3.25 0.078125 2.78125 -0.078125 C 2.3125 -0.242188 1.921875 -0.46875 1.609375 -0.75 C 1.296875 -1.039062 1.066406 -1.378906 0.921875 -1.765625 C 0.773438 -2.160156 0.703125 -2.59375 0.703125 -3.0625 C 0.703125 -3.457031 0.757812 -3.8125 0.875 -4.125 C 1 -4.4375 1.164062 -4.707031 1.375 -4.9375 C 1.582031 -5.164062 1.816406 -5.347656 2.078125 -5.484375 C 2.335938 -5.617188 2.609375 -5.710938 2.890625 -5.765625 L 2.890625 -5.796875 C 2.585938 -5.867188 2.3125 -5.984375 2.0625 -6.140625 C 1.820312 -6.304688 1.617188 -6.5 1.453125 -6.71875 C 1.296875 -6.945312 1.171875 -7.195312 1.078125 -7.46875 C 0.992188 -7.75 0.953125 -8.046875 0.953125 -8.359375 C 0.953125 -8.742188 1.023438 -9.101562 1.171875 -9.4375 C 1.328125 -9.78125 1.550781 -10.082031 1.84375 -10.34375 C 2.132812 -10.601562 2.492188 -10.804688 2.921875 -10.953125 C 3.359375 -11.097656 3.859375 -11.171875 4.421875 -11.171875 C 5.023438 -11.171875 5.546875 -11.09375 5.984375 -10.9375 C 6.421875 -10.789062 6.785156 -10.585938 7.078125 -10.328125 C 7.367188 -10.078125 7.582031 -9.78125 7.71875 -9.4375 C 7.863281 -9.09375 7.9375 -8.726562 7.9375 -8.34375 C 7.9375 -8.039062 7.890625 -7.75 7.796875 -7.46875 C 7.710938 -7.195312 7.585938 -6.945312 7.421875 -6.71875 C 7.265625 -6.488281 7.0625 -6.296875 6.8125 -6.140625 C 6.570312 -5.984375 6.296875 -5.875 5.984375 -5.8125 L 5.984375 -5.78125 C 6.296875 -5.726562 6.585938 -5.628906 6.859375 -5.484375 C 7.128906 -5.347656 7.363281 -5.164062 7.5625 -4.9375 C 7.757812 -4.71875 7.914062 -4.453125 8.03125 -4.140625 C 8.144531 -3.828125 8.203125 -3.472656 8.203125 -3.078125 Z M 6.46875 -8.265625 C 6.46875 -8.535156 6.429688 -8.785156 6.359375 -9.015625 C 6.296875 -9.242188 6.179688 -9.441406 6.015625 -9.609375 C 5.859375 -9.773438 5.648438 -9.898438 5.390625 -9.984375 C 5.128906 -10.078125 4.804688 -10.125 4.421875 -10.125 C 4.054688 -10.125 3.742188 -10.078125 3.484375 -9.984375 C 3.234375 -9.898438 3.023438 -9.773438 2.859375 -9.609375 C 2.691406 -9.441406 2.570312 -9.242188 2.5 -9.015625 C 2.425781 -8.785156 2.390625 -8.535156 2.390625 -8.265625 C 2.390625 -8.046875 2.414062 -7.820312 2.46875 -7.59375 C 2.53125 -7.363281 2.632812 -7.15625 2.78125 -6.96875 C 2.9375 -6.78125 3.144531 -6.625 3.40625 -6.5 C 3.675781 -6.382812 4.019531 -6.328125 4.4375 -6.328125 C 4.882812 -6.328125 5.238281 -6.382812 5.5 -6.5 C 5.769531 -6.625 5.976562 -6.78125 6.125 -6.96875 C 6.269531 -7.15625 6.363281 -7.363281 6.40625 -7.59375 C 6.445312 -7.820312 6.46875 -8.046875 6.46875 -8.265625 Z M 6.75 -3.203125 C 6.75 -3.472656 6.710938 -3.726562 6.640625 -3.96875 C 6.566406 -4.21875 6.441406 -4.4375 6.265625 -4.625 C 6.085938 -4.820312 5.847656 -4.976562 5.546875 -5.09375 C 5.242188 -5.207031 4.867188 -5.265625 4.421875 -5.265625 C 4.015625 -5.265625 3.664062 -5.207031 3.375 -5.09375 C 3.082031 -4.976562 2.847656 -4.820312 2.671875 -4.625 C 2.492188 -4.4375 2.363281 -4.210938 2.28125 -3.953125 C 2.195312 -3.703125 2.15625 -3.441406 2.15625 -3.171875 C 2.15625 -2.835938 2.195312 -2.53125 2.28125 -2.25 C 2.363281 -1.96875 2.492188 -1.726562 2.671875 -1.53125 C 2.859375 -1.332031 3.097656 -1.175781 3.390625 -1.0625 C 3.691406 -0.957031 4.050781 -0.90625 4.46875 -0.90625 C 4.894531 -0.90625 5.253906 -0.957031 5.546875 -1.0625 C 5.835938 -1.175781 6.070312 -1.332031 6.25 -1.53125 C 6.425781 -1.726562 6.550781 -1.96875 6.625 -2.25 C 6.707031 -2.539062 6.75 -2.859375 6.75 -3.203125 Z M 6.75 -3.203125 \"/>\n",
       "</symbol>\n",
       "<symbol overflow=\"visible\" id=\"glyph1-4\">\n",
       "<path style=\"stroke:none;\" d=\"M 8.140625 -5.734375 C 8.140625 -4.753906 8.046875 -3.894531 7.859375 -3.15625 C 7.679688 -2.414062 7.421875 -1.800781 7.078125 -1.3125 C 6.734375 -0.820312 6.3125 -0.453125 5.8125 -0.203125 C 5.320312 0.0351562 4.769531 0.15625 4.15625 0.15625 C 3.738281 0.15625 3.359375 0.109375 3.015625 0.015625 C 2.679688 -0.0664062 2.378906 -0.195312 2.109375 -0.375 C 1.847656 -0.5625 1.625 -0.800781 1.4375 -1.09375 C 1.25 -1.382812 1.097656 -1.734375 0.984375 -2.140625 L 2.328125 -2.359375 C 2.472656 -1.878906 2.695312 -1.53125 3 -1.3125 C 3.3125 -1.09375 3.707031 -0.984375 4.1875 -0.984375 C 4.5625 -0.984375 4.90625 -1.070312 5.21875 -1.25 C 5.539062 -1.425781 5.8125 -1.691406 6.03125 -2.046875 C 6.25 -2.410156 6.421875 -2.863281 6.546875 -3.40625 C 6.671875 -3.945312 6.738281 -4.582031 6.75 -5.3125 C 6.644531 -5.070312 6.492188 -4.851562 6.296875 -4.65625 C 6.109375 -4.46875 5.894531 -4.304688 5.65625 -4.171875 C 5.414062 -4.035156 5.15625 -3.929688 4.875 -3.859375 C 4.59375 -3.796875 4.304688 -3.765625 4.015625 -3.765625 C 3.515625 -3.765625 3.0625 -3.851562 2.65625 -4.03125 C 2.257812 -4.207031 1.921875 -4.457031 1.640625 -4.78125 C 1.359375 -5.101562 1.140625 -5.492188 0.984375 -5.953125 C 0.828125 -6.410156 0.75 -6.914062 0.75 -7.46875 C 0.75 -8.039062 0.832031 -8.554688 1 -9.015625 C 1.164062 -9.472656 1.40625 -9.859375 1.71875 -10.171875 C 2.03125 -10.492188 2.410156 -10.738281 2.859375 -10.90625 C 3.316406 -11.082031 3.835938 -11.171875 4.421875 -11.171875 C 5.640625 -11.171875 6.5625 -10.71875 7.1875 -9.8125 C 7.820312 -8.90625 8.140625 -7.546875 8.140625 -5.734375 Z M 6.609375 -7.09375 C 6.609375 -7.5 6.5625 -7.878906 6.46875 -8.234375 C 6.375 -8.597656 6.226562 -8.910156 6.03125 -9.171875 C 5.84375 -9.441406 5.609375 -9.648438 5.328125 -9.796875 C 5.054688 -9.953125 4.738281 -10.03125 4.375 -10.03125 C 4.03125 -10.03125 3.722656 -9.96875 3.453125 -9.84375 C 3.179688 -9.726562 2.953125 -9.5625 2.765625 -9.34375 C 2.578125 -9.125 2.429688 -8.851562 2.328125 -8.53125 C 2.234375 -8.21875 2.1875 -7.863281 2.1875 -7.46875 C 2.1875 -7.101562 2.226562 -6.757812 2.3125 -6.4375 C 2.40625 -6.125 2.539062 -5.847656 2.71875 -5.609375 C 2.90625 -5.378906 3.132812 -5.195312 3.40625 -5.0625 C 3.675781 -4.9375 3.992188 -4.875 4.359375 -4.875 C 4.617188 -4.875 4.878906 -4.914062 5.140625 -5 C 5.410156 -5.09375 5.65625 -5.226562 5.875 -5.40625 C 6.09375 -5.59375 6.269531 -5.820312 6.40625 -6.09375 C 6.539062 -6.375 6.609375 -6.707031 6.609375 -7.09375 Z M 6.609375 -7.09375 \"/>\n",
       "</symbol>\n",
       "<symbol overflow=\"visible\" id=\"glyph1-5\">\n",
       "<path style=\"stroke:none;\" d=\"M 1.21875 0 L 1.21875 -1.203125 L 4.03125 -1.203125 L 4.03125 -9.671875 L 1.546875 -7.890625 L 1.546875 -9.21875 L 4.140625 -11.015625 L 5.4375 -11.015625 L 5.4375 -1.203125 L 8.125 -1.203125 L 8.125 0 Z M 1.21875 0 \"/>\n",
       "</symbol>\n",
       "<symbol overflow=\"visible\" id=\"glyph1-6\">\n",
       "<path style=\"stroke:none;\" d=\"M 8.28125 -5.515625 C 8.28125 -4.453125 8.175781 -3.5625 7.96875 -2.84375 C 7.769531 -2.125 7.5 -1.539062 7.15625 -1.09375 C 6.8125 -0.644531 6.40625 -0.320312 5.9375 -0.125 C 5.46875 0.0625 4.96875 0.15625 4.4375 0.15625 C 3.894531 0.15625 3.390625 0.0625 2.921875 -0.125 C 2.460938 -0.320312 2.0625 -0.640625 1.71875 -1.078125 C 1.382812 -1.523438 1.117188 -2.109375 0.921875 -2.828125 C 0.722656 -3.554688 0.625 -4.453125 0.625 -5.515625 C 0.625 -6.617188 0.722656 -7.535156 0.921875 -8.265625 C 1.117188 -8.992188 1.390625 -9.570312 1.734375 -10 C 2.078125 -10.4375 2.484375 -10.738281 2.953125 -10.90625 C 3.421875 -11.082031 3.929688 -11.171875 4.484375 -11.171875 C 5.003906 -11.171875 5.492188 -11.082031 5.953125 -10.90625 C 6.421875 -10.738281 6.828125 -10.4375 7.171875 -10 C 7.515625 -9.570312 7.785156 -8.992188 7.984375 -8.265625 C 8.179688 -7.535156 8.28125 -6.617188 8.28125 -5.515625 Z M 6.84375 -5.515625 C 6.84375 -6.390625 6.789062 -7.113281 6.6875 -7.6875 C 6.582031 -8.269531 6.425781 -8.734375 6.21875 -9.078125 C 6.019531 -9.429688 5.773438 -9.675781 5.484375 -9.8125 C 5.191406 -9.957031 4.859375 -10.03125 4.484375 -10.03125 C 4.085938 -10.03125 3.738281 -9.957031 3.4375 -9.8125 C 3.132812 -9.664062 2.878906 -9.421875 2.671875 -9.078125 C 2.460938 -8.734375 2.304688 -8.269531 2.203125 -7.6875 C 2.097656 -7.101562 2.046875 -6.378906 2.046875 -5.515625 C 2.046875 -4.671875 2.097656 -3.957031 2.203125 -3.375 C 2.316406 -2.800781 2.472656 -2.335938 2.671875 -1.984375 C 2.878906 -1.628906 3.128906 -1.375 3.421875 -1.21875 C 3.722656 -1.070312 4.066406 -1 4.453125 -1 C 4.816406 -1 5.144531 -1.070312 5.4375 -1.21875 C 5.738281 -1.375 5.992188 -1.628906 6.203125 -1.984375 C 6.410156 -2.335938 6.566406 -2.800781 6.671875 -3.375 C 6.785156 -3.957031 6.84375 -4.671875 6.84375 -5.515625 Z M 6.84375 -5.515625 \"/>\n",
       "</symbol>\n",
       "<symbol overflow=\"visible\" id=\"glyph1-7\">\n",
       "<path style=\"stroke:none;\" d=\"M 0.8125 0 L 0.8125 -1 C 1.070312 -1.601562 1.394531 -2.140625 1.78125 -2.609375 C 2.164062 -3.078125 2.566406 -3.5 2.984375 -3.875 C 3.410156 -4.25 3.828125 -4.597656 4.234375 -4.921875 C 4.648438 -5.242188 5.023438 -5.566406 5.359375 -5.890625 C 5.691406 -6.210938 5.960938 -6.550781 6.171875 -6.90625 C 6.378906 -7.257812 6.484375 -7.660156 6.484375 -8.109375 C 6.484375 -8.421875 6.4375 -8.695312 6.34375 -8.9375 C 6.25 -9.175781 6.113281 -9.375 5.9375 -9.53125 C 5.757812 -9.695312 5.546875 -9.816406 5.296875 -9.890625 C 5.046875 -9.972656 4.769531 -10.015625 4.46875 -10.015625 C 4.1875 -10.015625 3.921875 -9.972656 3.671875 -9.890625 C 3.429688 -9.816406 3.210938 -9.703125 3.015625 -9.546875 C 2.828125 -9.390625 2.671875 -9.195312 2.546875 -8.96875 C 2.421875 -8.738281 2.34375 -8.46875 2.3125 -8.15625 L 0.875 -8.296875 C 0.914062 -8.691406 1.019531 -9.0625 1.1875 -9.40625 C 1.363281 -9.757812 1.601562 -10.066406 1.90625 -10.328125 C 2.207031 -10.585938 2.570312 -10.789062 3 -10.9375 C 3.425781 -11.09375 3.914062 -11.171875 4.46875 -11.171875 C 5.019531 -11.171875 5.507812 -11.101562 5.9375 -10.96875 C 6.363281 -10.84375 6.722656 -10.648438 7.015625 -10.390625 C 7.304688 -10.140625 7.53125 -9.828125 7.6875 -9.453125 C 7.84375 -9.078125 7.921875 -8.644531 7.921875 -8.15625 C 7.921875 -7.789062 7.851562 -7.441406 7.71875 -7.109375 C 7.59375 -6.773438 7.414062 -6.457031 7.1875 -6.15625 C 6.96875 -5.851562 6.710938 -5.5625 6.421875 -5.28125 C 6.128906 -5 5.820312 -4.722656 5.5 -4.453125 C 5.1875 -4.179688 4.867188 -3.914062 4.546875 -3.65625 C 4.222656 -3.394531 3.921875 -3.128906 3.640625 -2.859375 C 3.359375 -2.597656 3.101562 -2.328125 2.875 -2.046875 C 2.65625 -1.773438 2.484375 -1.492188 2.359375 -1.203125 L 8.09375 -1.203125 L 8.09375 0 Z M 0.8125 0 \"/>\n",
       "</symbol>\n",
       "<symbol overflow=\"visible\" id=\"glyph1-8\">\n",
       "<path style=\"stroke:none;\" d=\"M 8.203125 -3.046875 C 8.203125 -2.535156 8.117188 -2.082031 7.953125 -1.6875 C 7.785156 -1.289062 7.546875 -0.957031 7.234375 -0.6875 C 6.921875 -0.414062 6.53125 -0.207031 6.0625 -0.0625 C 5.59375 0.0820312 5.0625 0.15625 4.46875 0.15625 C 3.78125 0.15625 3.203125 0.0703125 2.734375 -0.09375 C 2.273438 -0.269531 1.894531 -0.492188 1.59375 -0.765625 C 1.289062 -1.046875 1.0625 -1.363281 0.90625 -1.71875 C 0.757812 -2.082031 0.660156 -2.453125 0.609375 -2.828125 L 2.0625 -2.96875 C 2.101562 -2.675781 2.179688 -2.410156 2.296875 -2.171875 C 2.410156 -1.929688 2.5625 -1.722656 2.75 -1.546875 C 2.945312 -1.378906 3.1875 -1.25 3.46875 -1.15625 C 3.75 -1.0625 4.082031 -1.015625 4.46875 -1.015625 C 5.175781 -1.015625 5.726562 -1.1875 6.125 -1.53125 C 6.53125 -1.882812 6.734375 -2.40625 6.734375 -3.09375 C 6.734375 -3.5 6.644531 -3.820312 6.46875 -4.0625 C 6.289062 -4.3125 6.066406 -4.503906 5.796875 -4.640625 C 5.523438 -4.785156 5.234375 -4.878906 4.921875 -4.921875 C 4.609375 -4.972656 4.316406 -5 4.046875 -5 L 3.25 -5 L 3.25 -6.21875 L 4.015625 -6.21875 C 4.285156 -6.21875 4.5625 -6.242188 4.84375 -6.296875 C 5.132812 -6.347656 5.394531 -6.445312 5.625 -6.59375 C 5.863281 -6.738281 6.0625 -6.929688 6.21875 -7.171875 C 6.375 -7.421875 6.453125 -7.734375 6.453125 -8.109375 C 6.453125 -8.703125 6.273438 -9.164062 5.921875 -9.5 C 5.578125 -9.84375 5.066406 -10.015625 4.390625 -10.015625 C 3.765625 -10.015625 3.257812 -9.851562 2.875 -9.53125 C 2.5 -9.21875 2.28125 -8.773438 2.21875 -8.203125 L 0.796875 -8.3125 C 0.859375 -8.789062 0.992188 -9.207031 1.203125 -9.5625 C 1.410156 -9.925781 1.671875 -10.226562 1.984375 -10.46875 C 2.304688 -10.707031 2.671875 -10.882812 3.078125 -11 C 3.492188 -11.113281 3.9375 -11.171875 4.40625 -11.171875 C 5.019531 -11.171875 5.546875 -11.09375 5.984375 -10.9375 C 6.429688 -10.789062 6.796875 -10.582031 7.078125 -10.3125 C 7.359375 -10.050781 7.5625 -9.742188 7.6875 -9.390625 C 7.820312 -9.035156 7.890625 -8.660156 7.890625 -8.265625 C 7.890625 -7.941406 7.84375 -7.640625 7.75 -7.359375 C 7.664062 -7.078125 7.53125 -6.820312 7.34375 -6.59375 C 7.15625 -6.375 6.914062 -6.179688 6.625 -6.015625 C 6.34375 -5.859375 6 -5.738281 5.59375 -5.65625 L 5.59375 -5.625 C 6.03125 -5.570312 6.410156 -5.46875 6.734375 -5.3125 C 7.066406 -5.164062 7.335938 -4.976562 7.546875 -4.75 C 7.765625 -4.519531 7.925781 -4.257812 8.03125 -3.96875 C 8.144531 -3.675781 8.203125 -3.367188 8.203125 -3.046875 Z M 8.203125 -3.046875 \"/>\n",
       "</symbol>\n",
       "<symbol overflow=\"visible\" id=\"glyph1-9\">\n",
       "<path style=\"stroke:none;\" d=\"M 3.234375 0.15625 C 2.390625 0.15625 1.753906 -0.0664062 1.328125 -0.515625 C 0.898438 -0.960938 0.6875 -1.578125 0.6875 -2.359375 C 0.6875 -2.921875 0.789062 -3.378906 1 -3.734375 C 1.207031 -4.085938 1.484375 -4.363281 1.828125 -4.5625 C 2.171875 -4.769531 2.5625 -4.910156 3 -4.984375 C 3.4375 -5.066406 3.878906 -5.113281 4.328125 -5.125 L 6.234375 -5.15625 L 6.234375 -5.625 C 6.234375 -5.96875 6.195312 -6.257812 6.125 -6.5 C 6.050781 -6.75 5.9375 -6.945312 5.78125 -7.09375 C 5.632812 -7.25 5.445312 -7.363281 5.21875 -7.4375 C 4.988281 -7.507812 4.722656 -7.546875 4.421875 -7.546875 C 4.148438 -7.546875 3.90625 -7.523438 3.6875 -7.484375 C 3.46875 -7.441406 3.273438 -7.367188 3.109375 -7.265625 C 2.953125 -7.171875 2.820312 -7.035156 2.71875 -6.859375 C 2.625 -6.679688 2.5625 -6.460938 2.53125 -6.203125 L 1.0625 -6.328125 C 1.113281 -6.660156 1.210938 -6.96875 1.359375 -7.25 C 1.503906 -7.53125 1.707031 -7.769531 1.96875 -7.96875 C 2.238281 -8.175781 2.578125 -8.332031 2.984375 -8.4375 C 3.390625 -8.550781 3.878906 -8.609375 4.453125 -8.609375 C 5.515625 -8.609375 6.3125 -8.363281 6.84375 -7.875 C 7.382812 -7.394531 7.65625 -6.691406 7.65625 -5.765625 L 7.65625 -2.125 C 7.65625 -1.707031 7.707031 -1.394531 7.8125 -1.1875 C 7.925781 -0.976562 8.132812 -0.875 8.4375 -0.875 C 8.519531 -0.875 8.597656 -0.878906 8.671875 -0.890625 C 8.753906 -0.898438 8.832031 -0.910156 8.90625 -0.921875 L 8.90625 -0.046875 C 8.726562 -0.00390625 8.550781 0.0234375 8.375 0.046875 C 8.195312 0.0664062 8.007812 0.078125 7.8125 0.078125 C 7.550781 0.078125 7.320312 0.0390625 7.125 -0.03125 C 6.9375 -0.101562 6.78125 -0.207031 6.65625 -0.34375 C 6.539062 -0.488281 6.453125 -0.664062 6.390625 -0.875 C 6.328125 -1.09375 6.289062 -1.34375 6.28125 -1.625 L 6.234375 -1.625 C 6.078125 -1.351562 5.910156 -1.109375 5.734375 -0.890625 C 5.554688 -0.671875 5.347656 -0.484375 5.109375 -0.328125 C 4.867188 -0.171875 4.59375 -0.0507812 4.28125 0.03125 C 3.976562 0.113281 3.628906 0.15625 3.234375 0.15625 Z M 3.5625 -0.90625 C 4.007812 -0.90625 4.398438 -0.984375 4.734375 -1.140625 C 5.066406 -1.304688 5.34375 -1.515625 5.5625 -1.765625 C 5.789062 -2.023438 5.957031 -2.304688 6.0625 -2.609375 C 6.175781 -2.910156 6.234375 -3.203125 6.234375 -3.484375 L 6.234375 -4.171875 L 4.6875 -4.140625 C 4.34375 -4.140625 4.015625 -4.113281 3.703125 -4.0625 C 3.398438 -4.019531 3.128906 -3.929688 2.890625 -3.796875 C 2.660156 -3.671875 2.472656 -3.488281 2.328125 -3.25 C 2.191406 -3.019531 2.125 -2.71875 2.125 -2.34375 C 2.125 -1.882812 2.25 -1.53125 2.5 -1.28125 C 2.75 -1.03125 3.101562 -0.90625 3.5625 -0.90625 Z M 3.5625 -0.90625 \"/>\n",
       "</symbol>\n",
       "<symbol overflow=\"visible\" id=\"glyph1-10\">\n",
       "<path style=\"stroke:none;\" d=\"M 8.234375 -4.265625 C 8.234375 -3.628906 8.179688 -3.039062 8.078125 -2.5 C 7.972656 -1.957031 7.796875 -1.488281 7.546875 -1.09375 C 7.304688 -0.707031 6.988281 -0.398438 6.59375 -0.171875 C 6.195312 0.046875 5.707031 0.15625 5.125 0.15625 C 4.519531 0.15625 3.988281 0.0390625 3.53125 -0.1875 C 3.082031 -0.414062 2.738281 -0.789062 2.5 -1.3125 L 2.453125 -1.3125 C 2.460938 -1.300781 2.46875 -1.253906 2.46875 -1.171875 C 2.46875 -1.085938 2.46875 -0.984375 2.46875 -0.859375 C 2.476562 -0.734375 2.484375 -0.59375 2.484375 -0.4375 C 2.484375 -0.289062 2.484375 -0.140625 2.484375 0.015625 L 2.484375 3.328125 L 1.078125 3.328125 L 1.078125 -6.734375 C 1.078125 -6.929688 1.078125 -7.125 1.078125 -7.3125 C 1.078125 -7.5 1.070312 -7.671875 1.0625 -7.828125 C 1.0625 -7.984375 1.054688 -8.113281 1.046875 -8.21875 C 1.046875 -8.332031 1.039062 -8.410156 1.03125 -8.453125 L 2.390625 -8.453125 C 2.398438 -8.441406 2.40625 -8.390625 2.40625 -8.296875 C 2.414062 -8.203125 2.425781 -8.085938 2.4375 -7.953125 C 2.445312 -7.816406 2.453125 -7.671875 2.453125 -7.515625 C 2.460938 -7.367188 2.46875 -7.226562 2.46875 -7.09375 L 2.5 -7.09375 C 2.632812 -7.363281 2.785156 -7.59375 2.953125 -7.78125 C 3.117188 -7.976562 3.304688 -8.132812 3.515625 -8.25 C 3.734375 -8.375 3.972656 -8.460938 4.234375 -8.515625 C 4.492188 -8.578125 4.789062 -8.609375 5.125 -8.609375 C 5.707031 -8.609375 6.195312 -8.503906 6.59375 -8.296875 C 6.988281 -8.085938 7.304688 -7.789062 7.546875 -7.40625 C 7.796875 -7.03125 7.972656 -6.578125 8.078125 -6.046875 C 8.179688 -5.515625 8.234375 -4.921875 8.234375 -4.265625 Z M 6.75 -4.234375 C 6.75 -4.753906 6.71875 -5.21875 6.65625 -5.625 C 6.59375 -6.03125 6.484375 -6.375 6.328125 -6.65625 C 6.179688 -6.9375 5.976562 -7.148438 5.71875 -7.296875 C 5.46875 -7.441406 5.148438 -7.515625 4.765625 -7.515625 C 4.453125 -7.515625 4.15625 -7.46875 3.875 -7.375 C 3.601562 -7.289062 3.363281 -7.125 3.15625 -6.875 C 2.945312 -6.625 2.78125 -6.28125 2.65625 -5.84375 C 2.539062 -5.40625 2.484375 -4.832031 2.484375 -4.125 C 2.484375 -3.53125 2.53125 -3.023438 2.625 -2.609375 C 2.726562 -2.191406 2.875 -1.851562 3.0625 -1.59375 C 3.257812 -1.34375 3.5 -1.160156 3.78125 -1.046875 C 4.0625 -0.941406 4.382812 -0.890625 4.75 -0.890625 C 5.132812 -0.890625 5.457031 -0.960938 5.71875 -1.109375 C 5.976562 -1.265625 6.179688 -1.484375 6.328125 -1.765625 C 6.484375 -2.054688 6.59375 -2.40625 6.65625 -2.8125 C 6.71875 -3.226562 6.75 -3.703125 6.75 -4.234375 Z M 6.75 -4.234375 \"/>\n",
       "</symbol>\n",
       "<symbol overflow=\"visible\" id=\"glyph1-11\">\n",
       "<path style=\"stroke:none;\" d=\"M 1.078125 0 L 1.078125 -11.59375 L 2.484375 -11.59375 L 2.484375 0 Z M 1.078125 0 \"/>\n",
       "</symbol>\n",
       "<symbol overflow=\"visible\" id=\"glyph1-12\">\n",
       "<path style=\"stroke:none;\" d=\"M 2.15625 -3.9375 C 2.15625 -3.488281 2.203125 -3.078125 2.296875 -2.703125 C 2.390625 -2.335938 2.53125 -2.019531 2.71875 -1.75 C 2.90625 -1.476562 3.144531 -1.269531 3.4375 -1.125 C 3.738281 -0.976562 4.097656 -0.90625 4.515625 -0.90625 C 5.128906 -0.90625 5.617188 -1.023438 5.984375 -1.265625 C 6.347656 -1.515625 6.597656 -1.828125 6.734375 -2.203125 L 7.96875 -1.84375 C 7.875 -1.613281 7.75 -1.378906 7.59375 -1.140625 C 7.4375 -0.898438 7.222656 -0.6875 6.953125 -0.5 C 6.691406 -0.3125 6.359375 -0.15625 5.953125 -0.03125 C 5.554688 0.09375 5.078125 0.15625 4.515625 0.15625 C 3.265625 0.15625 2.3125 -0.210938 1.65625 -0.953125 C 1.007812 -1.703125 0.6875 -2.8125 0.6875 -4.28125 C 0.6875 -5.070312 0.785156 -5.742188 0.984375 -6.296875 C 1.179688 -6.847656 1.453125 -7.296875 1.796875 -7.640625 C 2.140625 -7.984375 2.539062 -8.226562 3 -8.375 C 3.457031 -8.53125 3.945312 -8.609375 4.46875 -8.609375 C 5.175781 -8.609375 5.765625 -8.492188 6.234375 -8.265625 C 6.710938 -8.035156 7.097656 -7.71875 7.390625 -7.3125 C 7.679688 -6.914062 7.882812 -6.441406 8 -5.890625 C 8.125 -5.347656 8.1875 -4.757812 8.1875 -4.125 L 8.1875 -3.9375 Z M 6.734375 -5.015625 C 6.660156 -5.898438 6.4375 -6.546875 6.0625 -6.953125 C 5.6875 -7.367188 5.144531 -7.578125 4.4375 -7.578125 C 4.207031 -7.578125 3.960938 -7.535156 3.703125 -7.453125 C 3.441406 -7.378906 3.203125 -7.242188 2.984375 -7.046875 C 2.765625 -6.859375 2.578125 -6.597656 2.421875 -6.265625 C 2.273438 -5.941406 2.191406 -5.523438 2.171875 -5.015625 Z M 6.734375 -5.015625 \"/>\n",
       "</symbol>\n",
       "<symbol overflow=\"visible\" id=\"glyph1-13\">\n",
       "<path style=\"stroke:none;\" d=\"M 6 0 L 6 -5.359375 C 6 -5.773438 5.972656 -6.117188 5.921875 -6.390625 C 5.867188 -6.671875 5.78125 -6.894531 5.65625 -7.0625 C 5.539062 -7.226562 5.382812 -7.347656 5.1875 -7.421875 C 4.988281 -7.492188 4.742188 -7.53125 4.453125 -7.53125 C 4.160156 -7.53125 3.894531 -7.46875 3.65625 -7.34375 C 3.414062 -7.226562 3.207031 -7.0625 3.03125 -6.84375 C 2.863281 -6.625 2.734375 -6.347656 2.640625 -6.015625 C 2.554688 -5.691406 2.515625 -5.320312 2.515625 -4.90625 L 2.515625 0 L 1.109375 0 L 1.109375 -6.65625 C 1.109375 -6.832031 1.109375 -7.015625 1.109375 -7.203125 C 1.109375 -7.398438 1.101562 -7.585938 1.09375 -7.765625 C 1.09375 -7.941406 1.085938 -8.09375 1.078125 -8.21875 C 1.078125 -8.34375 1.070312 -8.421875 1.0625 -8.453125 L 2.390625 -8.453125 C 2.398438 -8.429688 2.40625 -8.363281 2.40625 -8.25 C 2.414062 -8.132812 2.421875 -8 2.421875 -7.84375 C 2.429688 -7.695312 2.4375 -7.546875 2.4375 -7.390625 C 2.445312 -7.242188 2.453125 -7.117188 2.453125 -7.015625 L 2.484375 -7.015625 C 2.609375 -7.253906 2.742188 -7.472656 2.890625 -7.671875 C 3.035156 -7.867188 3.203125 -8.035156 3.390625 -8.171875 C 3.585938 -8.316406 3.8125 -8.425781 4.0625 -8.5 C 4.320312 -8.570312 4.617188 -8.609375 4.953125 -8.609375 C 5.585938 -8.609375 6.09375 -8.476562 6.46875 -8.21875 C 6.84375 -7.96875 7.101562 -7.566406 7.25 -7.015625 L 7.265625 -7.015625 C 7.390625 -7.253906 7.53125 -7.472656 7.6875 -7.671875 C 7.84375 -7.867188 8.023438 -8.035156 8.234375 -8.171875 C 8.441406 -8.316406 8.675781 -8.425781 8.9375 -8.5 C 9.195312 -8.570312 9.492188 -8.609375 9.828125 -8.609375 C 10.253906 -8.609375 10.625 -8.550781 10.9375 -8.4375 C 11.25 -8.320312 11.503906 -8.144531 11.703125 -7.90625 C 11.898438 -7.664062 12.046875 -7.359375 12.140625 -6.984375 C 12.234375 -6.609375 12.28125 -6.160156 12.28125 -5.640625 L 12.28125 0 L 10.890625 0 L 10.890625 -5.359375 C 10.890625 -5.773438 10.863281 -6.117188 10.8125 -6.390625 C 10.757812 -6.671875 10.671875 -6.894531 10.546875 -7.0625 C 10.421875 -7.226562 10.257812 -7.347656 10.0625 -7.421875 C 9.863281 -7.492188 9.625 -7.53125 9.34375 -7.53125 C 9.039062 -7.53125 8.769531 -7.472656 8.53125 -7.359375 C 8.289062 -7.242188 8.085938 -7.078125 7.921875 -6.859375 C 7.753906 -6.640625 7.625 -6.363281 7.53125 -6.03125 C 7.4375 -5.707031 7.390625 -5.332031 7.390625 -4.90625 L 7.390625 0 Z M 6 0 \"/>\n",
       "</symbol>\n",
       "<symbol overflow=\"visible\" id=\"glyph1-14\">\n",
       "<path style=\"stroke:none;\" d=\"M 6.453125 0 L 6.453125 -5.359375 C 6.453125 -5.773438 6.421875 -6.117188 6.359375 -6.390625 C 6.296875 -6.671875 6.195312 -6.894531 6.0625 -7.0625 C 5.925781 -7.226562 5.75 -7.347656 5.53125 -7.421875 C 5.3125 -7.492188 5.035156 -7.53125 4.703125 -7.53125 C 4.367188 -7.53125 4.066406 -7.46875 3.796875 -7.34375 C 3.535156 -7.226562 3.304688 -7.0625 3.109375 -6.84375 C 2.921875 -6.625 2.773438 -6.347656 2.671875 -6.015625 C 2.566406 -5.691406 2.515625 -5.320312 2.515625 -4.90625 L 2.515625 0 L 1.109375 0 L 1.109375 -6.65625 C 1.109375 -6.832031 1.109375 -7.015625 1.109375 -7.203125 C 1.109375 -7.398438 1.101562 -7.585938 1.09375 -7.765625 C 1.09375 -7.941406 1.085938 -8.09375 1.078125 -8.21875 C 1.078125 -8.34375 1.070312 -8.421875 1.0625 -8.453125 L 2.390625 -8.453125 C 2.398438 -8.429688 2.40625 -8.363281 2.40625 -8.25 C 2.414062 -8.132812 2.421875 -8 2.421875 -7.84375 C 2.429688 -7.695312 2.4375 -7.546875 2.4375 -7.390625 C 2.445312 -7.242188 2.453125 -7.117188 2.453125 -7.015625 L 2.484375 -7.015625 C 2.617188 -7.253906 2.765625 -7.472656 2.921875 -7.671875 C 3.085938 -7.867188 3.273438 -8.035156 3.484375 -8.171875 C 3.703125 -8.316406 3.945312 -8.425781 4.21875 -8.5 C 4.5 -8.570312 4.820312 -8.609375 5.1875 -8.609375 C 5.65625 -8.609375 6.054688 -8.550781 6.390625 -8.4375 C 6.734375 -8.320312 7.015625 -8.144531 7.234375 -7.90625 C 7.453125 -7.664062 7.609375 -7.359375 7.703125 -6.984375 C 7.804688 -6.609375 7.859375 -6.160156 7.859375 -5.640625 L 7.859375 0 Z M 6.453125 0 \"/>\n",
       "</symbol>\n",
       "<symbol overflow=\"visible\" id=\"glyph1-15\">\n",
       "<path style=\"stroke:none;\" d=\"M 6.421875 -1.359375 C 6.160156 -0.816406 5.8125 -0.425781 5.375 -0.1875 C 4.945312 0.0390625 4.414062 0.15625 3.78125 0.15625 C 2.71875 0.15625 1.929688 -0.203125 1.421875 -0.921875 C 0.921875 -1.640625 0.671875 -2.726562 0.671875 -4.1875 C 0.671875 -7.132812 1.707031 -8.609375 3.78125 -8.609375 C 4.425781 -8.609375 4.960938 -8.488281 5.390625 -8.25 C 5.816406 -8.019531 6.160156 -7.648438 6.421875 -7.140625 L 6.4375 -7.140625 C 6.4375 -7.191406 6.429688 -7.273438 6.421875 -7.390625 C 6.421875 -7.503906 6.421875 -7.617188 6.421875 -7.734375 C 6.421875 -7.859375 6.421875 -7.972656 6.421875 -8.078125 C 6.421875 -8.191406 6.421875 -8.273438 6.421875 -8.328125 L 6.421875 -11.59375 L 7.828125 -11.59375 L 7.828125 -1.75 C 7.828125 -1.539062 7.828125 -1.34375 7.828125 -1.15625 C 7.828125 -0.96875 7.828125 -0.796875 7.828125 -0.640625 C 7.835938 -0.484375 7.84375 -0.347656 7.84375 -0.234375 C 7.851562 -0.128906 7.863281 -0.0507812 7.875 0 L 6.53125 0 C 6.519531 -0.0507812 6.507812 -0.125 6.5 -0.21875 C 6.488281 -0.320312 6.476562 -0.4375 6.46875 -0.5625 C 6.46875 -0.6875 6.460938 -0.816406 6.453125 -0.953125 C 6.453125 -1.085938 6.453125 -1.222656 6.453125 -1.359375 Z M 2.15625 -4.234375 C 2.15625 -3.648438 2.191406 -3.148438 2.265625 -2.734375 C 2.335938 -2.316406 2.453125 -1.972656 2.609375 -1.703125 C 2.773438 -1.441406 2.984375 -1.25 3.234375 -1.125 C 3.484375 -1 3.785156 -0.9375 4.140625 -0.9375 C 4.515625 -0.9375 4.84375 -0.992188 5.125 -1.109375 C 5.40625 -1.234375 5.640625 -1.425781 5.828125 -1.6875 C 6.023438 -1.957031 6.171875 -2.304688 6.265625 -2.734375 C 6.367188 -3.171875 6.421875 -3.703125 6.421875 -4.328125 C 6.421875 -4.929688 6.367188 -5.4375 6.265625 -5.84375 C 6.171875 -6.257812 6.023438 -6.59375 5.828125 -6.84375 C 5.640625 -7.101562 5.40625 -7.289062 5.125 -7.40625 C 4.84375 -7.519531 4.519531 -7.578125 4.15625 -7.578125 C 3.8125 -7.578125 3.515625 -7.515625 3.265625 -7.390625 C 3.015625 -7.273438 2.804688 -7.082031 2.640625 -6.8125 C 2.472656 -6.550781 2.347656 -6.207031 2.265625 -5.78125 C 2.191406 -5.351562 2.15625 -4.835938 2.15625 -4.234375 Z M 2.15625 -4.234375 \"/>\n",
       "</symbol>\n",
       "<symbol overflow=\"visible\" id=\"glyph1-16\">\n",
       "<path style=\"stroke:none;\" d=\"M 1.109375 0 L 1.109375 -6.484375 C 1.109375 -6.660156 1.109375 -6.84375 1.109375 -7.03125 C 1.109375 -7.21875 1.101562 -7.394531 1.09375 -7.5625 C 1.09375 -7.738281 1.085938 -7.898438 1.078125 -8.046875 C 1.078125 -8.203125 1.070312 -8.335938 1.0625 -8.453125 L 2.390625 -8.453125 C 2.398438 -8.335938 2.40625 -8.203125 2.40625 -8.046875 C 2.414062 -7.890625 2.425781 -7.726562 2.4375 -7.5625 C 2.445312 -7.40625 2.453125 -7.253906 2.453125 -7.109375 C 2.453125 -6.960938 2.453125 -6.835938 2.453125 -6.734375 L 2.484375 -6.734375 C 2.585938 -7.054688 2.691406 -7.332031 2.796875 -7.5625 C 2.910156 -7.800781 3.039062 -8 3.1875 -8.15625 C 3.34375 -8.3125 3.523438 -8.425781 3.734375 -8.5 C 3.941406 -8.570312 4.195312 -8.609375 4.5 -8.609375 C 4.613281 -8.609375 4.722656 -8.597656 4.828125 -8.578125 C 4.929688 -8.566406 5.007812 -8.550781 5.0625 -8.53125 L 5.0625 -7.25 C 4.96875 -7.269531 4.859375 -7.285156 4.734375 -7.296875 C 4.609375 -7.316406 4.46875 -7.328125 4.3125 -7.328125 C 3.988281 -7.328125 3.710938 -7.253906 3.484375 -7.109375 C 3.265625 -6.960938 3.082031 -6.757812 2.9375 -6.5 C 2.789062 -6.238281 2.679688 -5.929688 2.609375 -5.578125 C 2.546875 -5.222656 2.515625 -4.832031 2.515625 -4.40625 L 2.515625 0 Z M 1.109375 0 \"/>\n",
       "</symbol>\n",
       "<symbol overflow=\"visible\" id=\"glyph1-17\">\n",
       "<path style=\"stroke:none;\" d=\"M 1.078125 -10.25 L 1.078125 -11.59375 L 2.484375 -11.59375 L 2.484375 -10.25 Z M 1.078125 0 L 1.078125 -8.453125 L 2.484375 -8.453125 L 2.484375 0 Z M 1.078125 0 \"/>\n",
       "</symbol>\n",
       "<symbol overflow=\"visible\" id=\"glyph1-18\">\n",
       "<path style=\"stroke:none;\" d=\"M 8.234375 -4.234375 C 8.234375 -2.753906 7.90625 -1.648438 7.25 -0.921875 C 6.601562 -0.203125 5.660156 0.15625 4.421875 0.15625 C 3.828125 0.15625 3.296875 0.0664062 2.828125 -0.109375 C 2.367188 -0.285156 1.976562 -0.554688 1.65625 -0.921875 C 1.34375 -1.285156 1.097656 -1.742188 0.921875 -2.296875 C 0.753906 -2.847656 0.671875 -3.492188 0.671875 -4.234375 C 0.671875 -7.148438 1.9375 -8.609375 4.46875 -8.609375 C 5.125 -8.609375 5.6875 -8.515625 6.15625 -8.328125 C 6.632812 -8.148438 7.023438 -7.878906 7.328125 -7.515625 C 7.640625 -7.148438 7.867188 -6.691406 8.015625 -6.140625 C 8.160156 -5.597656 8.234375 -4.960938 8.234375 -4.234375 Z M 6.75 -4.234375 C 6.75 -4.890625 6.695312 -5.429688 6.59375 -5.859375 C 6.5 -6.285156 6.351562 -6.625 6.15625 -6.875 C 5.957031 -7.132812 5.71875 -7.316406 5.4375 -7.421875 C 5.15625 -7.523438 4.835938 -7.578125 4.484375 -7.578125 C 4.128906 -7.578125 3.804688 -7.519531 3.515625 -7.40625 C 3.222656 -7.300781 2.972656 -7.117188 2.765625 -6.859375 C 2.566406 -6.609375 2.414062 -6.269531 2.3125 -5.84375 C 2.207031 -5.414062 2.15625 -4.878906 2.15625 -4.234375 C 2.15625 -3.578125 2.210938 -3.035156 2.328125 -2.609375 C 2.441406 -2.179688 2.597656 -1.835938 2.796875 -1.578125 C 2.992188 -1.328125 3.226562 -1.148438 3.5 -1.046875 C 3.78125 -0.941406 4.082031 -0.890625 4.40625 -0.890625 C 4.757812 -0.890625 5.082031 -0.9375 5.375 -1.03125 C 5.664062 -1.132812 5.910156 -1.3125 6.109375 -1.5625 C 6.316406 -1.820312 6.472656 -2.164062 6.578125 -2.59375 C 6.691406 -3.03125 6.75 -3.578125 6.75 -4.234375 Z M 6.75 -4.234375 \"/>\n",
       "</symbol>\n",
       "<symbol overflow=\"visible\" id=\"glyph1-19\">\n",
       "<path style=\"stroke:none;\" d=\"M 4.28125 3.328125 C 3.800781 3.328125 3.375 3.273438 3 3.171875 C 2.625 3.078125 2.300781 2.9375 2.03125 2.75 C 1.769531 2.5625 1.554688 2.335938 1.390625 2.078125 C 1.222656 1.828125 1.101562 1.546875 1.03125 1.234375 L 2.4375 1.03125 C 2.53125 1.425781 2.738281 1.726562 3.0625 1.9375 C 3.382812 2.144531 3.804688 2.25 4.328125 2.25 C 4.640625 2.25 4.925781 2.203125 5.1875 2.109375 C 5.445312 2.023438 5.664062 1.882812 5.84375 1.6875 C 6.03125 1.5 6.171875 1.25 6.265625 0.9375 C 6.367188 0.625 6.421875 0.238281 6.421875 -0.21875 L 6.421875 -1.578125 L 6.40625 -1.578125 C 6.300781 -1.359375 6.171875 -1.148438 6.015625 -0.953125 C 5.867188 -0.765625 5.679688 -0.59375 5.453125 -0.4375 C 5.234375 -0.289062 4.976562 -0.171875 4.6875 -0.078125 C 4.394531 0.015625 4.0625 0.0625 3.6875 0.0625 C 3.15625 0.0625 2.695312 -0.0234375 2.3125 -0.203125 C 1.925781 -0.390625 1.613281 -0.660156 1.375 -1.015625 C 1.132812 -1.378906 0.957031 -1.828125 0.84375 -2.359375 C 0.726562 -2.890625 0.671875 -3.507812 0.671875 -4.21875 C 0.671875 -4.894531 0.726562 -5.503906 0.84375 -6.046875 C 0.957031 -6.585938 1.140625 -7.046875 1.390625 -7.421875 C 1.640625 -7.796875 1.96875 -8.082031 2.375 -8.28125 C 2.78125 -8.488281 3.269531 -8.59375 3.84375 -8.59375 C 4.445312 -8.59375 4.96875 -8.453125 5.40625 -8.171875 C 5.84375 -7.898438 6.179688 -7.515625 6.421875 -7.015625 L 6.4375 -7.015625 C 6.4375 -7.140625 6.441406 -7.28125 6.453125 -7.4375 C 6.460938 -7.601562 6.46875 -7.757812 6.46875 -7.90625 C 6.476562 -8.050781 6.488281 -8.175781 6.5 -8.28125 C 6.507812 -8.382812 6.519531 -8.441406 6.53125 -8.453125 L 7.875 -8.453125 C 7.863281 -8.410156 7.851562 -8.332031 7.84375 -8.21875 C 7.84375 -8.101562 7.835938 -7.96875 7.828125 -7.8125 C 7.828125 -7.65625 7.828125 -7.484375 7.828125 -7.296875 C 7.828125 -7.109375 7.828125 -6.910156 7.828125 -6.703125 L 7.828125 -0.25 C 7.828125 0.9375 7.535156 1.828125 6.953125 2.421875 C 6.367188 3.023438 5.476562 3.328125 4.28125 3.328125 Z M 6.421875 -4.234375 C 6.421875 -4.816406 6.359375 -5.316406 6.234375 -5.734375 C 6.109375 -6.160156 5.941406 -6.503906 5.734375 -6.765625 C 5.523438 -7.035156 5.285156 -7.234375 5.015625 -7.359375 C 4.742188 -7.484375 4.46875 -7.546875 4.1875 -7.546875 C 3.832031 -7.546875 3.523438 -7.484375 3.265625 -7.359375 C 3.003906 -7.234375 2.789062 -7.035156 2.625 -6.765625 C 2.457031 -6.492188 2.332031 -6.148438 2.25 -5.734375 C 2.164062 -5.316406 2.125 -4.816406 2.125 -4.234375 C 2.125 -3.617188 2.164062 -3.101562 2.25 -2.6875 C 2.332031 -2.28125 2.457031 -1.945312 2.625 -1.6875 C 2.789062 -1.4375 3 -1.253906 3.25 -1.140625 C 3.507812 -1.035156 3.816406 -0.984375 4.171875 -0.984375 C 4.453125 -0.984375 4.722656 -1.039062 4.984375 -1.15625 C 5.253906 -1.28125 5.492188 -1.472656 5.703125 -1.734375 C 5.921875 -1.992188 6.09375 -2.328125 6.21875 -2.734375 C 6.351562 -3.148438 6.421875 -3.648438 6.421875 -4.234375 Z M 6.421875 -4.234375 \"/>\n",
       "</symbol>\n",
       "<symbol overflow=\"visible\" id=\"glyph2-0\">\n",
       "<path style=\"stroke:none;\" d=\"M 0.671875 0 L 0.671875 -13.328125 L 5.984375 -13.328125 L 5.984375 0 Z M 1.328125 -0.671875 L 5.3125 -0.671875 L 5.3125 -12.671875 L 1.328125 -12.671875 Z M 1.328125 -0.671875 \"/>\n",
       "</symbol>\n",
       "<symbol overflow=\"visible\" id=\"glyph2-1\">\n",
       "<path style=\"stroke:none;\" d=\"M 13.34375 0 L 13.34375 -9.1875 C 13.34375 -9.507812 13.34375 -9.84375 13.34375 -10.1875 C 13.351562 -10.539062 13.363281 -10.859375 13.375 -11.140625 C 13.394531 -11.472656 13.410156 -11.796875 13.421875 -12.109375 C 13.335938 -11.773438 13.242188 -11.445312 13.140625 -11.125 C 13.054688 -10.84375 12.960938 -10.539062 12.859375 -10.21875 C 12.765625 -9.90625 12.664062 -9.625 12.5625 -9.375 L 9.015625 0 L 7.703125 0 L 4.109375 -9.375 C 4.066406 -9.46875 4.023438 -9.578125 3.984375 -9.703125 C 3.941406 -9.835938 3.894531 -9.976562 3.84375 -10.125 C 3.789062 -10.28125 3.738281 -10.429688 3.6875 -10.578125 C 3.644531 -10.734375 3.601562 -10.882812 3.5625 -11.03125 C 3.445312 -11.375 3.335938 -11.734375 3.234375 -12.109375 C 3.242188 -11.742188 3.253906 -11.382812 3.265625 -11.03125 C 3.273438 -10.71875 3.28125 -10.394531 3.28125 -10.0625 C 3.289062 -9.726562 3.296875 -9.4375 3.296875 -9.1875 L 3.296875 0 L 1.640625 0 L 1.640625 -13.765625 L 4.09375 -13.765625 L 7.75 -4.21875 C 7.800781 -4.09375 7.859375 -3.925781 7.921875 -3.71875 C 7.984375 -3.507812 8.039062 -3.296875 8.09375 -3.078125 C 8.15625 -2.867188 8.210938 -2.664062 8.265625 -2.46875 C 8.316406 -2.28125 8.351562 -2.132812 8.375 -2.03125 C 8.394531 -2.132812 8.429688 -2.285156 8.484375 -2.484375 C 8.535156 -2.679688 8.59375 -2.882812 8.65625 -3.09375 C 8.726562 -3.3125 8.796875 -3.519531 8.859375 -3.71875 C 8.921875 -3.925781 8.976562 -4.09375 9.03125 -4.21875 L 12.625 -13.765625 L 15.015625 -13.765625 L 15.015625 0 Z M 13.34375 0 \"/>\n",
       "</symbol>\n",
       "<symbol overflow=\"visible\" id=\"glyph2-2\">\n",
       "<path style=\"stroke:none;\" d=\"M 4.046875 0.203125 C 2.984375 0.203125 2.179688 -0.078125 1.640625 -0.640625 C 1.109375 -1.203125 0.84375 -1.972656 0.84375 -2.953125 C 0.84375 -3.648438 0.972656 -4.21875 1.234375 -4.65625 C 1.503906 -5.101562 1.851562 -5.453125 2.28125 -5.703125 C 2.707031 -5.960938 3.191406 -6.140625 3.734375 -6.234375 C 4.285156 -6.335938 4.84375 -6.394531 5.40625 -6.40625 L 7.78125 -6.453125 L 7.78125 -7.015625 C 7.78125 -7.453125 7.734375 -7.820312 7.640625 -8.125 C 7.554688 -8.4375 7.414062 -8.6875 7.21875 -8.875 C 7.03125 -9.0625 6.796875 -9.195312 6.515625 -9.28125 C 6.234375 -9.375 5.898438 -9.421875 5.515625 -9.421875 C 5.179688 -9.421875 4.875 -9.394531 4.59375 -9.34375 C 4.320312 -9.300781 4.082031 -9.210938 3.875 -9.078125 C 3.675781 -8.953125 3.515625 -8.78125 3.390625 -8.5625 C 3.273438 -8.351562 3.195312 -8.082031 3.15625 -7.75 L 1.3125 -7.90625 C 1.382812 -8.320312 1.507812 -8.703125 1.6875 -9.046875 C 1.875 -9.398438 2.132812 -9.703125 2.46875 -9.953125 C 2.800781 -10.210938 3.21875 -10.410156 3.71875 -10.546875 C 4.226562 -10.691406 4.84375 -10.765625 5.5625 -10.765625 C 6.882812 -10.765625 7.878906 -10.457031 8.546875 -9.84375 C 9.222656 -9.238281 9.5625 -8.359375 9.5625 -7.203125 L 9.5625 -2.65625 C 9.5625 -2.132812 9.628906 -1.738281 9.765625 -1.46875 C 9.898438 -1.207031 10.160156 -1.078125 10.546875 -1.078125 C 10.640625 -1.078125 10.734375 -1.082031 10.828125 -1.09375 C 10.929688 -1.113281 11.03125 -1.132812 11.125 -1.15625 L 11.125 -0.0625 C 10.90625 -0.0078125 10.6875 0.0234375 10.46875 0.046875 C 10.25 0.078125 10.015625 0.09375 9.765625 0.09375 C 9.429688 0.09375 9.144531 0.0507812 8.90625 -0.03125 C 8.675781 -0.125 8.484375 -0.257812 8.328125 -0.4375 C 8.179688 -0.613281 8.066406 -0.832031 7.984375 -1.09375 C 7.910156 -1.363281 7.863281 -1.671875 7.84375 -2.015625 L 7.78125 -2.015625 C 7.59375 -1.679688 7.382812 -1.375 7.15625 -1.09375 C 6.9375 -0.820312 6.675781 -0.59375 6.375 -0.40625 C 6.070312 -0.21875 5.726562 -0.0703125 5.34375 0.03125 C 4.96875 0.144531 4.535156 0.203125 4.046875 0.203125 Z M 4.4375 -1.125 C 5 -1.125 5.488281 -1.222656 5.90625 -1.421875 C 6.332031 -1.628906 6.679688 -1.894531 6.953125 -2.21875 C 7.234375 -2.539062 7.441406 -2.890625 7.578125 -3.265625 C 7.710938 -3.640625 7.78125 -4 7.78125 -4.34375 L 7.78125 -5.21875 L 5.859375 -5.171875 C 5.429688 -5.171875 5.019531 -5.140625 4.625 -5.078125 C 4.238281 -5.023438 3.898438 -4.914062 3.609375 -4.75 C 3.316406 -4.59375 3.082031 -4.367188 2.90625 -4.078125 C 2.738281 -3.785156 2.65625 -3.398438 2.65625 -2.921875 C 2.65625 -2.347656 2.804688 -1.90625 3.109375 -1.59375 C 3.421875 -1.28125 3.863281 -1.125 4.4375 -1.125 Z M 4.4375 -1.125 \"/>\n",
       "</symbol>\n",
       "<symbol overflow=\"visible\" id=\"glyph2-3\">\n",
       "<path style=\"stroke:none;\" d=\"M 9.28125 -2.921875 C 9.28125 -2.421875 9.179688 -1.976562 8.984375 -1.59375 C 8.796875 -1.207031 8.519531 -0.878906 8.15625 -0.609375 C 7.789062 -0.347656 7.34375 -0.144531 6.8125 0 C 6.28125 0.132812 5.671875 0.203125 4.984375 0.203125 C 4.378906 0.203125 3.828125 0.148438 3.328125 0.046875 C 2.835938 -0.046875 2.40625 -0.195312 2.03125 -0.40625 C 1.664062 -0.613281 1.359375 -0.882812 1.109375 -1.21875 C 0.859375 -1.5625 0.675781 -1.984375 0.5625 -2.484375 L 2.109375 -2.78125 C 2.253906 -2.21875 2.5625 -1.800781 3.03125 -1.53125 C 3.5 -1.269531 4.148438 -1.140625 4.984375 -1.140625 C 5.367188 -1.140625 5.71875 -1.164062 6.03125 -1.21875 C 6.34375 -1.269531 6.613281 -1.359375 6.84375 -1.484375 C 7.070312 -1.617188 7.25 -1.789062 7.375 -2 C 7.5 -2.207031 7.5625 -2.46875 7.5625 -2.78125 C 7.5625 -3.101562 7.488281 -3.363281 7.34375 -3.5625 C 7.195312 -3.769531 6.988281 -3.941406 6.71875 -4.078125 C 6.445312 -4.210938 6.117188 -4.332031 5.734375 -4.4375 C 5.359375 -4.539062 4.945312 -4.65625 4.5 -4.78125 C 4.070312 -4.882812 3.648438 -5.003906 3.234375 -5.140625 C 2.816406 -5.285156 2.441406 -5.46875 2.109375 -5.6875 C 1.773438 -5.914062 1.503906 -6.191406 1.296875 -6.515625 C 1.085938 -6.847656 0.984375 -7.269531 0.984375 -7.78125 C 0.984375 -8.738281 1.320312 -9.46875 2 -9.96875 C 2.6875 -10.476562 3.691406 -10.734375 5.015625 -10.734375 C 6.179688 -10.734375 7.101562 -10.523438 7.78125 -10.109375 C 8.46875 -9.703125 8.90625 -9.046875 9.09375 -8.140625 L 7.515625 -7.953125 C 7.453125 -8.222656 7.34375 -8.453125 7.1875 -8.640625 C 7.03125 -8.828125 6.84375 -8.976562 6.625 -9.09375 C 6.40625 -9.207031 6.15625 -9.285156 5.875 -9.328125 C 5.59375 -9.378906 5.304688 -9.40625 5.015625 -9.40625 C 4.210938 -9.40625 3.625 -9.285156 3.25 -9.046875 C 2.875 -8.804688 2.6875 -8.441406 2.6875 -7.953125 C 2.6875 -7.660156 2.753906 -7.421875 2.890625 -7.234375 C 3.035156 -7.054688 3.234375 -6.898438 3.484375 -6.765625 C 3.734375 -6.640625 4.03125 -6.53125 4.375 -6.4375 C 4.726562 -6.34375 5.117188 -6.242188 5.546875 -6.140625 C 5.828125 -6.066406 6.113281 -5.988281 6.40625 -5.90625 C 6.695312 -5.832031 6.976562 -5.738281 7.25 -5.625 C 7.53125 -5.507812 7.789062 -5.375 8.03125 -5.21875 C 8.28125 -5.0625 8.492188 -4.875 8.671875 -4.65625 C 8.859375 -4.445312 9.003906 -4.195312 9.109375 -3.90625 C 9.222656 -3.625 9.28125 -3.296875 9.28125 -2.921875 Z M 9.28125 -2.921875 \"/>\n",
       "</symbol>\n",
       "<symbol overflow=\"visible\" id=\"glyph2-4\">\n",
       "<path style=\"stroke:none;\" d=\"\"/>\n",
       "</symbol>\n",
       "<symbol overflow=\"visible\" id=\"glyph2-5\">\n",
       "<path style=\"stroke:none;\" d=\"M 1.234375 -5.203125 C 1.234375 -6.097656 1.300781 -6.957031 1.4375 -7.78125 C 1.582031 -8.613281 1.800781 -9.410156 2.09375 -10.171875 C 2.382812 -10.929688 2.753906 -11.671875 3.203125 -12.390625 C 3.660156 -13.109375 4.207031 -13.8125 4.84375 -14.5 L 6.546875 -14.5 C 5.929688 -13.8125 5.398438 -13.109375 4.953125 -12.390625 C 4.503906 -11.671875 4.132812 -10.925781 3.84375 -10.15625 C 3.5625 -9.394531 3.351562 -8.597656 3.21875 -7.765625 C 3.082031 -6.941406 3.015625 -6.078125 3.015625 -5.171875 C 3.015625 -4.265625 3.082031 -3.398438 3.21875 -2.578125 C 3.351562 -1.753906 3.5625 -0.957031 3.84375 -0.1875 C 4.132812 0.582031 4.503906 1.320312 4.953125 2.03125 C 5.398438 2.75 5.929688 3.453125 6.546875 4.140625 L 4.84375 4.140625 C 4.207031 3.453125 3.660156 2.75 3.203125 2.03125 C 2.753906 1.320312 2.382812 0.585938 2.09375 -0.171875 C 1.800781 -0.929688 1.582031 -1.722656 1.4375 -2.546875 C 1.300781 -3.378906 1.234375 -4.25 1.234375 -5.15625 Z M 1.234375 -5.203125 \"/>\n",
       "</symbol>\n",
       "<symbol overflow=\"visible\" id=\"glyph2-6\">\n",
       "<path style=\"stroke:none;\" d=\"M 5.359375 4.15625 C 4.742188 4.15625 4.203125 4.09375 3.734375 3.96875 C 3.265625 3.84375 2.863281 3.664062 2.53125 3.4375 C 2.207031 3.207031 1.941406 2.929688 1.734375 2.609375 C 1.523438 2.285156 1.375 1.929688 1.28125 1.546875 L 3.046875 1.296875 C 3.160156 1.773438 3.414062 2.144531 3.8125 2.40625 C 4.21875 2.675781 4.75 2.8125 5.40625 2.8125 C 5.800781 2.8125 6.160156 2.753906 6.484375 2.640625 C 6.804688 2.535156 7.082031 2.359375 7.3125 2.109375 C 7.539062 1.867188 7.71875 1.550781 7.84375 1.15625 C 7.96875 0.769531 8.03125 0.296875 8.03125 -0.265625 L 8.03125 -1.96875 L 8.015625 -1.96875 C 7.878906 -1.695312 7.710938 -1.4375 7.515625 -1.1875 C 7.328125 -0.945312 7.09375 -0.734375 6.8125 -0.546875 C 6.539062 -0.359375 6.222656 -0.207031 5.859375 -0.09375 C 5.492188 0.0195312 5.078125 0.078125 4.609375 0.078125 C 3.941406 0.078125 3.367188 -0.03125 2.890625 -0.25 C 2.410156 -0.476562 2.019531 -0.816406 1.71875 -1.265625 C 1.414062 -1.710938 1.191406 -2.269531 1.046875 -2.9375 C 0.910156 -3.613281 0.84375 -4.390625 0.84375 -5.265625 C 0.84375 -6.109375 0.910156 -6.867188 1.046875 -7.546875 C 1.191406 -8.222656 1.421875 -8.796875 1.734375 -9.265625 C 2.046875 -9.742188 2.453125 -10.109375 2.953125 -10.359375 C 3.460938 -10.609375 4.082031 -10.734375 4.8125 -10.734375 C 5.550781 -10.734375 6.195312 -10.5625 6.75 -10.21875 C 7.300781 -9.875 7.726562 -9.390625 8.03125 -8.765625 L 8.046875 -8.765625 C 8.046875 -8.921875 8.050781 -9.097656 8.0625 -9.296875 C 8.070312 -9.503906 8.082031 -9.695312 8.09375 -9.875 C 8.101562 -10.050781 8.113281 -10.203125 8.125 -10.328125 C 8.132812 -10.460938 8.148438 -10.539062 8.171875 -10.5625 L 9.828125 -10.5625 C 9.828125 -10.507812 9.820312 -10.410156 9.8125 -10.265625 C 9.8125 -10.128906 9.804688 -9.960938 9.796875 -9.765625 C 9.785156 -9.566406 9.78125 -9.347656 9.78125 -9.109375 C 9.78125 -8.878906 9.78125 -8.632812 9.78125 -8.375 L 9.78125 -0.296875 C 9.78125 1.179688 9.414062 2.289062 8.6875 3.03125 C 7.957031 3.78125 6.847656 4.15625 5.359375 4.15625 Z M 8.03125 -5.28125 C 8.03125 -6.019531 7.945312 -6.648438 7.78125 -7.171875 C 7.625 -7.691406 7.414062 -8.117188 7.15625 -8.453125 C 6.894531 -8.785156 6.597656 -9.03125 6.265625 -9.1875 C 5.929688 -9.34375 5.585938 -9.421875 5.234375 -9.421875 C 4.785156 -9.421875 4.398438 -9.34375 4.078125 -9.1875 C 3.753906 -9.03125 3.484375 -8.785156 3.265625 -8.453125 C 3.054688 -8.117188 2.898438 -7.6875 2.796875 -7.15625 C 2.703125 -6.632812 2.65625 -6.007812 2.65625 -5.28125 C 2.65625 -4.519531 2.703125 -3.878906 2.796875 -3.359375 C 2.898438 -2.847656 3.054688 -2.429688 3.265625 -2.109375 C 3.472656 -1.785156 3.738281 -1.554688 4.0625 -1.421875 C 4.382812 -1.285156 4.765625 -1.21875 5.203125 -1.21875 C 5.554688 -1.21875 5.898438 -1.289062 6.234375 -1.4375 C 6.566406 -1.59375 6.867188 -1.832031 7.140625 -2.15625 C 7.410156 -2.476562 7.625 -2.894531 7.78125 -3.40625 C 7.945312 -3.925781 8.03125 -4.550781 8.03125 -5.28125 Z M 8.03125 -5.28125 \"/>\n",
       "</symbol>\n",
       "<symbol overflow=\"visible\" id=\"glyph2-7\">\n",
       "<path style=\"stroke:none;\" d=\"M 1.390625 0 L 1.390625 -8.109375 C 1.390625 -8.328125 1.382812 -8.550781 1.375 -8.78125 C 1.375 -9.007812 1.367188 -9.234375 1.359375 -9.453125 C 1.359375 -9.671875 1.351562 -9.875 1.34375 -10.0625 C 1.34375 -10.25 1.335938 -10.414062 1.328125 -10.5625 L 2.984375 -10.5625 C 2.992188 -10.414062 3.003906 -10.242188 3.015625 -10.046875 C 3.023438 -9.859375 3.035156 -9.660156 3.046875 -9.453125 C 3.054688 -9.253906 3.0625 -9.0625 3.0625 -8.875 C 3.0625 -8.695312 3.0625 -8.539062 3.0625 -8.40625 L 3.109375 -8.40625 C 3.234375 -8.8125 3.363281 -9.160156 3.5 -9.453125 C 3.644531 -9.753906 3.8125 -10 4 -10.1875 C 4.1875 -10.382812 4.410156 -10.53125 4.671875 -10.625 C 4.929688 -10.71875 5.242188 -10.765625 5.609375 -10.765625 C 5.753906 -10.765625 5.890625 -10.75 6.015625 -10.71875 C 6.148438 -10.695312 6.253906 -10.679688 6.328125 -10.671875 L 6.328125 -9.046875 C 6.210938 -9.085938 6.078125 -9.113281 5.921875 -9.125 C 5.765625 -9.144531 5.585938 -9.15625 5.390625 -9.15625 C 4.984375 -9.15625 4.640625 -9.0625 4.359375 -8.875 C 4.078125 -8.695312 3.847656 -8.445312 3.671875 -8.125 C 3.492188 -7.800781 3.359375 -7.414062 3.265625 -6.96875 C 3.179688 -6.519531 3.140625 -6.035156 3.140625 -5.515625 L 3.140625 0 Z M 1.390625 0 \"/>\n",
       "</symbol>\n",
       "<symbol overflow=\"visible\" id=\"glyph2-8\">\n",
       "<path style=\"stroke:none;\" d=\"M 7.5 0 L 7.5 -6.703125 C 7.5 -7.210938 7.46875 -7.640625 7.40625 -7.984375 C 7.34375 -8.328125 7.234375 -8.601562 7.078125 -8.8125 C 6.921875 -9.03125 6.71875 -9.179688 6.46875 -9.265625 C 6.226562 -9.359375 5.925781 -9.40625 5.5625 -9.40625 C 5.195312 -9.40625 4.863281 -9.332031 4.5625 -9.1875 C 4.257812 -9.039062 4.003906 -8.828125 3.796875 -8.546875 C 3.585938 -8.273438 3.425781 -7.9375 3.3125 -7.53125 C 3.195312 -7.125 3.140625 -6.65625 3.140625 -6.125 L 3.140625 0 L 1.390625 0 L 1.390625 -8.3125 C 1.390625 -8.53125 1.382812 -8.757812 1.375 -9 C 1.375 -9.25 1.367188 -9.484375 1.359375 -9.703125 C 1.359375 -9.921875 1.351562 -10.109375 1.34375 -10.265625 C 1.34375 -10.421875 1.335938 -10.519531 1.328125 -10.5625 L 2.984375 -10.5625 C 2.992188 -10.53125 3 -10.441406 3 -10.296875 C 3.007812 -10.160156 3.019531 -10 3.03125 -9.8125 C 3.039062 -9.625 3.046875 -9.429688 3.046875 -9.234375 C 3.054688 -9.046875 3.0625 -8.890625 3.0625 -8.765625 L 3.09375 -8.765625 C 3.25 -9.066406 3.414062 -9.34375 3.59375 -9.59375 C 3.78125 -9.84375 3.992188 -10.050781 4.234375 -10.21875 C 4.484375 -10.394531 4.765625 -10.53125 5.078125 -10.625 C 5.398438 -10.71875 5.769531 -10.765625 6.1875 -10.765625 C 6.988281 -10.765625 7.617188 -10.601562 8.078125 -10.28125 C 8.546875 -9.96875 8.867188 -9.460938 9.046875 -8.765625 L 9.078125 -8.765625 C 9.234375 -9.066406 9.410156 -9.34375 9.609375 -9.59375 C 9.804688 -9.84375 10.035156 -10.050781 10.296875 -10.21875 C 10.554688 -10.394531 10.847656 -10.53125 11.171875 -10.625 C 11.492188 -10.71875 11.863281 -10.765625 12.28125 -10.765625 C 12.820312 -10.765625 13.285156 -10.691406 13.671875 -10.546875 C 14.054688 -10.398438 14.367188 -10.175781 14.609375 -9.875 C 14.859375 -9.582031 15.039062 -9.195312 15.15625 -8.71875 C 15.28125 -8.25 15.34375 -7.691406 15.34375 -7.046875 L 15.34375 0 L 13.609375 0 L 13.609375 -6.703125 C 13.609375 -7.210938 13.570312 -7.640625 13.5 -7.984375 C 13.4375 -8.328125 13.328125 -8.601562 13.171875 -8.8125 C 13.023438 -9.03125 12.828125 -9.179688 12.578125 -9.265625 C 12.328125 -9.359375 12.023438 -9.40625 11.671875 -9.40625 C 11.296875 -9.40625 10.957031 -9.332031 10.65625 -9.1875 C 10.363281 -9.050781 10.109375 -8.847656 9.890625 -8.578125 C 9.679688 -8.304688 9.519531 -7.960938 9.40625 -7.546875 C 9.289062 -7.140625 9.234375 -6.664062 9.234375 -6.125 L 9.234375 0 Z M 7.5 0 \"/>\n",
       "</symbol>\n",
       "<symbol overflow=\"visible\" id=\"glyph2-9\">\n",
       "<path style=\"stroke:none;\" d=\"M 5.421875 -5.15625 C 5.421875 -4.25 5.351562 -3.378906 5.21875 -2.546875 C 5.082031 -1.722656 4.863281 -0.929688 4.5625 -0.171875 C 4.269531 0.585938 3.894531 1.320312 3.4375 2.03125 C 2.988281 2.75 2.445312 3.453125 1.8125 4.140625 L 0.125 4.140625 C 0.726562 3.453125 1.253906 2.75 1.703125 2.03125 C 2.148438 1.320312 2.515625 0.582031 2.796875 -0.1875 C 3.085938 -0.957031 3.300781 -1.753906 3.4375 -2.578125 C 3.582031 -3.398438 3.65625 -4.265625 3.65625 -5.171875 C 3.65625 -6.078125 3.582031 -6.941406 3.4375 -7.765625 C 3.300781 -8.597656 3.085938 -9.394531 2.796875 -10.15625 C 2.515625 -10.925781 2.148438 -11.671875 1.703125 -12.390625 C 1.253906 -13.109375 0.726562 -13.8125 0.125 -14.5 L 1.8125 -14.5 C 2.445312 -13.8125 2.988281 -13.109375 3.4375 -12.390625 C 3.894531 -11.671875 4.269531 -10.929688 4.5625 -10.171875 C 4.863281 -9.410156 5.082031 -8.613281 5.21875 -7.78125 C 5.351562 -6.957031 5.421875 -6.097656 5.421875 -5.203125 Z M 5.421875 -5.15625 \"/>\n",
       "</symbol>\n",
       "<symbol overflow=\"visible\" id=\"glyph2-10\">\n",
       "<path style=\"stroke:none;\" d=\"M 10.5625 0 L 3.203125 -11.71875 C 3.210938 -11.394531 3.226562 -11.078125 3.25 -10.765625 C 3.257812 -10.503906 3.269531 -10.222656 3.28125 -9.921875 C 3.289062 -9.628906 3.296875 -9.367188 3.296875 -9.140625 L 3.296875 0 L 1.640625 0 L 1.640625 -13.765625 L 3.8125 -13.765625 L 11.25 -1.96875 C 11.226562 -2.28125 11.207031 -2.597656 11.1875 -2.921875 C 11.175781 -3.191406 11.164062 -3.488281 11.15625 -3.8125 C 11.144531 -4.132812 11.140625 -4.441406 11.140625 -4.734375 L 11.140625 -13.765625 L 12.8125 -13.765625 L 12.8125 0 Z M 10.5625 0 \"/>\n",
       "</symbol>\n",
       "<symbol overflow=\"visible\" id=\"glyph2-11\">\n",
       "<path style=\"stroke:none;\" d=\"M 2.703125 -4.90625 C 2.703125 -4.351562 2.753906 -3.84375 2.859375 -3.375 C 2.972656 -2.914062 3.148438 -2.519531 3.390625 -2.1875 C 3.628906 -1.851562 3.929688 -1.59375 4.296875 -1.40625 C 4.671875 -1.21875 5.117188 -1.125 5.640625 -1.125 C 6.398438 -1.125 7.007812 -1.273438 7.46875 -1.578125 C 7.9375 -1.890625 8.25 -2.28125 8.40625 -2.75 L 9.953125 -2.3125 C 9.835938 -2.007812 9.679688 -1.710938 9.484375 -1.421875 C 9.285156 -1.128906 9.019531 -0.863281 8.6875 -0.625 C 8.351562 -0.382812 7.9375 -0.1875 7.4375 -0.03125 C 6.945312 0.125 6.347656 0.203125 5.640625 0.203125 C 4.078125 0.203125 2.882812 -0.257812 2.0625 -1.1875 C 1.25 -2.125 0.84375 -3.515625 0.84375 -5.359375 C 0.84375 -6.347656 0.96875 -7.179688 1.21875 -7.859375 C 1.46875 -8.546875 1.804688 -9.101562 2.234375 -9.53125 C 2.660156 -9.96875 3.160156 -10.28125 3.734375 -10.46875 C 4.304688 -10.664062 4.921875 -10.765625 5.578125 -10.765625 C 6.460938 -10.765625 7.203125 -10.617188 7.796875 -10.328125 C 8.390625 -10.046875 8.867188 -9.648438 9.234375 -9.140625 C 9.597656 -8.640625 9.851562 -8.046875 10 -7.359375 C 10.15625 -6.679688 10.234375 -5.941406 10.234375 -5.140625 L 10.234375 -4.90625 Z M 8.421875 -6.265625 C 8.316406 -7.378906 8.03125 -8.191406 7.5625 -8.703125 C 7.09375 -9.210938 6.421875 -9.46875 5.546875 -9.46875 C 5.253906 -9.46875 4.945312 -9.421875 4.625 -9.328125 C 4.300781 -9.234375 4.003906 -9.0625 3.734375 -8.8125 C 3.460938 -8.570312 3.226562 -8.242188 3.03125 -7.828125 C 2.84375 -7.421875 2.738281 -6.898438 2.71875 -6.265625 Z M 8.421875 -6.265625 \"/>\n",
       "</symbol>\n",
       "<symbol overflow=\"visible\" id=\"glyph2-12\">\n",
       "<path style=\"stroke:none;\" d=\"M 10.28125 -5.296875 C 10.28125 -3.441406 9.875 -2.0625 9.0625 -1.15625 C 8.25 -0.25 7.066406 0.203125 5.515625 0.203125 C 4.785156 0.203125 4.128906 0.09375 3.546875 -0.125 C 2.960938 -0.351562 2.46875 -0.695312 2.0625 -1.15625 C 1.664062 -1.613281 1.363281 -2.179688 1.15625 -2.859375 C 0.945312 -3.546875 0.84375 -4.359375 0.84375 -5.296875 C 0.84375 -8.941406 2.421875 -10.765625 5.578125 -10.765625 C 6.398438 -10.765625 7.109375 -10.648438 7.703125 -10.421875 C 8.296875 -10.191406 8.78125 -9.847656 9.15625 -9.390625 C 9.539062 -8.941406 9.820312 -8.375 10 -7.6875 C 10.1875 -7 10.28125 -6.203125 10.28125 -5.296875 Z M 8.4375 -5.296875 C 8.4375 -6.117188 8.375 -6.796875 8.25 -7.328125 C 8.125 -7.859375 7.9375 -8.28125 7.6875 -8.59375 C 7.445312 -8.914062 7.148438 -9.140625 6.796875 -9.265625 C 6.441406 -9.398438 6.046875 -9.46875 5.609375 -9.46875 C 5.160156 -9.46875 4.753906 -9.398438 4.390625 -9.265625 C 4.023438 -9.128906 3.71875 -8.898438 3.46875 -8.578125 C 3.21875 -8.253906 3.023438 -7.828125 2.890625 -7.296875 C 2.753906 -6.765625 2.6875 -6.097656 2.6875 -5.296875 C 2.6875 -4.472656 2.753906 -3.789062 2.890625 -3.25 C 3.035156 -2.71875 3.234375 -2.289062 3.484375 -1.96875 C 3.742188 -1.65625 4.039062 -1.429688 4.375 -1.296875 C 4.71875 -1.171875 5.09375 -1.109375 5.5 -1.109375 C 5.945312 -1.109375 6.351562 -1.171875 6.71875 -1.296875 C 7.082031 -1.421875 7.390625 -1.640625 7.640625 -1.953125 C 7.898438 -2.273438 8.097656 -2.707031 8.234375 -3.25 C 8.367188 -3.789062 8.4375 -4.472656 8.4375 -5.296875 Z M 8.4375 -5.296875 \"/>\n",
       "</symbol>\n",
       "<symbol overflow=\"visible\" id=\"glyph2-13\">\n",
       "<path style=\"stroke:none;\" d=\"M 3.53125 -9.28125 L 3.53125 0 L 1.765625 0 L 1.765625 -9.28125 L 0.28125 -9.28125 L 0.28125 -10.5625 L 1.765625 -10.5625 L 1.765625 -11.765625 C 1.765625 -12.140625 1.800781 -12.492188 1.875 -12.828125 C 1.945312 -13.160156 2.078125 -13.445312 2.265625 -13.6875 C 2.460938 -13.925781 2.726562 -14.113281 3.0625 -14.25 C 3.394531 -14.394531 3.820312 -14.46875 4.34375 -14.46875 C 4.550781 -14.46875 4.765625 -14.457031 4.984375 -14.4375 C 5.210938 -14.425781 5.414062 -14.398438 5.59375 -14.359375 L 5.59375 -13.015625 C 5.476562 -13.035156 5.347656 -13.050781 5.203125 -13.0625 C 5.054688 -13.082031 4.925781 -13.09375 4.8125 -13.09375 C 4.550781 -13.09375 4.335938 -13.054688 4.171875 -12.984375 C 4.003906 -12.910156 3.875 -12.804688 3.78125 -12.671875 C 3.6875 -12.546875 3.617188 -12.382812 3.578125 -12.1875 C 3.546875 -11.988281 3.53125 -11.765625 3.53125 -11.515625 L 3.53125 -10.5625 L 5.59375 -10.5625 L 5.59375 -9.28125 Z M 3.53125 -9.28125 \"/>\n",
       "</symbol>\n",
       "<symbol overflow=\"visible\" id=\"glyph2-14\">\n",
       "<path style=\"stroke:none;\" d=\"M 5.40625 -0.078125 C 5.144531 -0.00390625 4.875 0.0507812 4.59375 0.09375 C 4.320312 0.132812 4.003906 0.15625 3.640625 0.15625 C 2.234375 0.15625 1.53125 -0.640625 1.53125 -2.234375 L 1.53125 -9.28125 L 0.296875 -9.28125 L 0.296875 -10.5625 L 1.59375 -10.5625 L 2.109375 -12.9375 L 3.28125 -12.9375 L 3.28125 -10.5625 L 5.234375 -10.5625 L 5.234375 -9.28125 L 3.28125 -9.28125 L 3.28125 -2.625 C 3.28125 -2.113281 3.363281 -1.753906 3.53125 -1.546875 C 3.695312 -1.335938 3.984375 -1.234375 4.390625 -1.234375 C 4.566406 -1.234375 4.734375 -1.242188 4.890625 -1.265625 C 5.046875 -1.296875 5.21875 -1.332031 5.40625 -1.375 Z M 5.40625 -0.078125 \"/>\n",
       "</symbol>\n",
       "<symbol overflow=\"visible\" id=\"glyph2-15\">\n",
       "<path style=\"stroke:none;\" d=\"M 3.09375 -8.765625 C 3.289062 -9.117188 3.503906 -9.421875 3.734375 -9.671875 C 3.960938 -9.921875 4.210938 -10.125 4.484375 -10.28125 C 4.753906 -10.445312 5.050781 -10.566406 5.375 -10.640625 C 5.707031 -10.722656 6.070312 -10.765625 6.46875 -10.765625 C 7.144531 -10.765625 7.703125 -10.671875 8.140625 -10.484375 C 8.578125 -10.304688 8.921875 -10.050781 9.171875 -9.71875 C 9.421875 -9.394531 9.59375 -9.003906 9.6875 -8.546875 C 9.78125 -8.085938 9.828125 -7.585938 9.828125 -7.046875 L 9.828125 0 L 8.0625 0 L 8.0625 -6.703125 C 8.0625 -7.148438 8.03125 -7.539062 7.96875 -7.875 C 7.914062 -8.21875 7.8125 -8.5 7.65625 -8.71875 C 7.5 -8.945312 7.273438 -9.117188 6.984375 -9.234375 C 6.703125 -9.347656 6.332031 -9.40625 5.875 -9.40625 C 5.457031 -9.40625 5.082031 -9.328125 4.75 -9.171875 C 4.414062 -9.023438 4.128906 -8.816406 3.890625 -8.546875 C 3.648438 -8.273438 3.460938 -7.941406 3.328125 -7.546875 C 3.203125 -7.160156 3.140625 -6.722656 3.140625 -6.234375 L 3.140625 0 L 1.390625 0 L 1.390625 -14.5 L 3.140625 -14.5 L 3.140625 -10.71875 C 3.140625 -10.507812 3.132812 -10.296875 3.125 -10.078125 C 3.125 -9.859375 3.117188 -9.65625 3.109375 -9.46875 C 3.097656 -9.289062 3.085938 -9.140625 3.078125 -9.015625 C 3.078125 -8.890625 3.070312 -8.804688 3.0625 -8.765625 Z M 3.09375 -8.765625 \"/>\n",
       "</symbol>\n",
       "<symbol overflow=\"visible\" id=\"glyph2-16\">\n",
       "<path style=\"stroke:none;\" d=\"M 3.5 -12.234375 L 3.5 -7.125 L 11.1875 -7.125 L 11.1875 -5.578125 L 3.5 -5.578125 L 3.5 0 L 1.640625 0 L 1.640625 -13.765625 L 11.421875 -13.765625 L 11.421875 -12.234375 Z M 3.5 -12.234375 \"/>\n",
       "</symbol>\n",
       "<symbol overflow=\"visible\" id=\"glyph2-17\">\n",
       "<path style=\"stroke:none;\" d=\"M 3.0625 -10.5625 L 3.0625 -3.875 C 3.0625 -3.351562 3.097656 -2.921875 3.171875 -2.578125 C 3.253906 -2.234375 3.378906 -1.953125 3.546875 -1.734375 C 3.710938 -1.523438 3.929688 -1.375 4.203125 -1.28125 C 4.484375 -1.195312 4.832031 -1.15625 5.25 -1.15625 C 5.664062 -1.15625 6.039062 -1.226562 6.375 -1.375 C 6.707031 -1.53125 6.992188 -1.742188 7.234375 -2.015625 C 7.472656 -2.296875 7.65625 -2.640625 7.78125 -3.046875 C 7.914062 -3.453125 7.984375 -3.914062 7.984375 -4.4375 L 7.984375 -10.5625 L 9.734375 -10.5625 L 9.734375 -2.25 C 9.734375 -2.03125 9.734375 -1.796875 9.734375 -1.546875 C 9.742188 -1.304688 9.75 -1.078125 9.75 -0.859375 C 9.757812 -0.640625 9.765625 -0.453125 9.765625 -0.296875 C 9.773438 -0.140625 9.785156 -0.0390625 9.796875 0 L 8.140625 0 C 8.128906 -0.03125 8.117188 -0.117188 8.109375 -0.265625 C 8.109375 -0.410156 8.101562 -0.570312 8.09375 -0.75 C 8.082031 -0.9375 8.070312 -1.125 8.0625 -1.3125 C 8.0625 -1.507812 8.0625 -1.675781 8.0625 -1.8125 L 8.03125 -1.8125 C 7.863281 -1.5 7.675781 -1.21875 7.46875 -0.96875 C 7.269531 -0.726562 7.035156 -0.519531 6.765625 -0.34375 C 6.503906 -0.175781 6.195312 -0.046875 5.84375 0.046875 C 5.5 0.148438 5.101562 0.203125 4.65625 0.203125 C 4.0625 0.203125 3.550781 0.128906 3.125 -0.015625 C 2.707031 -0.160156 2.363281 -0.382812 2.09375 -0.6875 C 1.820312 -0.988281 1.617188 -1.375 1.484375 -1.84375 C 1.359375 -2.3125 1.296875 -2.875 1.296875 -3.53125 L 1.296875 -10.5625 Z M 3.0625 -10.5625 \"/>\n",
       "</symbol>\n",
       "<symbol overflow=\"visible\" id=\"glyph2-18\">\n",
       "<path style=\"stroke:none;\" d=\"M 1.34375 -12.8125 L 1.34375 -14.5 L 3.09375 -14.5 L 3.09375 -12.8125 Z M 1.34375 0 L 1.34375 -10.5625 L 3.09375 -10.5625 L 3.09375 0 Z M 1.34375 0 \"/>\n",
       "</symbol>\n",
       "<symbol overflow=\"visible\" id=\"glyph3-0\">\n",
       "<path style=\"stroke:none;\" d=\"M 0 -0.671875 L -13.328125 -0.671875 L -13.328125 -5.984375 L 0 -5.984375 Z M -0.671875 -1.328125 L -0.671875 -5.3125 L -12.671875 -5.3125 L -12.671875 -1.328125 Z M -0.671875 -1.328125 \"/>\n",
       "</symbol>\n",
       "<symbol overflow=\"visible\" id=\"glyph3-1\">\n",
       "<path style=\"stroke:none;\" d=\"M 0 -14.75 L 0 -12.53125 L -8.734375 -10.140625 C -8.984375 -10.078125 -9.273438 -10.003906 -9.609375 -9.921875 C -9.953125 -9.835938 -10.28125 -9.765625 -10.59375 -9.703125 C -10.945312 -9.617188 -11.3125 -9.539062 -11.6875 -9.46875 C -11.300781 -9.382812 -10.929688 -9.300781 -10.578125 -9.21875 C -10.265625 -9.144531 -9.941406 -9.066406 -9.609375 -8.984375 C -9.273438 -8.910156 -8.984375 -8.835938 -8.734375 -8.765625 L 0 -6.375 L 0 -4.140625 L -13.765625 -0.09375 L -13.765625 -2.03125 L -5.015625 -4.5 C -4.609375 -4.613281 -4.203125 -4.71875 -3.796875 -4.8125 C -3.390625 -4.914062 -3.03125 -5.003906 -2.71875 -5.078125 C -2.34375 -5.160156 -1.984375 -5.238281 -1.640625 -5.3125 C -2.085938 -5.40625 -2.53125 -5.503906 -2.96875 -5.609375 C -3.15625 -5.660156 -3.347656 -5.707031 -3.546875 -5.75 C -3.742188 -5.800781 -3.941406 -5.847656 -4.140625 -5.890625 C -4.335938 -5.941406 -4.523438 -5.988281 -4.703125 -6.03125 C -4.878906 -6.082031 -5.046875 -6.128906 -5.203125 -6.171875 L -13.765625 -8.5625 L -13.765625 -10.359375 L -5.203125 -12.75 C -5.046875 -12.78125 -4.878906 -12.820312 -4.703125 -12.875 C -4.523438 -12.925781 -4.335938 -12.972656 -4.140625 -13.015625 C -3.953125 -13.066406 -3.753906 -13.113281 -3.546875 -13.15625 C -3.347656 -13.207031 -3.160156 -13.253906 -2.984375 -13.296875 C -2.546875 -13.398438 -2.097656 -13.503906 -1.640625 -13.609375 C -1.640625 -13.609375 -1.75 -13.632812 -1.96875 -13.6875 C -2.195312 -13.738281 -2.476562 -13.800781 -2.8125 -13.875 C -3.15625 -13.957031 -3.523438 -14.046875 -3.921875 -14.140625 C -4.316406 -14.234375 -4.679688 -14.332031 -5.015625 -14.4375 L -13.765625 -16.859375 L -13.765625 -18.8125 Z M 0 -14.75 \"/>\n",
       "</symbol>\n",
       "<symbol overflow=\"visible\" id=\"glyph3-2\">\n",
       "<path style=\"stroke:none;\" d=\"M -12.8125 -1.34375 L -14.5 -1.34375 L -14.5 -3.09375 L -12.8125 -3.09375 Z M 0 -1.34375 L -10.5625 -1.34375 L -10.5625 -3.09375 L 0 -3.09375 Z M 0 -1.34375 \"/>\n",
       "</symbol>\n",
       "<symbol overflow=\"visible\" id=\"glyph3-3\">\n",
       "<path style=\"stroke:none;\" d=\"M -1.703125 -8.015625 C -1.023438 -7.691406 -0.535156 -7.257812 -0.234375 -6.71875 C 0.0546875 -6.1875 0.203125 -5.523438 0.203125 -4.734375 C 0.203125 -3.390625 -0.242188 -2.40625 -1.140625 -1.78125 C -2.046875 -1.15625 -3.410156 -0.84375 -5.234375 -0.84375 C -8.921875 -0.84375 -10.765625 -2.140625 -10.765625 -4.734375 C -10.765625 -5.523438 -10.617188 -6.1875 -10.328125 -6.71875 C -10.035156 -7.257812 -9.566406 -7.691406 -8.921875 -8.015625 L -8.921875 -8.03125 C -8.992188 -8.03125 -9.097656 -8.03125 -9.234375 -8.03125 C -9.367188 -8.03125 -9.515625 -8.023438 -9.671875 -8.015625 C -9.828125 -8.015625 -9.972656 -8.015625 -10.109375 -8.015625 C -10.242188 -8.015625 -10.34375 -8.015625 -10.40625 -8.015625 L -14.5 -8.015625 L -14.5 -9.78125 L -2.171875 -9.78125 C -1.921875 -9.78125 -1.675781 -9.78125 -1.4375 -9.78125 C -1.207031 -9.78125 -0.992188 -9.785156 -0.796875 -9.796875 C -0.609375 -9.804688 -0.441406 -9.8125 -0.296875 -9.8125 C -0.160156 -9.820312 -0.0625 -9.828125 0 -9.828125 L 0 -8.15625 C -0.0625 -8.144531 -0.148438 -8.132812 -0.265625 -8.125 C -0.390625 -8.113281 -0.53125 -8.101562 -0.6875 -8.09375 C -0.84375 -8.082031 -1.007812 -8.070312 -1.1875 -8.0625 C -1.363281 -8.0625 -1.535156 -8.0625 -1.703125 -8.0625 Z M -5.296875 -2.6875 C -4.566406 -2.6875 -3.941406 -2.726562 -3.421875 -2.8125 C -2.898438 -2.90625 -2.46875 -3.050781 -2.125 -3.25 C -1.789062 -3.457031 -1.546875 -3.71875 -1.390625 -4.03125 C -1.234375 -4.34375 -1.15625 -4.722656 -1.15625 -5.171875 C -1.15625 -5.640625 -1.226562 -6.050781 -1.375 -6.40625 C -1.53125 -6.757812 -1.773438 -7.050781 -2.109375 -7.28125 C -2.453125 -7.519531 -2.890625 -7.703125 -3.421875 -7.828125 C -3.960938 -7.953125 -4.625 -8.015625 -5.40625 -8.015625 C -6.15625 -8.015625 -6.789062 -7.953125 -7.3125 -7.828125 C -7.832031 -7.703125 -8.25 -7.519531 -8.5625 -7.28125 C -8.882812 -7.039062 -9.113281 -6.742188 -9.25 -6.390625 C -9.394531 -6.046875 -9.46875 -5.648438 -9.46875 -5.203125 C -9.46875 -4.765625 -9.390625 -4.390625 -9.234375 -4.078125 C -9.085938 -3.765625 -8.847656 -3.503906 -8.515625 -3.296875 C -8.179688 -3.085938 -7.75 -2.929688 -7.21875 -2.828125 C -6.6875 -2.734375 -6.046875 -2.6875 -5.296875 -2.6875 Z M -5.296875 -2.6875 \"/>\n",
       "</symbol>\n",
       "<symbol overflow=\"visible\" id=\"glyph3-4\">\n",
       "<path style=\"stroke:none;\" d=\"M -0.078125 -5.40625 C -0.00390625 -5.144531 0.0507812 -4.875 0.09375 -4.59375 C 0.132812 -4.320312 0.15625 -4.003906 0.15625 -3.640625 C 0.15625 -2.234375 -0.640625 -1.53125 -2.234375 -1.53125 L -9.28125 -1.53125 L -9.28125 -0.296875 L -10.5625 -0.296875 L -10.5625 -1.59375 L -12.9375 -2.109375 L -12.9375 -3.28125 L -10.5625 -3.28125 L -10.5625 -5.234375 L -9.28125 -5.234375 L -9.28125 -3.28125 L -2.625 -3.28125 C -2.113281 -3.28125 -1.753906 -3.363281 -1.546875 -3.53125 C -1.335938 -3.695312 -1.234375 -3.984375 -1.234375 -4.390625 C -1.234375 -4.566406 -1.242188 -4.734375 -1.265625 -4.890625 C -1.296875 -5.046875 -1.332031 -5.21875 -1.375 -5.40625 Z M -0.078125 -5.40625 \"/>\n",
       "</symbol>\n",
       "<symbol overflow=\"visible\" id=\"glyph3-5\">\n",
       "<path style=\"stroke:none;\" d=\"M -8.765625 -3.09375 C -9.117188 -3.289062 -9.421875 -3.503906 -9.671875 -3.734375 C -9.921875 -3.960938 -10.125 -4.210938 -10.28125 -4.484375 C -10.445312 -4.753906 -10.566406 -5.050781 -10.640625 -5.375 C -10.722656 -5.707031 -10.765625 -6.070312 -10.765625 -6.46875 C -10.765625 -7.144531 -10.671875 -7.703125 -10.484375 -8.140625 C -10.304688 -8.578125 -10.050781 -8.921875 -9.71875 -9.171875 C -9.394531 -9.421875 -9.003906 -9.59375 -8.546875 -9.6875 C -8.085938 -9.78125 -7.585938 -9.828125 -7.046875 -9.828125 L 0 -9.828125 L 0 -8.0625 L -6.703125 -8.0625 C -7.148438 -8.0625 -7.539062 -8.03125 -7.875 -7.96875 C -8.21875 -7.914062 -8.5 -7.8125 -8.71875 -7.65625 C -8.945312 -7.5 -9.117188 -7.273438 -9.234375 -6.984375 C -9.347656 -6.703125 -9.40625 -6.332031 -9.40625 -5.875 C -9.40625 -5.457031 -9.328125 -5.082031 -9.171875 -4.75 C -9.023438 -4.414062 -8.816406 -4.128906 -8.546875 -3.890625 C -8.273438 -3.648438 -7.941406 -3.460938 -7.546875 -3.328125 C -7.160156 -3.203125 -6.722656 -3.140625 -6.234375 -3.140625 L 0 -3.140625 L 0 -1.390625 L -14.5 -1.390625 L -14.5 -3.140625 L -10.71875 -3.140625 C -10.507812 -3.140625 -10.296875 -3.132812 -10.078125 -3.125 C -9.859375 -3.125 -9.65625 -3.117188 -9.46875 -3.109375 C -9.289062 -3.097656 -9.140625 -3.085938 -9.015625 -3.078125 C -8.890625 -3.078125 -8.804688 -3.070312 -8.765625 -3.0625 Z M -8.765625 -3.09375 \"/>\n",
       "</symbol>\n",
       "<symbol overflow=\"visible\" id=\"glyph3-6\">\n",
       "<path style=\"stroke:none;\" d=\"\"/>\n",
       "</symbol>\n",
       "<symbol overflow=\"visible\" id=\"glyph3-7\">\n",
       "<path style=\"stroke:none;\" d=\"M -5.203125 -1.234375 C -6.097656 -1.234375 -6.957031 -1.300781 -7.78125 -1.4375 C -8.613281 -1.582031 -9.410156 -1.800781 -10.171875 -2.09375 C -10.929688 -2.382812 -11.671875 -2.753906 -12.390625 -3.203125 C -13.109375 -3.660156 -13.8125 -4.207031 -14.5 -4.84375 L -14.5 -6.546875 C -13.8125 -5.929688 -13.109375 -5.398438 -12.390625 -4.953125 C -11.671875 -4.503906 -10.925781 -4.132812 -10.15625 -3.84375 C -9.394531 -3.5625 -8.597656 -3.351562 -7.765625 -3.21875 C -6.941406 -3.082031 -6.078125 -3.015625 -5.171875 -3.015625 C -4.265625 -3.015625 -3.398438 -3.082031 -2.578125 -3.21875 C -1.753906 -3.351562 -0.957031 -3.5625 -0.1875 -3.84375 C 0.582031 -4.132812 1.320312 -4.503906 2.03125 -4.953125 C 2.75 -5.398438 3.453125 -5.929688 4.140625 -6.546875 L 4.140625 -4.84375 C 3.453125 -4.207031 2.75 -3.660156 2.03125 -3.203125 C 1.320312 -2.753906 0.585938 -2.382812 -0.171875 -2.09375 C -0.929688 -1.800781 -1.722656 -1.582031 -2.546875 -1.4375 C -3.378906 -1.300781 -4.25 -1.234375 -5.15625 -1.234375 Z M -5.203125 -1.234375 \"/>\n",
       "</symbol>\n",
       "<symbol overflow=\"visible\" id=\"glyph3-8\">\n",
       "<path style=\"stroke:none;\" d=\"M -5.328125 -2.6875 C -4.722656 -2.6875 -4.164062 -2.726562 -3.65625 -2.8125 C -3.15625 -2.90625 -2.71875 -3.054688 -2.34375 -3.265625 C -1.976562 -3.472656 -1.691406 -3.742188 -1.484375 -4.078125 C -1.285156 -4.421875 -1.1875 -4.847656 -1.1875 -5.359375 C -1.1875 -5.984375 -1.351562 -6.503906 -1.6875 -6.921875 C -2.03125 -7.335938 -2.554688 -7.597656 -3.265625 -7.703125 L -3.140625 -9.46875 C -2.703125 -9.414062 -2.28125 -9.289062 -1.875 -9.09375 C -1.476562 -8.894531 -1.125 -8.628906 -0.8125 -8.296875 C -0.507812 -7.960938 -0.265625 -7.550781 -0.078125 -7.0625 C 0.109375 -6.582031 0.203125 -6.03125 0.203125 -5.40625 C 0.203125 -4.570312 0.0625 -3.863281 -0.21875 -3.28125 C -0.5 -2.707031 -0.882812 -2.238281 -1.375 -1.875 C -1.875 -1.519531 -2.457031 -1.257812 -3.125 -1.09375 C -3.789062 -0.925781 -4.515625 -0.84375 -5.296875 -0.84375 C -6.003906 -0.84375 -6.628906 -0.898438 -7.171875 -1.015625 C -7.710938 -1.140625 -8.1875 -1.304688 -8.59375 -1.515625 C -9 -1.734375 -9.34375 -1.984375 -9.625 -2.265625 C -9.90625 -2.554688 -10.125 -2.867188 -10.28125 -3.203125 C -10.445312 -3.535156 -10.566406 -3.882812 -10.640625 -4.25 C -10.722656 -4.625 -10.765625 -5 -10.765625 -5.375 C -10.765625 -5.96875 -10.679688 -6.492188 -10.515625 -6.953125 C -10.359375 -7.421875 -10.132812 -7.820312 -9.84375 -8.15625 C -9.5625 -8.488281 -9.226562 -8.757812 -8.84375 -8.96875 C -8.457031 -9.175781 -8.046875 -9.328125 -7.609375 -9.421875 L -7.46875 -7.609375 C -8.050781 -7.515625 -8.515625 -7.28125 -8.859375 -6.90625 C -9.210938 -6.539062 -9.390625 -6.015625 -9.390625 -5.328125 C -9.390625 -4.828125 -9.304688 -4.410156 -9.140625 -4.078125 C -8.972656 -3.742188 -8.71875 -3.472656 -8.375 -3.265625 C -8.039062 -3.054688 -7.617188 -2.90625 -7.109375 -2.8125 C -6.609375 -2.726562 -6.015625 -2.6875 -5.328125 -2.6875 Z M -5.328125 -2.6875 \"/>\n",
       "</symbol>\n",
       "<symbol overflow=\"visible\" id=\"glyph3-9\">\n",
       "<path style=\"stroke:none;\" d=\"M 0 -7.5 L -6.703125 -7.5 C -7.210938 -7.5 -7.640625 -7.46875 -7.984375 -7.40625 C -8.328125 -7.34375 -8.601562 -7.234375 -8.8125 -7.078125 C -9.03125 -6.921875 -9.179688 -6.71875 -9.265625 -6.46875 C -9.359375 -6.226562 -9.40625 -5.925781 -9.40625 -5.5625 C -9.40625 -5.195312 -9.332031 -4.863281 -9.1875 -4.5625 C -9.039062 -4.257812 -8.828125 -4.003906 -8.546875 -3.796875 C -8.273438 -3.585938 -7.9375 -3.425781 -7.53125 -3.3125 C -7.125 -3.195312 -6.65625 -3.140625 -6.125 -3.140625 L 0 -3.140625 L 0 -1.390625 L -8.3125 -1.390625 C -8.53125 -1.390625 -8.757812 -1.382812 -9 -1.375 C -9.25 -1.375 -9.484375 -1.367188 -9.703125 -1.359375 C -9.921875 -1.359375 -10.109375 -1.351562 -10.265625 -1.34375 C -10.421875 -1.34375 -10.519531 -1.335938 -10.5625 -1.328125 L -10.5625 -2.984375 C -10.53125 -2.992188 -10.441406 -3 -10.296875 -3 C -10.160156 -3.007812 -10 -3.019531 -9.8125 -3.03125 C -9.625 -3.039062 -9.429688 -3.046875 -9.234375 -3.046875 C -9.046875 -3.054688 -8.890625 -3.0625 -8.765625 -3.0625 L -8.765625 -3.09375 C -9.066406 -3.25 -9.34375 -3.414062 -9.59375 -3.59375 C -9.84375 -3.78125 -10.050781 -3.992188 -10.21875 -4.234375 C -10.394531 -4.484375 -10.53125 -4.765625 -10.625 -5.078125 C -10.71875 -5.398438 -10.765625 -5.769531 -10.765625 -6.1875 C -10.765625 -6.988281 -10.601562 -7.617188 -10.28125 -8.078125 C -9.96875 -8.546875 -9.460938 -8.867188 -8.765625 -9.046875 L -8.765625 -9.078125 C -9.066406 -9.234375 -9.34375 -9.410156 -9.59375 -9.609375 C -9.84375 -9.804688 -10.050781 -10.035156 -10.21875 -10.296875 C -10.394531 -10.554688 -10.53125 -10.847656 -10.625 -11.171875 C -10.71875 -11.492188 -10.765625 -11.863281 -10.765625 -12.28125 C -10.765625 -12.820312 -10.691406 -13.285156 -10.546875 -13.671875 C -10.398438 -14.054688 -10.175781 -14.367188 -9.875 -14.609375 C -9.582031 -14.859375 -9.195312 -15.039062 -8.71875 -15.15625 C -8.25 -15.28125 -7.691406 -15.34375 -7.046875 -15.34375 L 0 -15.34375 L 0 -13.609375 L -6.703125 -13.609375 C -7.210938 -13.609375 -7.640625 -13.570312 -7.984375 -13.5 C -8.328125 -13.4375 -8.601562 -13.328125 -8.8125 -13.171875 C -9.03125 -13.023438 -9.179688 -12.828125 -9.265625 -12.578125 C -9.359375 -12.328125 -9.40625 -12.023438 -9.40625 -11.671875 C -9.40625 -11.296875 -9.332031 -10.957031 -9.1875 -10.65625 C -9.050781 -10.363281 -8.847656 -10.109375 -8.578125 -9.890625 C -8.304688 -9.679688 -7.960938 -9.519531 -7.546875 -9.40625 C -7.140625 -9.289062 -6.664062 -9.234375 -6.125 -9.234375 L 0 -9.234375 Z M 0 -7.5 \"/>\n",
       "</symbol>\n",
       "<symbol overflow=\"visible\" id=\"glyph3-10\">\n",
       "<path style=\"stroke:none;\" d=\"M -5.15625 -5.421875 C -4.25 -5.421875 -3.378906 -5.351562 -2.546875 -5.21875 C -1.722656 -5.082031 -0.929688 -4.863281 -0.171875 -4.5625 C 0.585938 -4.269531 1.320312 -3.894531 2.03125 -3.4375 C 2.75 -2.988281 3.453125 -2.445312 4.140625 -1.8125 L 4.140625 -0.125 C 3.453125 -0.726562 2.75 -1.253906 2.03125 -1.703125 C 1.320312 -2.148438 0.582031 -2.515625 -0.1875 -2.796875 C -0.957031 -3.085938 -1.753906 -3.300781 -2.578125 -3.4375 C -3.398438 -3.582031 -4.265625 -3.65625 -5.171875 -3.65625 C -6.078125 -3.65625 -6.941406 -3.582031 -7.765625 -3.4375 C -8.597656 -3.300781 -9.394531 -3.085938 -10.15625 -2.796875 C -10.925781 -2.515625 -11.671875 -2.148438 -12.390625 -1.703125 C -13.109375 -1.253906 -13.8125 -0.726562 -14.5 -0.125 L -14.5 -1.8125 C -13.8125 -2.445312 -13.109375 -2.988281 -12.390625 -3.4375 C -11.671875 -3.894531 -10.929688 -4.269531 -10.171875 -4.5625 C -9.410156 -4.863281 -8.613281 -5.082031 -7.78125 -5.21875 C -6.957031 -5.351562 -6.097656 -5.421875 -5.203125 -5.421875 Z M -5.15625 -5.421875 \"/>\n",
       "</symbol>\n",
       "</g>\n",
       "<clipPath id=\"clip1\">\n",
       "  <path d=\"M 40.152344 5.480469 L 536.605469 5.480469 L 536.605469 385.851562 L 40.152344 385.851562 Z M 40.152344 5.480469 \"/>\n",
       "</clipPath>\n",
       "<clipPath id=\"clip2\">\n",
       "  <path d=\"M 40.152344 304 L 536.605469 304 L 536.605469 306 L 40.152344 306 Z M 40.152344 304 \"/>\n",
       "</clipPath>\n",
       "<clipPath id=\"clip3\">\n",
       "  <path d=\"M 40.152344 213 L 536.605469 213 L 536.605469 215 L 40.152344 215 Z M 40.152344 213 \"/>\n",
       "</clipPath>\n",
       "<clipPath id=\"clip4\">\n",
       "  <path d=\"M 40.152344 122 L 536.605469 122 L 536.605469 124 L 40.152344 124 Z M 40.152344 122 \"/>\n",
       "</clipPath>\n",
       "<clipPath id=\"clip5\">\n",
       "  <path d=\"M 40.152344 31 L 536.605469 31 L 536.605469 33 L 40.152344 33 Z M 40.152344 31 \"/>\n",
       "</clipPath>\n",
       "<clipPath id=\"clip6\">\n",
       "  <path d=\"M 179 5.480469 L 180 5.480469 L 180 385.851562 L 179 385.851562 Z M 179 5.480469 \"/>\n",
       "</clipPath>\n",
       "<clipPath id=\"clip7\">\n",
       "  <path d=\"M 337 5.480469 L 338 5.480469 L 338 385.851562 L 337 385.851562 Z M 337 5.480469 \"/>\n",
       "</clipPath>\n",
       "<clipPath id=\"clip8\">\n",
       "  <path d=\"M 494 5.480469 L 496 5.480469 L 496 385.851562 L 494 385.851562 Z M 494 5.480469 \"/>\n",
       "</clipPath>\n",
       "<clipPath id=\"clip9\">\n",
       "  <path d=\"M 40.152344 349 L 536.605469 349 L 536.605469 351 L 40.152344 351 Z M 40.152344 349 \"/>\n",
       "</clipPath>\n",
       "<clipPath id=\"clip10\">\n",
       "  <path d=\"M 40.152344 258 L 536.605469 258 L 536.605469 260 L 40.152344 260 Z M 40.152344 258 \"/>\n",
       "</clipPath>\n",
       "<clipPath id=\"clip11\">\n",
       "  <path d=\"M 40.152344 167 L 536.605469 167 L 536.605469 169 L 40.152344 169 Z M 40.152344 167 \"/>\n",
       "</clipPath>\n",
       "<clipPath id=\"clip12\">\n",
       "  <path d=\"M 40.152344 76 L 536.605469 76 L 536.605469 78 L 40.152344 78 Z M 40.152344 76 \"/>\n",
       "</clipPath>\n",
       "<clipPath id=\"clip13\">\n",
       "  <path d=\"M 100 5.480469 L 102 5.480469 L 102 385.851562 L 100 385.851562 Z M 100 5.480469 \"/>\n",
       "</clipPath>\n",
       "<clipPath id=\"clip14\">\n",
       "  <path d=\"M 257 5.480469 L 259 5.480469 L 259 385.851562 L 257 385.851562 Z M 257 5.480469 \"/>\n",
       "</clipPath>\n",
       "<clipPath id=\"clip15\">\n",
       "  <path d=\"M 415 5.480469 L 417 5.480469 L 417 385.851562 L 415 385.851562 Z M 415 5.480469 \"/>\n",
       "</clipPath>\n",
       "</defs>\n",
       "<g id=\"surface188\">\n",
       "<rect x=\"0\" y=\"0\" width=\"720\" height=\"432\" style=\"fill:rgb(100%,100%,100%);fill-opacity:1;stroke:none;\"/>\n",
       "<rect x=\"0\" y=\"0\" width=\"720\" height=\"432\" style=\"fill:rgb(100%,100%,100%);fill-opacity:1;stroke:none;\"/>\n",
       "<path style=\"fill:none;stroke-width:1.066978;stroke-linecap:round;stroke-linejoin:round;stroke:rgb(100%,100%,100%);stroke-opacity:1;stroke-miterlimit:10;\" d=\"M 0 432 L 720 432 L 720 0 L 0 0 Z M 0 432 \"/>\n",
       "<g clip-path=\"url(#clip1)\" clip-rule=\"nonzero\">\n",
       "<path style=\" stroke:none;fill-rule:nonzero;fill:rgb(92.156863%,92.156863%,92.156863%);fill-opacity:1;\" d=\"M 40.152344 385.847656 L 536.605469 385.847656 L 536.605469 5.476562 L 40.152344 5.476562 Z M 40.152344 385.847656 \"/>\n",
       "</g>\n",
       "<g clip-path=\"url(#clip2)\" clip-rule=\"nonzero\">\n",
       "<path style=\"fill:none;stroke-width:0.533489;stroke-linecap:butt;stroke-linejoin:round;stroke:rgb(100%,100%,100%);stroke-opacity:1;stroke-miterlimit:10;\" d=\"M 40.152344 304.863281 L 536.601562 304.863281 \"/>\n",
       "</g>\n",
       "<g clip-path=\"url(#clip3)\" clip-rule=\"nonzero\">\n",
       "<path style=\"fill:none;stroke-width:0.533489;stroke-linecap:butt;stroke-linejoin:round;stroke:rgb(100%,100%,100%);stroke-opacity:1;stroke-miterlimit:10;\" d=\"M 40.152344 213.863281 L 536.601562 213.863281 \"/>\n",
       "</g>\n",
       "<g clip-path=\"url(#clip4)\" clip-rule=\"nonzero\">\n",
       "<path style=\"fill:none;stroke-width:0.533489;stroke-linecap:butt;stroke-linejoin:round;stroke:rgb(100%,100%,100%);stroke-opacity:1;stroke-miterlimit:10;\" d=\"M 40.152344 122.867188 L 536.601562 122.867188 \"/>\n",
       "</g>\n",
       "<g clip-path=\"url(#clip5)\" clip-rule=\"nonzero\">\n",
       "<path style=\"fill:none;stroke-width:0.533489;stroke-linecap:butt;stroke-linejoin:round;stroke:rgb(100%,100%,100%);stroke-opacity:1;stroke-miterlimit:10;\" d=\"M 40.152344 31.867188 L 536.601562 31.867188 \"/>\n",
       "</g>\n",
       "<g clip-path=\"url(#clip6)\" clip-rule=\"nonzero\">\n",
       "<path style=\"fill:none;stroke-width:0.533489;stroke-linecap:butt;stroke-linejoin:round;stroke:rgb(100%,100%,100%);stroke-opacity:1;stroke-miterlimit:10;\" d=\"M 179.492188 385.847656 L 179.492188 5.480469 \"/>\n",
       "</g>\n",
       "<g clip-path=\"url(#clip7)\" clip-rule=\"nonzero\">\n",
       "<path style=\"fill:none;stroke-width:0.533489;stroke-linecap:butt;stroke-linejoin:round;stroke:rgb(100%,100%,100%);stroke-opacity:1;stroke-miterlimit:10;\" d=\"M 337.296875 385.847656 L 337.296875 5.480469 \"/>\n",
       "</g>\n",
       "<g clip-path=\"url(#clip8)\" clip-rule=\"nonzero\">\n",
       "<path style=\"fill:none;stroke-width:0.533489;stroke-linecap:butt;stroke-linejoin:round;stroke:rgb(100%,100%,100%);stroke-opacity:1;stroke-miterlimit:10;\" d=\"M 495.101562 385.847656 L 495.101562 5.480469 \"/>\n",
       "</g>\n",
       "<g clip-path=\"url(#clip9)\" clip-rule=\"nonzero\">\n",
       "<path style=\"fill:none;stroke-width:1.066978;stroke-linecap:butt;stroke-linejoin:round;stroke:rgb(100%,100%,100%);stroke-opacity:1;stroke-miterlimit:10;\" d=\"M 40.152344 350.359375 L 536.601562 350.359375 \"/>\n",
       "</g>\n",
       "<g clip-path=\"url(#clip10)\" clip-rule=\"nonzero\">\n",
       "<path style=\"fill:none;stroke-width:1.066978;stroke-linecap:butt;stroke-linejoin:round;stroke:rgb(100%,100%,100%);stroke-opacity:1;stroke-miterlimit:10;\" d=\"M 40.152344 259.363281 L 536.601562 259.363281 \"/>\n",
       "</g>\n",
       "<g clip-path=\"url(#clip11)\" clip-rule=\"nonzero\">\n",
       "<path style=\"fill:none;stroke-width:1.066978;stroke-linecap:butt;stroke-linejoin:round;stroke:rgb(100%,100%,100%);stroke-opacity:1;stroke-miterlimit:10;\" d=\"M 40.152344 168.363281 L 536.601562 168.363281 \"/>\n",
       "</g>\n",
       "<g clip-path=\"url(#clip12)\" clip-rule=\"nonzero\">\n",
       "<path style=\"fill:none;stroke-width:1.066978;stroke-linecap:butt;stroke-linejoin:round;stroke:rgb(100%,100%,100%);stroke-opacity:1;stroke-miterlimit:10;\" d=\"M 40.152344 77.367188 L 536.601562 77.367188 \"/>\n",
       "</g>\n",
       "<g clip-path=\"url(#clip13)\" clip-rule=\"nonzero\">\n",
       "<path style=\"fill:none;stroke-width:1.066978;stroke-linecap:butt;stroke-linejoin:round;stroke:rgb(100%,100%,100%);stroke-opacity:1;stroke-miterlimit:10;\" d=\"M 100.589844 385.847656 L 100.589844 5.480469 \"/>\n",
       "</g>\n",
       "<g clip-path=\"url(#clip14)\" clip-rule=\"nonzero\">\n",
       "<path style=\"fill:none;stroke-width:1.066978;stroke-linecap:butt;stroke-linejoin:round;stroke:rgb(100%,100%,100%);stroke-opacity:1;stroke-miterlimit:10;\" d=\"M 258.394531 385.847656 L 258.394531 5.480469 \"/>\n",
       "</g>\n",
       "<g clip-path=\"url(#clip15)\" clip-rule=\"nonzero\">\n",
       "<path style=\"fill:none;stroke-width:1.066978;stroke-linecap:butt;stroke-linejoin:round;stroke:rgb(100%,100%,100%);stroke-opacity:1;stroke-miterlimit:10;\" d=\"M 416.199219 385.847656 L 416.199219 5.480469 \"/>\n",
       "</g>\n",
       "<path style=\"fill-rule:nonzero;fill:rgb(97.254902%,46.27451%,42.745098%);fill-opacity:1;stroke-width:0.708661;stroke-linecap:round;stroke-linejoin:round;stroke:rgb(97.254902%,46.27451%,42.745098%);stroke-opacity:1;stroke-miterlimit:10;\" d=\"M 247.722656 131.964844 C 247.722656 134.574219 243.816406 134.574219 243.816406 131.964844 C 243.816406 129.359375 247.722656 129.359375 247.722656 131.964844 \"/>\n",
       "<path style=\"fill-rule:nonzero;fill:rgb(97.254902%,46.27451%,42.745098%);fill-opacity:1;stroke-width:0.708661;stroke-linecap:round;stroke-linejoin:round;stroke:rgb(97.254902%,46.27451%,42.745098%);stroke-opacity:1;stroke-miterlimit:10;\" d=\"M 228.789062 168.363281 C 228.789062 170.972656 224.878906 170.972656 224.878906 168.363281 C 224.878906 165.757812 228.789062 165.757812 228.789062 168.363281 \"/>\n",
       "<path style=\"fill-rule:nonzero;fill:rgb(97.254902%,46.27451%,42.745098%);fill-opacity:1;stroke-width:0.708661;stroke-linecap:round;stroke-linejoin:round;stroke:rgb(97.254902%,46.27451%,42.745098%);stroke-opacity:1;stroke-miterlimit:10;\" d=\"M 222.476562 222.964844 C 222.476562 225.570312 218.566406 225.570312 218.566406 222.964844 C 218.566406 220.355469 222.476562 220.355469 222.476562 222.964844 \"/>\n",
       "<path style=\"fill-rule:nonzero;fill:rgb(48.627451%,68.235294%,0%);fill-opacity:1;stroke-width:0.708661;stroke-linecap:round;stroke-linejoin:round;stroke:rgb(48.627451%,68.235294%,0%);stroke-opacity:1;stroke-miterlimit:10;\" d=\"M 80.453125 332.160156 C 80.453125 334.765625 76.542969 334.765625 76.542969 332.160156 C 76.542969 329.554688 80.453125 329.554688 80.453125 332.160156 \"/>\n",
       "<path style=\"fill-rule:nonzero;fill:rgb(48.627451%,68.235294%,0%);fill-opacity:1;stroke-width:0.708661;stroke-linecap:round;stroke-linejoin:round;stroke:rgb(48.627451%,68.235294%,0%);stroke-opacity:1;stroke-miterlimit:10;\" d=\"M 77.296875 350.359375 C 77.296875 352.964844 73.386719 352.964844 73.386719 350.359375 C 73.386719 347.753906 77.296875 347.753906 77.296875 350.359375 \"/>\n",
       "<path style=\"fill-rule:nonzero;fill:rgb(48.627451%,68.235294%,0%);fill-opacity:1;stroke-width:0.708661;stroke-linecap:round;stroke-linejoin:round;stroke:rgb(48.627451%,68.235294%,0%);stroke-opacity:1;stroke-miterlimit:10;\" d=\"M 70.984375 368.558594 C 70.984375 371.167969 67.074219 371.167969 67.074219 368.558594 C 67.074219 365.953125 70.984375 365.953125 70.984375 368.558594 \"/>\n",
       "<path style=\"fill-rule:nonzero;fill:rgb(48.627451%,68.235294%,0%);fill-opacity:1;stroke-width:0.708661;stroke-linecap:round;stroke-linejoin:round;stroke:rgb(48.627451%,68.235294%,0%);stroke-opacity:1;stroke-miterlimit:10;\" d=\"M 70.984375 359.460938 C 70.984375 362.066406 67.074219 362.066406 67.074219 359.460938 C 67.074219 356.855469 70.984375 356.855469 70.984375 359.460938 \"/>\n",
       "<path style=\"fill-rule:nonzero;fill:rgb(48.627451%,68.235294%,0%);fill-opacity:1;stroke-width:0.708661;stroke-linecap:round;stroke-linejoin:round;stroke:rgb(48.627451%,68.235294%,0%);stroke-opacity:1;stroke-miterlimit:10;\" d=\"M 64.671875 368.558594 C 64.671875 371.167969 60.761719 371.167969 60.761719 368.558594 C 60.761719 365.953125 64.671875 365.953125 64.671875 368.558594 \"/>\n",
       "<path style=\"fill-rule:nonzero;fill:rgb(97.254902%,46.27451%,42.745098%);fill-opacity:1;stroke-width:0.708661;stroke-linecap:round;stroke-linejoin:round;stroke:rgb(97.254902%,46.27451%,42.745098%);stroke-opacity:1;stroke-miterlimit:10;\" d=\"M 225.632812 250.261719 C 225.632812 252.871094 221.722656 252.871094 221.722656 250.261719 C 221.722656 247.65625 225.632812 247.65625 225.632812 250.261719 \"/>\n",
       "<path style=\"fill-rule:nonzero;fill:rgb(97.254902%,46.27451%,42.745098%);fill-opacity:1;stroke-width:0.708661;stroke-linecap:round;stroke-linejoin:round;stroke:rgb(97.254902%,46.27451%,42.745098%);stroke-opacity:1;stroke-miterlimit:10;\" d=\"M 216.164062 222.964844 C 216.164062 225.570312 212.253906 225.570312 212.253906 222.964844 C 212.253906 220.355469 216.164062 220.355469 216.164062 222.964844 \"/>\n",
       "<path style=\"fill-rule:nonzero;fill:rgb(97.254902%,46.27451%,42.745098%);fill-opacity:1;stroke-width:0.708661;stroke-linecap:round;stroke-linejoin:round;stroke:rgb(97.254902%,46.27451%,42.745098%);stroke-opacity:1;stroke-miterlimit:10;\" d=\"M 206.695312 268.460938 C 206.695312 271.070312 202.785156 271.070312 202.785156 268.460938 C 202.785156 265.855469 206.695312 265.855469 206.695312 268.460938 \"/>\n",
       "<path style=\"fill-rule:nonzero;fill:rgb(97.254902%,46.27451%,42.745098%);fill-opacity:1;stroke-width:0.708661;stroke-linecap:round;stroke-linejoin:round;stroke:rgb(97.254902%,46.27451%,42.745098%);stroke-opacity:1;stroke-miterlimit:10;\" d=\"M 216.164062 250.261719 C 216.164062 252.871094 212.253906 252.871094 212.253906 250.261719 C 212.253906 247.65625 216.164062 247.65625 216.164062 250.261719 \"/>\n",
       "<path style=\"fill-rule:nonzero;fill:rgb(97.254902%,46.27451%,42.745098%);fill-opacity:1;stroke-width:0.708661;stroke-linecap:round;stroke-linejoin:round;stroke:rgb(97.254902%,46.27451%,42.745098%);stroke-opacity:1;stroke-miterlimit:10;\" d=\"M 187.757812 259.363281 C 187.757812 261.96875 183.847656 261.96875 183.847656 259.363281 C 183.847656 256.757812 187.757812 256.757812 187.757812 259.363281 \"/>\n",
       "<path style=\"fill-rule:nonzero;fill:rgb(97.254902%,46.27451%,42.745098%);fill-opacity:1;stroke-width:0.708661;stroke-linecap:round;stroke-linejoin:round;stroke:rgb(97.254902%,46.27451%,42.745098%);stroke-opacity:1;stroke-miterlimit:10;\" d=\"M 203.539062 232.0625 C 203.539062 234.667969 199.628906 234.667969 199.628906 232.0625 C 199.628906 229.457031 203.539062 229.457031 203.539062 232.0625 \"/>\n",
       "<path style=\"fill-rule:nonzero;fill:rgb(97.254902%,46.27451%,42.745098%);fill-opacity:1;stroke-width:0.708661;stroke-linecap:round;stroke-linejoin:round;stroke:rgb(97.254902%,46.27451%,42.745098%);stroke-opacity:1;stroke-miterlimit:10;\" d=\"M 184.601562 204.765625 C 184.601562 207.371094 180.691406 207.371094 180.691406 204.765625 C 180.691406 202.15625 184.601562 202.15625 184.601562 204.765625 \"/>\n",
       "<path style=\"fill-rule:nonzero;fill:rgb(97.254902%,46.27451%,42.745098%);fill-opacity:1;stroke-width:0.708661;stroke-linecap:round;stroke-linejoin:round;stroke:rgb(97.254902%,46.27451%,42.745098%);stroke-opacity:1;stroke-miterlimit:10;\" d=\"M 190.914062 195.664062 C 190.914062 198.269531 187.003906 198.269531 187.003906 195.664062 C 187.003906 193.058594 190.914062 193.058594 190.914062 195.664062 \"/>\n",
       "<path style=\"fill-rule:nonzero;fill:rgb(97.254902%,46.27451%,42.745098%);fill-opacity:1;stroke-width:0.708661;stroke-linecap:round;stroke-linejoin:round;stroke:rgb(97.254902%,46.27451%,42.745098%);stroke-opacity:1;stroke-miterlimit:10;\" d=\"M 190.914062 204.765625 C 190.914062 207.371094 187.003906 207.371094 187.003906 204.765625 C 187.003906 202.15625 190.914062 202.15625 190.914062 204.765625 \"/>\n",
       "<path style=\"fill-rule:nonzero;fill:rgb(97.254902%,46.27451%,42.745098%);fill-opacity:1;stroke-width:0.708661;stroke-linecap:round;stroke-linejoin:round;stroke:rgb(97.254902%,46.27451%,42.745098%);stroke-opacity:1;stroke-miterlimit:10;\" d=\"M 209.851562 213.863281 C 209.851562 216.46875 205.941406 216.46875 205.941406 213.863281 C 205.941406 211.257812 209.851562 211.257812 209.851562 213.863281 \"/>\n",
       "<path style=\"fill-rule:nonzero;fill:rgb(97.254902%,46.27451%,42.745098%);fill-opacity:1;stroke-width:0.708661;stroke-linecap:round;stroke-linejoin:round;stroke:rgb(97.254902%,46.27451%,42.745098%);stroke-opacity:1;stroke-miterlimit:10;\" d=\"M 200.382812 213.863281 C 200.382812 216.46875 196.472656 216.46875 196.472656 213.863281 C 196.472656 211.257812 200.382812 211.257812 200.382812 213.863281 \"/>\n",
       "<path style=\"fill-rule:nonzero;fill:rgb(97.254902%,46.27451%,42.745098%);fill-opacity:1;stroke-width:0.708661;stroke-linecap:round;stroke-linejoin:round;stroke:rgb(97.254902%,46.27451%,42.745098%);stroke-opacity:1;stroke-miterlimit:10;\" d=\"M 200.382812 222.964844 C 200.382812 225.570312 196.472656 225.570312 196.472656 222.964844 C 196.472656 220.355469 200.382812 220.355469 200.382812 222.964844 \"/>\n",
       "<path style=\"fill-rule:nonzero;fill:rgb(97.254902%,46.27451%,42.745098%);fill-opacity:1;stroke-width:0.708661;stroke-linecap:round;stroke-linejoin:round;stroke:rgb(97.254902%,46.27451%,42.745098%);stroke-opacity:1;stroke-miterlimit:10;\" d=\"M 197.226562 213.863281 C 197.226562 216.46875 193.316406 216.46875 193.316406 213.863281 C 193.316406 211.257812 197.226562 211.257812 197.226562 213.863281 \"/>\n",
       "<path style=\"fill-rule:nonzero;fill:rgb(97.254902%,46.27451%,42.745098%);fill-opacity:1;stroke-width:0.708661;stroke-linecap:round;stroke-linejoin:round;stroke:rgb(97.254902%,46.27451%,42.745098%);stroke-opacity:1;stroke-miterlimit:10;\" d=\"M 190.914062 222.964844 C 190.914062 225.570312 187.003906 225.570312 187.003906 222.964844 C 187.003906 220.355469 190.914062 220.355469 190.914062 222.964844 \"/>\n",
       "<path style=\"fill-rule:nonzero;fill:rgb(97.254902%,46.27451%,42.745098%);fill-opacity:1;stroke-width:0.708661;stroke-linecap:round;stroke-linejoin:round;stroke:rgb(97.254902%,46.27451%,42.745098%);stroke-opacity:1;stroke-miterlimit:10;\" d=\"M 165.667969 232.0625 C 165.667969 234.667969 161.757812 234.667969 161.757812 232.0625 C 161.757812 229.457031 165.667969 229.457031 165.667969 232.0625 \"/>\n",
       "<path style=\"fill-rule:nonzero;fill:rgb(97.254902%,46.27451%,42.745098%);fill-opacity:1;stroke-width:0.708661;stroke-linecap:round;stroke-linejoin:round;stroke:rgb(97.254902%,46.27451%,42.745098%);stroke-opacity:1;stroke-miterlimit:10;\" d=\"M 213.007812 204.765625 C 213.007812 207.371094 209.097656 207.371094 209.097656 204.765625 C 209.097656 202.15625 213.007812 202.15625 213.007812 204.765625 \"/>\n",
       "<path style=\"fill-rule:nonzero;fill:rgb(0%,74.901961%,76.862745%);fill-opacity:1;stroke-width:0.708661;stroke-linecap:round;stroke-linejoin:round;stroke:rgb(0%,74.901961%,76.862745%);stroke-opacity:1;stroke-miterlimit:10;\" d=\"M 484.429688 77.367188 C 484.429688 79.972656 480.519531 79.972656 480.519531 77.367188 C 480.519531 74.761719 484.429688 74.761719 484.429688 77.367188 \"/>\n",
       "<path style=\"fill-rule:nonzero;fill:rgb(0%,74.901961%,76.862745%);fill-opacity:1;stroke-width:0.708661;stroke-linecap:round;stroke-linejoin:round;stroke:rgb(0%,74.901961%,76.862745%);stroke-opacity:1;stroke-miterlimit:10;\" d=\"M 506.523438 59.167969 C 506.523438 61.773438 502.613281 61.773438 502.613281 59.167969 C 502.613281 56.5625 506.523438 56.5625 506.523438 59.167969 \"/>\n",
       "<path style=\"fill-rule:nonzero;fill:rgb(0%,74.901961%,76.862745%);fill-opacity:1;stroke-width:0.708661;stroke-linecap:round;stroke-linejoin:round;stroke:rgb(0%,74.901961%,76.862745%);stroke-opacity:1;stroke-miterlimit:10;\" d=\"M 515.992188 22.769531 C 515.992188 25.375 512.082031 25.375 512.082031 22.769531 C 512.082031 20.164062 515.992188 20.164062 515.992188 22.769531 \"/>\n",
       "<path style=\"fill-rule:nonzero;fill:rgb(0%,74.901961%,76.862745%);fill-opacity:1;stroke-width:0.708661;stroke-linecap:round;stroke-linejoin:round;stroke:rgb(0%,74.901961%,76.862745%);stroke-opacity:1;stroke-miterlimit:10;\" d=\"M 266.660156 213.863281 C 266.660156 216.46875 262.75 216.46875 262.75 213.863281 C 262.75 211.257812 266.660156 211.257812 266.660156 213.863281 \"/>\n",
       "<path style=\"fill-rule:nonzero;fill:rgb(0%,74.901961%,76.862745%);fill-opacity:1;stroke-width:0.708661;stroke-linecap:round;stroke-linejoin:round;stroke:rgb(0%,74.901961%,76.862745%);stroke-opacity:1;stroke-miterlimit:10;\" d=\"M 165.667969 286.660156 C 165.667969 289.269531 161.757812 289.269531 161.757812 286.660156 C 161.757812 284.054688 165.667969 284.054688 165.667969 286.660156 \"/>\n",
       "<path style=\"fill-rule:nonzero;fill:rgb(0%,74.901961%,76.862745%);fill-opacity:1;stroke-width:0.708661;stroke-linecap:round;stroke-linejoin:round;stroke:rgb(0%,74.901961%,76.862745%);stroke-opacity:1;stroke-miterlimit:10;\" d=\"M 197.226562 259.363281 C 197.226562 261.96875 193.316406 261.96875 193.316406 259.363281 C 193.316406 256.757812 197.226562 256.757812 197.226562 259.363281 \"/>\n",
       "<path style=\"fill-rule:nonzero;fill:rgb(0%,74.901961%,76.862745%);fill-opacity:1;stroke-width:0.708661;stroke-linecap:round;stroke-linejoin:round;stroke:rgb(0%,74.901961%,76.862745%);stroke-opacity:1;stroke-miterlimit:10;\" d=\"M 194.070312 250.261719 C 194.070312 252.871094 190.160156 252.871094 190.160156 250.261719 C 190.160156 247.65625 194.070312 247.65625 194.070312 250.261719 \"/>\n",
       "<path style=\"fill-rule:nonzero;fill:rgb(0%,74.901961%,76.862745%);fill-opacity:1;stroke-width:0.708661;stroke-linecap:round;stroke-linejoin:round;stroke:rgb(0%,74.901961%,76.862745%);stroke-opacity:1;stroke-miterlimit:10;\" d=\"M 276.128906 186.566406 C 276.128906 189.171875 272.21875 189.171875 272.21875 186.566406 C 272.21875 183.957031 276.128906 183.957031 276.128906 186.566406 \"/>\n",
       "<path style=\"fill-rule:nonzero;fill:rgb(0%,74.901961%,76.862745%);fill-opacity:1;stroke-width:0.708661;stroke-linecap:round;stroke-linejoin:round;stroke:rgb(0%,74.901961%,76.862745%);stroke-opacity:1;stroke-miterlimit:10;\" d=\"M 203.539062 241.164062 C 203.539062 243.769531 199.628906 243.769531 199.628906 241.164062 C 199.628906 238.558594 203.539062 238.558594 203.539062 241.164062 \"/>\n",
       "<path style=\"fill-rule:nonzero;fill:rgb(0%,74.901961%,76.862745%);fill-opacity:1;stroke-width:0.708661;stroke-linecap:round;stroke-linejoin:round;stroke:rgb(0%,74.901961%,76.862745%);stroke-opacity:1;stroke-miterlimit:10;\" d=\"M 244.566406 213.863281 C 244.566406 216.46875 240.660156 216.46875 240.660156 213.863281 C 240.660156 211.257812 244.566406 211.257812 244.566406 213.863281 \"/>\n",
       "<path style=\"fill-rule:nonzero;fill:rgb(0%,74.901961%,76.862745%);fill-opacity:1;stroke-width:0.708661;stroke-linecap:round;stroke-linejoin:round;stroke:rgb(0%,74.901961%,76.862745%);stroke-opacity:1;stroke-miterlimit:10;\" d=\"M 168.824219 204.765625 C 168.824219 207.371094 164.914062 207.371094 164.914062 204.765625 C 164.914062 202.15625 168.824219 202.15625 168.824219 204.765625 \"/>\n",
       "<path style=\"fill-rule:nonzero;fill:rgb(0%,74.901961%,76.862745%);fill-opacity:1;stroke-width:0.708661;stroke-linecap:round;stroke-linejoin:round;stroke:rgb(0%,74.901961%,76.862745%);stroke-opacity:1;stroke-miterlimit:10;\" d=\"M 181.445312 250.261719 C 181.445312 252.871094 177.535156 252.871094 177.535156 250.261719 C 177.535156 247.65625 181.445312 247.65625 181.445312 250.261719 \"/>\n",
       "<path style=\"fill-rule:nonzero;fill:rgb(0%,74.901961%,76.862745%);fill-opacity:1;stroke-width:0.708661;stroke-linecap:round;stroke-linejoin:round;stroke:rgb(0%,74.901961%,76.862745%);stroke-opacity:1;stroke-miterlimit:10;\" d=\"M 197.226562 250.261719 C 197.226562 252.871094 193.316406 252.871094 193.316406 250.261719 C 193.316406 247.65625 197.226562 247.65625 197.226562 250.261719 \"/>\n",
       "<path style=\"fill-rule:nonzero;fill:rgb(0%,74.901961%,76.862745%);fill-opacity:1;stroke-width:0.708661;stroke-linecap:round;stroke-linejoin:round;stroke:rgb(0%,74.901961%,76.862745%);stroke-opacity:1;stroke-miterlimit:10;\" d=\"M 187.757812 232.0625 C 187.757812 234.667969 183.847656 234.667969 183.847656 232.0625 C 183.847656 229.457031 187.757812 229.457031 187.757812 232.0625 \"/>\n",
       "<path style=\"fill-rule:nonzero;fill:rgb(0%,74.901961%,76.862745%);fill-opacity:1;stroke-width:0.708661;stroke-linecap:round;stroke-linejoin:round;stroke:rgb(0%,74.901961%,76.862745%);stroke-opacity:1;stroke-miterlimit:10;\" d=\"M 194.070312 241.164062 C 194.070312 243.769531 190.160156 243.769531 190.160156 241.164062 C 190.160156 238.558594 194.070312 238.558594 194.070312 241.164062 \"/>\n",
       "<path style=\"fill-rule:nonzero;fill:rgb(0%,74.901961%,76.862745%);fill-opacity:1;stroke-width:0.708661;stroke-linecap:round;stroke-linejoin:round;stroke:rgb(0%,74.901961%,76.862745%);stroke-opacity:1;stroke-miterlimit:10;\" d=\"M 171.976562 277.5625 C 171.976562 280.167969 168.070312 280.167969 168.070312 277.5625 C 168.070312 274.957031 171.976562 274.957031 171.976562 277.5625 \"/>\n",
       "<path style=\"fill-rule:nonzero;fill:rgb(0%,74.901961%,76.862745%);fill-opacity:1;stroke-width:0.708661;stroke-linecap:round;stroke-linejoin:round;stroke:rgb(0%,74.901961%,76.862745%);stroke-opacity:1;stroke-miterlimit:10;\" d=\"M 187.757812 250.261719 C 187.757812 252.871094 183.847656 252.871094 183.847656 250.261719 C 183.847656 247.65625 187.757812 247.65625 187.757812 250.261719 \"/>\n",
       "<path style=\"fill-rule:nonzero;fill:rgb(0%,74.901961%,76.862745%);fill-opacity:1;stroke-width:0.708661;stroke-linecap:round;stroke-linejoin:round;stroke:rgb(0%,74.901961%,76.862745%);stroke-opacity:1;stroke-miterlimit:10;\" d=\"M 228.789062 204.765625 C 228.789062 207.371094 224.878906 207.371094 224.878906 204.765625 C 224.878906 202.15625 228.789062 202.15625 228.789062 204.765625 \"/>\n",
       "<path style=\"fill-rule:nonzero;fill:rgb(0%,74.901961%,76.862745%);fill-opacity:1;stroke-width:0.708661;stroke-linecap:round;stroke-linejoin:round;stroke:rgb(0%,74.901961%,76.862745%);stroke-opacity:1;stroke-miterlimit:10;\" d=\"M 187.757812 241.164062 C 187.757812 243.769531 183.847656 243.769531 183.847656 241.164062 C 183.847656 238.558594 187.757812 238.558594 187.757812 241.164062 \"/>\n",
       "<path style=\"fill-rule:nonzero;fill:rgb(78.039216%,48.627451%,100%);fill-opacity:1;stroke-width:0.708661;stroke-linecap:round;stroke-linejoin:round;stroke:rgb(78.039216%,48.627451%,100%);stroke-opacity:1;stroke-miterlimit:10;\" d=\"M 250.878906 241.164062 C 250.878906 243.769531 246.972656 243.769531 246.972656 241.164062 C 246.972656 238.558594 250.878906 238.558594 250.878906 241.164062 \"/>\n",
       "<path style=\"fill-rule:nonzero;fill:rgb(78.039216%,48.627451%,100%);fill-opacity:1;stroke-width:0.708661;stroke-linecap:round;stroke-linejoin:round;stroke:rgb(78.039216%,48.627451%,100%);stroke-opacity:1;stroke-miterlimit:10;\" d=\"M 260.347656 232.0625 C 260.347656 234.667969 256.4375 234.667969 256.4375 232.0625 C 256.4375 229.457031 260.347656 229.457031 260.347656 232.0625 \"/>\n",
       "<path style=\"fill-rule:nonzero;fill:rgb(78.039216%,48.627451%,100%);fill-opacity:1;stroke-width:0.708661;stroke-linecap:round;stroke-linejoin:round;stroke:rgb(78.039216%,48.627451%,100%);stroke-opacity:1;stroke-miterlimit:10;\" d=\"M 238.257812 241.164062 C 238.257812 243.769531 234.347656 243.769531 234.347656 241.164062 C 234.347656 238.558594 238.257812 238.558594 238.257812 241.164062 \"/>\n",
       "<path style=\"fill-rule:nonzero;fill:rgb(78.039216%,48.627451%,100%);fill-opacity:1;stroke-width:0.708661;stroke-linecap:round;stroke-linejoin:round;stroke:rgb(78.039216%,48.627451%,100%);stroke-opacity:1;stroke-miterlimit:10;\" d=\"M 285.597656 232.0625 C 285.597656 234.667969 281.6875 234.667969 281.6875 232.0625 C 281.6875 229.457031 285.597656 229.457031 285.597656 232.0625 \"/>\n",
       "<path style=\"fill-rule:nonzero;fill:rgb(78.039216%,48.627451%,100%);fill-opacity:1;stroke-width:0.708661;stroke-linecap:round;stroke-linejoin:round;stroke:rgb(78.039216%,48.627451%,100%);stroke-opacity:1;stroke-miterlimit:10;\" d=\"M 254.035156 232.0625 C 254.035156 234.667969 250.125 234.667969 250.125 232.0625 C 250.125 229.457031 254.035156 229.457031 254.035156 232.0625 \"/>\n",
       "<path style=\"fill-rule:nonzero;fill:rgb(78.039216%,48.627451%,100%);fill-opacity:1;stroke-width:0.708661;stroke-linecap:round;stroke-linejoin:round;stroke:rgb(78.039216%,48.627451%,100%);stroke-opacity:1;stroke-miterlimit:10;\" d=\"M 219.320312 232.0625 C 219.320312 234.667969 215.410156 234.667969 215.410156 232.0625 C 215.410156 229.457031 219.320312 229.457031 219.320312 232.0625 \"/>\n",
       "<path style=\"fill-rule:nonzero;fill:rgb(78.039216%,48.627451%,100%);fill-opacity:1;stroke-width:0.708661;stroke-linecap:round;stroke-linejoin:round;stroke:rgb(78.039216%,48.627451%,100%);stroke-opacity:1;stroke-miterlimit:10;\" d=\"M 153.042969 368.558594 C 153.042969 371.167969 149.132812 371.167969 149.132812 368.558594 C 149.132812 365.953125 153.042969 365.953125 153.042969 368.558594 \"/>\n",
       "<path style=\"fill-rule:nonzero;fill:rgb(78.039216%,48.627451%,100%);fill-opacity:1;stroke-width:0.708661;stroke-linecap:round;stroke-linejoin:round;stroke:rgb(78.039216%,48.627451%,100%);stroke-opacity:1;stroke-miterlimit:10;\" d=\"M 149.886719 350.359375 C 149.886719 352.964844 145.976562 352.964844 145.976562 350.359375 C 145.976562 347.753906 149.886719 347.753906 149.886719 350.359375 \"/>\n",
       "<path style=\"fill-rule:nonzero;fill:rgb(78.039216%,48.627451%,100%);fill-opacity:1;stroke-width:0.708661;stroke-linecap:round;stroke-linejoin:round;stroke:rgb(78.039216%,48.627451%,100%);stroke-opacity:1;stroke-miterlimit:10;\" d=\"M 127.792969 350.359375 C 127.792969 352.964844 123.882812 352.964844 123.882812 350.359375 C 123.882812 347.753906 127.792969 347.753906 127.792969 350.359375 \"/>\n",
       "<path style=\"fill-rule:nonzero;fill:rgb(78.039216%,48.627451%,100%);fill-opacity:1;stroke-width:0.708661;stroke-linecap:round;stroke-linejoin:round;stroke:rgb(78.039216%,48.627451%,100%);stroke-opacity:1;stroke-miterlimit:10;\" d=\"M 130.949219 359.460938 C 130.949219 362.066406 127.039062 362.066406 127.039062 359.460938 C 127.039062 356.855469 130.949219 356.855469 130.949219 359.460938 \"/>\n",
       "<path style=\"fill-rule:nonzero;fill:rgb(78.039216%,48.627451%,100%);fill-opacity:1;stroke-width:0.708661;stroke-linecap:round;stroke-linejoin:round;stroke:rgb(78.039216%,48.627451%,100%);stroke-opacity:1;stroke-miterlimit:10;\" d=\"M 134.105469 350.359375 C 134.105469 352.964844 130.195312 352.964844 130.195312 350.359375 C 130.195312 347.753906 134.105469 347.753906 134.105469 350.359375 \"/>\n",
       "<path style=\"fill-rule:nonzero;fill:rgb(78.039216%,48.627451%,100%);fill-opacity:1;stroke-width:0.708661;stroke-linecap:round;stroke-linejoin:round;stroke:rgb(78.039216%,48.627451%,100%);stroke-opacity:1;stroke-miterlimit:10;\" d=\"M 127.792969 341.261719 C 127.792969 343.867188 123.882812 343.867188 123.882812 341.261719 C 123.882812 338.652344 127.792969 338.652344 127.792969 341.261719 \"/>\n",
       "<path style=\"fill-rule:nonzero;fill:rgb(78.039216%,48.627451%,100%);fill-opacity:1;stroke-width:0.708661;stroke-linecap:round;stroke-linejoin:round;stroke:rgb(78.039216%,48.627451%,100%);stroke-opacity:1;stroke-miterlimit:10;\" d=\"M 127.792969 323.0625 C 127.792969 325.667969 123.882812 325.667969 123.882812 323.0625 C 123.882812 320.453125 127.792969 320.453125 127.792969 323.0625 \"/>\n",
       "<path style=\"fill-rule:nonzero;fill:rgb(78.039216%,48.627451%,100%);fill-opacity:1;stroke-width:0.708661;stroke-linecap:round;stroke-linejoin:round;stroke:rgb(78.039216%,48.627451%,100%);stroke-opacity:1;stroke-miterlimit:10;\" d=\"M 127.792969 359.460938 C 127.792969 362.066406 123.882812 362.066406 123.882812 359.460938 C 123.882812 356.855469 127.792969 356.855469 127.792969 359.460938 \"/>\n",
       "<path style=\"fill-rule:nonzero;fill:rgb(78.039216%,48.627451%,100%);fill-opacity:1;stroke-width:0.708661;stroke-linecap:round;stroke-linejoin:round;stroke:rgb(78.039216%,48.627451%,100%);stroke-opacity:1;stroke-miterlimit:10;\" d=\"M 184.601562 304.863281 C 184.601562 307.46875 180.691406 307.46875 180.691406 304.863281 C 180.691406 302.253906 184.601562 302.253906 184.601562 304.863281 \"/>\n",
       "<path style=\"fill-rule:nonzero;fill:rgb(78.039216%,48.627451%,100%);fill-opacity:1;stroke-width:0.708661;stroke-linecap:round;stroke-linejoin:round;stroke:rgb(78.039216%,48.627451%,100%);stroke-opacity:1;stroke-miterlimit:10;\" d=\"M 130.949219 341.261719 C 130.949219 343.867188 127.039062 343.867188 127.039062 341.261719 C 127.039062 338.652344 130.949219 338.652344 130.949219 341.261719 \"/>\n",
       "<path style=\"fill:none;stroke-width:1.066978;stroke-linecap:butt;stroke-linejoin:round;stroke:rgb(0%,0%,0%);stroke-opacity:1;stroke-miterlimit:10;\" d=\"M 253.660156 131.964844 L 253.644531 131.390625 L 253.597656 130.8125 L 253.515625 130.242188 L 253.40625 129.679688 L 253.265625 129.125 L 253.09375 128.585938 L 252.894531 128.054688 L 252.664062 127.542969 L 252.40625 127.046875 L 252.125 126.570312 L 251.8125 126.117188 L 251.480469 125.6875 L 251.125 125.28125 L 250.746094 124.902344 L 250.347656 124.554688 L 249.929688 124.234375 L 249.496094 123.945312 L 249.046875 123.6875 L 248.585938 123.464844 L 248.113281 123.277344 L 247.628906 123.121094 L 247.140625 123.003906 L 246.644531 122.921875 L 246.144531 122.875 L 245.644531 122.867188 L 245.144531 122.894531 L 244.648438 122.957031 L 244.152344 123.058594 L 243.667969 123.195312 L 243.1875 123.367188 L 242.722656 123.574219 L 242.265625 123.8125 L 241.824219 124.085938 L 241.398438 124.390625 L 240.992188 124.726562 L 240.601562 125.089844 L 240.234375 125.480469 L 239.890625 125.898438 L 239.566406 126.339844 L 239.269531 126.804688 L 239 127.292969 L 238.757812 127.796875 L 238.542969 128.316406 L 238.355469 128.855469 L 238.199219 129.402344 L 238.074219 129.960938 L 237.976562 130.527344 L 237.914062 131.101562 L 237.882812 131.675781 L 237.882812 132.253906 L 237.914062 132.832031 L 237.976562 133.402344 L 238.074219 133.972656 L 238.199219 134.53125 L 238.355469 135.078125 L 238.542969 135.613281 L 238.757812 136.136719 L 239 136.640625 L 239.269531 137.125 L 239.566406 137.589844 L 239.890625 138.035156 L 240.234375 138.453125 L 240.601562 138.84375 L 240.992188 139.207031 L 241.398438 139.542969 L 241.824219 139.847656 L 242.265625 140.121094 L 242.722656 140.359375 L 243.1875 140.566406 L 243.667969 140.738281 L 244.152344 140.871094 L 244.648438 140.972656 L 245.144531 141.039062 L 245.644531 141.066406 L 246.144531 141.054688 L 246.644531 141.011719 L 247.140625 140.925781 L 247.628906 140.808594 L 248.113281 140.65625 L 248.585938 140.464844 L 249.046875 140.242188 L 249.496094 139.988281 L 249.929688 139.699219 L 250.347656 139.378906 L 250.746094 139.027344 L 251.125 138.652344 L 251.480469 138.246094 L 251.8125 137.816406 L 252.125 137.363281 L 252.40625 136.886719 L 252.664062 136.390625 L 252.894531 135.878906 L 253.09375 135.347656 L 253.265625 134.804688 L 253.40625 134.25 L 253.515625 133.6875 L 253.597656 133.117188 L 253.644531 132.542969 L 253.660156 131.964844 \"/>\n",
       "<g style=\"fill:rgb(0%,0%,0%);fill-opacity:1;\">\n",
       "  <use xlink:href=\"#glyph0-1\" x=\"228.566406\" y=\"126.860352\"/>\n",
       "</g>\n",
       "<g style=\"fill:rgb(30.196078%,30.196078%,30.196078%);fill-opacity:1;\">\n",
       "  <use xlink:href=\"#glyph1-1\" x=\"26.21875\" y=\"355.84375\"/>\n",
       "</g>\n",
       "<g style=\"fill:rgb(30.196078%,30.196078%,30.196078%);fill-opacity:1;\">\n",
       "  <use xlink:href=\"#glyph1-2\" x=\"26.21875\" y=\"264.847656\"/>\n",
       "</g>\n",
       "<g style=\"fill:rgb(30.196078%,30.196078%,30.196078%);fill-opacity:1;\">\n",
       "  <use xlink:href=\"#glyph1-3\" x=\"26.21875\" y=\"173.847656\"/>\n",
       "</g>\n",
       "<g style=\"fill:rgb(30.196078%,30.196078%,30.196078%);fill-opacity:1;\">\n",
       "  <use xlink:href=\"#glyph1-4\" x=\"26.21875\" y=\"82.851562\"/>\n",
       "</g>\n",
       "<path style=\"fill:none;stroke-width:1.066978;stroke-linecap:butt;stroke-linejoin:round;stroke:rgb(20%,20%,20%);stroke-opacity:1;stroke-miterlimit:10;\" d=\"M 37.410156 350.359375 L 40.152344 350.359375 \"/>\n",
       "<path style=\"fill:none;stroke-width:1.066978;stroke-linecap:butt;stroke-linejoin:round;stroke:rgb(20%,20%,20%);stroke-opacity:1;stroke-miterlimit:10;\" d=\"M 37.410156 259.363281 L 40.152344 259.363281 \"/>\n",
       "<path style=\"fill:none;stroke-width:1.066978;stroke-linecap:butt;stroke-linejoin:round;stroke:rgb(20%,20%,20%);stroke-opacity:1;stroke-miterlimit:10;\" d=\"M 37.410156 168.363281 L 40.152344 168.363281 \"/>\n",
       "<path style=\"fill:none;stroke-width:1.066978;stroke-linecap:butt;stroke-linejoin:round;stroke:rgb(20%,20%,20%);stroke-opacity:1;stroke-miterlimit:10;\" d=\"M 37.410156 77.367188 L 40.152344 77.367188 \"/>\n",
       "<path style=\"fill:none;stroke-width:1.066978;stroke-linecap:butt;stroke-linejoin:round;stroke:rgb(20%,20%,20%);stroke-opacity:1;stroke-miterlimit:10;\" d=\"M 100.589844 388.589844 L 100.589844 385.847656 \"/>\n",
       "<path style=\"fill:none;stroke-width:1.066978;stroke-linecap:butt;stroke-linejoin:round;stroke:rgb(20%,20%,20%);stroke-opacity:1;stroke-miterlimit:10;\" d=\"M 258.394531 388.589844 L 258.394531 385.847656 \"/>\n",
       "<path style=\"fill:none;stroke-width:1.066978;stroke-linecap:butt;stroke-linejoin:round;stroke:rgb(20%,20%,20%);stroke-opacity:1;stroke-miterlimit:10;\" d=\"M 416.199219 388.589844 L 416.199219 385.847656 \"/>\n",
       "<g style=\"fill:rgb(30.196078%,30.196078%,30.196078%);fill-opacity:1;\">\n",
       "  <use xlink:href=\"#glyph1-5\" x=\"87.089844\" y=\"402.265625\"/>\n",
       "  <use xlink:href=\"#glyph1-6\" x=\"96.089844\" y=\"402.265625\"/>\n",
       "  <use xlink:href=\"#glyph1-6\" x=\"105.089844\" y=\"402.265625\"/>\n",
       "</g>\n",
       "<g style=\"fill:rgb(30.196078%,30.196078%,30.196078%);fill-opacity:1;\">\n",
       "  <use xlink:href=\"#glyph1-7\" x=\"244.894531\" y=\"402.265625\"/>\n",
       "  <use xlink:href=\"#glyph1-6\" x=\"253.894531\" y=\"402.265625\"/>\n",
       "  <use xlink:href=\"#glyph1-6\" x=\"262.894531\" y=\"402.265625\"/>\n",
       "</g>\n",
       "<g style=\"fill:rgb(30.196078%,30.196078%,30.196078%);fill-opacity:1;\">\n",
       "  <use xlink:href=\"#glyph1-8\" x=\"402.699219\" y=\"402.265625\"/>\n",
       "  <use xlink:href=\"#glyph1-6\" x=\"411.699219\" y=\"402.265625\"/>\n",
       "  <use xlink:href=\"#glyph1-6\" x=\"420.699219\" y=\"402.265625\"/>\n",
       "</g>\n",
       "<g style=\"fill:rgb(0%,0%,0%);fill-opacity:1;\">\n",
       "  <use xlink:href=\"#glyph2-1\" x=\"226.375\" y=\"421.625\"/>\n",
       "  <use xlink:href=\"#glyph2-2\" x=\"243.375\" y=\"421.625\"/>\n",
       "  <use xlink:href=\"#glyph2-3\" x=\"254.375\" y=\"421.625\"/>\n",
       "  <use xlink:href=\"#glyph2-3\" x=\"264.375\" y=\"421.625\"/>\n",
       "  <use xlink:href=\"#glyph2-4\" x=\"274.375\" y=\"421.625\"/>\n",
       "  <use xlink:href=\"#glyph2-5\" x=\"280.375\" y=\"421.625\"/>\n",
       "  <use xlink:href=\"#glyph2-6\" x=\"287.375\" y=\"421.625\"/>\n",
       "  <use xlink:href=\"#glyph2-7\" x=\"298.375\" y=\"421.625\"/>\n",
       "  <use xlink:href=\"#glyph2-2\" x=\"305.375\" y=\"421.625\"/>\n",
       "  <use xlink:href=\"#glyph2-8\" x=\"316.375\" y=\"421.625\"/>\n",
       "  <use xlink:href=\"#glyph2-3\" x=\"333.375\" y=\"421.625\"/>\n",
       "  <use xlink:href=\"#glyph2-9\" x=\"343.375\" y=\"421.625\"/>\n",
       "</g>\n",
       "<g style=\"fill:rgb(0%,0%,0%);fill-opacity:1;\">\n",
       "  <use xlink:href=\"#glyph3-1\" x=\"18.585938\" y=\"244.664062\"/>\n",
       "  <use xlink:href=\"#glyph3-2\" x=\"18.585938\" y=\"225.664062\"/>\n",
       "  <use xlink:href=\"#glyph3-3\" x=\"18.585938\" y=\"221.664062\"/>\n",
       "  <use xlink:href=\"#glyph3-4\" x=\"18.585938\" y=\"210.664062\"/>\n",
       "  <use xlink:href=\"#glyph3-5\" x=\"18.585938\" y=\"204.664062\"/>\n",
       "  <use xlink:href=\"#glyph3-6\" x=\"18.585938\" y=\"193.664062\"/>\n",
       "  <use xlink:href=\"#glyph3-7\" x=\"18.585938\" y=\"187.664062\"/>\n",
       "  <use xlink:href=\"#glyph3-8\" x=\"18.585938\" y=\"180.664062\"/>\n",
       "  <use xlink:href=\"#glyph3-9\" x=\"18.585938\" y=\"170.664062\"/>\n",
       "  <use xlink:href=\"#glyph3-10\" x=\"18.585938\" y=\"153.664062\"/>\n",
       "</g>\n",
       "<path style=\" stroke:none;fill-rule:nonzero;fill:rgb(100%,100%,100%);fill-opacity:1;\" d=\"M 547.5625 249.683594 L 714.519531 249.683594 L 714.519531 141.640625 L 547.5625 141.640625 Z M 547.5625 249.683594 \"/>\n",
       "<g style=\"fill:rgb(0%,0%,0%);fill-opacity:1;\">\n",
       "  <use xlink:href=\"#glyph2-10\" x=\"553.042969\" y=\"162.230469\"/>\n",
       "  <use xlink:href=\"#glyph2-2\" x=\"567.042969\" y=\"162.230469\"/>\n",
       "  <use xlink:href=\"#glyph2-8\" x=\"578.042969\" y=\"162.230469\"/>\n",
       "  <use xlink:href=\"#glyph2-11\" x=\"595.042969\" y=\"162.230469\"/>\n",
       "  <use xlink:href=\"#glyph2-4\" x=\"606.042969\" y=\"162.230469\"/>\n",
       "  <use xlink:href=\"#glyph2-12\" x=\"612.042969\" y=\"162.230469\"/>\n",
       "  <use xlink:href=\"#glyph2-13\" x=\"623.042969\" y=\"162.230469\"/>\n",
       "  <use xlink:href=\"#glyph2-4\" x=\"629.042969\" y=\"162.230469\"/>\n",
       "  <use xlink:href=\"#glyph2-14\" x=\"635.042969\" y=\"162.230469\"/>\n",
       "  <use xlink:href=\"#glyph2-15\" x=\"641.042969\" y=\"162.230469\"/>\n",
       "  <use xlink:href=\"#glyph2-11\" x=\"652.042969\" y=\"162.230469\"/>\n",
       "  <use xlink:href=\"#glyph2-4\" x=\"663.042969\" y=\"162.230469\"/>\n",
       "  <use xlink:href=\"#glyph2-16\" x=\"669.042969\" y=\"162.230469\"/>\n",
       "  <use xlink:href=\"#glyph2-7\" x=\"681.042969\" y=\"162.230469\"/>\n",
       "  <use xlink:href=\"#glyph2-17\" x=\"688.042969\" y=\"162.230469\"/>\n",
       "  <use xlink:href=\"#glyph2-18\" x=\"699.042969\" y=\"162.230469\"/>\n",
       "  <use xlink:href=\"#glyph2-14\" x=\"703.042969\" y=\"162.230469\"/>\n",
       "</g>\n",
       "<path style=\" stroke:none;fill-rule:nonzero;fill:rgb(94.901961%,94.901961%,94.901961%);fill-opacity:1;\" d=\"M 553.042969 192.367188 L 570.324219 192.367188 L 570.324219 175.085938 L 553.042969 175.085938 Z M 553.042969 192.367188 \"/>\n",
       "<path style=\"fill-rule:nonzero;fill:rgb(97.254902%,46.27451%,42.745098%);fill-opacity:1;stroke-width:0.708661;stroke-linecap:round;stroke-linejoin:round;stroke:rgb(97.254902%,46.27451%,42.745098%);stroke-opacity:1;stroke-miterlimit:10;\" d=\"M 563.636719 183.726562 C 563.636719 186.332031 559.726562 186.332031 559.726562 183.726562 C 559.726562 181.121094 563.636719 181.121094 563.636719 183.726562 \"/>\n",
       "<path style=\" stroke:none;fill-rule:nonzero;fill:rgb(94.901961%,94.901961%,94.901961%);fill-opacity:1;\" d=\"M 553.042969 209.644531 L 570.324219 209.644531 L 570.324219 192.363281 L 553.042969 192.363281 Z M 553.042969 209.644531 \"/>\n",
       "<path style=\"fill-rule:nonzero;fill:rgb(48.627451%,68.235294%,0%);fill-opacity:1;stroke-width:0.708661;stroke-linecap:round;stroke-linejoin:round;stroke:rgb(48.627451%,68.235294%,0%);stroke-opacity:1;stroke-miterlimit:10;\" d=\"M 563.636719 201.003906 C 563.636719 203.613281 559.726562 203.613281 559.726562 201.003906 C 559.726562 198.398438 563.636719 198.398438 563.636719 201.003906 \"/>\n",
       "<path style=\" stroke:none;fill-rule:nonzero;fill:rgb(94.901961%,94.901961%,94.901961%);fill-opacity:1;\" d=\"M 553.042969 226.925781 L 570.324219 226.925781 L 570.324219 209.644531 L 553.042969 209.644531 Z M 553.042969 226.925781 \"/>\n",
       "<path style=\"fill-rule:nonzero;fill:rgb(0%,74.901961%,76.862745%);fill-opacity:1;stroke-width:0.708661;stroke-linecap:round;stroke-linejoin:round;stroke:rgb(0%,74.901961%,76.862745%);stroke-opacity:1;stroke-miterlimit:10;\" d=\"M 563.636719 218.285156 C 563.636719 220.890625 559.726562 220.890625 559.726562 218.285156 C 559.726562 215.679688 563.636719 215.679688 563.636719 218.285156 \"/>\n",
       "<path style=\" stroke:none;fill-rule:nonzero;fill:rgb(94.901961%,94.901961%,94.901961%);fill-opacity:1;\" d=\"M 553.042969 244.207031 L 570.324219 244.207031 L 570.324219 226.925781 L 553.042969 226.925781 Z M 553.042969 244.207031 \"/>\n",
       "<path style=\"fill-rule:nonzero;fill:rgb(78.039216%,48.627451%,100%);fill-opacity:1;stroke-width:0.708661;stroke-linecap:round;stroke-linejoin:round;stroke:rgb(78.039216%,48.627451%,100%);stroke-opacity:1;stroke-miterlimit:10;\" d=\"M 563.636719 235.566406 C 563.636719 238.171875 559.726562 238.171875 559.726562 235.566406 C 559.726562 232.960938 563.636719 232.960938 563.636719 235.566406 \"/>\n",
       "<g style=\"fill:rgb(0%,0%,0%);fill-opacity:1;\">\n",
       "  <use xlink:href=\"#glyph1-9\" x=\"580.285156\" y=\"189.210938\"/>\n",
       "  <use xlink:href=\"#glyph1-10\" x=\"589.285156\" y=\"189.210938\"/>\n",
       "  <use xlink:href=\"#glyph1-10\" x=\"598.285156\" y=\"189.210938\"/>\n",
       "  <use xlink:href=\"#glyph1-11\" x=\"607.285156\" y=\"189.210938\"/>\n",
       "  <use xlink:href=\"#glyph1-12\" x=\"611.285156\" y=\"189.210938\"/>\n",
       "</g>\n",
       "<g style=\"fill:rgb(0%,0%,0%);fill-opacity:1;\">\n",
       "  <use xlink:href=\"#glyph1-13\" x=\"580.285156\" y=\"206.488281\"/>\n",
       "  <use xlink:href=\"#glyph1-9\" x=\"593.285156\" y=\"206.488281\"/>\n",
       "  <use xlink:href=\"#glyph1-14\" x=\"602.285156\" y=\"206.488281\"/>\n",
       "  <use xlink:href=\"#glyph1-15\" x=\"611.285156\" y=\"206.488281\"/>\n",
       "  <use xlink:href=\"#glyph1-9\" x=\"620.285156\" y=\"206.488281\"/>\n",
       "  <use xlink:href=\"#glyph1-16\" x=\"629.285156\" y=\"206.488281\"/>\n",
       "  <use xlink:href=\"#glyph1-17\" x=\"634.285156\" y=\"206.488281\"/>\n",
       "  <use xlink:href=\"#glyph1-14\" x=\"638.285156\" y=\"206.488281\"/>\n",
       "</g>\n",
       "<g style=\"fill:rgb(0%,0%,0%);fill-opacity:1;\">\n",
       "  <use xlink:href=\"#glyph1-18\" x=\"580.285156\" y=\"223.769531\"/>\n",
       "  <use xlink:href=\"#glyph1-16\" x=\"589.285156\" y=\"223.769531\"/>\n",
       "  <use xlink:href=\"#glyph1-9\" x=\"594.285156\" y=\"223.769531\"/>\n",
       "  <use xlink:href=\"#glyph1-14\" x=\"603.285156\" y=\"223.769531\"/>\n",
       "  <use xlink:href=\"#glyph1-19\" x=\"612.285156\" y=\"223.769531\"/>\n",
       "  <use xlink:href=\"#glyph1-12\" x=\"621.285156\" y=\"223.769531\"/>\n",
       "</g>\n",
       "<g style=\"fill:rgb(0%,0%,0%);fill-opacity:1;\">\n",
       "  <use xlink:href=\"#glyph1-11\" x=\"580.285156\" y=\"241.050781\"/>\n",
       "  <use xlink:href=\"#glyph1-12\" x=\"584.285156\" y=\"241.050781\"/>\n",
       "  <use xlink:href=\"#glyph1-13\" x=\"593.285156\" y=\"241.050781\"/>\n",
       "  <use xlink:href=\"#glyph1-18\" x=\"606.285156\" y=\"241.050781\"/>\n",
       "  <use xlink:href=\"#glyph1-14\" x=\"615.285156\" y=\"241.050781\"/>\n",
       "</g>\n",
       "</g>\n",
       "</svg>\n"
      ],
      "text/plain": [
       "plot without title"
      ]
     },
     "metadata": {
      "application/pdf": {
       "height": 360,
       "width": 600
      },
      "image/jpeg": {
       "height": 360,
       "width": 600
      },
      "image/png": {
       "height": 360,
       "width": 600
      },
      "image/svg+xml": {
       "height": 360,
       "isolated": true,
       "width": 600
      }
     },
     "output_type": "display_data"
    }
   ],
   "source": [
    "# Run this cell. \n",
    "options(repr.plot.width=10, repr.plot.height=6)\n",
    "point1 <- c(192, 8.4)\n",
    "point2 <- c(180, 8)\n",
    "point44 <- c(194, 7.2)\n",
    "\n",
    "fruit_data |>  \n",
    "    ggplot(aes(x=mass, \n",
    "               y= width, \n",
    "               colour = fruit_name)) +\n",
    "        labs(x = \"Mass (grams)\",\n",
    "             y = \"Width (cm)\",\n",
    "            colour = 'Name of the Fruit') +\n",
    "        geom_point() +\n",
    "        annotate(\"path\", \n",
    "                 x=point1[1] + 5*cos(seq(0,2*pi,length.out=100)),\n",
    "                 y=point1[2] + 0.1*sin(seq(0,2*pi,length.out=100))) +\n",
    "        annotate(\"text\", x = 183, y =  8.5, label = \"1\") +\n",
    "        theme(text = element_text(size = 20))"
   ]
  },
  {
   "cell_type": "markdown",
   "metadata": {
    "deletable": false,
    "editable": false,
    "nbgrader": {
     "cell_type": "markdown",
     "checksum": "52a1e73d0bea41e562332ebf0b42987e",
     "grade": false,
     "grade_id": "cell-63c4bd6e0c9afee9",
     "locked": true,
     "schema_version": 3,
     "solution": false,
     "task": false
    }
   },
   "source": [
    "**Question 1.1** Multiple Choice:\n",
    "<br>{points: 1}\n",
    "\n",
    "Based on the graph generated, what is the `fruit_name` of the closest data point to the one circled?\n",
    "\n",
    "A. apple\n",
    "\n",
    "B. lemon\n",
    "\n",
    "C. mandarin\n",
    "\n",
    "D. orange\n",
    "\n",
    "*Assign your answer to an object called `answer1.1`. Make sure your answer is an uppercase letter and is surrounded by quotation marks (e.g. `\"F\"`).*"
   ]
  },
  {
   "cell_type": "code",
   "execution_count": 23,
   "metadata": {
    "deletable": false,
    "nbgrader": {
     "cell_type": "code",
     "checksum": "50e62322f1288e75b3c923f23152071f",
     "grade": false,
     "grade_id": "cell-b2af8601532fb0b1",
     "locked": false,
     "schema_version": 3,
     "solution": true,
     "task": false
    }
   },
   "outputs": [],
   "source": [
    "# your code here\n",
    "answer1.1 <- \"A\""
   ]
  },
  {
   "cell_type": "code",
   "execution_count": 24,
   "metadata": {
    "deletable": false,
    "editable": false,
    "nbgrader": {
     "cell_type": "code",
     "checksum": "7959e42e6630f4c45df1af4fe4440079",
     "grade": true,
     "grade_id": "cell-3d469d43b37c3c40",
     "locked": true,
     "points": 1,
     "schema_version": 3,
     "solution": false,
     "task": false
    }
   },
   "outputs": [
    {
     "name": "stdout",
     "output_type": "stream",
     "text": [
      "\u001b[32mTest passed\u001b[39m 🎉\n",
      "\u001b[32mTest passed\u001b[39m 🌈\n",
      "[1] \"Success!\"\n"
     ]
    }
   ],
   "source": [
    "test_1.1()"
   ]
  },
  {
   "cell_type": "markdown",
   "metadata": {
    "deletable": false,
    "editable": false,
    "nbgrader": {
     "cell_type": "markdown",
     "checksum": "0c818ef9d59ccba8a4a358235c428605",
     "grade": false,
     "grade_id": "cell-10a0cb2de24a557d",
     "locked": true,
     "schema_version": 3,
     "solution": false,
     "task": false
    }
   },
   "source": [
    "**Question 1.2**\n",
    "<br>{points: 1}\n",
    "\n",
    "Using `mass` and `width`, calculate the distance between the first observation and the second observation.\n",
    "\n",
    "We provide a scaffolding to get you started.\n",
    "\n",
    "*Assign your answer to an object called `fruit_dist_2`.*"
   ]
  },
  {
   "cell_type": "code",
   "execution_count": 26,
   "metadata": {
    "deletable": false,
    "nbgrader": {
     "cell_type": "code",
     "checksum": "476e3a965e4688fd2225725b0d5ac7fd",
     "grade": false,
     "grade_id": "cell-b6995fb3f851dfd1",
     "locked": false,
     "schema_version": 3,
     "solution": true,
     "task": false
    }
   },
   "outputs": [],
   "source": [
    " fruit_dist_2 <- fruit_data |>\n",
    "    slice(1, 2) |> # We use slice to get the first two rows of the fruit dataset\n",
    "    select(mass, width) |>\n",
    "    dist()\n"
   ]
  },
  {
   "cell_type": "code",
   "execution_count": 27,
   "metadata": {
    "deletable": false,
    "editable": false,
    "nbgrader": {
     "cell_type": "code",
     "checksum": "9d330b012d12e597f3b30526d91dae35",
     "grade": true,
     "grade_id": "cell-b985ee138ab89218",
     "locked": true,
     "points": 1,
     "schema_version": 3,
     "solution": false,
     "task": false
    }
   },
   "outputs": [
    {
     "name": "stdout",
     "output_type": "stream",
     "text": [
      "\u001b[32mTest passed\u001b[39m 🌈\n",
      "\u001b[32mTest passed\u001b[39m 🌈\n",
      "[1] \"Success!\"\n"
     ]
    }
   ],
   "source": [
    "test_1.2()"
   ]
  },
  {
   "cell_type": "markdown",
   "metadata": {
    "deletable": false,
    "editable": false,
    "nbgrader": {
     "cell_type": "markdown",
     "checksum": "d2bfb1d68d0f83e30d6b6950cb5c8175",
     "grade": false,
     "grade_id": "cell-1688abd2ff0a21e7",
     "locked": true,
     "schema_version": 3,
     "solution": false,
     "task": false
    }
   },
   "source": [
    "**Question 1.3**\n",
    "<br>{points: 1}\n",
    "\n",
    "Calculate the distance between the first and the **44th observation** in the `fruit` dataset using the `mass` and `width` variables.\n",
    "\n",
    "You can see from the data frame output from the cell below that **observation 44** has `mass` = 194 g and `width` = 7.2 cm.\n",
    "\n",
    "*Assign your answer to an object called `fruit_dist_44`.*"
   ]
  },
  {
   "cell_type": "code",
   "execution_count": 28,
   "metadata": {
    "deletable": false,
    "editable": false,
    "nbgrader": {
     "cell_type": "code",
     "checksum": "64778b9334133deefe3237fd61eb9a36",
     "grade": false,
     "grade_id": "cell-c08d592f4a1618b2",
     "locked": true,
     "schema_version": 3,
     "solution": false,
     "task": false
    }
   },
   "outputs": [
    {
     "data": {
      "text/html": [
       "<table class=\"dataframe\">\n",
       "<caption>A data.frame: 1 × 7</caption>\n",
       "<thead>\n",
       "\t<tr><th scope=col>fruit_label</th><th scope=col>fruit_name</th><th scope=col>fruit_subtype</th><th scope=col>mass</th><th scope=col>width</th><th scope=col>height</th><th scope=col>color_score</th></tr>\n",
       "\t<tr><th scope=col>&lt;int&gt;</th><th scope=col>&lt;fct&gt;</th><th scope=col>&lt;chr&gt;</th><th scope=col>&lt;int&gt;</th><th scope=col>&lt;dbl&gt;</th><th scope=col>&lt;dbl&gt;</th><th scope=col>&lt;dbl&gt;</th></tr>\n",
       "</thead>\n",
       "<tbody>\n",
       "\t<tr><td>4</td><td>lemon</td><td>spanish_belsan</td><td>194</td><td>7.2</td><td>10.3</td><td>0.7</td></tr>\n",
       "</tbody>\n",
       "</table>\n"
      ],
      "text/latex": [
       "A data.frame: 1 × 7\n",
       "\\begin{tabular}{lllllll}\n",
       " fruit\\_label & fruit\\_name & fruit\\_subtype & mass & width & height & color\\_score\\\\\n",
       " <int> & <fct> & <chr> & <int> & <dbl> & <dbl> & <dbl>\\\\\n",
       "\\hline\n",
       "\t 4 & lemon & spanish\\_belsan & 194 & 7.2 & 10.3 & 0.7\\\\\n",
       "\\end{tabular}\n"
      ],
      "text/markdown": [
       "\n",
       "A data.frame: 1 × 7\n",
       "\n",
       "| fruit_label &lt;int&gt; | fruit_name &lt;fct&gt; | fruit_subtype &lt;chr&gt; | mass &lt;int&gt; | width &lt;dbl&gt; | height &lt;dbl&gt; | color_score &lt;dbl&gt; |\n",
       "|---|---|---|---|---|---|---|\n",
       "| 4 | lemon | spanish_belsan | 194 | 7.2 | 10.3 | 0.7 |\n",
       "\n"
      ],
      "text/plain": [
       "  fruit_label fruit_name fruit_subtype  mass width height color_score\n",
       "1 4           lemon      spanish_belsan 194  7.2   10.3   0.7        "
      ]
     },
     "metadata": {},
     "output_type": "display_data"
    },
    {
     "data": {
      "application/pdf": "[encoded data removed]",
      "image/jpeg": "[encoded data removed]",
      "image/png": "[encoded data removed]",
      "image/svg+xml": [
       "<?xml version=\"1.0\" encoding=\"UTF-8\"?>\n",
       "<svg xmlns=\"http://www.w3.org/2000/svg\" xmlns:xlink=\"http://www.w3.org/1999/xlink\" width=\"720pt\" height=\"432pt\" viewBox=\"0 0 720 432\" version=\"1.1\">\n",
       "<defs>\n",
       "<g>\n",
       "<symbol overflow=\"visible\" id=\"glyph0-0\">\n",
       "<path style=\"stroke:none;\" d=\"M 0.359375 0 L 0.359375 -7.359375 L 3.296875 -7.359375 L 3.296875 0 Z M 0.734375 -0.359375 L 2.9375 -0.359375 L 2.9375 -7 L 0.734375 -7 Z M 0.734375 -0.359375 \"/>\n",
       "</symbol>\n",
       "<symbol overflow=\"visible\" id=\"glyph0-1\">\n",
       "<path style=\"stroke:none;\" d=\"M 0.84375 0 L 0.84375 -0.828125 L 2.78125 -0.828125 L 2.78125 -6.671875 L 1.0625 -5.453125 L 1.0625 -6.359375 L 2.859375 -7.59375 L 3.75 -7.59375 L 3.75 -0.828125 L 5.609375 -0.828125 L 5.609375 0 Z M 0.84375 0 \"/>\n",
       "</symbol>\n",
       "<symbol overflow=\"visible\" id=\"glyph0-2\">\n",
       "<path style=\"stroke:none;\" d=\"M 0.5625 0 L 0.5625 -0.6875 C 0.738281 -1.101562 0.957031 -1.472656 1.21875 -1.796875 C 1.488281 -2.117188 1.769531 -2.410156 2.0625 -2.671875 C 2.351562 -2.929688 2.640625 -3.171875 2.921875 -3.390625 C 3.210938 -3.617188 3.472656 -3.84375 3.703125 -4.0625 C 3.929688 -4.289062 4.113281 -4.523438 4.25 -4.765625 C 4.394531 -5.015625 4.46875 -5.289062 4.46875 -5.59375 C 4.46875 -5.8125 4.4375 -6 4.375 -6.15625 C 4.3125 -6.320312 4.21875 -6.460938 4.09375 -6.578125 C 3.96875 -6.691406 3.816406 -6.773438 3.640625 -6.828125 C 3.472656 -6.890625 3.285156 -6.921875 3.078125 -6.921875 C 2.890625 -6.921875 2.707031 -6.890625 2.53125 -6.828125 C 2.363281 -6.773438 2.210938 -6.691406 2.078125 -6.578125 C 1.941406 -6.472656 1.832031 -6.34375 1.75 -6.1875 C 1.664062 -6.03125 1.613281 -5.84375 1.59375 -5.625 L 0.59375 -5.71875 C 0.625 -6 0.695312 -6.257812 0.8125 -6.5 C 0.9375 -6.738281 1.101562 -6.945312 1.3125 -7.125 C 1.519531 -7.3125 1.769531 -7.457031 2.0625 -7.5625 C 2.363281 -7.664062 2.703125 -7.71875 3.078125 -7.71875 C 3.460938 -7.71875 3.800781 -7.671875 4.09375 -7.578125 C 4.382812 -7.484375 4.628906 -7.347656 4.828125 -7.171875 C 5.035156 -7.003906 5.191406 -6.789062 5.296875 -6.53125 C 5.410156 -6.269531 5.46875 -5.96875 5.46875 -5.625 C 5.46875 -5.375 5.421875 -5.132812 5.328125 -4.90625 C 5.234375 -4.675781 5.109375 -4.457031 4.953125 -4.25 C 4.804688 -4.039062 4.628906 -3.835938 4.421875 -3.640625 C 4.222656 -3.441406 4.015625 -3.25 3.796875 -3.0625 C 3.578125 -2.882812 3.359375 -2.703125 3.140625 -2.515625 C 2.921875 -2.335938 2.710938 -2.15625 2.515625 -1.96875 C 2.316406 -1.789062 2.140625 -1.601562 1.984375 -1.40625 C 1.828125 -1.21875 1.707031 -1.023438 1.625 -0.828125 L 5.59375 -0.828125 L 5.59375 0 Z M 0.5625 0 \"/>\n",
       "</symbol>\n",
       "<symbol overflow=\"visible\" id=\"glyph0-3\">\n",
       "<path style=\"stroke:none;\" d=\"M 4.75 -1.71875 L 4.75 0 L 3.828125 0 L 3.828125 -1.71875 L 0.25 -1.71875 L 0.25 -2.46875 L 3.734375 -7.59375 L 4.75 -7.59375 L 4.75 -2.484375 L 5.8125 -2.484375 L 5.8125 -1.71875 Z M 3.828125 -6.5 C 3.828125 -6.488281 3.8125 -6.457031 3.78125 -6.40625 C 3.75 -6.351562 3.710938 -6.289062 3.671875 -6.21875 C 3.640625 -6.15625 3.601562 -6.085938 3.5625 -6.015625 C 3.53125 -5.953125 3.5 -5.898438 3.46875 -5.859375 L 1.53125 -3 C 1.507812 -2.96875 1.476562 -2.925781 1.4375 -2.875 C 1.40625 -2.832031 1.375 -2.785156 1.34375 -2.734375 C 1.3125 -2.691406 1.273438 -2.644531 1.234375 -2.59375 C 1.203125 -2.550781 1.175781 -2.515625 1.15625 -2.484375 L 3.828125 -2.484375 Z M 3.828125 -6.5 \"/>\n",
       "</symbol>\n",
       "<symbol overflow=\"visible\" id=\"glyph1-0\">\n",
       "<path style=\"stroke:none;\" d=\"M 0.53125 0 L 0.53125 -10.671875 L 4.78125 -10.671875 L 4.78125 0 Z M 1.0625 -0.53125 L 4.25 -0.53125 L 4.25 -10.140625 L 1.0625 -10.140625 Z M 1.0625 -0.53125 \"/>\n",
       "</symbol>\n",
       "<symbol overflow=\"visible\" id=\"glyph1-1\">\n",
       "<path style=\"stroke:none;\" d=\"M 8.203125 -3.609375 C 8.203125 -3.054688 8.125 -2.546875 7.96875 -2.078125 C 7.8125 -1.617188 7.582031 -1.222656 7.28125 -0.890625 C 6.988281 -0.566406 6.617188 -0.3125 6.171875 -0.125 C 5.734375 0.0625 5.222656 0.15625 4.640625 0.15625 C 4.003906 0.15625 3.445312 0.0351562 2.96875 -0.203125 C 2.488281 -0.453125 2.085938 -0.804688 1.765625 -1.265625 C 1.453125 -1.734375 1.210938 -2.300781 1.046875 -2.96875 C 0.890625 -3.632812 0.8125 -4.394531 0.8125 -5.25 C 0.8125 -6.226562 0.898438 -7.085938 1.078125 -7.828125 C 1.265625 -8.566406 1.523438 -9.179688 1.859375 -9.671875 C 2.203125 -10.171875 2.613281 -10.546875 3.09375 -10.796875 C 3.582031 -11.046875 4.132812 -11.171875 4.75 -11.171875 C 5.125 -11.171875 5.472656 -11.128906 5.796875 -11.046875 C 6.128906 -10.972656 6.429688 -10.847656 6.703125 -10.671875 C 6.972656 -10.503906 7.207031 -10.273438 7.40625 -9.984375 C 7.613281 -9.703125 7.773438 -9.351562 7.890625 -8.9375 L 6.546875 -8.6875 C 6.398438 -9.164062 6.164062 -9.507812 5.84375 -9.71875 C 5.53125 -9.925781 5.160156 -10.03125 4.734375 -10.03125 C 4.347656 -10.03125 4 -9.9375 3.6875 -9.75 C 3.375 -9.570312 3.109375 -9.300781 2.890625 -8.9375 C 2.671875 -8.582031 2.503906 -8.128906 2.390625 -7.578125 C 2.273438 -7.035156 2.21875 -6.398438 2.21875 -5.671875 C 2.46875 -6.140625 2.820312 -6.5 3.28125 -6.75 C 3.75 -7 4.285156 -7.125 4.890625 -7.125 C 5.390625 -7.125 5.84375 -7.039062 6.25 -6.875 C 6.65625 -6.71875 7 -6.484375 7.28125 -6.171875 C 7.570312 -5.867188 7.796875 -5.5 7.953125 -5.0625 C 8.117188 -4.632812 8.203125 -4.148438 8.203125 -3.609375 Z M 6.765625 -3.546875 C 6.765625 -3.921875 6.71875 -4.257812 6.625 -4.5625 C 6.53125 -4.875 6.390625 -5.140625 6.203125 -5.359375 C 6.015625 -5.578125 5.78125 -5.742188 5.5 -5.859375 C 5.226562 -5.972656 4.910156 -6.03125 4.546875 -6.03125 C 4.296875 -6.03125 4.039062 -5.992188 3.78125 -5.921875 C 3.519531 -5.847656 3.28125 -5.722656 3.0625 -5.546875 C 2.851562 -5.378906 2.679688 -5.15625 2.546875 -4.875 C 2.421875 -4.601562 2.359375 -4.269531 2.359375 -3.875 C 2.359375 -3.46875 2.410156 -3.085938 2.515625 -2.734375 C 2.617188 -2.390625 2.765625 -2.085938 2.953125 -1.828125 C 3.148438 -1.566406 3.382812 -1.359375 3.65625 -1.203125 C 3.9375 -1.054688 4.25 -0.984375 4.59375 -0.984375 C 4.9375 -0.984375 5.238281 -1.039062 5.5 -1.15625 C 5.769531 -1.269531 6 -1.4375 6.1875 -1.65625 C 6.375 -1.882812 6.515625 -2.15625 6.609375 -2.46875 C 6.710938 -2.789062 6.765625 -3.148438 6.765625 -3.546875 Z M 6.765625 -3.546875 \"/>\n",
       "</symbol>\n",
       "<symbol overflow=\"visible\" id=\"glyph1-2\">\n",
       "<path style=\"stroke:none;\" d=\"M 8.09375 -9.875 C 7.539062 -9.03125 7.03125 -8.21875 6.5625 -7.4375 C 6.101562 -6.65625 5.707031 -5.867188 5.375 -5.078125 C 5.039062 -4.296875 4.78125 -3.488281 4.59375 -2.65625 C 4.414062 -1.820312 4.328125 -0.9375 4.328125 0 L 2.859375 0 C 2.859375 -0.882812 2.960938 -1.75 3.171875 -2.59375 C 3.378906 -3.4375 3.660156 -4.265625 4.015625 -5.078125 C 4.367188 -5.898438 4.78125 -6.703125 5.25 -7.484375 C 5.71875 -8.273438 6.210938 -9.050781 6.734375 -9.8125 L 0.828125 -9.8125 L 0.828125 -11.015625 L 8.09375 -11.015625 Z M 8.09375 -9.875 \"/>\n",
       "</symbol>\n",
       "<symbol overflow=\"visible\" id=\"glyph1-3\">\n",
       "<path style=\"stroke:none;\" d=\"M 8.203125 -3.078125 C 8.203125 -2.609375 8.128906 -2.175781 7.984375 -1.78125 C 7.835938 -1.382812 7.609375 -1.039062 7.296875 -0.75 C 6.992188 -0.46875 6.601562 -0.242188 6.125 -0.078125 C 5.65625 0.078125 5.097656 0.15625 4.453125 0.15625 C 3.804688 0.15625 3.25 0.078125 2.78125 -0.078125 C 2.3125 -0.242188 1.921875 -0.46875 1.609375 -0.75 C 1.296875 -1.039062 1.066406 -1.378906 0.921875 -1.765625 C 0.773438 -2.160156 0.703125 -2.59375 0.703125 -3.0625 C 0.703125 -3.457031 0.757812 -3.8125 0.875 -4.125 C 1 -4.4375 1.164062 -4.707031 1.375 -4.9375 C 1.582031 -5.164062 1.816406 -5.347656 2.078125 -5.484375 C 2.335938 -5.617188 2.609375 -5.710938 2.890625 -5.765625 L 2.890625 -5.796875 C 2.585938 -5.867188 2.3125 -5.984375 2.0625 -6.140625 C 1.820312 -6.304688 1.617188 -6.5 1.453125 -6.71875 C 1.296875 -6.945312 1.171875 -7.195312 1.078125 -7.46875 C 0.992188 -7.75 0.953125 -8.046875 0.953125 -8.359375 C 0.953125 -8.742188 1.023438 -9.101562 1.171875 -9.4375 C 1.328125 -9.78125 1.550781 -10.082031 1.84375 -10.34375 C 2.132812 -10.601562 2.492188 -10.804688 2.921875 -10.953125 C 3.359375 -11.097656 3.859375 -11.171875 4.421875 -11.171875 C 5.023438 -11.171875 5.546875 -11.09375 5.984375 -10.9375 C 6.421875 -10.789062 6.785156 -10.585938 7.078125 -10.328125 C 7.367188 -10.078125 7.582031 -9.78125 7.71875 -9.4375 C 7.863281 -9.09375 7.9375 -8.726562 7.9375 -8.34375 C 7.9375 -8.039062 7.890625 -7.75 7.796875 -7.46875 C 7.710938 -7.195312 7.585938 -6.945312 7.421875 -6.71875 C 7.265625 -6.488281 7.0625 -6.296875 6.8125 -6.140625 C 6.570312 -5.984375 6.296875 -5.875 5.984375 -5.8125 L 5.984375 -5.78125 C 6.296875 -5.726562 6.585938 -5.628906 6.859375 -5.484375 C 7.128906 -5.347656 7.363281 -5.164062 7.5625 -4.9375 C 7.757812 -4.71875 7.914062 -4.453125 8.03125 -4.140625 C 8.144531 -3.828125 8.203125 -3.472656 8.203125 -3.078125 Z M 6.46875 -8.265625 C 6.46875 -8.535156 6.429688 -8.785156 6.359375 -9.015625 C 6.296875 -9.242188 6.179688 -9.441406 6.015625 -9.609375 C 5.859375 -9.773438 5.648438 -9.898438 5.390625 -9.984375 C 5.128906 -10.078125 4.804688 -10.125 4.421875 -10.125 C 4.054688 -10.125 3.742188 -10.078125 3.484375 -9.984375 C 3.234375 -9.898438 3.023438 -9.773438 2.859375 -9.609375 C 2.691406 -9.441406 2.570312 -9.242188 2.5 -9.015625 C 2.425781 -8.785156 2.390625 -8.535156 2.390625 -8.265625 C 2.390625 -8.046875 2.414062 -7.820312 2.46875 -7.59375 C 2.53125 -7.363281 2.632812 -7.15625 2.78125 -6.96875 C 2.9375 -6.78125 3.144531 -6.625 3.40625 -6.5 C 3.675781 -6.382812 4.019531 -6.328125 4.4375 -6.328125 C 4.882812 -6.328125 5.238281 -6.382812 5.5 -6.5 C 5.769531 -6.625 5.976562 -6.78125 6.125 -6.96875 C 6.269531 -7.15625 6.363281 -7.363281 6.40625 -7.59375 C 6.445312 -7.820312 6.46875 -8.046875 6.46875 -8.265625 Z M 6.75 -3.203125 C 6.75 -3.472656 6.710938 -3.726562 6.640625 -3.96875 C 6.566406 -4.21875 6.441406 -4.4375 6.265625 -4.625 C 6.085938 -4.820312 5.847656 -4.976562 5.546875 -5.09375 C 5.242188 -5.207031 4.867188 -5.265625 4.421875 -5.265625 C 4.015625 -5.265625 3.664062 -5.207031 3.375 -5.09375 C 3.082031 -4.976562 2.847656 -4.820312 2.671875 -4.625 C 2.492188 -4.4375 2.363281 -4.210938 2.28125 -3.953125 C 2.195312 -3.703125 2.15625 -3.441406 2.15625 -3.171875 C 2.15625 -2.835938 2.195312 -2.53125 2.28125 -2.25 C 2.363281 -1.96875 2.492188 -1.726562 2.671875 -1.53125 C 2.859375 -1.332031 3.097656 -1.175781 3.390625 -1.0625 C 3.691406 -0.957031 4.050781 -0.90625 4.46875 -0.90625 C 4.894531 -0.90625 5.253906 -0.957031 5.546875 -1.0625 C 5.835938 -1.175781 6.070312 -1.332031 6.25 -1.53125 C 6.425781 -1.726562 6.550781 -1.96875 6.625 -2.25 C 6.707031 -2.539062 6.75 -2.859375 6.75 -3.203125 Z M 6.75 -3.203125 \"/>\n",
       "</symbol>\n",
       "<symbol overflow=\"visible\" id=\"glyph1-4\">\n",
       "<path style=\"stroke:none;\" d=\"M 8.140625 -5.734375 C 8.140625 -4.753906 8.046875 -3.894531 7.859375 -3.15625 C 7.679688 -2.414062 7.421875 -1.800781 7.078125 -1.3125 C 6.734375 -0.820312 6.3125 -0.453125 5.8125 -0.203125 C 5.320312 0.0351562 4.769531 0.15625 4.15625 0.15625 C 3.738281 0.15625 3.359375 0.109375 3.015625 0.015625 C 2.679688 -0.0664062 2.378906 -0.195312 2.109375 -0.375 C 1.847656 -0.5625 1.625 -0.800781 1.4375 -1.09375 C 1.25 -1.382812 1.097656 -1.734375 0.984375 -2.140625 L 2.328125 -2.359375 C 2.472656 -1.878906 2.695312 -1.53125 3 -1.3125 C 3.3125 -1.09375 3.707031 -0.984375 4.1875 -0.984375 C 4.5625 -0.984375 4.90625 -1.070312 5.21875 -1.25 C 5.539062 -1.425781 5.8125 -1.691406 6.03125 -2.046875 C 6.25 -2.410156 6.421875 -2.863281 6.546875 -3.40625 C 6.671875 -3.945312 6.738281 -4.582031 6.75 -5.3125 C 6.644531 -5.070312 6.492188 -4.851562 6.296875 -4.65625 C 6.109375 -4.46875 5.894531 -4.304688 5.65625 -4.171875 C 5.414062 -4.035156 5.15625 -3.929688 4.875 -3.859375 C 4.59375 -3.796875 4.304688 -3.765625 4.015625 -3.765625 C 3.515625 -3.765625 3.0625 -3.851562 2.65625 -4.03125 C 2.257812 -4.207031 1.921875 -4.457031 1.640625 -4.78125 C 1.359375 -5.101562 1.140625 -5.492188 0.984375 -5.953125 C 0.828125 -6.410156 0.75 -6.914062 0.75 -7.46875 C 0.75 -8.039062 0.832031 -8.554688 1 -9.015625 C 1.164062 -9.472656 1.40625 -9.859375 1.71875 -10.171875 C 2.03125 -10.492188 2.410156 -10.738281 2.859375 -10.90625 C 3.316406 -11.082031 3.835938 -11.171875 4.421875 -11.171875 C 5.640625 -11.171875 6.5625 -10.71875 7.1875 -9.8125 C 7.820312 -8.90625 8.140625 -7.546875 8.140625 -5.734375 Z M 6.609375 -7.09375 C 6.609375 -7.5 6.5625 -7.878906 6.46875 -8.234375 C 6.375 -8.597656 6.226562 -8.910156 6.03125 -9.171875 C 5.84375 -9.441406 5.609375 -9.648438 5.328125 -9.796875 C 5.054688 -9.953125 4.738281 -10.03125 4.375 -10.03125 C 4.03125 -10.03125 3.722656 -9.96875 3.453125 -9.84375 C 3.179688 -9.726562 2.953125 -9.5625 2.765625 -9.34375 C 2.578125 -9.125 2.429688 -8.851562 2.328125 -8.53125 C 2.234375 -8.21875 2.1875 -7.863281 2.1875 -7.46875 C 2.1875 -7.101562 2.226562 -6.757812 2.3125 -6.4375 C 2.40625 -6.125 2.539062 -5.847656 2.71875 -5.609375 C 2.90625 -5.378906 3.132812 -5.195312 3.40625 -5.0625 C 3.675781 -4.9375 3.992188 -4.875 4.359375 -4.875 C 4.617188 -4.875 4.878906 -4.914062 5.140625 -5 C 5.410156 -5.09375 5.65625 -5.226562 5.875 -5.40625 C 6.09375 -5.59375 6.269531 -5.820312 6.40625 -6.09375 C 6.539062 -6.375 6.609375 -6.707031 6.609375 -7.09375 Z M 6.609375 -7.09375 \"/>\n",
       "</symbol>\n",
       "<symbol overflow=\"visible\" id=\"glyph1-5\">\n",
       "<path style=\"stroke:none;\" d=\"M 1.21875 0 L 1.21875 -1.203125 L 4.03125 -1.203125 L 4.03125 -9.671875 L 1.546875 -7.890625 L 1.546875 -9.21875 L 4.140625 -11.015625 L 5.4375 -11.015625 L 5.4375 -1.203125 L 8.125 -1.203125 L 8.125 0 Z M 1.21875 0 \"/>\n",
       "</symbol>\n",
       "<symbol overflow=\"visible\" id=\"glyph1-6\">\n",
       "<path style=\"stroke:none;\" d=\"M 8.28125 -5.515625 C 8.28125 -4.453125 8.175781 -3.5625 7.96875 -2.84375 C 7.769531 -2.125 7.5 -1.539062 7.15625 -1.09375 C 6.8125 -0.644531 6.40625 -0.320312 5.9375 -0.125 C 5.46875 0.0625 4.96875 0.15625 4.4375 0.15625 C 3.894531 0.15625 3.390625 0.0625 2.921875 -0.125 C 2.460938 -0.320312 2.0625 -0.640625 1.71875 -1.078125 C 1.382812 -1.523438 1.117188 -2.109375 0.921875 -2.828125 C 0.722656 -3.554688 0.625 -4.453125 0.625 -5.515625 C 0.625 -6.617188 0.722656 -7.535156 0.921875 -8.265625 C 1.117188 -8.992188 1.390625 -9.570312 1.734375 -10 C 2.078125 -10.4375 2.484375 -10.738281 2.953125 -10.90625 C 3.421875 -11.082031 3.929688 -11.171875 4.484375 -11.171875 C 5.003906 -11.171875 5.492188 -11.082031 5.953125 -10.90625 C 6.421875 -10.738281 6.828125 -10.4375 7.171875 -10 C 7.515625 -9.570312 7.785156 -8.992188 7.984375 -8.265625 C 8.179688 -7.535156 8.28125 -6.617188 8.28125 -5.515625 Z M 6.84375 -5.515625 C 6.84375 -6.390625 6.789062 -7.113281 6.6875 -7.6875 C 6.582031 -8.269531 6.425781 -8.734375 6.21875 -9.078125 C 6.019531 -9.429688 5.773438 -9.675781 5.484375 -9.8125 C 5.191406 -9.957031 4.859375 -10.03125 4.484375 -10.03125 C 4.085938 -10.03125 3.738281 -9.957031 3.4375 -9.8125 C 3.132812 -9.664062 2.878906 -9.421875 2.671875 -9.078125 C 2.460938 -8.734375 2.304688 -8.269531 2.203125 -7.6875 C 2.097656 -7.101562 2.046875 -6.378906 2.046875 -5.515625 C 2.046875 -4.671875 2.097656 -3.957031 2.203125 -3.375 C 2.316406 -2.800781 2.472656 -2.335938 2.671875 -1.984375 C 2.878906 -1.628906 3.128906 -1.375 3.421875 -1.21875 C 3.722656 -1.070312 4.066406 -1 4.453125 -1 C 4.816406 -1 5.144531 -1.070312 5.4375 -1.21875 C 5.738281 -1.375 5.992188 -1.628906 6.203125 -1.984375 C 6.410156 -2.335938 6.566406 -2.800781 6.671875 -3.375 C 6.785156 -3.957031 6.84375 -4.671875 6.84375 -5.515625 Z M 6.84375 -5.515625 \"/>\n",
       "</symbol>\n",
       "<symbol overflow=\"visible\" id=\"glyph1-7\">\n",
       "<path style=\"stroke:none;\" d=\"M 0.8125 0 L 0.8125 -1 C 1.070312 -1.601562 1.394531 -2.140625 1.78125 -2.609375 C 2.164062 -3.078125 2.566406 -3.5 2.984375 -3.875 C 3.410156 -4.25 3.828125 -4.597656 4.234375 -4.921875 C 4.648438 -5.242188 5.023438 -5.566406 5.359375 -5.890625 C 5.691406 -6.210938 5.960938 -6.550781 6.171875 -6.90625 C 6.378906 -7.257812 6.484375 -7.660156 6.484375 -8.109375 C 6.484375 -8.421875 6.4375 -8.695312 6.34375 -8.9375 C 6.25 -9.175781 6.113281 -9.375 5.9375 -9.53125 C 5.757812 -9.695312 5.546875 -9.816406 5.296875 -9.890625 C 5.046875 -9.972656 4.769531 -10.015625 4.46875 -10.015625 C 4.1875 -10.015625 3.921875 -9.972656 3.671875 -9.890625 C 3.429688 -9.816406 3.210938 -9.703125 3.015625 -9.546875 C 2.828125 -9.390625 2.671875 -9.195312 2.546875 -8.96875 C 2.421875 -8.738281 2.34375 -8.46875 2.3125 -8.15625 L 0.875 -8.296875 C 0.914062 -8.691406 1.019531 -9.0625 1.1875 -9.40625 C 1.363281 -9.757812 1.601562 -10.066406 1.90625 -10.328125 C 2.207031 -10.585938 2.570312 -10.789062 3 -10.9375 C 3.425781 -11.09375 3.914062 -11.171875 4.46875 -11.171875 C 5.019531 -11.171875 5.507812 -11.101562 5.9375 -10.96875 C 6.363281 -10.84375 6.722656 -10.648438 7.015625 -10.390625 C 7.304688 -10.140625 7.53125 -9.828125 7.6875 -9.453125 C 7.84375 -9.078125 7.921875 -8.644531 7.921875 -8.15625 C 7.921875 -7.789062 7.851562 -7.441406 7.71875 -7.109375 C 7.59375 -6.773438 7.414062 -6.457031 7.1875 -6.15625 C 6.96875 -5.851562 6.710938 -5.5625 6.421875 -5.28125 C 6.128906 -5 5.820312 -4.722656 5.5 -4.453125 C 5.1875 -4.179688 4.867188 -3.914062 4.546875 -3.65625 C 4.222656 -3.394531 3.921875 -3.128906 3.640625 -2.859375 C 3.359375 -2.597656 3.101562 -2.328125 2.875 -2.046875 C 2.65625 -1.773438 2.484375 -1.492188 2.359375 -1.203125 L 8.09375 -1.203125 L 8.09375 0 Z M 0.8125 0 \"/>\n",
       "</symbol>\n",
       "<symbol overflow=\"visible\" id=\"glyph1-8\">\n",
       "<path style=\"stroke:none;\" d=\"M 8.203125 -3.046875 C 8.203125 -2.535156 8.117188 -2.082031 7.953125 -1.6875 C 7.785156 -1.289062 7.546875 -0.957031 7.234375 -0.6875 C 6.921875 -0.414062 6.53125 -0.207031 6.0625 -0.0625 C 5.59375 0.0820312 5.0625 0.15625 4.46875 0.15625 C 3.78125 0.15625 3.203125 0.0703125 2.734375 -0.09375 C 2.273438 -0.269531 1.894531 -0.492188 1.59375 -0.765625 C 1.289062 -1.046875 1.0625 -1.363281 0.90625 -1.71875 C 0.757812 -2.082031 0.660156 -2.453125 0.609375 -2.828125 L 2.0625 -2.96875 C 2.101562 -2.675781 2.179688 -2.410156 2.296875 -2.171875 C 2.410156 -1.929688 2.5625 -1.722656 2.75 -1.546875 C 2.945312 -1.378906 3.1875 -1.25 3.46875 -1.15625 C 3.75 -1.0625 4.082031 -1.015625 4.46875 -1.015625 C 5.175781 -1.015625 5.726562 -1.1875 6.125 -1.53125 C 6.53125 -1.882812 6.734375 -2.40625 6.734375 -3.09375 C 6.734375 -3.5 6.644531 -3.820312 6.46875 -4.0625 C 6.289062 -4.3125 6.066406 -4.503906 5.796875 -4.640625 C 5.523438 -4.785156 5.234375 -4.878906 4.921875 -4.921875 C 4.609375 -4.972656 4.316406 -5 4.046875 -5 L 3.25 -5 L 3.25 -6.21875 L 4.015625 -6.21875 C 4.285156 -6.21875 4.5625 -6.242188 4.84375 -6.296875 C 5.132812 -6.347656 5.394531 -6.445312 5.625 -6.59375 C 5.863281 -6.738281 6.0625 -6.929688 6.21875 -7.171875 C 6.375 -7.421875 6.453125 -7.734375 6.453125 -8.109375 C 6.453125 -8.703125 6.273438 -9.164062 5.921875 -9.5 C 5.578125 -9.84375 5.066406 -10.015625 4.390625 -10.015625 C 3.765625 -10.015625 3.257812 -9.851562 2.875 -9.53125 C 2.5 -9.21875 2.28125 -8.773438 2.21875 -8.203125 L 0.796875 -8.3125 C 0.859375 -8.789062 0.992188 -9.207031 1.203125 -9.5625 C 1.410156 -9.925781 1.671875 -10.226562 1.984375 -10.46875 C 2.304688 -10.707031 2.671875 -10.882812 3.078125 -11 C 3.492188 -11.113281 3.9375 -11.171875 4.40625 -11.171875 C 5.019531 -11.171875 5.546875 -11.09375 5.984375 -10.9375 C 6.429688 -10.789062 6.796875 -10.582031 7.078125 -10.3125 C 7.359375 -10.050781 7.5625 -9.742188 7.6875 -9.390625 C 7.820312 -9.035156 7.890625 -8.660156 7.890625 -8.265625 C 7.890625 -7.941406 7.84375 -7.640625 7.75 -7.359375 C 7.664062 -7.078125 7.53125 -6.820312 7.34375 -6.59375 C 7.15625 -6.375 6.914062 -6.179688 6.625 -6.015625 C 6.34375 -5.859375 6 -5.738281 5.59375 -5.65625 L 5.59375 -5.625 C 6.03125 -5.570312 6.410156 -5.46875 6.734375 -5.3125 C 7.066406 -5.164062 7.335938 -4.976562 7.546875 -4.75 C 7.765625 -4.519531 7.925781 -4.257812 8.03125 -3.96875 C 8.144531 -3.675781 8.203125 -3.367188 8.203125 -3.046875 Z M 8.203125 -3.046875 \"/>\n",
       "</symbol>\n",
       "<symbol overflow=\"visible\" id=\"glyph1-9\">\n",
       "<path style=\"stroke:none;\" d=\"M 3.234375 0.15625 C 2.390625 0.15625 1.753906 -0.0664062 1.328125 -0.515625 C 0.898438 -0.960938 0.6875 -1.578125 0.6875 -2.359375 C 0.6875 -2.921875 0.789062 -3.378906 1 -3.734375 C 1.207031 -4.085938 1.484375 -4.363281 1.828125 -4.5625 C 2.171875 -4.769531 2.5625 -4.910156 3 -4.984375 C 3.4375 -5.066406 3.878906 -5.113281 4.328125 -5.125 L 6.234375 -5.15625 L 6.234375 -5.625 C 6.234375 -5.96875 6.195312 -6.257812 6.125 -6.5 C 6.050781 -6.75 5.9375 -6.945312 5.78125 -7.09375 C 5.632812 -7.25 5.445312 -7.363281 5.21875 -7.4375 C 4.988281 -7.507812 4.722656 -7.546875 4.421875 -7.546875 C 4.148438 -7.546875 3.90625 -7.523438 3.6875 -7.484375 C 3.46875 -7.441406 3.273438 -7.367188 3.109375 -7.265625 C 2.953125 -7.171875 2.820312 -7.035156 2.71875 -6.859375 C 2.625 -6.679688 2.5625 -6.460938 2.53125 -6.203125 L 1.0625 -6.328125 C 1.113281 -6.660156 1.210938 -6.96875 1.359375 -7.25 C 1.503906 -7.53125 1.707031 -7.769531 1.96875 -7.96875 C 2.238281 -8.175781 2.578125 -8.332031 2.984375 -8.4375 C 3.390625 -8.550781 3.878906 -8.609375 4.453125 -8.609375 C 5.515625 -8.609375 6.3125 -8.363281 6.84375 -7.875 C 7.382812 -7.394531 7.65625 -6.691406 7.65625 -5.765625 L 7.65625 -2.125 C 7.65625 -1.707031 7.707031 -1.394531 7.8125 -1.1875 C 7.925781 -0.976562 8.132812 -0.875 8.4375 -0.875 C 8.519531 -0.875 8.597656 -0.878906 8.671875 -0.890625 C 8.753906 -0.898438 8.832031 -0.910156 8.90625 -0.921875 L 8.90625 -0.046875 C 8.726562 -0.00390625 8.550781 0.0234375 8.375 0.046875 C 8.195312 0.0664062 8.007812 0.078125 7.8125 0.078125 C 7.550781 0.078125 7.320312 0.0390625 7.125 -0.03125 C 6.9375 -0.101562 6.78125 -0.207031 6.65625 -0.34375 C 6.539062 -0.488281 6.453125 -0.664062 6.390625 -0.875 C 6.328125 -1.09375 6.289062 -1.34375 6.28125 -1.625 L 6.234375 -1.625 C 6.078125 -1.351562 5.910156 -1.109375 5.734375 -0.890625 C 5.554688 -0.671875 5.347656 -0.484375 5.109375 -0.328125 C 4.867188 -0.171875 4.59375 -0.0507812 4.28125 0.03125 C 3.976562 0.113281 3.628906 0.15625 3.234375 0.15625 Z M 3.5625 -0.90625 C 4.007812 -0.90625 4.398438 -0.984375 4.734375 -1.140625 C 5.066406 -1.304688 5.34375 -1.515625 5.5625 -1.765625 C 5.789062 -2.023438 5.957031 -2.304688 6.0625 -2.609375 C 6.175781 -2.910156 6.234375 -3.203125 6.234375 -3.484375 L 6.234375 -4.171875 L 4.6875 -4.140625 C 4.34375 -4.140625 4.015625 -4.113281 3.703125 -4.0625 C 3.398438 -4.019531 3.128906 -3.929688 2.890625 -3.796875 C 2.660156 -3.671875 2.472656 -3.488281 2.328125 -3.25 C 2.191406 -3.019531 2.125 -2.71875 2.125 -2.34375 C 2.125 -1.882812 2.25 -1.53125 2.5 -1.28125 C 2.75 -1.03125 3.101562 -0.90625 3.5625 -0.90625 Z M 3.5625 -0.90625 \"/>\n",
       "</symbol>\n",
       "<symbol overflow=\"visible\" id=\"glyph1-10\">\n",
       "<path style=\"stroke:none;\" d=\"M 8.234375 -4.265625 C 8.234375 -3.628906 8.179688 -3.039062 8.078125 -2.5 C 7.972656 -1.957031 7.796875 -1.488281 7.546875 -1.09375 C 7.304688 -0.707031 6.988281 -0.398438 6.59375 -0.171875 C 6.195312 0.046875 5.707031 0.15625 5.125 0.15625 C 4.519531 0.15625 3.988281 0.0390625 3.53125 -0.1875 C 3.082031 -0.414062 2.738281 -0.789062 2.5 -1.3125 L 2.453125 -1.3125 C 2.460938 -1.300781 2.46875 -1.253906 2.46875 -1.171875 C 2.46875 -1.085938 2.46875 -0.984375 2.46875 -0.859375 C 2.476562 -0.734375 2.484375 -0.59375 2.484375 -0.4375 C 2.484375 -0.289062 2.484375 -0.140625 2.484375 0.015625 L 2.484375 3.328125 L 1.078125 3.328125 L 1.078125 -6.734375 C 1.078125 -6.929688 1.078125 -7.125 1.078125 -7.3125 C 1.078125 -7.5 1.070312 -7.671875 1.0625 -7.828125 C 1.0625 -7.984375 1.054688 -8.113281 1.046875 -8.21875 C 1.046875 -8.332031 1.039062 -8.410156 1.03125 -8.453125 L 2.390625 -8.453125 C 2.398438 -8.441406 2.40625 -8.390625 2.40625 -8.296875 C 2.414062 -8.203125 2.425781 -8.085938 2.4375 -7.953125 C 2.445312 -7.816406 2.453125 -7.671875 2.453125 -7.515625 C 2.460938 -7.367188 2.46875 -7.226562 2.46875 -7.09375 L 2.5 -7.09375 C 2.632812 -7.363281 2.785156 -7.59375 2.953125 -7.78125 C 3.117188 -7.976562 3.304688 -8.132812 3.515625 -8.25 C 3.734375 -8.375 3.972656 -8.460938 4.234375 -8.515625 C 4.492188 -8.578125 4.789062 -8.609375 5.125 -8.609375 C 5.707031 -8.609375 6.195312 -8.503906 6.59375 -8.296875 C 6.988281 -8.085938 7.304688 -7.789062 7.546875 -7.40625 C 7.796875 -7.03125 7.972656 -6.578125 8.078125 -6.046875 C 8.179688 -5.515625 8.234375 -4.921875 8.234375 -4.265625 Z M 6.75 -4.234375 C 6.75 -4.753906 6.71875 -5.21875 6.65625 -5.625 C 6.59375 -6.03125 6.484375 -6.375 6.328125 -6.65625 C 6.179688 -6.9375 5.976562 -7.148438 5.71875 -7.296875 C 5.46875 -7.441406 5.148438 -7.515625 4.765625 -7.515625 C 4.453125 -7.515625 4.15625 -7.46875 3.875 -7.375 C 3.601562 -7.289062 3.363281 -7.125 3.15625 -6.875 C 2.945312 -6.625 2.78125 -6.28125 2.65625 -5.84375 C 2.539062 -5.40625 2.484375 -4.832031 2.484375 -4.125 C 2.484375 -3.53125 2.53125 -3.023438 2.625 -2.609375 C 2.726562 -2.191406 2.875 -1.851562 3.0625 -1.59375 C 3.257812 -1.34375 3.5 -1.160156 3.78125 -1.046875 C 4.0625 -0.941406 4.382812 -0.890625 4.75 -0.890625 C 5.132812 -0.890625 5.457031 -0.960938 5.71875 -1.109375 C 5.976562 -1.265625 6.179688 -1.484375 6.328125 -1.765625 C 6.484375 -2.054688 6.59375 -2.40625 6.65625 -2.8125 C 6.71875 -3.226562 6.75 -3.703125 6.75 -4.234375 Z M 6.75 -4.234375 \"/>\n",
       "</symbol>\n",
       "<symbol overflow=\"visible\" id=\"glyph1-11\">\n",
       "<path style=\"stroke:none;\" d=\"M 1.078125 0 L 1.078125 -11.59375 L 2.484375 -11.59375 L 2.484375 0 Z M 1.078125 0 \"/>\n",
       "</symbol>\n",
       "<symbol overflow=\"visible\" id=\"glyph1-12\">\n",
       "<path style=\"stroke:none;\" d=\"M 2.15625 -3.9375 C 2.15625 -3.488281 2.203125 -3.078125 2.296875 -2.703125 C 2.390625 -2.335938 2.53125 -2.019531 2.71875 -1.75 C 2.90625 -1.476562 3.144531 -1.269531 3.4375 -1.125 C 3.738281 -0.976562 4.097656 -0.90625 4.515625 -0.90625 C 5.128906 -0.90625 5.617188 -1.023438 5.984375 -1.265625 C 6.347656 -1.515625 6.597656 -1.828125 6.734375 -2.203125 L 7.96875 -1.84375 C 7.875 -1.613281 7.75 -1.378906 7.59375 -1.140625 C 7.4375 -0.898438 7.222656 -0.6875 6.953125 -0.5 C 6.691406 -0.3125 6.359375 -0.15625 5.953125 -0.03125 C 5.554688 0.09375 5.078125 0.15625 4.515625 0.15625 C 3.265625 0.15625 2.3125 -0.210938 1.65625 -0.953125 C 1.007812 -1.703125 0.6875 -2.8125 0.6875 -4.28125 C 0.6875 -5.070312 0.785156 -5.742188 0.984375 -6.296875 C 1.179688 -6.847656 1.453125 -7.296875 1.796875 -7.640625 C 2.140625 -7.984375 2.539062 -8.226562 3 -8.375 C 3.457031 -8.53125 3.945312 -8.609375 4.46875 -8.609375 C 5.175781 -8.609375 5.765625 -8.492188 6.234375 -8.265625 C 6.710938 -8.035156 7.097656 -7.71875 7.390625 -7.3125 C 7.679688 -6.914062 7.882812 -6.441406 8 -5.890625 C 8.125 -5.347656 8.1875 -4.757812 8.1875 -4.125 L 8.1875 -3.9375 Z M 6.734375 -5.015625 C 6.660156 -5.898438 6.4375 -6.546875 6.0625 -6.953125 C 5.6875 -7.367188 5.144531 -7.578125 4.4375 -7.578125 C 4.207031 -7.578125 3.960938 -7.535156 3.703125 -7.453125 C 3.441406 -7.378906 3.203125 -7.242188 2.984375 -7.046875 C 2.765625 -6.859375 2.578125 -6.597656 2.421875 -6.265625 C 2.273438 -5.941406 2.191406 -5.523438 2.171875 -5.015625 Z M 6.734375 -5.015625 \"/>\n",
       "</symbol>\n",
       "<symbol overflow=\"visible\" id=\"glyph1-13\">\n",
       "<path style=\"stroke:none;\" d=\"M 6 0 L 6 -5.359375 C 6 -5.773438 5.972656 -6.117188 5.921875 -6.390625 C 5.867188 -6.671875 5.78125 -6.894531 5.65625 -7.0625 C 5.539062 -7.226562 5.382812 -7.347656 5.1875 -7.421875 C 4.988281 -7.492188 4.742188 -7.53125 4.453125 -7.53125 C 4.160156 -7.53125 3.894531 -7.46875 3.65625 -7.34375 C 3.414062 -7.226562 3.207031 -7.0625 3.03125 -6.84375 C 2.863281 -6.625 2.734375 -6.347656 2.640625 -6.015625 C 2.554688 -5.691406 2.515625 -5.320312 2.515625 -4.90625 L 2.515625 0 L 1.109375 0 L 1.109375 -6.65625 C 1.109375 -6.832031 1.109375 -7.015625 1.109375 -7.203125 C 1.109375 -7.398438 1.101562 -7.585938 1.09375 -7.765625 C 1.09375 -7.941406 1.085938 -8.09375 1.078125 -8.21875 C 1.078125 -8.34375 1.070312 -8.421875 1.0625 -8.453125 L 2.390625 -8.453125 C 2.398438 -8.429688 2.40625 -8.363281 2.40625 -8.25 C 2.414062 -8.132812 2.421875 -8 2.421875 -7.84375 C 2.429688 -7.695312 2.4375 -7.546875 2.4375 -7.390625 C 2.445312 -7.242188 2.453125 -7.117188 2.453125 -7.015625 L 2.484375 -7.015625 C 2.609375 -7.253906 2.742188 -7.472656 2.890625 -7.671875 C 3.035156 -7.867188 3.203125 -8.035156 3.390625 -8.171875 C 3.585938 -8.316406 3.8125 -8.425781 4.0625 -8.5 C 4.320312 -8.570312 4.617188 -8.609375 4.953125 -8.609375 C 5.585938 -8.609375 6.09375 -8.476562 6.46875 -8.21875 C 6.84375 -7.96875 7.101562 -7.566406 7.25 -7.015625 L 7.265625 -7.015625 C 7.390625 -7.253906 7.53125 -7.472656 7.6875 -7.671875 C 7.84375 -7.867188 8.023438 -8.035156 8.234375 -8.171875 C 8.441406 -8.316406 8.675781 -8.425781 8.9375 -8.5 C 9.195312 -8.570312 9.492188 -8.609375 9.828125 -8.609375 C 10.253906 -8.609375 10.625 -8.550781 10.9375 -8.4375 C 11.25 -8.320312 11.503906 -8.144531 11.703125 -7.90625 C 11.898438 -7.664062 12.046875 -7.359375 12.140625 -6.984375 C 12.234375 -6.609375 12.28125 -6.160156 12.28125 -5.640625 L 12.28125 0 L 10.890625 0 L 10.890625 -5.359375 C 10.890625 -5.773438 10.863281 -6.117188 10.8125 -6.390625 C 10.757812 -6.671875 10.671875 -6.894531 10.546875 -7.0625 C 10.421875 -7.226562 10.257812 -7.347656 10.0625 -7.421875 C 9.863281 -7.492188 9.625 -7.53125 9.34375 -7.53125 C 9.039062 -7.53125 8.769531 -7.472656 8.53125 -7.359375 C 8.289062 -7.242188 8.085938 -7.078125 7.921875 -6.859375 C 7.753906 -6.640625 7.625 -6.363281 7.53125 -6.03125 C 7.4375 -5.707031 7.390625 -5.332031 7.390625 -4.90625 L 7.390625 0 Z M 6 0 \"/>\n",
       "</symbol>\n",
       "<symbol overflow=\"visible\" id=\"glyph1-14\">\n",
       "<path style=\"stroke:none;\" d=\"M 6.453125 0 L 6.453125 -5.359375 C 6.453125 -5.773438 6.421875 -6.117188 6.359375 -6.390625 C 6.296875 -6.671875 6.195312 -6.894531 6.0625 -7.0625 C 5.925781 -7.226562 5.75 -7.347656 5.53125 -7.421875 C 5.3125 -7.492188 5.035156 -7.53125 4.703125 -7.53125 C 4.367188 -7.53125 4.066406 -7.46875 3.796875 -7.34375 C 3.535156 -7.226562 3.304688 -7.0625 3.109375 -6.84375 C 2.921875 -6.625 2.773438 -6.347656 2.671875 -6.015625 C 2.566406 -5.691406 2.515625 -5.320312 2.515625 -4.90625 L 2.515625 0 L 1.109375 0 L 1.109375 -6.65625 C 1.109375 -6.832031 1.109375 -7.015625 1.109375 -7.203125 C 1.109375 -7.398438 1.101562 -7.585938 1.09375 -7.765625 C 1.09375 -7.941406 1.085938 -8.09375 1.078125 -8.21875 C 1.078125 -8.34375 1.070312 -8.421875 1.0625 -8.453125 L 2.390625 -8.453125 C 2.398438 -8.429688 2.40625 -8.363281 2.40625 -8.25 C 2.414062 -8.132812 2.421875 -8 2.421875 -7.84375 C 2.429688 -7.695312 2.4375 -7.546875 2.4375 -7.390625 C 2.445312 -7.242188 2.453125 -7.117188 2.453125 -7.015625 L 2.484375 -7.015625 C 2.617188 -7.253906 2.765625 -7.472656 2.921875 -7.671875 C 3.085938 -7.867188 3.273438 -8.035156 3.484375 -8.171875 C 3.703125 -8.316406 3.945312 -8.425781 4.21875 -8.5 C 4.5 -8.570312 4.820312 -8.609375 5.1875 -8.609375 C 5.65625 -8.609375 6.054688 -8.550781 6.390625 -8.4375 C 6.734375 -8.320312 7.015625 -8.144531 7.234375 -7.90625 C 7.453125 -7.664062 7.609375 -7.359375 7.703125 -6.984375 C 7.804688 -6.609375 7.859375 -6.160156 7.859375 -5.640625 L 7.859375 0 Z M 6.453125 0 \"/>\n",
       "</symbol>\n",
       "<symbol overflow=\"visible\" id=\"glyph1-15\">\n",
       "<path style=\"stroke:none;\" d=\"M 6.421875 -1.359375 C 6.160156 -0.816406 5.8125 -0.425781 5.375 -0.1875 C 4.945312 0.0390625 4.414062 0.15625 3.78125 0.15625 C 2.71875 0.15625 1.929688 -0.203125 1.421875 -0.921875 C 0.921875 -1.640625 0.671875 -2.726562 0.671875 -4.1875 C 0.671875 -7.132812 1.707031 -8.609375 3.78125 -8.609375 C 4.425781 -8.609375 4.960938 -8.488281 5.390625 -8.25 C 5.816406 -8.019531 6.160156 -7.648438 6.421875 -7.140625 L 6.4375 -7.140625 C 6.4375 -7.191406 6.429688 -7.273438 6.421875 -7.390625 C 6.421875 -7.503906 6.421875 -7.617188 6.421875 -7.734375 C 6.421875 -7.859375 6.421875 -7.972656 6.421875 -8.078125 C 6.421875 -8.191406 6.421875 -8.273438 6.421875 -8.328125 L 6.421875 -11.59375 L 7.828125 -11.59375 L 7.828125 -1.75 C 7.828125 -1.539062 7.828125 -1.34375 7.828125 -1.15625 C 7.828125 -0.96875 7.828125 -0.796875 7.828125 -0.640625 C 7.835938 -0.484375 7.84375 -0.347656 7.84375 -0.234375 C 7.851562 -0.128906 7.863281 -0.0507812 7.875 0 L 6.53125 0 C 6.519531 -0.0507812 6.507812 -0.125 6.5 -0.21875 C 6.488281 -0.320312 6.476562 -0.4375 6.46875 -0.5625 C 6.46875 -0.6875 6.460938 -0.816406 6.453125 -0.953125 C 6.453125 -1.085938 6.453125 -1.222656 6.453125 -1.359375 Z M 2.15625 -4.234375 C 2.15625 -3.648438 2.191406 -3.148438 2.265625 -2.734375 C 2.335938 -2.316406 2.453125 -1.972656 2.609375 -1.703125 C 2.773438 -1.441406 2.984375 -1.25 3.234375 -1.125 C 3.484375 -1 3.785156 -0.9375 4.140625 -0.9375 C 4.515625 -0.9375 4.84375 -0.992188 5.125 -1.109375 C 5.40625 -1.234375 5.640625 -1.425781 5.828125 -1.6875 C 6.023438 -1.957031 6.171875 -2.304688 6.265625 -2.734375 C 6.367188 -3.171875 6.421875 -3.703125 6.421875 -4.328125 C 6.421875 -4.929688 6.367188 -5.4375 6.265625 -5.84375 C 6.171875 -6.257812 6.023438 -6.59375 5.828125 -6.84375 C 5.640625 -7.101562 5.40625 -7.289062 5.125 -7.40625 C 4.84375 -7.519531 4.519531 -7.578125 4.15625 -7.578125 C 3.8125 -7.578125 3.515625 -7.515625 3.265625 -7.390625 C 3.015625 -7.273438 2.804688 -7.082031 2.640625 -6.8125 C 2.472656 -6.550781 2.347656 -6.207031 2.265625 -5.78125 C 2.191406 -5.351562 2.15625 -4.835938 2.15625 -4.234375 Z M 2.15625 -4.234375 \"/>\n",
       "</symbol>\n",
       "<symbol overflow=\"visible\" id=\"glyph1-16\">\n",
       "<path style=\"stroke:none;\" d=\"M 1.109375 0 L 1.109375 -6.484375 C 1.109375 -6.660156 1.109375 -6.84375 1.109375 -7.03125 C 1.109375 -7.21875 1.101562 -7.394531 1.09375 -7.5625 C 1.09375 -7.738281 1.085938 -7.898438 1.078125 -8.046875 C 1.078125 -8.203125 1.070312 -8.335938 1.0625 -8.453125 L 2.390625 -8.453125 C 2.398438 -8.335938 2.40625 -8.203125 2.40625 -8.046875 C 2.414062 -7.890625 2.425781 -7.726562 2.4375 -7.5625 C 2.445312 -7.40625 2.453125 -7.253906 2.453125 -7.109375 C 2.453125 -6.960938 2.453125 -6.835938 2.453125 -6.734375 L 2.484375 -6.734375 C 2.585938 -7.054688 2.691406 -7.332031 2.796875 -7.5625 C 2.910156 -7.800781 3.039062 -8 3.1875 -8.15625 C 3.34375 -8.3125 3.523438 -8.425781 3.734375 -8.5 C 3.941406 -8.570312 4.195312 -8.609375 4.5 -8.609375 C 4.613281 -8.609375 4.722656 -8.597656 4.828125 -8.578125 C 4.929688 -8.566406 5.007812 -8.550781 5.0625 -8.53125 L 5.0625 -7.25 C 4.96875 -7.269531 4.859375 -7.285156 4.734375 -7.296875 C 4.609375 -7.316406 4.46875 -7.328125 4.3125 -7.328125 C 3.988281 -7.328125 3.710938 -7.253906 3.484375 -7.109375 C 3.265625 -6.960938 3.082031 -6.757812 2.9375 -6.5 C 2.789062 -6.238281 2.679688 -5.929688 2.609375 -5.578125 C 2.546875 -5.222656 2.515625 -4.832031 2.515625 -4.40625 L 2.515625 0 Z M 1.109375 0 \"/>\n",
       "</symbol>\n",
       "<symbol overflow=\"visible\" id=\"glyph1-17\">\n",
       "<path style=\"stroke:none;\" d=\"M 1.078125 -10.25 L 1.078125 -11.59375 L 2.484375 -11.59375 L 2.484375 -10.25 Z M 1.078125 0 L 1.078125 -8.453125 L 2.484375 -8.453125 L 2.484375 0 Z M 1.078125 0 \"/>\n",
       "</symbol>\n",
       "<symbol overflow=\"visible\" id=\"glyph1-18\">\n",
       "<path style=\"stroke:none;\" d=\"M 8.234375 -4.234375 C 8.234375 -2.753906 7.90625 -1.648438 7.25 -0.921875 C 6.601562 -0.203125 5.660156 0.15625 4.421875 0.15625 C 3.828125 0.15625 3.296875 0.0664062 2.828125 -0.109375 C 2.367188 -0.285156 1.976562 -0.554688 1.65625 -0.921875 C 1.34375 -1.285156 1.097656 -1.742188 0.921875 -2.296875 C 0.753906 -2.847656 0.671875 -3.492188 0.671875 -4.234375 C 0.671875 -7.148438 1.9375 -8.609375 4.46875 -8.609375 C 5.125 -8.609375 5.6875 -8.515625 6.15625 -8.328125 C 6.632812 -8.148438 7.023438 -7.878906 7.328125 -7.515625 C 7.640625 -7.148438 7.867188 -6.691406 8.015625 -6.140625 C 8.160156 -5.597656 8.234375 -4.960938 8.234375 -4.234375 Z M 6.75 -4.234375 C 6.75 -4.890625 6.695312 -5.429688 6.59375 -5.859375 C 6.5 -6.285156 6.351562 -6.625 6.15625 -6.875 C 5.957031 -7.132812 5.71875 -7.316406 5.4375 -7.421875 C 5.15625 -7.523438 4.835938 -7.578125 4.484375 -7.578125 C 4.128906 -7.578125 3.804688 -7.519531 3.515625 -7.40625 C 3.222656 -7.300781 2.972656 -7.117188 2.765625 -6.859375 C 2.566406 -6.609375 2.414062 -6.269531 2.3125 -5.84375 C 2.207031 -5.414062 2.15625 -4.878906 2.15625 -4.234375 C 2.15625 -3.578125 2.210938 -3.035156 2.328125 -2.609375 C 2.441406 -2.179688 2.597656 -1.835938 2.796875 -1.578125 C 2.992188 -1.328125 3.226562 -1.148438 3.5 -1.046875 C 3.78125 -0.941406 4.082031 -0.890625 4.40625 -0.890625 C 4.757812 -0.890625 5.082031 -0.9375 5.375 -1.03125 C 5.664062 -1.132812 5.910156 -1.3125 6.109375 -1.5625 C 6.316406 -1.820312 6.472656 -2.164062 6.578125 -2.59375 C 6.691406 -3.03125 6.75 -3.578125 6.75 -4.234375 Z M 6.75 -4.234375 \"/>\n",
       "</symbol>\n",
       "<symbol overflow=\"visible\" id=\"glyph1-19\">\n",
       "<path style=\"stroke:none;\" d=\"M 4.28125 3.328125 C 3.800781 3.328125 3.375 3.273438 3 3.171875 C 2.625 3.078125 2.300781 2.9375 2.03125 2.75 C 1.769531 2.5625 1.554688 2.335938 1.390625 2.078125 C 1.222656 1.828125 1.101562 1.546875 1.03125 1.234375 L 2.4375 1.03125 C 2.53125 1.425781 2.738281 1.726562 3.0625 1.9375 C 3.382812 2.144531 3.804688 2.25 4.328125 2.25 C 4.640625 2.25 4.925781 2.203125 5.1875 2.109375 C 5.445312 2.023438 5.664062 1.882812 5.84375 1.6875 C 6.03125 1.5 6.171875 1.25 6.265625 0.9375 C 6.367188 0.625 6.421875 0.238281 6.421875 -0.21875 L 6.421875 -1.578125 L 6.40625 -1.578125 C 6.300781 -1.359375 6.171875 -1.148438 6.015625 -0.953125 C 5.867188 -0.765625 5.679688 -0.59375 5.453125 -0.4375 C 5.234375 -0.289062 4.976562 -0.171875 4.6875 -0.078125 C 4.394531 0.015625 4.0625 0.0625 3.6875 0.0625 C 3.15625 0.0625 2.695312 -0.0234375 2.3125 -0.203125 C 1.925781 -0.390625 1.613281 -0.660156 1.375 -1.015625 C 1.132812 -1.378906 0.957031 -1.828125 0.84375 -2.359375 C 0.726562 -2.890625 0.671875 -3.507812 0.671875 -4.21875 C 0.671875 -4.894531 0.726562 -5.503906 0.84375 -6.046875 C 0.957031 -6.585938 1.140625 -7.046875 1.390625 -7.421875 C 1.640625 -7.796875 1.96875 -8.082031 2.375 -8.28125 C 2.78125 -8.488281 3.269531 -8.59375 3.84375 -8.59375 C 4.445312 -8.59375 4.96875 -8.453125 5.40625 -8.171875 C 5.84375 -7.898438 6.179688 -7.515625 6.421875 -7.015625 L 6.4375 -7.015625 C 6.4375 -7.140625 6.441406 -7.28125 6.453125 -7.4375 C 6.460938 -7.601562 6.46875 -7.757812 6.46875 -7.90625 C 6.476562 -8.050781 6.488281 -8.175781 6.5 -8.28125 C 6.507812 -8.382812 6.519531 -8.441406 6.53125 -8.453125 L 7.875 -8.453125 C 7.863281 -8.410156 7.851562 -8.332031 7.84375 -8.21875 C 7.84375 -8.101562 7.835938 -7.96875 7.828125 -7.8125 C 7.828125 -7.65625 7.828125 -7.484375 7.828125 -7.296875 C 7.828125 -7.109375 7.828125 -6.910156 7.828125 -6.703125 L 7.828125 -0.25 C 7.828125 0.9375 7.535156 1.828125 6.953125 2.421875 C 6.367188 3.023438 5.476562 3.328125 4.28125 3.328125 Z M 6.421875 -4.234375 C 6.421875 -4.816406 6.359375 -5.316406 6.234375 -5.734375 C 6.109375 -6.160156 5.941406 -6.503906 5.734375 -6.765625 C 5.523438 -7.035156 5.285156 -7.234375 5.015625 -7.359375 C 4.742188 -7.484375 4.46875 -7.546875 4.1875 -7.546875 C 3.832031 -7.546875 3.523438 -7.484375 3.265625 -7.359375 C 3.003906 -7.234375 2.789062 -7.035156 2.625 -6.765625 C 2.457031 -6.492188 2.332031 -6.148438 2.25 -5.734375 C 2.164062 -5.316406 2.125 -4.816406 2.125 -4.234375 C 2.125 -3.617188 2.164062 -3.101562 2.25 -2.6875 C 2.332031 -2.28125 2.457031 -1.945312 2.625 -1.6875 C 2.789062 -1.4375 3 -1.253906 3.25 -1.140625 C 3.507812 -1.035156 3.816406 -0.984375 4.171875 -0.984375 C 4.453125 -0.984375 4.722656 -1.039062 4.984375 -1.15625 C 5.253906 -1.28125 5.492188 -1.472656 5.703125 -1.734375 C 5.921875 -1.992188 6.09375 -2.328125 6.21875 -2.734375 C 6.351562 -3.148438 6.421875 -3.648438 6.421875 -4.234375 Z M 6.421875 -4.234375 \"/>\n",
       "</symbol>\n",
       "<symbol overflow=\"visible\" id=\"glyph2-0\">\n",
       "<path style=\"stroke:none;\" d=\"M 0.671875 0 L 0.671875 -13.328125 L 5.984375 -13.328125 L 5.984375 0 Z M 1.328125 -0.671875 L 5.3125 -0.671875 L 5.3125 -12.671875 L 1.328125 -12.671875 Z M 1.328125 -0.671875 \"/>\n",
       "</symbol>\n",
       "<symbol overflow=\"visible\" id=\"glyph2-1\">\n",
       "<path style=\"stroke:none;\" d=\"M 13.34375 0 L 13.34375 -9.1875 C 13.34375 -9.507812 13.34375 -9.84375 13.34375 -10.1875 C 13.351562 -10.539062 13.363281 -10.859375 13.375 -11.140625 C 13.394531 -11.472656 13.410156 -11.796875 13.421875 -12.109375 C 13.335938 -11.773438 13.242188 -11.445312 13.140625 -11.125 C 13.054688 -10.84375 12.960938 -10.539062 12.859375 -10.21875 C 12.765625 -9.90625 12.664062 -9.625 12.5625 -9.375 L 9.015625 0 L 7.703125 0 L 4.109375 -9.375 C 4.066406 -9.46875 4.023438 -9.578125 3.984375 -9.703125 C 3.941406 -9.835938 3.894531 -9.976562 3.84375 -10.125 C 3.789062 -10.28125 3.738281 -10.429688 3.6875 -10.578125 C 3.644531 -10.734375 3.601562 -10.882812 3.5625 -11.03125 C 3.445312 -11.375 3.335938 -11.734375 3.234375 -12.109375 C 3.242188 -11.742188 3.253906 -11.382812 3.265625 -11.03125 C 3.273438 -10.71875 3.28125 -10.394531 3.28125 -10.0625 C 3.289062 -9.726562 3.296875 -9.4375 3.296875 -9.1875 L 3.296875 0 L 1.640625 0 L 1.640625 -13.765625 L 4.09375 -13.765625 L 7.75 -4.21875 C 7.800781 -4.09375 7.859375 -3.925781 7.921875 -3.71875 C 7.984375 -3.507812 8.039062 -3.296875 8.09375 -3.078125 C 8.15625 -2.867188 8.210938 -2.664062 8.265625 -2.46875 C 8.316406 -2.28125 8.351562 -2.132812 8.375 -2.03125 C 8.394531 -2.132812 8.429688 -2.285156 8.484375 -2.484375 C 8.535156 -2.679688 8.59375 -2.882812 8.65625 -3.09375 C 8.726562 -3.3125 8.796875 -3.519531 8.859375 -3.71875 C 8.921875 -3.925781 8.976562 -4.09375 9.03125 -4.21875 L 12.625 -13.765625 L 15.015625 -13.765625 L 15.015625 0 Z M 13.34375 0 \"/>\n",
       "</symbol>\n",
       "<symbol overflow=\"visible\" id=\"glyph2-2\">\n",
       "<path style=\"stroke:none;\" d=\"M 4.046875 0.203125 C 2.984375 0.203125 2.179688 -0.078125 1.640625 -0.640625 C 1.109375 -1.203125 0.84375 -1.972656 0.84375 -2.953125 C 0.84375 -3.648438 0.972656 -4.21875 1.234375 -4.65625 C 1.503906 -5.101562 1.851562 -5.453125 2.28125 -5.703125 C 2.707031 -5.960938 3.191406 -6.140625 3.734375 -6.234375 C 4.285156 -6.335938 4.84375 -6.394531 5.40625 -6.40625 L 7.78125 -6.453125 L 7.78125 -7.015625 C 7.78125 -7.453125 7.734375 -7.820312 7.640625 -8.125 C 7.554688 -8.4375 7.414062 -8.6875 7.21875 -8.875 C 7.03125 -9.0625 6.796875 -9.195312 6.515625 -9.28125 C 6.234375 -9.375 5.898438 -9.421875 5.515625 -9.421875 C 5.179688 -9.421875 4.875 -9.394531 4.59375 -9.34375 C 4.320312 -9.300781 4.082031 -9.210938 3.875 -9.078125 C 3.675781 -8.953125 3.515625 -8.78125 3.390625 -8.5625 C 3.273438 -8.351562 3.195312 -8.082031 3.15625 -7.75 L 1.3125 -7.90625 C 1.382812 -8.320312 1.507812 -8.703125 1.6875 -9.046875 C 1.875 -9.398438 2.132812 -9.703125 2.46875 -9.953125 C 2.800781 -10.210938 3.21875 -10.410156 3.71875 -10.546875 C 4.226562 -10.691406 4.84375 -10.765625 5.5625 -10.765625 C 6.882812 -10.765625 7.878906 -10.457031 8.546875 -9.84375 C 9.222656 -9.238281 9.5625 -8.359375 9.5625 -7.203125 L 9.5625 -2.65625 C 9.5625 -2.132812 9.628906 -1.738281 9.765625 -1.46875 C 9.898438 -1.207031 10.160156 -1.078125 10.546875 -1.078125 C 10.640625 -1.078125 10.734375 -1.082031 10.828125 -1.09375 C 10.929688 -1.113281 11.03125 -1.132812 11.125 -1.15625 L 11.125 -0.0625 C 10.90625 -0.0078125 10.6875 0.0234375 10.46875 0.046875 C 10.25 0.078125 10.015625 0.09375 9.765625 0.09375 C 9.429688 0.09375 9.144531 0.0507812 8.90625 -0.03125 C 8.675781 -0.125 8.484375 -0.257812 8.328125 -0.4375 C 8.179688 -0.613281 8.066406 -0.832031 7.984375 -1.09375 C 7.910156 -1.363281 7.863281 -1.671875 7.84375 -2.015625 L 7.78125 -2.015625 C 7.59375 -1.679688 7.382812 -1.375 7.15625 -1.09375 C 6.9375 -0.820312 6.675781 -0.59375 6.375 -0.40625 C 6.070312 -0.21875 5.726562 -0.0703125 5.34375 0.03125 C 4.96875 0.144531 4.535156 0.203125 4.046875 0.203125 Z M 4.4375 -1.125 C 5 -1.125 5.488281 -1.222656 5.90625 -1.421875 C 6.332031 -1.628906 6.679688 -1.894531 6.953125 -2.21875 C 7.234375 -2.539062 7.441406 -2.890625 7.578125 -3.265625 C 7.710938 -3.640625 7.78125 -4 7.78125 -4.34375 L 7.78125 -5.21875 L 5.859375 -5.171875 C 5.429688 -5.171875 5.019531 -5.140625 4.625 -5.078125 C 4.238281 -5.023438 3.898438 -4.914062 3.609375 -4.75 C 3.316406 -4.59375 3.082031 -4.367188 2.90625 -4.078125 C 2.738281 -3.785156 2.65625 -3.398438 2.65625 -2.921875 C 2.65625 -2.347656 2.804688 -1.90625 3.109375 -1.59375 C 3.421875 -1.28125 3.863281 -1.125 4.4375 -1.125 Z M 4.4375 -1.125 \"/>\n",
       "</symbol>\n",
       "<symbol overflow=\"visible\" id=\"glyph2-3\">\n",
       "<path style=\"stroke:none;\" d=\"M 9.28125 -2.921875 C 9.28125 -2.421875 9.179688 -1.976562 8.984375 -1.59375 C 8.796875 -1.207031 8.519531 -0.878906 8.15625 -0.609375 C 7.789062 -0.347656 7.34375 -0.144531 6.8125 0 C 6.28125 0.132812 5.671875 0.203125 4.984375 0.203125 C 4.378906 0.203125 3.828125 0.148438 3.328125 0.046875 C 2.835938 -0.046875 2.40625 -0.195312 2.03125 -0.40625 C 1.664062 -0.613281 1.359375 -0.882812 1.109375 -1.21875 C 0.859375 -1.5625 0.675781 -1.984375 0.5625 -2.484375 L 2.109375 -2.78125 C 2.253906 -2.21875 2.5625 -1.800781 3.03125 -1.53125 C 3.5 -1.269531 4.148438 -1.140625 4.984375 -1.140625 C 5.367188 -1.140625 5.71875 -1.164062 6.03125 -1.21875 C 6.34375 -1.269531 6.613281 -1.359375 6.84375 -1.484375 C 7.070312 -1.617188 7.25 -1.789062 7.375 -2 C 7.5 -2.207031 7.5625 -2.46875 7.5625 -2.78125 C 7.5625 -3.101562 7.488281 -3.363281 7.34375 -3.5625 C 7.195312 -3.769531 6.988281 -3.941406 6.71875 -4.078125 C 6.445312 -4.210938 6.117188 -4.332031 5.734375 -4.4375 C 5.359375 -4.539062 4.945312 -4.65625 4.5 -4.78125 C 4.070312 -4.882812 3.648438 -5.003906 3.234375 -5.140625 C 2.816406 -5.285156 2.441406 -5.46875 2.109375 -5.6875 C 1.773438 -5.914062 1.503906 -6.191406 1.296875 -6.515625 C 1.085938 -6.847656 0.984375 -7.269531 0.984375 -7.78125 C 0.984375 -8.738281 1.320312 -9.46875 2 -9.96875 C 2.6875 -10.476562 3.691406 -10.734375 5.015625 -10.734375 C 6.179688 -10.734375 7.101562 -10.523438 7.78125 -10.109375 C 8.46875 -9.703125 8.90625 -9.046875 9.09375 -8.140625 L 7.515625 -7.953125 C 7.453125 -8.222656 7.34375 -8.453125 7.1875 -8.640625 C 7.03125 -8.828125 6.84375 -8.976562 6.625 -9.09375 C 6.40625 -9.207031 6.15625 -9.285156 5.875 -9.328125 C 5.59375 -9.378906 5.304688 -9.40625 5.015625 -9.40625 C 4.210938 -9.40625 3.625 -9.285156 3.25 -9.046875 C 2.875 -8.804688 2.6875 -8.441406 2.6875 -7.953125 C 2.6875 -7.660156 2.753906 -7.421875 2.890625 -7.234375 C 3.035156 -7.054688 3.234375 -6.898438 3.484375 -6.765625 C 3.734375 -6.640625 4.03125 -6.53125 4.375 -6.4375 C 4.726562 -6.34375 5.117188 -6.242188 5.546875 -6.140625 C 5.828125 -6.066406 6.113281 -5.988281 6.40625 -5.90625 C 6.695312 -5.832031 6.976562 -5.738281 7.25 -5.625 C 7.53125 -5.507812 7.789062 -5.375 8.03125 -5.21875 C 8.28125 -5.0625 8.492188 -4.875 8.671875 -4.65625 C 8.859375 -4.445312 9.003906 -4.195312 9.109375 -3.90625 C 9.222656 -3.625 9.28125 -3.296875 9.28125 -2.921875 Z M 9.28125 -2.921875 \"/>\n",
       "</symbol>\n",
       "<symbol overflow=\"visible\" id=\"glyph2-4\">\n",
       "<path style=\"stroke:none;\" d=\"\"/>\n",
       "</symbol>\n",
       "<symbol overflow=\"visible\" id=\"glyph2-5\">\n",
       "<path style=\"stroke:none;\" d=\"M 1.234375 -5.203125 C 1.234375 -6.097656 1.300781 -6.957031 1.4375 -7.78125 C 1.582031 -8.613281 1.800781 -9.410156 2.09375 -10.171875 C 2.382812 -10.929688 2.753906 -11.671875 3.203125 -12.390625 C 3.660156 -13.109375 4.207031 -13.8125 4.84375 -14.5 L 6.546875 -14.5 C 5.929688 -13.8125 5.398438 -13.109375 4.953125 -12.390625 C 4.503906 -11.671875 4.132812 -10.925781 3.84375 -10.15625 C 3.5625 -9.394531 3.351562 -8.597656 3.21875 -7.765625 C 3.082031 -6.941406 3.015625 -6.078125 3.015625 -5.171875 C 3.015625 -4.265625 3.082031 -3.398438 3.21875 -2.578125 C 3.351562 -1.753906 3.5625 -0.957031 3.84375 -0.1875 C 4.132812 0.582031 4.503906 1.320312 4.953125 2.03125 C 5.398438 2.75 5.929688 3.453125 6.546875 4.140625 L 4.84375 4.140625 C 4.207031 3.453125 3.660156 2.75 3.203125 2.03125 C 2.753906 1.320312 2.382812 0.585938 2.09375 -0.171875 C 1.800781 -0.929688 1.582031 -1.722656 1.4375 -2.546875 C 1.300781 -3.378906 1.234375 -4.25 1.234375 -5.15625 Z M 1.234375 -5.203125 \"/>\n",
       "</symbol>\n",
       "<symbol overflow=\"visible\" id=\"glyph2-6\">\n",
       "<path style=\"stroke:none;\" d=\"M 5.359375 4.15625 C 4.742188 4.15625 4.203125 4.09375 3.734375 3.96875 C 3.265625 3.84375 2.863281 3.664062 2.53125 3.4375 C 2.207031 3.207031 1.941406 2.929688 1.734375 2.609375 C 1.523438 2.285156 1.375 1.929688 1.28125 1.546875 L 3.046875 1.296875 C 3.160156 1.773438 3.414062 2.144531 3.8125 2.40625 C 4.21875 2.675781 4.75 2.8125 5.40625 2.8125 C 5.800781 2.8125 6.160156 2.753906 6.484375 2.640625 C 6.804688 2.535156 7.082031 2.359375 7.3125 2.109375 C 7.539062 1.867188 7.71875 1.550781 7.84375 1.15625 C 7.96875 0.769531 8.03125 0.296875 8.03125 -0.265625 L 8.03125 -1.96875 L 8.015625 -1.96875 C 7.878906 -1.695312 7.710938 -1.4375 7.515625 -1.1875 C 7.328125 -0.945312 7.09375 -0.734375 6.8125 -0.546875 C 6.539062 -0.359375 6.222656 -0.207031 5.859375 -0.09375 C 5.492188 0.0195312 5.078125 0.078125 4.609375 0.078125 C 3.941406 0.078125 3.367188 -0.03125 2.890625 -0.25 C 2.410156 -0.476562 2.019531 -0.816406 1.71875 -1.265625 C 1.414062 -1.710938 1.191406 -2.269531 1.046875 -2.9375 C 0.910156 -3.613281 0.84375 -4.390625 0.84375 -5.265625 C 0.84375 -6.109375 0.910156 -6.867188 1.046875 -7.546875 C 1.191406 -8.222656 1.421875 -8.796875 1.734375 -9.265625 C 2.046875 -9.742188 2.453125 -10.109375 2.953125 -10.359375 C 3.460938 -10.609375 4.082031 -10.734375 4.8125 -10.734375 C 5.550781 -10.734375 6.195312 -10.5625 6.75 -10.21875 C 7.300781 -9.875 7.726562 -9.390625 8.03125 -8.765625 L 8.046875 -8.765625 C 8.046875 -8.921875 8.050781 -9.097656 8.0625 -9.296875 C 8.070312 -9.503906 8.082031 -9.695312 8.09375 -9.875 C 8.101562 -10.050781 8.113281 -10.203125 8.125 -10.328125 C 8.132812 -10.460938 8.148438 -10.539062 8.171875 -10.5625 L 9.828125 -10.5625 C 9.828125 -10.507812 9.820312 -10.410156 9.8125 -10.265625 C 9.8125 -10.128906 9.804688 -9.960938 9.796875 -9.765625 C 9.785156 -9.566406 9.78125 -9.347656 9.78125 -9.109375 C 9.78125 -8.878906 9.78125 -8.632812 9.78125 -8.375 L 9.78125 -0.296875 C 9.78125 1.179688 9.414062 2.289062 8.6875 3.03125 C 7.957031 3.78125 6.847656 4.15625 5.359375 4.15625 Z M 8.03125 -5.28125 C 8.03125 -6.019531 7.945312 -6.648438 7.78125 -7.171875 C 7.625 -7.691406 7.414062 -8.117188 7.15625 -8.453125 C 6.894531 -8.785156 6.597656 -9.03125 6.265625 -9.1875 C 5.929688 -9.34375 5.585938 -9.421875 5.234375 -9.421875 C 4.785156 -9.421875 4.398438 -9.34375 4.078125 -9.1875 C 3.753906 -9.03125 3.484375 -8.785156 3.265625 -8.453125 C 3.054688 -8.117188 2.898438 -7.6875 2.796875 -7.15625 C 2.703125 -6.632812 2.65625 -6.007812 2.65625 -5.28125 C 2.65625 -4.519531 2.703125 -3.878906 2.796875 -3.359375 C 2.898438 -2.847656 3.054688 -2.429688 3.265625 -2.109375 C 3.472656 -1.785156 3.738281 -1.554688 4.0625 -1.421875 C 4.382812 -1.285156 4.765625 -1.21875 5.203125 -1.21875 C 5.554688 -1.21875 5.898438 -1.289062 6.234375 -1.4375 C 6.566406 -1.59375 6.867188 -1.832031 7.140625 -2.15625 C 7.410156 -2.476562 7.625 -2.894531 7.78125 -3.40625 C 7.945312 -3.925781 8.03125 -4.550781 8.03125 -5.28125 Z M 8.03125 -5.28125 \"/>\n",
       "</symbol>\n",
       "<symbol overflow=\"visible\" id=\"glyph2-7\">\n",
       "<path style=\"stroke:none;\" d=\"M 1.390625 0 L 1.390625 -8.109375 C 1.390625 -8.328125 1.382812 -8.550781 1.375 -8.78125 C 1.375 -9.007812 1.367188 -9.234375 1.359375 -9.453125 C 1.359375 -9.671875 1.351562 -9.875 1.34375 -10.0625 C 1.34375 -10.25 1.335938 -10.414062 1.328125 -10.5625 L 2.984375 -10.5625 C 2.992188 -10.414062 3.003906 -10.242188 3.015625 -10.046875 C 3.023438 -9.859375 3.035156 -9.660156 3.046875 -9.453125 C 3.054688 -9.253906 3.0625 -9.0625 3.0625 -8.875 C 3.0625 -8.695312 3.0625 -8.539062 3.0625 -8.40625 L 3.109375 -8.40625 C 3.234375 -8.8125 3.363281 -9.160156 3.5 -9.453125 C 3.644531 -9.753906 3.8125 -10 4 -10.1875 C 4.1875 -10.382812 4.410156 -10.53125 4.671875 -10.625 C 4.929688 -10.71875 5.242188 -10.765625 5.609375 -10.765625 C 5.753906 -10.765625 5.890625 -10.75 6.015625 -10.71875 C 6.148438 -10.695312 6.253906 -10.679688 6.328125 -10.671875 L 6.328125 -9.046875 C 6.210938 -9.085938 6.078125 -9.113281 5.921875 -9.125 C 5.765625 -9.144531 5.585938 -9.15625 5.390625 -9.15625 C 4.984375 -9.15625 4.640625 -9.0625 4.359375 -8.875 C 4.078125 -8.695312 3.847656 -8.445312 3.671875 -8.125 C 3.492188 -7.800781 3.359375 -7.414062 3.265625 -6.96875 C 3.179688 -6.519531 3.140625 -6.035156 3.140625 -5.515625 L 3.140625 0 Z M 1.390625 0 \"/>\n",
       "</symbol>\n",
       "<symbol overflow=\"visible\" id=\"glyph2-8\">\n",
       "<path style=\"stroke:none;\" d=\"M 7.5 0 L 7.5 -6.703125 C 7.5 -7.210938 7.46875 -7.640625 7.40625 -7.984375 C 7.34375 -8.328125 7.234375 -8.601562 7.078125 -8.8125 C 6.921875 -9.03125 6.71875 -9.179688 6.46875 -9.265625 C 6.226562 -9.359375 5.925781 -9.40625 5.5625 -9.40625 C 5.195312 -9.40625 4.863281 -9.332031 4.5625 -9.1875 C 4.257812 -9.039062 4.003906 -8.828125 3.796875 -8.546875 C 3.585938 -8.273438 3.425781 -7.9375 3.3125 -7.53125 C 3.195312 -7.125 3.140625 -6.65625 3.140625 -6.125 L 3.140625 0 L 1.390625 0 L 1.390625 -8.3125 C 1.390625 -8.53125 1.382812 -8.757812 1.375 -9 C 1.375 -9.25 1.367188 -9.484375 1.359375 -9.703125 C 1.359375 -9.921875 1.351562 -10.109375 1.34375 -10.265625 C 1.34375 -10.421875 1.335938 -10.519531 1.328125 -10.5625 L 2.984375 -10.5625 C 2.992188 -10.53125 3 -10.441406 3 -10.296875 C 3.007812 -10.160156 3.019531 -10 3.03125 -9.8125 C 3.039062 -9.625 3.046875 -9.429688 3.046875 -9.234375 C 3.054688 -9.046875 3.0625 -8.890625 3.0625 -8.765625 L 3.09375 -8.765625 C 3.25 -9.066406 3.414062 -9.34375 3.59375 -9.59375 C 3.78125 -9.84375 3.992188 -10.050781 4.234375 -10.21875 C 4.484375 -10.394531 4.765625 -10.53125 5.078125 -10.625 C 5.398438 -10.71875 5.769531 -10.765625 6.1875 -10.765625 C 6.988281 -10.765625 7.617188 -10.601562 8.078125 -10.28125 C 8.546875 -9.96875 8.867188 -9.460938 9.046875 -8.765625 L 9.078125 -8.765625 C 9.234375 -9.066406 9.410156 -9.34375 9.609375 -9.59375 C 9.804688 -9.84375 10.035156 -10.050781 10.296875 -10.21875 C 10.554688 -10.394531 10.847656 -10.53125 11.171875 -10.625 C 11.492188 -10.71875 11.863281 -10.765625 12.28125 -10.765625 C 12.820312 -10.765625 13.285156 -10.691406 13.671875 -10.546875 C 14.054688 -10.398438 14.367188 -10.175781 14.609375 -9.875 C 14.859375 -9.582031 15.039062 -9.195312 15.15625 -8.71875 C 15.28125 -8.25 15.34375 -7.691406 15.34375 -7.046875 L 15.34375 0 L 13.609375 0 L 13.609375 -6.703125 C 13.609375 -7.210938 13.570312 -7.640625 13.5 -7.984375 C 13.4375 -8.328125 13.328125 -8.601562 13.171875 -8.8125 C 13.023438 -9.03125 12.828125 -9.179688 12.578125 -9.265625 C 12.328125 -9.359375 12.023438 -9.40625 11.671875 -9.40625 C 11.296875 -9.40625 10.957031 -9.332031 10.65625 -9.1875 C 10.363281 -9.050781 10.109375 -8.847656 9.890625 -8.578125 C 9.679688 -8.304688 9.519531 -7.960938 9.40625 -7.546875 C 9.289062 -7.140625 9.234375 -6.664062 9.234375 -6.125 L 9.234375 0 Z M 7.5 0 \"/>\n",
       "</symbol>\n",
       "<symbol overflow=\"visible\" id=\"glyph2-9\">\n",
       "<path style=\"stroke:none;\" d=\"M 5.421875 -5.15625 C 5.421875 -4.25 5.351562 -3.378906 5.21875 -2.546875 C 5.082031 -1.722656 4.863281 -0.929688 4.5625 -0.171875 C 4.269531 0.585938 3.894531 1.320312 3.4375 2.03125 C 2.988281 2.75 2.445312 3.453125 1.8125 4.140625 L 0.125 4.140625 C 0.726562 3.453125 1.253906 2.75 1.703125 2.03125 C 2.148438 1.320312 2.515625 0.582031 2.796875 -0.1875 C 3.085938 -0.957031 3.300781 -1.753906 3.4375 -2.578125 C 3.582031 -3.398438 3.65625 -4.265625 3.65625 -5.171875 C 3.65625 -6.078125 3.582031 -6.941406 3.4375 -7.765625 C 3.300781 -8.597656 3.085938 -9.394531 2.796875 -10.15625 C 2.515625 -10.925781 2.148438 -11.671875 1.703125 -12.390625 C 1.253906 -13.109375 0.726562 -13.8125 0.125 -14.5 L 1.8125 -14.5 C 2.445312 -13.8125 2.988281 -13.109375 3.4375 -12.390625 C 3.894531 -11.671875 4.269531 -10.929688 4.5625 -10.171875 C 4.863281 -9.410156 5.082031 -8.613281 5.21875 -7.78125 C 5.351562 -6.957031 5.421875 -6.097656 5.421875 -5.203125 Z M 5.421875 -5.15625 \"/>\n",
       "</symbol>\n",
       "<symbol overflow=\"visible\" id=\"glyph2-10\">\n",
       "<path style=\"stroke:none;\" d=\"M 10.5625 0 L 3.203125 -11.71875 C 3.210938 -11.394531 3.226562 -11.078125 3.25 -10.765625 C 3.257812 -10.503906 3.269531 -10.222656 3.28125 -9.921875 C 3.289062 -9.628906 3.296875 -9.367188 3.296875 -9.140625 L 3.296875 0 L 1.640625 0 L 1.640625 -13.765625 L 3.8125 -13.765625 L 11.25 -1.96875 C 11.226562 -2.28125 11.207031 -2.597656 11.1875 -2.921875 C 11.175781 -3.191406 11.164062 -3.488281 11.15625 -3.8125 C 11.144531 -4.132812 11.140625 -4.441406 11.140625 -4.734375 L 11.140625 -13.765625 L 12.8125 -13.765625 L 12.8125 0 Z M 10.5625 0 \"/>\n",
       "</symbol>\n",
       "<symbol overflow=\"visible\" id=\"glyph2-11\">\n",
       "<path style=\"stroke:none;\" d=\"M 2.703125 -4.90625 C 2.703125 -4.351562 2.753906 -3.84375 2.859375 -3.375 C 2.972656 -2.914062 3.148438 -2.519531 3.390625 -2.1875 C 3.628906 -1.851562 3.929688 -1.59375 4.296875 -1.40625 C 4.671875 -1.21875 5.117188 -1.125 5.640625 -1.125 C 6.398438 -1.125 7.007812 -1.273438 7.46875 -1.578125 C 7.9375 -1.890625 8.25 -2.28125 8.40625 -2.75 L 9.953125 -2.3125 C 9.835938 -2.007812 9.679688 -1.710938 9.484375 -1.421875 C 9.285156 -1.128906 9.019531 -0.863281 8.6875 -0.625 C 8.351562 -0.382812 7.9375 -0.1875 7.4375 -0.03125 C 6.945312 0.125 6.347656 0.203125 5.640625 0.203125 C 4.078125 0.203125 2.882812 -0.257812 2.0625 -1.1875 C 1.25 -2.125 0.84375 -3.515625 0.84375 -5.359375 C 0.84375 -6.347656 0.96875 -7.179688 1.21875 -7.859375 C 1.46875 -8.546875 1.804688 -9.101562 2.234375 -9.53125 C 2.660156 -9.96875 3.160156 -10.28125 3.734375 -10.46875 C 4.304688 -10.664062 4.921875 -10.765625 5.578125 -10.765625 C 6.460938 -10.765625 7.203125 -10.617188 7.796875 -10.328125 C 8.390625 -10.046875 8.867188 -9.648438 9.234375 -9.140625 C 9.597656 -8.640625 9.851562 -8.046875 10 -7.359375 C 10.15625 -6.679688 10.234375 -5.941406 10.234375 -5.140625 L 10.234375 -4.90625 Z M 8.421875 -6.265625 C 8.316406 -7.378906 8.03125 -8.191406 7.5625 -8.703125 C 7.09375 -9.210938 6.421875 -9.46875 5.546875 -9.46875 C 5.253906 -9.46875 4.945312 -9.421875 4.625 -9.328125 C 4.300781 -9.234375 4.003906 -9.0625 3.734375 -8.8125 C 3.460938 -8.570312 3.226562 -8.242188 3.03125 -7.828125 C 2.84375 -7.421875 2.738281 -6.898438 2.71875 -6.265625 Z M 8.421875 -6.265625 \"/>\n",
       "</symbol>\n",
       "<symbol overflow=\"visible\" id=\"glyph2-12\">\n",
       "<path style=\"stroke:none;\" d=\"M 10.28125 -5.296875 C 10.28125 -3.441406 9.875 -2.0625 9.0625 -1.15625 C 8.25 -0.25 7.066406 0.203125 5.515625 0.203125 C 4.785156 0.203125 4.128906 0.09375 3.546875 -0.125 C 2.960938 -0.351562 2.46875 -0.695312 2.0625 -1.15625 C 1.664062 -1.613281 1.363281 -2.179688 1.15625 -2.859375 C 0.945312 -3.546875 0.84375 -4.359375 0.84375 -5.296875 C 0.84375 -8.941406 2.421875 -10.765625 5.578125 -10.765625 C 6.398438 -10.765625 7.109375 -10.648438 7.703125 -10.421875 C 8.296875 -10.191406 8.78125 -9.847656 9.15625 -9.390625 C 9.539062 -8.941406 9.820312 -8.375 10 -7.6875 C 10.1875 -7 10.28125 -6.203125 10.28125 -5.296875 Z M 8.4375 -5.296875 C 8.4375 -6.117188 8.375 -6.796875 8.25 -7.328125 C 8.125 -7.859375 7.9375 -8.28125 7.6875 -8.59375 C 7.445312 -8.914062 7.148438 -9.140625 6.796875 -9.265625 C 6.441406 -9.398438 6.046875 -9.46875 5.609375 -9.46875 C 5.160156 -9.46875 4.753906 -9.398438 4.390625 -9.265625 C 4.023438 -9.128906 3.71875 -8.898438 3.46875 -8.578125 C 3.21875 -8.253906 3.023438 -7.828125 2.890625 -7.296875 C 2.753906 -6.765625 2.6875 -6.097656 2.6875 -5.296875 C 2.6875 -4.472656 2.753906 -3.789062 2.890625 -3.25 C 3.035156 -2.71875 3.234375 -2.289062 3.484375 -1.96875 C 3.742188 -1.65625 4.039062 -1.429688 4.375 -1.296875 C 4.71875 -1.171875 5.09375 -1.109375 5.5 -1.109375 C 5.945312 -1.109375 6.351562 -1.171875 6.71875 -1.296875 C 7.082031 -1.421875 7.390625 -1.640625 7.640625 -1.953125 C 7.898438 -2.273438 8.097656 -2.707031 8.234375 -3.25 C 8.367188 -3.789062 8.4375 -4.472656 8.4375 -5.296875 Z M 8.4375 -5.296875 \"/>\n",
       "</symbol>\n",
       "<symbol overflow=\"visible\" id=\"glyph2-13\">\n",
       "<path style=\"stroke:none;\" d=\"M 3.53125 -9.28125 L 3.53125 0 L 1.765625 0 L 1.765625 -9.28125 L 0.28125 -9.28125 L 0.28125 -10.5625 L 1.765625 -10.5625 L 1.765625 -11.765625 C 1.765625 -12.140625 1.800781 -12.492188 1.875 -12.828125 C 1.945312 -13.160156 2.078125 -13.445312 2.265625 -13.6875 C 2.460938 -13.925781 2.726562 -14.113281 3.0625 -14.25 C 3.394531 -14.394531 3.820312 -14.46875 4.34375 -14.46875 C 4.550781 -14.46875 4.765625 -14.457031 4.984375 -14.4375 C 5.210938 -14.425781 5.414062 -14.398438 5.59375 -14.359375 L 5.59375 -13.015625 C 5.476562 -13.035156 5.347656 -13.050781 5.203125 -13.0625 C 5.054688 -13.082031 4.925781 -13.09375 4.8125 -13.09375 C 4.550781 -13.09375 4.335938 -13.054688 4.171875 -12.984375 C 4.003906 -12.910156 3.875 -12.804688 3.78125 -12.671875 C 3.6875 -12.546875 3.617188 -12.382812 3.578125 -12.1875 C 3.546875 -11.988281 3.53125 -11.765625 3.53125 -11.515625 L 3.53125 -10.5625 L 5.59375 -10.5625 L 5.59375 -9.28125 Z M 3.53125 -9.28125 \"/>\n",
       "</symbol>\n",
       "<symbol overflow=\"visible\" id=\"glyph2-14\">\n",
       "<path style=\"stroke:none;\" d=\"M 5.40625 -0.078125 C 5.144531 -0.00390625 4.875 0.0507812 4.59375 0.09375 C 4.320312 0.132812 4.003906 0.15625 3.640625 0.15625 C 2.234375 0.15625 1.53125 -0.640625 1.53125 -2.234375 L 1.53125 -9.28125 L 0.296875 -9.28125 L 0.296875 -10.5625 L 1.59375 -10.5625 L 2.109375 -12.9375 L 3.28125 -12.9375 L 3.28125 -10.5625 L 5.234375 -10.5625 L 5.234375 -9.28125 L 3.28125 -9.28125 L 3.28125 -2.625 C 3.28125 -2.113281 3.363281 -1.753906 3.53125 -1.546875 C 3.695312 -1.335938 3.984375 -1.234375 4.390625 -1.234375 C 4.566406 -1.234375 4.734375 -1.242188 4.890625 -1.265625 C 5.046875 -1.296875 5.21875 -1.332031 5.40625 -1.375 Z M 5.40625 -0.078125 \"/>\n",
       "</symbol>\n",
       "<symbol overflow=\"visible\" id=\"glyph2-15\">\n",
       "<path style=\"stroke:none;\" d=\"M 3.09375 -8.765625 C 3.289062 -9.117188 3.503906 -9.421875 3.734375 -9.671875 C 3.960938 -9.921875 4.210938 -10.125 4.484375 -10.28125 C 4.753906 -10.445312 5.050781 -10.566406 5.375 -10.640625 C 5.707031 -10.722656 6.070312 -10.765625 6.46875 -10.765625 C 7.144531 -10.765625 7.703125 -10.671875 8.140625 -10.484375 C 8.578125 -10.304688 8.921875 -10.050781 9.171875 -9.71875 C 9.421875 -9.394531 9.59375 -9.003906 9.6875 -8.546875 C 9.78125 -8.085938 9.828125 -7.585938 9.828125 -7.046875 L 9.828125 0 L 8.0625 0 L 8.0625 -6.703125 C 8.0625 -7.148438 8.03125 -7.539062 7.96875 -7.875 C 7.914062 -8.21875 7.8125 -8.5 7.65625 -8.71875 C 7.5 -8.945312 7.273438 -9.117188 6.984375 -9.234375 C 6.703125 -9.347656 6.332031 -9.40625 5.875 -9.40625 C 5.457031 -9.40625 5.082031 -9.328125 4.75 -9.171875 C 4.414062 -9.023438 4.128906 -8.816406 3.890625 -8.546875 C 3.648438 -8.273438 3.460938 -7.941406 3.328125 -7.546875 C 3.203125 -7.160156 3.140625 -6.722656 3.140625 -6.234375 L 3.140625 0 L 1.390625 0 L 1.390625 -14.5 L 3.140625 -14.5 L 3.140625 -10.71875 C 3.140625 -10.507812 3.132812 -10.296875 3.125 -10.078125 C 3.125 -9.859375 3.117188 -9.65625 3.109375 -9.46875 C 3.097656 -9.289062 3.085938 -9.140625 3.078125 -9.015625 C 3.078125 -8.890625 3.070312 -8.804688 3.0625 -8.765625 Z M 3.09375 -8.765625 \"/>\n",
       "</symbol>\n",
       "<symbol overflow=\"visible\" id=\"glyph2-16\">\n",
       "<path style=\"stroke:none;\" d=\"M 3.5 -12.234375 L 3.5 -7.125 L 11.1875 -7.125 L 11.1875 -5.578125 L 3.5 -5.578125 L 3.5 0 L 1.640625 0 L 1.640625 -13.765625 L 11.421875 -13.765625 L 11.421875 -12.234375 Z M 3.5 -12.234375 \"/>\n",
       "</symbol>\n",
       "<symbol overflow=\"visible\" id=\"glyph2-17\">\n",
       "<path style=\"stroke:none;\" d=\"M 3.0625 -10.5625 L 3.0625 -3.875 C 3.0625 -3.351562 3.097656 -2.921875 3.171875 -2.578125 C 3.253906 -2.234375 3.378906 -1.953125 3.546875 -1.734375 C 3.710938 -1.523438 3.929688 -1.375 4.203125 -1.28125 C 4.484375 -1.195312 4.832031 -1.15625 5.25 -1.15625 C 5.664062 -1.15625 6.039062 -1.226562 6.375 -1.375 C 6.707031 -1.53125 6.992188 -1.742188 7.234375 -2.015625 C 7.472656 -2.296875 7.65625 -2.640625 7.78125 -3.046875 C 7.914062 -3.453125 7.984375 -3.914062 7.984375 -4.4375 L 7.984375 -10.5625 L 9.734375 -10.5625 L 9.734375 -2.25 C 9.734375 -2.03125 9.734375 -1.796875 9.734375 -1.546875 C 9.742188 -1.304688 9.75 -1.078125 9.75 -0.859375 C 9.757812 -0.640625 9.765625 -0.453125 9.765625 -0.296875 C 9.773438 -0.140625 9.785156 -0.0390625 9.796875 0 L 8.140625 0 C 8.128906 -0.03125 8.117188 -0.117188 8.109375 -0.265625 C 8.109375 -0.410156 8.101562 -0.570312 8.09375 -0.75 C 8.082031 -0.9375 8.070312 -1.125 8.0625 -1.3125 C 8.0625 -1.507812 8.0625 -1.675781 8.0625 -1.8125 L 8.03125 -1.8125 C 7.863281 -1.5 7.675781 -1.21875 7.46875 -0.96875 C 7.269531 -0.726562 7.035156 -0.519531 6.765625 -0.34375 C 6.503906 -0.175781 6.195312 -0.046875 5.84375 0.046875 C 5.5 0.148438 5.101562 0.203125 4.65625 0.203125 C 4.0625 0.203125 3.550781 0.128906 3.125 -0.015625 C 2.707031 -0.160156 2.363281 -0.382812 2.09375 -0.6875 C 1.820312 -0.988281 1.617188 -1.375 1.484375 -1.84375 C 1.359375 -2.3125 1.296875 -2.875 1.296875 -3.53125 L 1.296875 -10.5625 Z M 3.0625 -10.5625 \"/>\n",
       "</symbol>\n",
       "<symbol overflow=\"visible\" id=\"glyph2-18\">\n",
       "<path style=\"stroke:none;\" d=\"M 1.34375 -12.8125 L 1.34375 -14.5 L 3.09375 -14.5 L 3.09375 -12.8125 Z M 1.34375 0 L 1.34375 -10.5625 L 3.09375 -10.5625 L 3.09375 0 Z M 1.34375 0 \"/>\n",
       "</symbol>\n",
       "<symbol overflow=\"visible\" id=\"glyph3-0\">\n",
       "<path style=\"stroke:none;\" d=\"M 0 -0.671875 L -13.328125 -0.671875 L -13.328125 -5.984375 L 0 -5.984375 Z M -0.671875 -1.328125 L -0.671875 -5.3125 L -12.671875 -5.3125 L -12.671875 -1.328125 Z M -0.671875 -1.328125 \"/>\n",
       "</symbol>\n",
       "<symbol overflow=\"visible\" id=\"glyph3-1\">\n",
       "<path style=\"stroke:none;\" d=\"M 0 -14.75 L 0 -12.53125 L -8.734375 -10.140625 C -8.984375 -10.078125 -9.273438 -10.003906 -9.609375 -9.921875 C -9.953125 -9.835938 -10.28125 -9.765625 -10.59375 -9.703125 C -10.945312 -9.617188 -11.3125 -9.539062 -11.6875 -9.46875 C -11.300781 -9.382812 -10.929688 -9.300781 -10.578125 -9.21875 C -10.265625 -9.144531 -9.941406 -9.066406 -9.609375 -8.984375 C -9.273438 -8.910156 -8.984375 -8.835938 -8.734375 -8.765625 L 0 -6.375 L 0 -4.140625 L -13.765625 -0.09375 L -13.765625 -2.03125 L -5.015625 -4.5 C -4.609375 -4.613281 -4.203125 -4.71875 -3.796875 -4.8125 C -3.390625 -4.914062 -3.03125 -5.003906 -2.71875 -5.078125 C -2.34375 -5.160156 -1.984375 -5.238281 -1.640625 -5.3125 C -2.085938 -5.40625 -2.53125 -5.503906 -2.96875 -5.609375 C -3.15625 -5.660156 -3.347656 -5.707031 -3.546875 -5.75 C -3.742188 -5.800781 -3.941406 -5.847656 -4.140625 -5.890625 C -4.335938 -5.941406 -4.523438 -5.988281 -4.703125 -6.03125 C -4.878906 -6.082031 -5.046875 -6.128906 -5.203125 -6.171875 L -13.765625 -8.5625 L -13.765625 -10.359375 L -5.203125 -12.75 C -5.046875 -12.78125 -4.878906 -12.820312 -4.703125 -12.875 C -4.523438 -12.925781 -4.335938 -12.972656 -4.140625 -13.015625 C -3.953125 -13.066406 -3.753906 -13.113281 -3.546875 -13.15625 C -3.347656 -13.207031 -3.160156 -13.253906 -2.984375 -13.296875 C -2.546875 -13.398438 -2.097656 -13.503906 -1.640625 -13.609375 C -1.640625 -13.609375 -1.75 -13.632812 -1.96875 -13.6875 C -2.195312 -13.738281 -2.476562 -13.800781 -2.8125 -13.875 C -3.15625 -13.957031 -3.523438 -14.046875 -3.921875 -14.140625 C -4.316406 -14.234375 -4.679688 -14.332031 -5.015625 -14.4375 L -13.765625 -16.859375 L -13.765625 -18.8125 Z M 0 -14.75 \"/>\n",
       "</symbol>\n",
       "<symbol overflow=\"visible\" id=\"glyph3-2\">\n",
       "<path style=\"stroke:none;\" d=\"M -12.8125 -1.34375 L -14.5 -1.34375 L -14.5 -3.09375 L -12.8125 -3.09375 Z M 0 -1.34375 L -10.5625 -1.34375 L -10.5625 -3.09375 L 0 -3.09375 Z M 0 -1.34375 \"/>\n",
       "</symbol>\n",
       "<symbol overflow=\"visible\" id=\"glyph3-3\">\n",
       "<path style=\"stroke:none;\" d=\"M -1.703125 -8.015625 C -1.023438 -7.691406 -0.535156 -7.257812 -0.234375 -6.71875 C 0.0546875 -6.1875 0.203125 -5.523438 0.203125 -4.734375 C 0.203125 -3.390625 -0.242188 -2.40625 -1.140625 -1.78125 C -2.046875 -1.15625 -3.410156 -0.84375 -5.234375 -0.84375 C -8.921875 -0.84375 -10.765625 -2.140625 -10.765625 -4.734375 C -10.765625 -5.523438 -10.617188 -6.1875 -10.328125 -6.71875 C -10.035156 -7.257812 -9.566406 -7.691406 -8.921875 -8.015625 L -8.921875 -8.03125 C -8.992188 -8.03125 -9.097656 -8.03125 -9.234375 -8.03125 C -9.367188 -8.03125 -9.515625 -8.023438 -9.671875 -8.015625 C -9.828125 -8.015625 -9.972656 -8.015625 -10.109375 -8.015625 C -10.242188 -8.015625 -10.34375 -8.015625 -10.40625 -8.015625 L -14.5 -8.015625 L -14.5 -9.78125 L -2.171875 -9.78125 C -1.921875 -9.78125 -1.675781 -9.78125 -1.4375 -9.78125 C -1.207031 -9.78125 -0.992188 -9.785156 -0.796875 -9.796875 C -0.609375 -9.804688 -0.441406 -9.8125 -0.296875 -9.8125 C -0.160156 -9.820312 -0.0625 -9.828125 0 -9.828125 L 0 -8.15625 C -0.0625 -8.144531 -0.148438 -8.132812 -0.265625 -8.125 C -0.390625 -8.113281 -0.53125 -8.101562 -0.6875 -8.09375 C -0.84375 -8.082031 -1.007812 -8.070312 -1.1875 -8.0625 C -1.363281 -8.0625 -1.535156 -8.0625 -1.703125 -8.0625 Z M -5.296875 -2.6875 C -4.566406 -2.6875 -3.941406 -2.726562 -3.421875 -2.8125 C -2.898438 -2.90625 -2.46875 -3.050781 -2.125 -3.25 C -1.789062 -3.457031 -1.546875 -3.71875 -1.390625 -4.03125 C -1.234375 -4.34375 -1.15625 -4.722656 -1.15625 -5.171875 C -1.15625 -5.640625 -1.226562 -6.050781 -1.375 -6.40625 C -1.53125 -6.757812 -1.773438 -7.050781 -2.109375 -7.28125 C -2.453125 -7.519531 -2.890625 -7.703125 -3.421875 -7.828125 C -3.960938 -7.953125 -4.625 -8.015625 -5.40625 -8.015625 C -6.15625 -8.015625 -6.789062 -7.953125 -7.3125 -7.828125 C -7.832031 -7.703125 -8.25 -7.519531 -8.5625 -7.28125 C -8.882812 -7.039062 -9.113281 -6.742188 -9.25 -6.390625 C -9.394531 -6.046875 -9.46875 -5.648438 -9.46875 -5.203125 C -9.46875 -4.765625 -9.390625 -4.390625 -9.234375 -4.078125 C -9.085938 -3.765625 -8.847656 -3.503906 -8.515625 -3.296875 C -8.179688 -3.085938 -7.75 -2.929688 -7.21875 -2.828125 C -6.6875 -2.734375 -6.046875 -2.6875 -5.296875 -2.6875 Z M -5.296875 -2.6875 \"/>\n",
       "</symbol>\n",
       "<symbol overflow=\"visible\" id=\"glyph3-4\">\n",
       "<path style=\"stroke:none;\" d=\"M -0.078125 -5.40625 C -0.00390625 -5.144531 0.0507812 -4.875 0.09375 -4.59375 C 0.132812 -4.320312 0.15625 -4.003906 0.15625 -3.640625 C 0.15625 -2.234375 -0.640625 -1.53125 -2.234375 -1.53125 L -9.28125 -1.53125 L -9.28125 -0.296875 L -10.5625 -0.296875 L -10.5625 -1.59375 L -12.9375 -2.109375 L -12.9375 -3.28125 L -10.5625 -3.28125 L -10.5625 -5.234375 L -9.28125 -5.234375 L -9.28125 -3.28125 L -2.625 -3.28125 C -2.113281 -3.28125 -1.753906 -3.363281 -1.546875 -3.53125 C -1.335938 -3.695312 -1.234375 -3.984375 -1.234375 -4.390625 C -1.234375 -4.566406 -1.242188 -4.734375 -1.265625 -4.890625 C -1.296875 -5.046875 -1.332031 -5.21875 -1.375 -5.40625 Z M -0.078125 -5.40625 \"/>\n",
       "</symbol>\n",
       "<symbol overflow=\"visible\" id=\"glyph3-5\">\n",
       "<path style=\"stroke:none;\" d=\"M -8.765625 -3.09375 C -9.117188 -3.289062 -9.421875 -3.503906 -9.671875 -3.734375 C -9.921875 -3.960938 -10.125 -4.210938 -10.28125 -4.484375 C -10.445312 -4.753906 -10.566406 -5.050781 -10.640625 -5.375 C -10.722656 -5.707031 -10.765625 -6.070312 -10.765625 -6.46875 C -10.765625 -7.144531 -10.671875 -7.703125 -10.484375 -8.140625 C -10.304688 -8.578125 -10.050781 -8.921875 -9.71875 -9.171875 C -9.394531 -9.421875 -9.003906 -9.59375 -8.546875 -9.6875 C -8.085938 -9.78125 -7.585938 -9.828125 -7.046875 -9.828125 L 0 -9.828125 L 0 -8.0625 L -6.703125 -8.0625 C -7.148438 -8.0625 -7.539062 -8.03125 -7.875 -7.96875 C -8.21875 -7.914062 -8.5 -7.8125 -8.71875 -7.65625 C -8.945312 -7.5 -9.117188 -7.273438 -9.234375 -6.984375 C -9.347656 -6.703125 -9.40625 -6.332031 -9.40625 -5.875 C -9.40625 -5.457031 -9.328125 -5.082031 -9.171875 -4.75 C -9.023438 -4.414062 -8.816406 -4.128906 -8.546875 -3.890625 C -8.273438 -3.648438 -7.941406 -3.460938 -7.546875 -3.328125 C -7.160156 -3.203125 -6.722656 -3.140625 -6.234375 -3.140625 L 0 -3.140625 L 0 -1.390625 L -14.5 -1.390625 L -14.5 -3.140625 L -10.71875 -3.140625 C -10.507812 -3.140625 -10.296875 -3.132812 -10.078125 -3.125 C -9.859375 -3.125 -9.65625 -3.117188 -9.46875 -3.109375 C -9.289062 -3.097656 -9.140625 -3.085938 -9.015625 -3.078125 C -8.890625 -3.078125 -8.804688 -3.070312 -8.765625 -3.0625 Z M -8.765625 -3.09375 \"/>\n",
       "</symbol>\n",
       "<symbol overflow=\"visible\" id=\"glyph3-6\">\n",
       "<path style=\"stroke:none;\" d=\"\"/>\n",
       "</symbol>\n",
       "<symbol overflow=\"visible\" id=\"glyph3-7\">\n",
       "<path style=\"stroke:none;\" d=\"M -5.203125 -1.234375 C -6.097656 -1.234375 -6.957031 -1.300781 -7.78125 -1.4375 C -8.613281 -1.582031 -9.410156 -1.800781 -10.171875 -2.09375 C -10.929688 -2.382812 -11.671875 -2.753906 -12.390625 -3.203125 C -13.109375 -3.660156 -13.8125 -4.207031 -14.5 -4.84375 L -14.5 -6.546875 C -13.8125 -5.929688 -13.109375 -5.398438 -12.390625 -4.953125 C -11.671875 -4.503906 -10.925781 -4.132812 -10.15625 -3.84375 C -9.394531 -3.5625 -8.597656 -3.351562 -7.765625 -3.21875 C -6.941406 -3.082031 -6.078125 -3.015625 -5.171875 -3.015625 C -4.265625 -3.015625 -3.398438 -3.082031 -2.578125 -3.21875 C -1.753906 -3.351562 -0.957031 -3.5625 -0.1875 -3.84375 C 0.582031 -4.132812 1.320312 -4.503906 2.03125 -4.953125 C 2.75 -5.398438 3.453125 -5.929688 4.140625 -6.546875 L 4.140625 -4.84375 C 3.453125 -4.207031 2.75 -3.660156 2.03125 -3.203125 C 1.320312 -2.753906 0.585938 -2.382812 -0.171875 -2.09375 C -0.929688 -1.800781 -1.722656 -1.582031 -2.546875 -1.4375 C -3.378906 -1.300781 -4.25 -1.234375 -5.15625 -1.234375 Z M -5.203125 -1.234375 \"/>\n",
       "</symbol>\n",
       "<symbol overflow=\"visible\" id=\"glyph3-8\">\n",
       "<path style=\"stroke:none;\" d=\"M -5.328125 -2.6875 C -4.722656 -2.6875 -4.164062 -2.726562 -3.65625 -2.8125 C -3.15625 -2.90625 -2.71875 -3.054688 -2.34375 -3.265625 C -1.976562 -3.472656 -1.691406 -3.742188 -1.484375 -4.078125 C -1.285156 -4.421875 -1.1875 -4.847656 -1.1875 -5.359375 C -1.1875 -5.984375 -1.351562 -6.503906 -1.6875 -6.921875 C -2.03125 -7.335938 -2.554688 -7.597656 -3.265625 -7.703125 L -3.140625 -9.46875 C -2.703125 -9.414062 -2.28125 -9.289062 -1.875 -9.09375 C -1.476562 -8.894531 -1.125 -8.628906 -0.8125 -8.296875 C -0.507812 -7.960938 -0.265625 -7.550781 -0.078125 -7.0625 C 0.109375 -6.582031 0.203125 -6.03125 0.203125 -5.40625 C 0.203125 -4.570312 0.0625 -3.863281 -0.21875 -3.28125 C -0.5 -2.707031 -0.882812 -2.238281 -1.375 -1.875 C -1.875 -1.519531 -2.457031 -1.257812 -3.125 -1.09375 C -3.789062 -0.925781 -4.515625 -0.84375 -5.296875 -0.84375 C -6.003906 -0.84375 -6.628906 -0.898438 -7.171875 -1.015625 C -7.710938 -1.140625 -8.1875 -1.304688 -8.59375 -1.515625 C -9 -1.734375 -9.34375 -1.984375 -9.625 -2.265625 C -9.90625 -2.554688 -10.125 -2.867188 -10.28125 -3.203125 C -10.445312 -3.535156 -10.566406 -3.882812 -10.640625 -4.25 C -10.722656 -4.625 -10.765625 -5 -10.765625 -5.375 C -10.765625 -5.96875 -10.679688 -6.492188 -10.515625 -6.953125 C -10.359375 -7.421875 -10.132812 -7.820312 -9.84375 -8.15625 C -9.5625 -8.488281 -9.226562 -8.757812 -8.84375 -8.96875 C -8.457031 -9.175781 -8.046875 -9.328125 -7.609375 -9.421875 L -7.46875 -7.609375 C -8.050781 -7.515625 -8.515625 -7.28125 -8.859375 -6.90625 C -9.210938 -6.539062 -9.390625 -6.015625 -9.390625 -5.328125 C -9.390625 -4.828125 -9.304688 -4.410156 -9.140625 -4.078125 C -8.972656 -3.742188 -8.71875 -3.472656 -8.375 -3.265625 C -8.039062 -3.054688 -7.617188 -2.90625 -7.109375 -2.8125 C -6.609375 -2.726562 -6.015625 -2.6875 -5.328125 -2.6875 Z M -5.328125 -2.6875 \"/>\n",
       "</symbol>\n",
       "<symbol overflow=\"visible\" id=\"glyph3-9\">\n",
       "<path style=\"stroke:none;\" d=\"M 0 -7.5 L -6.703125 -7.5 C -7.210938 -7.5 -7.640625 -7.46875 -7.984375 -7.40625 C -8.328125 -7.34375 -8.601562 -7.234375 -8.8125 -7.078125 C -9.03125 -6.921875 -9.179688 -6.71875 -9.265625 -6.46875 C -9.359375 -6.226562 -9.40625 -5.925781 -9.40625 -5.5625 C -9.40625 -5.195312 -9.332031 -4.863281 -9.1875 -4.5625 C -9.039062 -4.257812 -8.828125 -4.003906 -8.546875 -3.796875 C -8.273438 -3.585938 -7.9375 -3.425781 -7.53125 -3.3125 C -7.125 -3.195312 -6.65625 -3.140625 -6.125 -3.140625 L 0 -3.140625 L 0 -1.390625 L -8.3125 -1.390625 C -8.53125 -1.390625 -8.757812 -1.382812 -9 -1.375 C -9.25 -1.375 -9.484375 -1.367188 -9.703125 -1.359375 C -9.921875 -1.359375 -10.109375 -1.351562 -10.265625 -1.34375 C -10.421875 -1.34375 -10.519531 -1.335938 -10.5625 -1.328125 L -10.5625 -2.984375 C -10.53125 -2.992188 -10.441406 -3 -10.296875 -3 C -10.160156 -3.007812 -10 -3.019531 -9.8125 -3.03125 C -9.625 -3.039062 -9.429688 -3.046875 -9.234375 -3.046875 C -9.046875 -3.054688 -8.890625 -3.0625 -8.765625 -3.0625 L -8.765625 -3.09375 C -9.066406 -3.25 -9.34375 -3.414062 -9.59375 -3.59375 C -9.84375 -3.78125 -10.050781 -3.992188 -10.21875 -4.234375 C -10.394531 -4.484375 -10.53125 -4.765625 -10.625 -5.078125 C -10.71875 -5.398438 -10.765625 -5.769531 -10.765625 -6.1875 C -10.765625 -6.988281 -10.601562 -7.617188 -10.28125 -8.078125 C -9.96875 -8.546875 -9.460938 -8.867188 -8.765625 -9.046875 L -8.765625 -9.078125 C -9.066406 -9.234375 -9.34375 -9.410156 -9.59375 -9.609375 C -9.84375 -9.804688 -10.050781 -10.035156 -10.21875 -10.296875 C -10.394531 -10.554688 -10.53125 -10.847656 -10.625 -11.171875 C -10.71875 -11.492188 -10.765625 -11.863281 -10.765625 -12.28125 C -10.765625 -12.820312 -10.691406 -13.285156 -10.546875 -13.671875 C -10.398438 -14.054688 -10.175781 -14.367188 -9.875 -14.609375 C -9.582031 -14.859375 -9.195312 -15.039062 -8.71875 -15.15625 C -8.25 -15.28125 -7.691406 -15.34375 -7.046875 -15.34375 L 0 -15.34375 L 0 -13.609375 L -6.703125 -13.609375 C -7.210938 -13.609375 -7.640625 -13.570312 -7.984375 -13.5 C -8.328125 -13.4375 -8.601562 -13.328125 -8.8125 -13.171875 C -9.03125 -13.023438 -9.179688 -12.828125 -9.265625 -12.578125 C -9.359375 -12.328125 -9.40625 -12.023438 -9.40625 -11.671875 C -9.40625 -11.296875 -9.332031 -10.957031 -9.1875 -10.65625 C -9.050781 -10.363281 -8.847656 -10.109375 -8.578125 -9.890625 C -8.304688 -9.679688 -7.960938 -9.519531 -7.546875 -9.40625 C -7.140625 -9.289062 -6.664062 -9.234375 -6.125 -9.234375 L 0 -9.234375 Z M 0 -7.5 \"/>\n",
       "</symbol>\n",
       "<symbol overflow=\"visible\" id=\"glyph3-10\">\n",
       "<path style=\"stroke:none;\" d=\"M -5.15625 -5.421875 C -4.25 -5.421875 -3.378906 -5.351562 -2.546875 -5.21875 C -1.722656 -5.082031 -0.929688 -4.863281 -0.171875 -4.5625 C 0.585938 -4.269531 1.320312 -3.894531 2.03125 -3.4375 C 2.75 -2.988281 3.453125 -2.445312 4.140625 -1.8125 L 4.140625 -0.125 C 3.453125 -0.726562 2.75 -1.253906 2.03125 -1.703125 C 1.320312 -2.148438 0.582031 -2.515625 -0.1875 -2.796875 C -0.957031 -3.085938 -1.753906 -3.300781 -2.578125 -3.4375 C -3.398438 -3.582031 -4.265625 -3.65625 -5.171875 -3.65625 C -6.078125 -3.65625 -6.941406 -3.582031 -7.765625 -3.4375 C -8.597656 -3.300781 -9.394531 -3.085938 -10.15625 -2.796875 C -10.925781 -2.515625 -11.671875 -2.148438 -12.390625 -1.703125 C -13.109375 -1.253906 -13.8125 -0.726562 -14.5 -0.125 L -14.5 -1.8125 C -13.8125 -2.445312 -13.109375 -2.988281 -12.390625 -3.4375 C -11.671875 -3.894531 -10.929688 -4.269531 -10.171875 -4.5625 C -9.410156 -4.863281 -8.613281 -5.082031 -7.78125 -5.21875 C -6.957031 -5.351562 -6.097656 -5.421875 -5.203125 -5.421875 Z M -5.15625 -5.421875 \"/>\n",
       "</symbol>\n",
       "</g>\n",
       "<clipPath id=\"clip1\">\n",
       "  <path d=\"M 40.152344 5.480469 L 536.605469 5.480469 L 536.605469 385.851562 L 40.152344 385.851562 Z M 40.152344 5.480469 \"/>\n",
       "</clipPath>\n",
       "<clipPath id=\"clip2\">\n",
       "  <path d=\"M 40.152344 304 L 536.605469 304 L 536.605469 306 L 40.152344 306 Z M 40.152344 304 \"/>\n",
       "</clipPath>\n",
       "<clipPath id=\"clip3\">\n",
       "  <path d=\"M 40.152344 213 L 536.605469 213 L 536.605469 215 L 40.152344 215 Z M 40.152344 213 \"/>\n",
       "</clipPath>\n",
       "<clipPath id=\"clip4\">\n",
       "  <path d=\"M 40.152344 122 L 536.605469 122 L 536.605469 124 L 40.152344 124 Z M 40.152344 122 \"/>\n",
       "</clipPath>\n",
       "<clipPath id=\"clip5\">\n",
       "  <path d=\"M 40.152344 31 L 536.605469 31 L 536.605469 33 L 40.152344 33 Z M 40.152344 31 \"/>\n",
       "</clipPath>\n",
       "<clipPath id=\"clip6\">\n",
       "  <path d=\"M 179 5.480469 L 180 5.480469 L 180 385.851562 L 179 385.851562 Z M 179 5.480469 \"/>\n",
       "</clipPath>\n",
       "<clipPath id=\"clip7\">\n",
       "  <path d=\"M 337 5.480469 L 338 5.480469 L 338 385.851562 L 337 385.851562 Z M 337 5.480469 \"/>\n",
       "</clipPath>\n",
       "<clipPath id=\"clip8\">\n",
       "  <path d=\"M 494 5.480469 L 496 5.480469 L 496 385.851562 L 494 385.851562 Z M 494 5.480469 \"/>\n",
       "</clipPath>\n",
       "<clipPath id=\"clip9\">\n",
       "  <path d=\"M 40.152344 349 L 536.605469 349 L 536.605469 351 L 40.152344 351 Z M 40.152344 349 \"/>\n",
       "</clipPath>\n",
       "<clipPath id=\"clip10\">\n",
       "  <path d=\"M 40.152344 258 L 536.605469 258 L 536.605469 260 L 40.152344 260 Z M 40.152344 258 \"/>\n",
       "</clipPath>\n",
       "<clipPath id=\"clip11\">\n",
       "  <path d=\"M 40.152344 167 L 536.605469 167 L 536.605469 169 L 40.152344 169 Z M 40.152344 167 \"/>\n",
       "</clipPath>\n",
       "<clipPath id=\"clip12\">\n",
       "  <path d=\"M 40.152344 76 L 536.605469 76 L 536.605469 78 L 40.152344 78 Z M 40.152344 76 \"/>\n",
       "</clipPath>\n",
       "<clipPath id=\"clip13\">\n",
       "  <path d=\"M 100 5.480469 L 102 5.480469 L 102 385.851562 L 100 385.851562 Z M 100 5.480469 \"/>\n",
       "</clipPath>\n",
       "<clipPath id=\"clip14\">\n",
       "  <path d=\"M 257 5.480469 L 259 5.480469 L 259 385.851562 L 257 385.851562 Z M 257 5.480469 \"/>\n",
       "</clipPath>\n",
       "<clipPath id=\"clip15\">\n",
       "  <path d=\"M 415 5.480469 L 417 5.480469 L 417 385.851562 L 415 385.851562 Z M 415 5.480469 \"/>\n",
       "</clipPath>\n",
       "</defs>\n",
       "<g id=\"surface267\">\n",
       "<rect x=\"0\" y=\"0\" width=\"720\" height=\"432\" style=\"fill:rgb(100%,100%,100%);fill-opacity:1;stroke:none;\"/>\n",
       "<rect x=\"0\" y=\"0\" width=\"720\" height=\"432\" style=\"fill:rgb(100%,100%,100%);fill-opacity:1;stroke:none;\"/>\n",
       "<path style=\"fill:none;stroke-width:1.066978;stroke-linecap:round;stroke-linejoin:round;stroke:rgb(100%,100%,100%);stroke-opacity:1;stroke-miterlimit:10;\" d=\"M 0 432 L 720 432 L 720 0 L 0 0 Z M 0 432 \"/>\n",
       "<g clip-path=\"url(#clip1)\" clip-rule=\"nonzero\">\n",
       "<path style=\" stroke:none;fill-rule:nonzero;fill:rgb(92.156863%,92.156863%,92.156863%);fill-opacity:1;\" d=\"M 40.152344 385.847656 L 536.605469 385.847656 L 536.605469 5.476562 L 40.152344 5.476562 Z M 40.152344 385.847656 \"/>\n",
       "</g>\n",
       "<g clip-path=\"url(#clip2)\" clip-rule=\"nonzero\">\n",
       "<path style=\"fill:none;stroke-width:0.533489;stroke-linecap:butt;stroke-linejoin:round;stroke:rgb(100%,100%,100%);stroke-opacity:1;stroke-miterlimit:10;\" d=\"M 40.152344 304.863281 L 536.601562 304.863281 \"/>\n",
       "</g>\n",
       "<g clip-path=\"url(#clip3)\" clip-rule=\"nonzero\">\n",
       "<path style=\"fill:none;stroke-width:0.533489;stroke-linecap:butt;stroke-linejoin:round;stroke:rgb(100%,100%,100%);stroke-opacity:1;stroke-miterlimit:10;\" d=\"M 40.152344 213.863281 L 536.601562 213.863281 \"/>\n",
       "</g>\n",
       "<g clip-path=\"url(#clip4)\" clip-rule=\"nonzero\">\n",
       "<path style=\"fill:none;stroke-width:0.533489;stroke-linecap:butt;stroke-linejoin:round;stroke:rgb(100%,100%,100%);stroke-opacity:1;stroke-miterlimit:10;\" d=\"M 40.152344 122.867188 L 536.601562 122.867188 \"/>\n",
       "</g>\n",
       "<g clip-path=\"url(#clip5)\" clip-rule=\"nonzero\">\n",
       "<path style=\"fill:none;stroke-width:0.533489;stroke-linecap:butt;stroke-linejoin:round;stroke:rgb(100%,100%,100%);stroke-opacity:1;stroke-miterlimit:10;\" d=\"M 40.152344 31.867188 L 536.601562 31.867188 \"/>\n",
       "</g>\n",
       "<g clip-path=\"url(#clip6)\" clip-rule=\"nonzero\">\n",
       "<path style=\"fill:none;stroke-width:0.533489;stroke-linecap:butt;stroke-linejoin:round;stroke:rgb(100%,100%,100%);stroke-opacity:1;stroke-miterlimit:10;\" d=\"M 179.492188 385.847656 L 179.492188 5.480469 \"/>\n",
       "</g>\n",
       "<g clip-path=\"url(#clip7)\" clip-rule=\"nonzero\">\n",
       "<path style=\"fill:none;stroke-width:0.533489;stroke-linecap:butt;stroke-linejoin:round;stroke:rgb(100%,100%,100%);stroke-opacity:1;stroke-miterlimit:10;\" d=\"M 337.296875 385.847656 L 337.296875 5.480469 \"/>\n",
       "</g>\n",
       "<g clip-path=\"url(#clip8)\" clip-rule=\"nonzero\">\n",
       "<path style=\"fill:none;stroke-width:0.533489;stroke-linecap:butt;stroke-linejoin:round;stroke:rgb(100%,100%,100%);stroke-opacity:1;stroke-miterlimit:10;\" d=\"M 495.101562 385.847656 L 495.101562 5.480469 \"/>\n",
       "</g>\n",
       "<g clip-path=\"url(#clip9)\" clip-rule=\"nonzero\">\n",
       "<path style=\"fill:none;stroke-width:1.066978;stroke-linecap:butt;stroke-linejoin:round;stroke:rgb(100%,100%,100%);stroke-opacity:1;stroke-miterlimit:10;\" d=\"M 40.152344 350.359375 L 536.601562 350.359375 \"/>\n",
       "</g>\n",
       "<g clip-path=\"url(#clip10)\" clip-rule=\"nonzero\">\n",
       "<path style=\"fill:none;stroke-width:1.066978;stroke-linecap:butt;stroke-linejoin:round;stroke:rgb(100%,100%,100%);stroke-opacity:1;stroke-miterlimit:10;\" d=\"M 40.152344 259.363281 L 536.601562 259.363281 \"/>\n",
       "</g>\n",
       "<g clip-path=\"url(#clip11)\" clip-rule=\"nonzero\">\n",
       "<path style=\"fill:none;stroke-width:1.066978;stroke-linecap:butt;stroke-linejoin:round;stroke:rgb(100%,100%,100%);stroke-opacity:1;stroke-miterlimit:10;\" d=\"M 40.152344 168.363281 L 536.601562 168.363281 \"/>\n",
       "</g>\n",
       "<g clip-path=\"url(#clip12)\" clip-rule=\"nonzero\">\n",
       "<path style=\"fill:none;stroke-width:1.066978;stroke-linecap:butt;stroke-linejoin:round;stroke:rgb(100%,100%,100%);stroke-opacity:1;stroke-miterlimit:10;\" d=\"M 40.152344 77.367188 L 536.601562 77.367188 \"/>\n",
       "</g>\n",
       "<g clip-path=\"url(#clip13)\" clip-rule=\"nonzero\">\n",
       "<path style=\"fill:none;stroke-width:1.066978;stroke-linecap:butt;stroke-linejoin:round;stroke:rgb(100%,100%,100%);stroke-opacity:1;stroke-miterlimit:10;\" d=\"M 100.589844 385.847656 L 100.589844 5.480469 \"/>\n",
       "</g>\n",
       "<g clip-path=\"url(#clip14)\" clip-rule=\"nonzero\">\n",
       "<path style=\"fill:none;stroke-width:1.066978;stroke-linecap:butt;stroke-linejoin:round;stroke:rgb(100%,100%,100%);stroke-opacity:1;stroke-miterlimit:10;\" d=\"M 258.394531 385.847656 L 258.394531 5.480469 \"/>\n",
       "</g>\n",
       "<g clip-path=\"url(#clip15)\" clip-rule=\"nonzero\">\n",
       "<path style=\"fill:none;stroke-width:1.066978;stroke-linecap:butt;stroke-linejoin:round;stroke:rgb(100%,100%,100%);stroke-opacity:1;stroke-miterlimit:10;\" d=\"M 416.199219 385.847656 L 416.199219 5.480469 \"/>\n",
       "</g>\n",
       "<path style=\"fill-rule:nonzero;fill:rgb(97.254902%,46.27451%,42.745098%);fill-opacity:1;stroke-width:0.708661;stroke-linecap:round;stroke-linejoin:round;stroke:rgb(97.254902%,46.27451%,42.745098%);stroke-opacity:1;stroke-miterlimit:10;\" d=\"M 247.722656 131.964844 C 247.722656 134.574219 243.816406 134.574219 243.816406 131.964844 C 243.816406 129.359375 247.722656 129.359375 247.722656 131.964844 \"/>\n",
       "<path style=\"fill-rule:nonzero;fill:rgb(97.254902%,46.27451%,42.745098%);fill-opacity:1;stroke-width:0.708661;stroke-linecap:round;stroke-linejoin:round;stroke:rgb(97.254902%,46.27451%,42.745098%);stroke-opacity:1;stroke-miterlimit:10;\" d=\"M 228.789062 168.363281 C 228.789062 170.972656 224.878906 170.972656 224.878906 168.363281 C 224.878906 165.757812 228.789062 165.757812 228.789062 168.363281 \"/>\n",
       "<path style=\"fill-rule:nonzero;fill:rgb(97.254902%,46.27451%,42.745098%);fill-opacity:1;stroke-width:0.708661;stroke-linecap:round;stroke-linejoin:round;stroke:rgb(97.254902%,46.27451%,42.745098%);stroke-opacity:1;stroke-miterlimit:10;\" d=\"M 222.476562 222.964844 C 222.476562 225.570312 218.566406 225.570312 218.566406 222.964844 C 218.566406 220.355469 222.476562 220.355469 222.476562 222.964844 \"/>\n",
       "<path style=\"fill-rule:nonzero;fill:rgb(48.627451%,68.235294%,0%);fill-opacity:1;stroke-width:0.708661;stroke-linecap:round;stroke-linejoin:round;stroke:rgb(48.627451%,68.235294%,0%);stroke-opacity:1;stroke-miterlimit:10;\" d=\"M 80.453125 332.160156 C 80.453125 334.765625 76.542969 334.765625 76.542969 332.160156 C 76.542969 329.554688 80.453125 329.554688 80.453125 332.160156 \"/>\n",
       "<path style=\"fill-rule:nonzero;fill:rgb(48.627451%,68.235294%,0%);fill-opacity:1;stroke-width:0.708661;stroke-linecap:round;stroke-linejoin:round;stroke:rgb(48.627451%,68.235294%,0%);stroke-opacity:1;stroke-miterlimit:10;\" d=\"M 77.296875 350.359375 C 77.296875 352.964844 73.386719 352.964844 73.386719 350.359375 C 73.386719 347.753906 77.296875 347.753906 77.296875 350.359375 \"/>\n",
       "<path style=\"fill-rule:nonzero;fill:rgb(48.627451%,68.235294%,0%);fill-opacity:1;stroke-width:0.708661;stroke-linecap:round;stroke-linejoin:round;stroke:rgb(48.627451%,68.235294%,0%);stroke-opacity:1;stroke-miterlimit:10;\" d=\"M 70.984375 368.558594 C 70.984375 371.167969 67.074219 371.167969 67.074219 368.558594 C 67.074219 365.953125 70.984375 365.953125 70.984375 368.558594 \"/>\n",
       "<path style=\"fill-rule:nonzero;fill:rgb(48.627451%,68.235294%,0%);fill-opacity:1;stroke-width:0.708661;stroke-linecap:round;stroke-linejoin:round;stroke:rgb(48.627451%,68.235294%,0%);stroke-opacity:1;stroke-miterlimit:10;\" d=\"M 70.984375 359.460938 C 70.984375 362.066406 67.074219 362.066406 67.074219 359.460938 C 67.074219 356.855469 70.984375 356.855469 70.984375 359.460938 \"/>\n",
       "<path style=\"fill-rule:nonzero;fill:rgb(48.627451%,68.235294%,0%);fill-opacity:1;stroke-width:0.708661;stroke-linecap:round;stroke-linejoin:round;stroke:rgb(48.627451%,68.235294%,0%);stroke-opacity:1;stroke-miterlimit:10;\" d=\"M 64.671875 368.558594 C 64.671875 371.167969 60.761719 371.167969 60.761719 368.558594 C 60.761719 365.953125 64.671875 365.953125 64.671875 368.558594 \"/>\n",
       "<path style=\"fill-rule:nonzero;fill:rgb(97.254902%,46.27451%,42.745098%);fill-opacity:1;stroke-width:0.708661;stroke-linecap:round;stroke-linejoin:round;stroke:rgb(97.254902%,46.27451%,42.745098%);stroke-opacity:1;stroke-miterlimit:10;\" d=\"M 225.632812 250.261719 C 225.632812 252.871094 221.722656 252.871094 221.722656 250.261719 C 221.722656 247.65625 225.632812 247.65625 225.632812 250.261719 \"/>\n",
       "<path style=\"fill-rule:nonzero;fill:rgb(97.254902%,46.27451%,42.745098%);fill-opacity:1;stroke-width:0.708661;stroke-linecap:round;stroke-linejoin:round;stroke:rgb(97.254902%,46.27451%,42.745098%);stroke-opacity:1;stroke-miterlimit:10;\" d=\"M 216.164062 222.964844 C 216.164062 225.570312 212.253906 225.570312 212.253906 222.964844 C 212.253906 220.355469 216.164062 220.355469 216.164062 222.964844 \"/>\n",
       "<path style=\"fill-rule:nonzero;fill:rgb(97.254902%,46.27451%,42.745098%);fill-opacity:1;stroke-width:0.708661;stroke-linecap:round;stroke-linejoin:round;stroke:rgb(97.254902%,46.27451%,42.745098%);stroke-opacity:1;stroke-miterlimit:10;\" d=\"M 206.695312 268.460938 C 206.695312 271.070312 202.785156 271.070312 202.785156 268.460938 C 202.785156 265.855469 206.695312 265.855469 206.695312 268.460938 \"/>\n",
       "<path style=\"fill-rule:nonzero;fill:rgb(97.254902%,46.27451%,42.745098%);fill-opacity:1;stroke-width:0.708661;stroke-linecap:round;stroke-linejoin:round;stroke:rgb(97.254902%,46.27451%,42.745098%);stroke-opacity:1;stroke-miterlimit:10;\" d=\"M 216.164062 250.261719 C 216.164062 252.871094 212.253906 252.871094 212.253906 250.261719 C 212.253906 247.65625 216.164062 247.65625 216.164062 250.261719 \"/>\n",
       "<path style=\"fill-rule:nonzero;fill:rgb(97.254902%,46.27451%,42.745098%);fill-opacity:1;stroke-width:0.708661;stroke-linecap:round;stroke-linejoin:round;stroke:rgb(97.254902%,46.27451%,42.745098%);stroke-opacity:1;stroke-miterlimit:10;\" d=\"M 187.757812 259.363281 C 187.757812 261.96875 183.847656 261.96875 183.847656 259.363281 C 183.847656 256.757812 187.757812 256.757812 187.757812 259.363281 \"/>\n",
       "<path style=\"fill-rule:nonzero;fill:rgb(97.254902%,46.27451%,42.745098%);fill-opacity:1;stroke-width:0.708661;stroke-linecap:round;stroke-linejoin:round;stroke:rgb(97.254902%,46.27451%,42.745098%);stroke-opacity:1;stroke-miterlimit:10;\" d=\"M 203.539062 232.0625 C 203.539062 234.667969 199.628906 234.667969 199.628906 232.0625 C 199.628906 229.457031 203.539062 229.457031 203.539062 232.0625 \"/>\n",
       "<path style=\"fill-rule:nonzero;fill:rgb(97.254902%,46.27451%,42.745098%);fill-opacity:1;stroke-width:0.708661;stroke-linecap:round;stroke-linejoin:round;stroke:rgb(97.254902%,46.27451%,42.745098%);stroke-opacity:1;stroke-miterlimit:10;\" d=\"M 184.601562 204.765625 C 184.601562 207.371094 180.691406 207.371094 180.691406 204.765625 C 180.691406 202.15625 184.601562 202.15625 184.601562 204.765625 \"/>\n",
       "<path style=\"fill-rule:nonzero;fill:rgb(97.254902%,46.27451%,42.745098%);fill-opacity:1;stroke-width:0.708661;stroke-linecap:round;stroke-linejoin:round;stroke:rgb(97.254902%,46.27451%,42.745098%);stroke-opacity:1;stroke-miterlimit:10;\" d=\"M 190.914062 195.664062 C 190.914062 198.269531 187.003906 198.269531 187.003906 195.664062 C 187.003906 193.058594 190.914062 193.058594 190.914062 195.664062 \"/>\n",
       "<path style=\"fill-rule:nonzero;fill:rgb(97.254902%,46.27451%,42.745098%);fill-opacity:1;stroke-width:0.708661;stroke-linecap:round;stroke-linejoin:round;stroke:rgb(97.254902%,46.27451%,42.745098%);stroke-opacity:1;stroke-miterlimit:10;\" d=\"M 190.914062 204.765625 C 190.914062 207.371094 187.003906 207.371094 187.003906 204.765625 C 187.003906 202.15625 190.914062 202.15625 190.914062 204.765625 \"/>\n",
       "<path style=\"fill-rule:nonzero;fill:rgb(97.254902%,46.27451%,42.745098%);fill-opacity:1;stroke-width:0.708661;stroke-linecap:round;stroke-linejoin:round;stroke:rgb(97.254902%,46.27451%,42.745098%);stroke-opacity:1;stroke-miterlimit:10;\" d=\"M 209.851562 213.863281 C 209.851562 216.46875 205.941406 216.46875 205.941406 213.863281 C 205.941406 211.257812 209.851562 211.257812 209.851562 213.863281 \"/>\n",
       "<path style=\"fill-rule:nonzero;fill:rgb(97.254902%,46.27451%,42.745098%);fill-opacity:1;stroke-width:0.708661;stroke-linecap:round;stroke-linejoin:round;stroke:rgb(97.254902%,46.27451%,42.745098%);stroke-opacity:1;stroke-miterlimit:10;\" d=\"M 200.382812 213.863281 C 200.382812 216.46875 196.472656 216.46875 196.472656 213.863281 C 196.472656 211.257812 200.382812 211.257812 200.382812 213.863281 \"/>\n",
       "<path style=\"fill-rule:nonzero;fill:rgb(97.254902%,46.27451%,42.745098%);fill-opacity:1;stroke-width:0.708661;stroke-linecap:round;stroke-linejoin:round;stroke:rgb(97.254902%,46.27451%,42.745098%);stroke-opacity:1;stroke-miterlimit:10;\" d=\"M 200.382812 222.964844 C 200.382812 225.570312 196.472656 225.570312 196.472656 222.964844 C 196.472656 220.355469 200.382812 220.355469 200.382812 222.964844 \"/>\n",
       "<path style=\"fill-rule:nonzero;fill:rgb(97.254902%,46.27451%,42.745098%);fill-opacity:1;stroke-width:0.708661;stroke-linecap:round;stroke-linejoin:round;stroke:rgb(97.254902%,46.27451%,42.745098%);stroke-opacity:1;stroke-miterlimit:10;\" d=\"M 197.226562 213.863281 C 197.226562 216.46875 193.316406 216.46875 193.316406 213.863281 C 193.316406 211.257812 197.226562 211.257812 197.226562 213.863281 \"/>\n",
       "<path style=\"fill-rule:nonzero;fill:rgb(97.254902%,46.27451%,42.745098%);fill-opacity:1;stroke-width:0.708661;stroke-linecap:round;stroke-linejoin:round;stroke:rgb(97.254902%,46.27451%,42.745098%);stroke-opacity:1;stroke-miterlimit:10;\" d=\"M 190.914062 222.964844 C 190.914062 225.570312 187.003906 225.570312 187.003906 222.964844 C 187.003906 220.355469 190.914062 220.355469 190.914062 222.964844 \"/>\n",
       "<path style=\"fill-rule:nonzero;fill:rgb(97.254902%,46.27451%,42.745098%);fill-opacity:1;stroke-width:0.708661;stroke-linecap:round;stroke-linejoin:round;stroke:rgb(97.254902%,46.27451%,42.745098%);stroke-opacity:1;stroke-miterlimit:10;\" d=\"M 165.667969 232.0625 C 165.667969 234.667969 161.757812 234.667969 161.757812 232.0625 C 161.757812 229.457031 165.667969 229.457031 165.667969 232.0625 \"/>\n",
       "<path style=\"fill-rule:nonzero;fill:rgb(97.254902%,46.27451%,42.745098%);fill-opacity:1;stroke-width:0.708661;stroke-linecap:round;stroke-linejoin:round;stroke:rgb(97.254902%,46.27451%,42.745098%);stroke-opacity:1;stroke-miterlimit:10;\" d=\"M 213.007812 204.765625 C 213.007812 207.371094 209.097656 207.371094 209.097656 204.765625 C 209.097656 202.15625 213.007812 202.15625 213.007812 204.765625 \"/>\n",
       "<path style=\"fill-rule:nonzero;fill:rgb(0%,74.901961%,76.862745%);fill-opacity:1;stroke-width:0.708661;stroke-linecap:round;stroke-linejoin:round;stroke:rgb(0%,74.901961%,76.862745%);stroke-opacity:1;stroke-miterlimit:10;\" d=\"M 484.429688 77.367188 C 484.429688 79.972656 480.519531 79.972656 480.519531 77.367188 C 480.519531 74.761719 484.429688 74.761719 484.429688 77.367188 \"/>\n",
       "<path style=\"fill-rule:nonzero;fill:rgb(0%,74.901961%,76.862745%);fill-opacity:1;stroke-width:0.708661;stroke-linecap:round;stroke-linejoin:round;stroke:rgb(0%,74.901961%,76.862745%);stroke-opacity:1;stroke-miterlimit:10;\" d=\"M 506.523438 59.167969 C 506.523438 61.773438 502.613281 61.773438 502.613281 59.167969 C 502.613281 56.5625 506.523438 56.5625 506.523438 59.167969 \"/>\n",
       "<path style=\"fill-rule:nonzero;fill:rgb(0%,74.901961%,76.862745%);fill-opacity:1;stroke-width:0.708661;stroke-linecap:round;stroke-linejoin:round;stroke:rgb(0%,74.901961%,76.862745%);stroke-opacity:1;stroke-miterlimit:10;\" d=\"M 515.992188 22.769531 C 515.992188 25.375 512.082031 25.375 512.082031 22.769531 C 512.082031 20.164062 515.992188 20.164062 515.992188 22.769531 \"/>\n",
       "<path style=\"fill-rule:nonzero;fill:rgb(0%,74.901961%,76.862745%);fill-opacity:1;stroke-width:0.708661;stroke-linecap:round;stroke-linejoin:round;stroke:rgb(0%,74.901961%,76.862745%);stroke-opacity:1;stroke-miterlimit:10;\" d=\"M 266.660156 213.863281 C 266.660156 216.46875 262.75 216.46875 262.75 213.863281 C 262.75 211.257812 266.660156 211.257812 266.660156 213.863281 \"/>\n",
       "<path style=\"fill-rule:nonzero;fill:rgb(0%,74.901961%,76.862745%);fill-opacity:1;stroke-width:0.708661;stroke-linecap:round;stroke-linejoin:round;stroke:rgb(0%,74.901961%,76.862745%);stroke-opacity:1;stroke-miterlimit:10;\" d=\"M 165.667969 286.660156 C 165.667969 289.269531 161.757812 289.269531 161.757812 286.660156 C 161.757812 284.054688 165.667969 284.054688 165.667969 286.660156 \"/>\n",
       "<path style=\"fill-rule:nonzero;fill:rgb(0%,74.901961%,76.862745%);fill-opacity:1;stroke-width:0.708661;stroke-linecap:round;stroke-linejoin:round;stroke:rgb(0%,74.901961%,76.862745%);stroke-opacity:1;stroke-miterlimit:10;\" d=\"M 197.226562 259.363281 C 197.226562 261.96875 193.316406 261.96875 193.316406 259.363281 C 193.316406 256.757812 197.226562 256.757812 197.226562 259.363281 \"/>\n",
       "<path style=\"fill-rule:nonzero;fill:rgb(0%,74.901961%,76.862745%);fill-opacity:1;stroke-width:0.708661;stroke-linecap:round;stroke-linejoin:round;stroke:rgb(0%,74.901961%,76.862745%);stroke-opacity:1;stroke-miterlimit:10;\" d=\"M 194.070312 250.261719 C 194.070312 252.871094 190.160156 252.871094 190.160156 250.261719 C 190.160156 247.65625 194.070312 247.65625 194.070312 250.261719 \"/>\n",
       "<path style=\"fill-rule:nonzero;fill:rgb(0%,74.901961%,76.862745%);fill-opacity:1;stroke-width:0.708661;stroke-linecap:round;stroke-linejoin:round;stroke:rgb(0%,74.901961%,76.862745%);stroke-opacity:1;stroke-miterlimit:10;\" d=\"M 276.128906 186.566406 C 276.128906 189.171875 272.21875 189.171875 272.21875 186.566406 C 272.21875 183.957031 276.128906 183.957031 276.128906 186.566406 \"/>\n",
       "<path style=\"fill-rule:nonzero;fill:rgb(0%,74.901961%,76.862745%);fill-opacity:1;stroke-width:0.708661;stroke-linecap:round;stroke-linejoin:round;stroke:rgb(0%,74.901961%,76.862745%);stroke-opacity:1;stroke-miterlimit:10;\" d=\"M 203.539062 241.164062 C 203.539062 243.769531 199.628906 243.769531 199.628906 241.164062 C 199.628906 238.558594 203.539062 238.558594 203.539062 241.164062 \"/>\n",
       "<path style=\"fill-rule:nonzero;fill:rgb(0%,74.901961%,76.862745%);fill-opacity:1;stroke-width:0.708661;stroke-linecap:round;stroke-linejoin:round;stroke:rgb(0%,74.901961%,76.862745%);stroke-opacity:1;stroke-miterlimit:10;\" d=\"M 244.566406 213.863281 C 244.566406 216.46875 240.660156 216.46875 240.660156 213.863281 C 240.660156 211.257812 244.566406 211.257812 244.566406 213.863281 \"/>\n",
       "<path style=\"fill-rule:nonzero;fill:rgb(0%,74.901961%,76.862745%);fill-opacity:1;stroke-width:0.708661;stroke-linecap:round;stroke-linejoin:round;stroke:rgb(0%,74.901961%,76.862745%);stroke-opacity:1;stroke-miterlimit:10;\" d=\"M 168.824219 204.765625 C 168.824219 207.371094 164.914062 207.371094 164.914062 204.765625 C 164.914062 202.15625 168.824219 202.15625 168.824219 204.765625 \"/>\n",
       "<path style=\"fill-rule:nonzero;fill:rgb(0%,74.901961%,76.862745%);fill-opacity:1;stroke-width:0.708661;stroke-linecap:round;stroke-linejoin:round;stroke:rgb(0%,74.901961%,76.862745%);stroke-opacity:1;stroke-miterlimit:10;\" d=\"M 181.445312 250.261719 C 181.445312 252.871094 177.535156 252.871094 177.535156 250.261719 C 177.535156 247.65625 181.445312 247.65625 181.445312 250.261719 \"/>\n",
       "<path style=\"fill-rule:nonzero;fill:rgb(0%,74.901961%,76.862745%);fill-opacity:1;stroke-width:0.708661;stroke-linecap:round;stroke-linejoin:round;stroke:rgb(0%,74.901961%,76.862745%);stroke-opacity:1;stroke-miterlimit:10;\" d=\"M 197.226562 250.261719 C 197.226562 252.871094 193.316406 252.871094 193.316406 250.261719 C 193.316406 247.65625 197.226562 247.65625 197.226562 250.261719 \"/>\n",
       "<path style=\"fill-rule:nonzero;fill:rgb(0%,74.901961%,76.862745%);fill-opacity:1;stroke-width:0.708661;stroke-linecap:round;stroke-linejoin:round;stroke:rgb(0%,74.901961%,76.862745%);stroke-opacity:1;stroke-miterlimit:10;\" d=\"M 187.757812 232.0625 C 187.757812 234.667969 183.847656 234.667969 183.847656 232.0625 C 183.847656 229.457031 187.757812 229.457031 187.757812 232.0625 \"/>\n",
       "<path style=\"fill-rule:nonzero;fill:rgb(0%,74.901961%,76.862745%);fill-opacity:1;stroke-width:0.708661;stroke-linecap:round;stroke-linejoin:round;stroke:rgb(0%,74.901961%,76.862745%);stroke-opacity:1;stroke-miterlimit:10;\" d=\"M 194.070312 241.164062 C 194.070312 243.769531 190.160156 243.769531 190.160156 241.164062 C 190.160156 238.558594 194.070312 238.558594 194.070312 241.164062 \"/>\n",
       "<path style=\"fill-rule:nonzero;fill:rgb(0%,74.901961%,76.862745%);fill-opacity:1;stroke-width:0.708661;stroke-linecap:round;stroke-linejoin:round;stroke:rgb(0%,74.901961%,76.862745%);stroke-opacity:1;stroke-miterlimit:10;\" d=\"M 171.976562 277.5625 C 171.976562 280.167969 168.070312 280.167969 168.070312 277.5625 C 168.070312 274.957031 171.976562 274.957031 171.976562 277.5625 \"/>\n",
       "<path style=\"fill-rule:nonzero;fill:rgb(0%,74.901961%,76.862745%);fill-opacity:1;stroke-width:0.708661;stroke-linecap:round;stroke-linejoin:round;stroke:rgb(0%,74.901961%,76.862745%);stroke-opacity:1;stroke-miterlimit:10;\" d=\"M 187.757812 250.261719 C 187.757812 252.871094 183.847656 252.871094 183.847656 250.261719 C 183.847656 247.65625 187.757812 247.65625 187.757812 250.261719 \"/>\n",
       "<path style=\"fill-rule:nonzero;fill:rgb(0%,74.901961%,76.862745%);fill-opacity:1;stroke-width:0.708661;stroke-linecap:round;stroke-linejoin:round;stroke:rgb(0%,74.901961%,76.862745%);stroke-opacity:1;stroke-miterlimit:10;\" d=\"M 228.789062 204.765625 C 228.789062 207.371094 224.878906 207.371094 224.878906 204.765625 C 224.878906 202.15625 228.789062 202.15625 228.789062 204.765625 \"/>\n",
       "<path style=\"fill-rule:nonzero;fill:rgb(0%,74.901961%,76.862745%);fill-opacity:1;stroke-width:0.708661;stroke-linecap:round;stroke-linejoin:round;stroke:rgb(0%,74.901961%,76.862745%);stroke-opacity:1;stroke-miterlimit:10;\" d=\"M 187.757812 241.164062 C 187.757812 243.769531 183.847656 243.769531 183.847656 241.164062 C 183.847656 238.558594 187.757812 238.558594 187.757812 241.164062 \"/>\n",
       "<path style=\"fill-rule:nonzero;fill:rgb(78.039216%,48.627451%,100%);fill-opacity:1;stroke-width:0.708661;stroke-linecap:round;stroke-linejoin:round;stroke:rgb(78.039216%,48.627451%,100%);stroke-opacity:1;stroke-miterlimit:10;\" d=\"M 250.878906 241.164062 C 250.878906 243.769531 246.972656 243.769531 246.972656 241.164062 C 246.972656 238.558594 250.878906 238.558594 250.878906 241.164062 \"/>\n",
       "<path style=\"fill-rule:nonzero;fill:rgb(78.039216%,48.627451%,100%);fill-opacity:1;stroke-width:0.708661;stroke-linecap:round;stroke-linejoin:round;stroke:rgb(78.039216%,48.627451%,100%);stroke-opacity:1;stroke-miterlimit:10;\" d=\"M 260.347656 232.0625 C 260.347656 234.667969 256.4375 234.667969 256.4375 232.0625 C 256.4375 229.457031 260.347656 229.457031 260.347656 232.0625 \"/>\n",
       "<path style=\"fill-rule:nonzero;fill:rgb(78.039216%,48.627451%,100%);fill-opacity:1;stroke-width:0.708661;stroke-linecap:round;stroke-linejoin:round;stroke:rgb(78.039216%,48.627451%,100%);stroke-opacity:1;stroke-miterlimit:10;\" d=\"M 238.257812 241.164062 C 238.257812 243.769531 234.347656 243.769531 234.347656 241.164062 C 234.347656 238.558594 238.257812 238.558594 238.257812 241.164062 \"/>\n",
       "<path style=\"fill-rule:nonzero;fill:rgb(78.039216%,48.627451%,100%);fill-opacity:1;stroke-width:0.708661;stroke-linecap:round;stroke-linejoin:round;stroke:rgb(78.039216%,48.627451%,100%);stroke-opacity:1;stroke-miterlimit:10;\" d=\"M 285.597656 232.0625 C 285.597656 234.667969 281.6875 234.667969 281.6875 232.0625 C 281.6875 229.457031 285.597656 229.457031 285.597656 232.0625 \"/>\n",
       "<path style=\"fill-rule:nonzero;fill:rgb(78.039216%,48.627451%,100%);fill-opacity:1;stroke-width:0.708661;stroke-linecap:round;stroke-linejoin:round;stroke:rgb(78.039216%,48.627451%,100%);stroke-opacity:1;stroke-miterlimit:10;\" d=\"M 254.035156 232.0625 C 254.035156 234.667969 250.125 234.667969 250.125 232.0625 C 250.125 229.457031 254.035156 229.457031 254.035156 232.0625 \"/>\n",
       "<path style=\"fill-rule:nonzero;fill:rgb(78.039216%,48.627451%,100%);fill-opacity:1;stroke-width:0.708661;stroke-linecap:round;stroke-linejoin:round;stroke:rgb(78.039216%,48.627451%,100%);stroke-opacity:1;stroke-miterlimit:10;\" d=\"M 219.320312 232.0625 C 219.320312 234.667969 215.410156 234.667969 215.410156 232.0625 C 215.410156 229.457031 219.320312 229.457031 219.320312 232.0625 \"/>\n",
       "<path style=\"fill-rule:nonzero;fill:rgb(78.039216%,48.627451%,100%);fill-opacity:1;stroke-width:0.708661;stroke-linecap:round;stroke-linejoin:round;stroke:rgb(78.039216%,48.627451%,100%);stroke-opacity:1;stroke-miterlimit:10;\" d=\"M 153.042969 368.558594 C 153.042969 371.167969 149.132812 371.167969 149.132812 368.558594 C 149.132812 365.953125 153.042969 365.953125 153.042969 368.558594 \"/>\n",
       "<path style=\"fill-rule:nonzero;fill:rgb(78.039216%,48.627451%,100%);fill-opacity:1;stroke-width:0.708661;stroke-linecap:round;stroke-linejoin:round;stroke:rgb(78.039216%,48.627451%,100%);stroke-opacity:1;stroke-miterlimit:10;\" d=\"M 149.886719 350.359375 C 149.886719 352.964844 145.976562 352.964844 145.976562 350.359375 C 145.976562 347.753906 149.886719 347.753906 149.886719 350.359375 \"/>\n",
       "<path style=\"fill-rule:nonzero;fill:rgb(78.039216%,48.627451%,100%);fill-opacity:1;stroke-width:0.708661;stroke-linecap:round;stroke-linejoin:round;stroke:rgb(78.039216%,48.627451%,100%);stroke-opacity:1;stroke-miterlimit:10;\" d=\"M 127.792969 350.359375 C 127.792969 352.964844 123.882812 352.964844 123.882812 350.359375 C 123.882812 347.753906 127.792969 347.753906 127.792969 350.359375 \"/>\n",
       "<path style=\"fill-rule:nonzero;fill:rgb(78.039216%,48.627451%,100%);fill-opacity:1;stroke-width:0.708661;stroke-linecap:round;stroke-linejoin:round;stroke:rgb(78.039216%,48.627451%,100%);stroke-opacity:1;stroke-miterlimit:10;\" d=\"M 130.949219 359.460938 C 130.949219 362.066406 127.039062 362.066406 127.039062 359.460938 C 127.039062 356.855469 130.949219 356.855469 130.949219 359.460938 \"/>\n",
       "<path style=\"fill-rule:nonzero;fill:rgb(78.039216%,48.627451%,100%);fill-opacity:1;stroke-width:0.708661;stroke-linecap:round;stroke-linejoin:round;stroke:rgb(78.039216%,48.627451%,100%);stroke-opacity:1;stroke-miterlimit:10;\" d=\"M 134.105469 350.359375 C 134.105469 352.964844 130.195312 352.964844 130.195312 350.359375 C 130.195312 347.753906 134.105469 347.753906 134.105469 350.359375 \"/>\n",
       "<path style=\"fill-rule:nonzero;fill:rgb(78.039216%,48.627451%,100%);fill-opacity:1;stroke-width:0.708661;stroke-linecap:round;stroke-linejoin:round;stroke:rgb(78.039216%,48.627451%,100%);stroke-opacity:1;stroke-miterlimit:10;\" d=\"M 127.792969 341.261719 C 127.792969 343.867188 123.882812 343.867188 123.882812 341.261719 C 123.882812 338.652344 127.792969 338.652344 127.792969 341.261719 \"/>\n",
       "<path style=\"fill-rule:nonzero;fill:rgb(78.039216%,48.627451%,100%);fill-opacity:1;stroke-width:0.708661;stroke-linecap:round;stroke-linejoin:round;stroke:rgb(78.039216%,48.627451%,100%);stroke-opacity:1;stroke-miterlimit:10;\" d=\"M 127.792969 323.0625 C 127.792969 325.667969 123.882812 325.667969 123.882812 323.0625 C 123.882812 320.453125 127.792969 320.453125 127.792969 323.0625 \"/>\n",
       "<path style=\"fill-rule:nonzero;fill:rgb(78.039216%,48.627451%,100%);fill-opacity:1;stroke-width:0.708661;stroke-linecap:round;stroke-linejoin:round;stroke:rgb(78.039216%,48.627451%,100%);stroke-opacity:1;stroke-miterlimit:10;\" d=\"M 127.792969 359.460938 C 127.792969 362.066406 123.882812 362.066406 123.882812 359.460938 C 123.882812 356.855469 127.792969 356.855469 127.792969 359.460938 \"/>\n",
       "<path style=\"fill-rule:nonzero;fill:rgb(78.039216%,48.627451%,100%);fill-opacity:1;stroke-width:0.708661;stroke-linecap:round;stroke-linejoin:round;stroke:rgb(78.039216%,48.627451%,100%);stroke-opacity:1;stroke-miterlimit:10;\" d=\"M 184.601562 304.863281 C 184.601562 307.46875 180.691406 307.46875 180.691406 304.863281 C 180.691406 302.253906 184.601562 302.253906 184.601562 304.863281 \"/>\n",
       "<path style=\"fill-rule:nonzero;fill:rgb(78.039216%,48.627451%,100%);fill-opacity:1;stroke-width:0.708661;stroke-linecap:round;stroke-linejoin:round;stroke:rgb(78.039216%,48.627451%,100%);stroke-opacity:1;stroke-miterlimit:10;\" d=\"M 130.949219 341.261719 C 130.949219 343.867188 127.039062 343.867188 127.039062 341.261719 C 127.039062 338.652344 130.949219 338.652344 130.949219 341.261719 \"/>\n",
       "<path style=\"fill:none;stroke-width:1.066978;stroke-linecap:butt;stroke-linejoin:round;stroke:rgb(0%,0%,0%);stroke-opacity:1;stroke-miterlimit:10;\" d=\"M 253.660156 131.964844 L 253.644531 131.390625 L 253.597656 130.8125 L 253.515625 130.242188 L 253.40625 129.679688 L 253.265625 129.125 L 253.09375 128.585938 L 252.894531 128.054688 L 252.664062 127.542969 L 252.40625 127.046875 L 252.125 126.570312 L 251.8125 126.117188 L 251.480469 125.6875 L 251.125 125.28125 L 250.746094 124.902344 L 250.347656 124.554688 L 249.929688 124.234375 L 249.496094 123.945312 L 249.046875 123.6875 L 248.585938 123.464844 L 248.113281 123.277344 L 247.628906 123.121094 L 247.140625 123.003906 L 246.644531 122.921875 L 246.144531 122.875 L 245.644531 122.867188 L 245.144531 122.894531 L 244.648438 122.957031 L 244.152344 123.058594 L 243.667969 123.195312 L 243.1875 123.367188 L 242.722656 123.574219 L 242.265625 123.8125 L 241.824219 124.085938 L 241.398438 124.390625 L 240.992188 124.726562 L 240.601562 125.089844 L 240.234375 125.480469 L 239.890625 125.898438 L 239.566406 126.339844 L 239.269531 126.804688 L 239 127.292969 L 238.757812 127.796875 L 238.542969 128.316406 L 238.355469 128.855469 L 238.199219 129.402344 L 238.074219 129.960938 L 237.976562 130.527344 L 237.914062 131.101562 L 237.882812 131.675781 L 237.882812 132.253906 L 237.914062 132.832031 L 237.976562 133.402344 L 238.074219 133.972656 L 238.199219 134.53125 L 238.355469 135.078125 L 238.542969 135.613281 L 238.757812 136.136719 L 239 136.640625 L 239.269531 137.125 L 239.566406 137.589844 L 239.890625 138.035156 L 240.234375 138.453125 L 240.601562 138.84375 L 240.992188 139.207031 L 241.398438 139.542969 L 241.824219 139.847656 L 242.265625 140.121094 L 242.722656 140.359375 L 243.1875 140.566406 L 243.667969 140.738281 L 244.152344 140.871094 L 244.648438 140.972656 L 245.144531 141.039062 L 245.644531 141.066406 L 246.144531 141.054688 L 246.644531 141.011719 L 247.140625 140.925781 L 247.628906 140.808594 L 248.113281 140.65625 L 248.585938 140.464844 L 249.046875 140.242188 L 249.496094 139.988281 L 249.929688 139.699219 L 250.347656 139.378906 L 250.746094 139.027344 L 251.125 138.652344 L 251.480469 138.246094 L 251.8125 137.816406 L 252.125 137.363281 L 252.40625 136.886719 L 252.664062 136.390625 L 252.894531 135.878906 L 253.09375 135.347656 L 253.265625 134.804688 L 253.40625 134.25 L 253.515625 133.6875 L 253.597656 133.117188 L 253.644531 132.542969 L 253.660156 131.964844 \"/>\n",
       "<g style=\"fill:rgb(0%,0%,0%);fill-opacity:1;\">\n",
       "  <use xlink:href=\"#glyph0-1\" x=\"228.566406\" y=\"126.860352\"/>\n",
       "</g>\n",
       "<path style=\"fill:none;stroke-width:1.066978;stroke-linecap:butt;stroke-linejoin:round;stroke:rgb(0%,0%,0%);stroke-opacity:1;stroke-miterlimit:10;\" d=\"M 234.722656 168.363281 L 234.707031 167.789062 L 234.660156 167.214844 L 234.582031 166.644531 L 234.46875 166.078125 L 234.328125 165.527344 L 234.15625 164.984375 L 233.957031 164.453125 L 233.726562 163.941406 L 233.472656 163.445312 L 233.1875 162.96875 L 232.878906 162.515625 L 232.542969 162.085938 L 232.1875 161.679688 L 231.808594 161.300781 L 231.410156 160.953125 L 230.992188 160.632812 L 230.558594 160.34375 L 230.109375 160.085938 L 229.648438 159.863281 L 229.175781 159.675781 L 228.691406 159.523438 L 228.203125 159.402344 L 227.707031 159.320312 L 227.207031 159.277344 L 226.707031 159.265625 L 226.207031 159.292969 L 225.710938 159.359375 L 225.21875 159.457031 L 224.730469 159.59375 L 224.253906 159.765625 L 223.785156 159.972656 L 223.328125 160.210938 L 222.886719 160.484375 L 222.460938 160.789062 L 222.054688 161.125 L 221.667969 161.488281 L 221.296875 161.878906 L 220.953125 162.296875 L 220.632812 162.738281 L 220.335938 163.203125 L 220.0625 163.691406 L 219.820312 164.195312 L 219.605469 164.714844 L 219.417969 165.253906 L 219.261719 165.800781 L 219.136719 166.359375 L 219.042969 166.925781 L 218.980469 167.5 L 218.945312 168.078125 L 218.945312 168.652344 L 218.980469 169.230469 L 219.042969 169.804688 L 219.136719 170.371094 L 219.261719 170.929688 L 219.417969 171.476562 L 219.605469 172.011719 L 219.820312 172.535156 L 220.0625 173.039062 L 220.335938 173.523438 L 220.632812 173.988281 L 220.953125 174.433594 L 221.296875 174.851562 L 221.667969 175.242188 L 222.054688 175.605469 L 222.460938 175.941406 L 222.886719 176.246094 L 223.328125 176.519531 L 223.785156 176.757812 L 224.253906 176.964844 L 224.730469 177.136719 L 225.21875 177.273438 L 225.710938 177.371094 L 226.207031 177.4375 L 226.707031 177.464844 L 227.207031 177.453125 L 227.707031 177.410156 L 228.203125 177.328125 L 228.691406 177.207031 L 229.175781 177.054688 L 229.648438 176.867188 L 230.109375 176.640625 L 230.558594 176.386719 L 230.992188 176.097656 L 231.410156 175.777344 L 231.808594 175.429688 L 232.1875 175.050781 L 232.542969 174.644531 L 232.878906 174.214844 L 233.1875 173.761719 L 233.472656 173.285156 L 233.726562 172.789062 L 233.957031 172.277344 L 234.15625 171.746094 L 234.328125 171.203125 L 234.46875 170.652344 L 234.582031 170.085938 L 234.660156 169.515625 L 234.707031 168.941406 L 234.722656 168.363281 \"/>\n",
       "<g style=\"fill:rgb(0%,0%,0%);fill-opacity:1;\">\n",
       "  <use xlink:href=\"#glyph0-2\" x=\"206.472656\" y=\"163.258789\"/>\n",
       "</g>\n",
       "<path style=\"fill:none;stroke-width:1.066978;stroke-linecap:butt;stroke-linejoin:round;stroke:rgb(0%,0%,0%);stroke-opacity:1;stroke-miterlimit:10;\" d=\"M 256.816406 241.164062 L 256.800781 240.585938 L 256.753906 240.011719 L 256.671875 239.441406 L 256.5625 238.878906 L 256.421875 238.324219 L 256.25 237.78125 L 256.050781 237.253906 L 255.820312 236.738281 L 255.5625 236.242188 L 255.28125 235.769531 L 254.96875 235.3125 L 254.636719 234.882812 L 254.277344 234.480469 L 253.902344 234.101562 L 253.503906 233.75 L 253.085938 233.429688 L 252.652344 233.140625 L 252.203125 232.886719 L 251.742188 232.664062 L 251.269531 232.472656 L 250.785156 232.320312 L 250.296875 232.203125 L 249.800781 232.121094 L 249.300781 232.074219 L 248.800781 232.066406 L 248.300781 232.09375 L 247.804688 232.15625 L 247.308594 232.257812 L 246.824219 232.390625 L 246.34375 232.5625 L 245.878906 232.769531 L 245.421875 233.011719 L 244.980469 233.28125 L 244.554688 233.585938 L 244.148438 233.921875 L 243.757812 234.285156 L 243.390625 234.679688 L 243.046875 235.097656 L 242.722656 235.539062 L 242.425781 236.003906 L 242.15625 236.488281 L 241.914062 236.992188 L 241.699219 237.515625 L 241.511719 238.050781 L 241.355469 238.597656 L 241.230469 239.160156 L 241.132812 239.726562 L 241.070312 240.296875 L 241.039062 240.875 L 241.039062 241.453125 L 241.070312 242.027344 L 241.132812 242.601562 L 241.230469 243.167969 L 241.355469 243.726562 L 241.511719 244.277344 L 241.699219 244.8125 L 241.914062 245.332031 L 242.15625 245.835938 L 242.425781 246.324219 L 242.722656 246.789062 L 243.046875 247.230469 L 243.390625 247.648438 L 243.757812 248.039062 L 244.148438 248.40625 L 244.554688 248.738281 L 244.980469 249.042969 L 245.421875 249.316406 L 245.878906 249.554688 L 246.34375 249.761719 L 246.824219 249.933594 L 247.308594 250.070312 L 247.804688 250.171875 L 248.300781 250.234375 L 248.800781 250.261719 L 249.300781 250.253906 L 249.800781 250.207031 L 250.296875 250.125 L 250.785156 250.007812 L 251.269531 249.851562 L 251.742188 249.664062 L 252.203125 249.441406 L 252.652344 249.183594 L 253.085938 248.894531 L 253.503906 248.574219 L 253.902344 248.226562 L 254.277344 247.847656 L 254.636719 247.441406 L 254.96875 247.011719 L 255.28125 246.558594 L 255.5625 246.082031 L 255.820312 245.585938 L 256.050781 245.074219 L 256.25 244.546875 L 256.421875 244.003906 L 256.5625 243.449219 L 256.671875 242.886719 L 256.753906 242.316406 L 256.800781 241.742188 L 256.816406 241.164062 \"/>\n",
       "<g style=\"fill:rgb(0%,0%,0%);fill-opacity:1;\">\n",
       "  <use xlink:href=\"#glyph0-3\" x=\"258.707031\" y=\"254.254883\"/>\n",
       "  <use xlink:href=\"#glyph0-3\" x=\"264.707031\" y=\"254.254883\"/>\n",
       "</g>\n",
       "<g style=\"fill:rgb(30.196078%,30.196078%,30.196078%);fill-opacity:1;\">\n",
       "  <use xlink:href=\"#glyph1-1\" x=\"26.21875\" y=\"355.84375\"/>\n",
       "</g>\n",
       "<g style=\"fill:rgb(30.196078%,30.196078%,30.196078%);fill-opacity:1;\">\n",
       "  <use xlink:href=\"#glyph1-2\" x=\"26.21875\" y=\"264.847656\"/>\n",
       "</g>\n",
       "<g style=\"fill:rgb(30.196078%,30.196078%,30.196078%);fill-opacity:1;\">\n",
       "  <use xlink:href=\"#glyph1-3\" x=\"26.21875\" y=\"173.847656\"/>\n",
       "</g>\n",
       "<g style=\"fill:rgb(30.196078%,30.196078%,30.196078%);fill-opacity:1;\">\n",
       "  <use xlink:href=\"#glyph1-4\" x=\"26.21875\" y=\"82.851562\"/>\n",
       "</g>\n",
       "<path style=\"fill:none;stroke-width:1.066978;stroke-linecap:butt;stroke-linejoin:round;stroke:rgb(20%,20%,20%);stroke-opacity:1;stroke-miterlimit:10;\" d=\"M 37.410156 350.359375 L 40.152344 350.359375 \"/>\n",
       "<path style=\"fill:none;stroke-width:1.066978;stroke-linecap:butt;stroke-linejoin:round;stroke:rgb(20%,20%,20%);stroke-opacity:1;stroke-miterlimit:10;\" d=\"M 37.410156 259.363281 L 40.152344 259.363281 \"/>\n",
       "<path style=\"fill:none;stroke-width:1.066978;stroke-linecap:butt;stroke-linejoin:round;stroke:rgb(20%,20%,20%);stroke-opacity:1;stroke-miterlimit:10;\" d=\"M 37.410156 168.363281 L 40.152344 168.363281 \"/>\n",
       "<path style=\"fill:none;stroke-width:1.066978;stroke-linecap:butt;stroke-linejoin:round;stroke:rgb(20%,20%,20%);stroke-opacity:1;stroke-miterlimit:10;\" d=\"M 37.410156 77.367188 L 40.152344 77.367188 \"/>\n",
       "<path style=\"fill:none;stroke-width:1.066978;stroke-linecap:butt;stroke-linejoin:round;stroke:rgb(20%,20%,20%);stroke-opacity:1;stroke-miterlimit:10;\" d=\"M 100.589844 388.589844 L 100.589844 385.847656 \"/>\n",
       "<path style=\"fill:none;stroke-width:1.066978;stroke-linecap:butt;stroke-linejoin:round;stroke:rgb(20%,20%,20%);stroke-opacity:1;stroke-miterlimit:10;\" d=\"M 258.394531 388.589844 L 258.394531 385.847656 \"/>\n",
       "<path style=\"fill:none;stroke-width:1.066978;stroke-linecap:butt;stroke-linejoin:round;stroke:rgb(20%,20%,20%);stroke-opacity:1;stroke-miterlimit:10;\" d=\"M 416.199219 388.589844 L 416.199219 385.847656 \"/>\n",
       "<g style=\"fill:rgb(30.196078%,30.196078%,30.196078%);fill-opacity:1;\">\n",
       "  <use xlink:href=\"#glyph1-5\" x=\"87.089844\" y=\"402.265625\"/>\n",
       "  <use xlink:href=\"#glyph1-6\" x=\"96.089844\" y=\"402.265625\"/>\n",
       "  <use xlink:href=\"#glyph1-6\" x=\"105.089844\" y=\"402.265625\"/>\n",
       "</g>\n",
       "<g style=\"fill:rgb(30.196078%,30.196078%,30.196078%);fill-opacity:1;\">\n",
       "  <use xlink:href=\"#glyph1-7\" x=\"244.894531\" y=\"402.265625\"/>\n",
       "  <use xlink:href=\"#glyph1-6\" x=\"253.894531\" y=\"402.265625\"/>\n",
       "  <use xlink:href=\"#glyph1-6\" x=\"262.894531\" y=\"402.265625\"/>\n",
       "</g>\n",
       "<g style=\"fill:rgb(30.196078%,30.196078%,30.196078%);fill-opacity:1;\">\n",
       "  <use xlink:href=\"#glyph1-8\" x=\"402.699219\" y=\"402.265625\"/>\n",
       "  <use xlink:href=\"#glyph1-6\" x=\"411.699219\" y=\"402.265625\"/>\n",
       "  <use xlink:href=\"#glyph1-6\" x=\"420.699219\" y=\"402.265625\"/>\n",
       "</g>\n",
       "<g style=\"fill:rgb(0%,0%,0%);fill-opacity:1;\">\n",
       "  <use xlink:href=\"#glyph2-1\" x=\"226.375\" y=\"421.625\"/>\n",
       "  <use xlink:href=\"#glyph2-2\" x=\"243.375\" y=\"421.625\"/>\n",
       "  <use xlink:href=\"#glyph2-3\" x=\"254.375\" y=\"421.625\"/>\n",
       "  <use xlink:href=\"#glyph2-3\" x=\"264.375\" y=\"421.625\"/>\n",
       "  <use xlink:href=\"#glyph2-4\" x=\"274.375\" y=\"421.625\"/>\n",
       "  <use xlink:href=\"#glyph2-5\" x=\"280.375\" y=\"421.625\"/>\n",
       "  <use xlink:href=\"#glyph2-6\" x=\"287.375\" y=\"421.625\"/>\n",
       "  <use xlink:href=\"#glyph2-7\" x=\"298.375\" y=\"421.625\"/>\n",
       "  <use xlink:href=\"#glyph2-2\" x=\"305.375\" y=\"421.625\"/>\n",
       "  <use xlink:href=\"#glyph2-8\" x=\"316.375\" y=\"421.625\"/>\n",
       "  <use xlink:href=\"#glyph2-3\" x=\"333.375\" y=\"421.625\"/>\n",
       "  <use xlink:href=\"#glyph2-9\" x=\"343.375\" y=\"421.625\"/>\n",
       "</g>\n",
       "<g style=\"fill:rgb(0%,0%,0%);fill-opacity:1;\">\n",
       "  <use xlink:href=\"#glyph3-1\" x=\"18.585938\" y=\"244.664062\"/>\n",
       "  <use xlink:href=\"#glyph3-2\" x=\"18.585938\" y=\"225.664062\"/>\n",
       "  <use xlink:href=\"#glyph3-3\" x=\"18.585938\" y=\"221.664062\"/>\n",
       "  <use xlink:href=\"#glyph3-4\" x=\"18.585938\" y=\"210.664062\"/>\n",
       "  <use xlink:href=\"#glyph3-5\" x=\"18.585938\" y=\"204.664062\"/>\n",
       "  <use xlink:href=\"#glyph3-6\" x=\"18.585938\" y=\"193.664062\"/>\n",
       "  <use xlink:href=\"#glyph3-7\" x=\"18.585938\" y=\"187.664062\"/>\n",
       "  <use xlink:href=\"#glyph3-8\" x=\"18.585938\" y=\"180.664062\"/>\n",
       "  <use xlink:href=\"#glyph3-9\" x=\"18.585938\" y=\"170.664062\"/>\n",
       "  <use xlink:href=\"#glyph3-10\" x=\"18.585938\" y=\"153.664062\"/>\n",
       "</g>\n",
       "<path style=\" stroke:none;fill-rule:nonzero;fill:rgb(100%,100%,100%);fill-opacity:1;\" d=\"M 547.5625 249.683594 L 714.519531 249.683594 L 714.519531 141.640625 L 547.5625 141.640625 Z M 547.5625 249.683594 \"/>\n",
       "<g style=\"fill:rgb(0%,0%,0%);fill-opacity:1;\">\n",
       "  <use xlink:href=\"#glyph2-10\" x=\"553.042969\" y=\"162.230469\"/>\n",
       "  <use xlink:href=\"#glyph2-2\" x=\"567.042969\" y=\"162.230469\"/>\n",
       "  <use xlink:href=\"#glyph2-8\" x=\"578.042969\" y=\"162.230469\"/>\n",
       "  <use xlink:href=\"#glyph2-11\" x=\"595.042969\" y=\"162.230469\"/>\n",
       "  <use xlink:href=\"#glyph2-4\" x=\"606.042969\" y=\"162.230469\"/>\n",
       "  <use xlink:href=\"#glyph2-12\" x=\"612.042969\" y=\"162.230469\"/>\n",
       "  <use xlink:href=\"#glyph2-13\" x=\"623.042969\" y=\"162.230469\"/>\n",
       "  <use xlink:href=\"#glyph2-4\" x=\"629.042969\" y=\"162.230469\"/>\n",
       "  <use xlink:href=\"#glyph2-14\" x=\"635.042969\" y=\"162.230469\"/>\n",
       "  <use xlink:href=\"#glyph2-15\" x=\"641.042969\" y=\"162.230469\"/>\n",
       "  <use xlink:href=\"#glyph2-11\" x=\"652.042969\" y=\"162.230469\"/>\n",
       "  <use xlink:href=\"#glyph2-4\" x=\"663.042969\" y=\"162.230469\"/>\n",
       "  <use xlink:href=\"#glyph2-16\" x=\"669.042969\" y=\"162.230469\"/>\n",
       "  <use xlink:href=\"#glyph2-7\" x=\"681.042969\" y=\"162.230469\"/>\n",
       "  <use xlink:href=\"#glyph2-17\" x=\"688.042969\" y=\"162.230469\"/>\n",
       "  <use xlink:href=\"#glyph2-18\" x=\"699.042969\" y=\"162.230469\"/>\n",
       "  <use xlink:href=\"#glyph2-14\" x=\"703.042969\" y=\"162.230469\"/>\n",
       "</g>\n",
       "<path style=\" stroke:none;fill-rule:nonzero;fill:rgb(94.901961%,94.901961%,94.901961%);fill-opacity:1;\" d=\"M 553.042969 192.367188 L 570.324219 192.367188 L 570.324219 175.085938 L 553.042969 175.085938 Z M 553.042969 192.367188 \"/>\n",
       "<path style=\"fill-rule:nonzero;fill:rgb(97.254902%,46.27451%,42.745098%);fill-opacity:1;stroke-width:0.708661;stroke-linecap:round;stroke-linejoin:round;stroke:rgb(97.254902%,46.27451%,42.745098%);stroke-opacity:1;stroke-miterlimit:10;\" d=\"M 563.636719 183.726562 C 563.636719 186.332031 559.726562 186.332031 559.726562 183.726562 C 559.726562 181.121094 563.636719 181.121094 563.636719 183.726562 \"/>\n",
       "<path style=\" stroke:none;fill-rule:nonzero;fill:rgb(94.901961%,94.901961%,94.901961%);fill-opacity:1;\" d=\"M 553.042969 209.644531 L 570.324219 209.644531 L 570.324219 192.363281 L 553.042969 192.363281 Z M 553.042969 209.644531 \"/>\n",
       "<path style=\"fill-rule:nonzero;fill:rgb(48.627451%,68.235294%,0%);fill-opacity:1;stroke-width:0.708661;stroke-linecap:round;stroke-linejoin:round;stroke:rgb(48.627451%,68.235294%,0%);stroke-opacity:1;stroke-miterlimit:10;\" d=\"M 563.636719 201.003906 C 563.636719 203.613281 559.726562 203.613281 559.726562 201.003906 C 559.726562 198.398438 563.636719 198.398438 563.636719 201.003906 \"/>\n",
       "<path style=\" stroke:none;fill-rule:nonzero;fill:rgb(94.901961%,94.901961%,94.901961%);fill-opacity:1;\" d=\"M 553.042969 226.925781 L 570.324219 226.925781 L 570.324219 209.644531 L 553.042969 209.644531 Z M 553.042969 226.925781 \"/>\n",
       "<path style=\"fill-rule:nonzero;fill:rgb(0%,74.901961%,76.862745%);fill-opacity:1;stroke-width:0.708661;stroke-linecap:round;stroke-linejoin:round;stroke:rgb(0%,74.901961%,76.862745%);stroke-opacity:1;stroke-miterlimit:10;\" d=\"M 563.636719 218.285156 C 563.636719 220.890625 559.726562 220.890625 559.726562 218.285156 C 559.726562 215.679688 563.636719 215.679688 563.636719 218.285156 \"/>\n",
       "<path style=\" stroke:none;fill-rule:nonzero;fill:rgb(94.901961%,94.901961%,94.901961%);fill-opacity:1;\" d=\"M 553.042969 244.207031 L 570.324219 244.207031 L 570.324219 226.925781 L 553.042969 226.925781 Z M 553.042969 244.207031 \"/>\n",
       "<path style=\"fill-rule:nonzero;fill:rgb(78.039216%,48.627451%,100%);fill-opacity:1;stroke-width:0.708661;stroke-linecap:round;stroke-linejoin:round;stroke:rgb(78.039216%,48.627451%,100%);stroke-opacity:1;stroke-miterlimit:10;\" d=\"M 563.636719 235.566406 C 563.636719 238.171875 559.726562 238.171875 559.726562 235.566406 C 559.726562 232.960938 563.636719 232.960938 563.636719 235.566406 \"/>\n",
       "<g style=\"fill:rgb(0%,0%,0%);fill-opacity:1;\">\n",
       "  <use xlink:href=\"#glyph1-9\" x=\"580.285156\" y=\"189.210938\"/>\n",
       "  <use xlink:href=\"#glyph1-10\" x=\"589.285156\" y=\"189.210938\"/>\n",
       "  <use xlink:href=\"#glyph1-10\" x=\"598.285156\" y=\"189.210938\"/>\n",
       "  <use xlink:href=\"#glyph1-11\" x=\"607.285156\" y=\"189.210938\"/>\n",
       "  <use xlink:href=\"#glyph1-12\" x=\"611.285156\" y=\"189.210938\"/>\n",
       "</g>\n",
       "<g style=\"fill:rgb(0%,0%,0%);fill-opacity:1;\">\n",
       "  <use xlink:href=\"#glyph1-13\" x=\"580.285156\" y=\"206.488281\"/>\n",
       "  <use xlink:href=\"#glyph1-9\" x=\"593.285156\" y=\"206.488281\"/>\n",
       "  <use xlink:href=\"#glyph1-14\" x=\"602.285156\" y=\"206.488281\"/>\n",
       "  <use xlink:href=\"#glyph1-15\" x=\"611.285156\" y=\"206.488281\"/>\n",
       "  <use xlink:href=\"#glyph1-9\" x=\"620.285156\" y=\"206.488281\"/>\n",
       "  <use xlink:href=\"#glyph1-16\" x=\"629.285156\" y=\"206.488281\"/>\n",
       "  <use xlink:href=\"#glyph1-17\" x=\"634.285156\" y=\"206.488281\"/>\n",
       "  <use xlink:href=\"#glyph1-14\" x=\"638.285156\" y=\"206.488281\"/>\n",
       "</g>\n",
       "<g style=\"fill:rgb(0%,0%,0%);fill-opacity:1;\">\n",
       "  <use xlink:href=\"#glyph1-18\" x=\"580.285156\" y=\"223.769531\"/>\n",
       "  <use xlink:href=\"#glyph1-16\" x=\"589.285156\" y=\"223.769531\"/>\n",
       "  <use xlink:href=\"#glyph1-9\" x=\"594.285156\" y=\"223.769531\"/>\n",
       "  <use xlink:href=\"#glyph1-14\" x=\"603.285156\" y=\"223.769531\"/>\n",
       "  <use xlink:href=\"#glyph1-19\" x=\"612.285156\" y=\"223.769531\"/>\n",
       "  <use xlink:href=\"#glyph1-12\" x=\"621.285156\" y=\"223.769531\"/>\n",
       "</g>\n",
       "<g style=\"fill:rgb(0%,0%,0%);fill-opacity:1;\">\n",
       "  <use xlink:href=\"#glyph1-11\" x=\"580.285156\" y=\"241.050781\"/>\n",
       "  <use xlink:href=\"#glyph1-12\" x=\"584.285156\" y=\"241.050781\"/>\n",
       "  <use xlink:href=\"#glyph1-13\" x=\"593.285156\" y=\"241.050781\"/>\n",
       "  <use xlink:href=\"#glyph1-18\" x=\"606.285156\" y=\"241.050781\"/>\n",
       "  <use xlink:href=\"#glyph1-14\" x=\"615.285156\" y=\"241.050781\"/>\n",
       "</g>\n",
       "</g>\n",
       "</svg>\n"
      ],
      "text/plain": [
       "plot without title"
      ]
     },
     "metadata": {
      "application/pdf": {
       "height": 360,
       "width": 600
      },
      "image/jpeg": {
       "height": 360,
       "width": 600
      },
      "image/png": {
       "height": 360,
       "width": 600
      },
      "image/svg+xml": {
       "height": 360,
       "isolated": true,
       "width": 600
      }
     },
     "output_type": "display_data"
    }
   ],
   "source": [
    "# Run this cell. \n",
    "\n",
    "filter(fruit_data, row_number() == 44)\n",
    "\n",
    "point1 <- c(192, 8.4)\n",
    "point2 <- c(180, 8)\n",
    "point44 <- c(194, 7.2)\n",
    "\n",
    "fruit_data |>\n",
    "    ggplot(aes(x = mass, \n",
    "               y = width, \n",
    "               colour = fruit_name)) +\n",
    "        labs(x = \"Mass (grams)\",\n",
    "             y = \"Width (cm)\",\n",
    "            colour = 'Name of the Fruit') +\n",
    "        geom_point() +\n",
    "        annotate(\"path\", \n",
    "                 x=point1[1] + 5*cos(seq(0,2*pi,length.out=100)),\n",
    "                 y=point1[2] + 0.1*sin(seq(0,2*pi,length.out=100))) +\n",
    "        annotate(\"text\", x = 183, y =  8.5, label = \"1\") +\n",
    "        annotate(\"path\",\n",
    "                 x=point2[1] + 5*cos(seq(0,2*pi,length.out=100)),\n",
    "                 y=point2[2] + 0.1*sin(seq(0,2*pi,length.out=100))) +\n",
    "        annotate(\"text\", x = 169, y =  8.1, label = \"2\") +\n",
    "        annotate(\"path\",\n",
    "                 x=point44[1] + 5*cos(seq(0,2*pi,length.out=100)),\n",
    "                 y=point44[2]+0.1*sin(seq(0,2*pi,length.out=100))) +\n",
    "        annotate(\"text\", x = 204, y =  7.1, label = \"44\") +\n",
    "        theme(text = element_text(size = 20))"
   ]
  },
  {
   "cell_type": "code",
   "execution_count": 46,
   "metadata": {
    "deletable": false,
    "nbgrader": {
     "cell_type": "code",
     "checksum": "cb970fe2038ad019cb9a8e4344e9356a",
     "grade": false,
     "grade_id": "cell-43a8d3f7727d3450",
     "locked": false,
     "schema_version": 3,
     "solution": true,
     "task": false
    }
   },
   "outputs": [],
   "source": [
    "# your code here\n",
    "fruit_dist_44 <- sqrt(sum((point1 - point44)^2))"
   ]
  },
  {
   "cell_type": "code",
   "execution_count": 47,
   "metadata": {
    "deletable": false,
    "editable": false,
    "nbgrader": {
     "cell_type": "code",
     "checksum": "20917923330b8f3c68240fa65938a894",
     "grade": true,
     "grade_id": "cell-34cfcd13bb1f5097",
     "locked": true,
     "points": 1,
     "schema_version": 3,
     "solution": false,
     "task": false
    }
   },
   "outputs": [
    {
     "name": "stdout",
     "output_type": "stream",
     "text": [
      "\u001b[32mTest passed\u001b[39m 🎊\n",
      "\u001b[32mTest passed\u001b[39m 🥇\n",
      "[1] \"Success!\"\n"
     ]
    }
   ],
   "source": [
    "test_1.3()"
   ]
  },
  {
   "cell_type": "markdown",
   "metadata": {
    "deletable": false,
    "editable": false,
    "nbgrader": {
     "cell_type": "markdown",
     "checksum": "f64f5382c5d075b19ba415c9e136c8e5",
     "grade": false,
     "grade_id": "cell-aee58b612565e7f9",
     "locked": true,
     "schema_version": 3,
     "solution": false,
     "task": false
    }
   },
   "source": [
    "What do you notice about your answers from **Question 1.2** & **1.3** that you just calculated? Is it what you would expect given the scatter plot above? Why or why not? Discuss this.\n",
    "\n",
    "*Hint: Look at where the observations are on the scatterplot in the cell above this question. What might happen if we changed grams into kilograms to measure the mass?*"
   ]
  },
  {
   "cell_type": "markdown",
   "metadata": {
    "deletable": false,
    "editable": false,
    "nbgrader": {
     "cell_type": "markdown",
     "checksum": "b084c5d19a158430a9aba43f726fa4b9",
     "grade": false,
     "grade_id": "cell-5fb7c1e62997eb46",
     "locked": true,
     "schema_version": 3,
     "solution": false,
     "task": false
    }
   },
   "source": [
    "**Question 1.4**\n",
    "<br>{points: 1}\n",
    "\n",
    "From the distance calculation, we see that observation 1 and 44 have a smaller distance than observation 1 and 2. However, if we look at the scatterplot the distance of the first observation to the second observation appears closer than to the 44th observation.\n",
    "\n",
    "Which of the following statements is correct?\n",
    "\n",
    "A. A difference of 12 g in mass between observation 1 and 2 is large compared to a difference of 1.2 cm in width between observation 1 and 44. Consequently, mass will drive the classification results, and width will have less of an effect. Hence, our distance calculation reflects that.\n",
    "\n",
    "B. If we measured mass in kilograms, then we’d get different classification results.\n",
    "\n",
    "C. We should standardize the data so that all variables will be on a comparable scale.\n",
    "\n",
    "D. All of the above.\n",
    "\n",
    "*Assign your answer to an object called `answer1.4`. Make sure your answer is an uppercase letter and is surrounded by quotation marks (e.g. `\"F\"`).*"
   ]
  },
  {
   "cell_type": "code",
   "execution_count": 41,
   "metadata": {
    "deletable": false,
    "nbgrader": {
     "cell_type": "code",
     "checksum": "4aaa04db4254ad589a402439f0e9c12f",
     "grade": false,
     "grade_id": "cell-4b81c6055a08f87b",
     "locked": false,
     "schema_version": 3,
     "solution": true,
     "task": false
    }
   },
   "outputs": [],
   "source": [
    "# your code here\n",
    "answer1.4 <- \"D\""
   ]
  },
  {
   "cell_type": "code",
   "execution_count": 42,
   "metadata": {
    "deletable": false,
    "editable": false,
    "nbgrader": {
     "cell_type": "code",
     "checksum": "2db5705d57b29baa45a5510a039d4fcf",
     "grade": true,
     "grade_id": "cell-89c07cb539498da4",
     "locked": true,
     "points": 1,
     "schema_version": 3,
     "solution": false,
     "task": false
    }
   },
   "outputs": [
    {
     "name": "stdout",
     "output_type": "stream",
     "text": [
      "\u001b[32mTest passed\u001b[39m 😸\n",
      "\u001b[32mTest passed\u001b[39m 🌈\n",
      "[1] \"Success!\"\n"
     ]
    }
   ],
   "source": [
    "test_1.4()"
   ]
  },
  {
   "cell_type": "markdown",
   "metadata": {
    "deletable": false,
    "editable": false,
    "nbgrader": {
     "cell_type": "markdown",
     "checksum": "9504a2efda7af0ec6cf75b0549b58f6f",
     "grade": false,
     "grade_id": "cell-5b9caaa8370fd73e",
     "locked": true,
     "schema_version": 3,
     "solution": false,
     "task": false
    }
   },
   "source": [
    "**Question 1.5**\n",
    "<br>{points: 1}\n",
    "\n",
    "Scale and center all the variables of the `fruit` dataset and save them as columns in your data table.\n",
    "\n",
    "Save the dataset object and call it `fruit_data_scaled`. Make sure to name the new columns `scaled_*` where * is the old column name (e.g. `scaled_mass`). Do not drop the unscaled columns (`mass`, `width`, `height`, `color_score`)."
   ]
  },
  {
   "cell_type": "code",
   "execution_count": 43,
   "metadata": {},
   "outputs": [
    {
     "data": {
      "text/html": [
       "<table class=\"dataframe\">\n",
       "<caption>A data.frame: 59 × 7</caption>\n",
       "<thead>\n",
       "\t<tr><th scope=col>fruit_label</th><th scope=col>fruit_name</th><th scope=col>fruit_subtype</th><th scope=col>mass</th><th scope=col>width</th><th scope=col>height</th><th scope=col>color_score</th></tr>\n",
       "\t<tr><th scope=col>&lt;int&gt;</th><th scope=col>&lt;fct&gt;</th><th scope=col>&lt;chr&gt;</th><th scope=col>&lt;int&gt;</th><th scope=col>&lt;dbl&gt;</th><th scope=col>&lt;dbl&gt;</th><th scope=col>&lt;dbl&gt;</th></tr>\n",
       "</thead>\n",
       "<tbody>\n",
       "\t<tr><td>1</td><td>apple</td><td>granny_smith</td><td>192</td><td>8.4</td><td>7.3</td><td>0.55</td></tr>\n",
       "\t<tr><td>1</td><td>apple</td><td>granny_smith</td><td>180</td><td>8.0</td><td>6.8</td><td>0.59</td></tr>\n",
       "\t<tr><td>1</td><td>apple</td><td>granny_smith</td><td>176</td><td>7.4</td><td>7.2</td><td>0.60</td></tr>\n",
       "\t<tr><td>⋮</td><td>⋮</td><td>⋮</td><td>⋮</td><td>⋮</td><td>⋮</td><td>⋮</td></tr>\n",
       "\t<tr><td>4</td><td>lemon</td><td>unknown</td><td>116</td><td>5.9</td><td>8.1</td><td>0.73</td></tr>\n",
       "\t<tr><td>4</td><td>lemon</td><td>unknown</td><td>152</td><td>6.5</td><td>8.5</td><td>0.72</td></tr>\n",
       "\t<tr><td>4</td><td>lemon</td><td>unknown</td><td>118</td><td>6.1</td><td>8.1</td><td>0.70</td></tr>\n",
       "</tbody>\n",
       "</table>\n"
      ],
      "text/latex": [
       "A data.frame: 59 × 7\n",
       "\\begin{tabular}{lllllll}\n",
       " fruit\\_label & fruit\\_name & fruit\\_subtype & mass & width & height & color\\_score\\\\\n",
       " <int> & <fct> & <chr> & <int> & <dbl> & <dbl> & <dbl>\\\\\n",
       "\\hline\n",
       "\t 1 & apple & granny\\_smith & 192 & 8.4 & 7.3 & 0.55\\\\\n",
       "\t 1 & apple & granny\\_smith & 180 & 8.0 & 6.8 & 0.59\\\\\n",
       "\t 1 & apple & granny\\_smith & 176 & 7.4 & 7.2 & 0.60\\\\\n",
       "\t ⋮ & ⋮ & ⋮ & ⋮ & ⋮ & ⋮ & ⋮\\\\\n",
       "\t 4 & lemon & unknown & 116 & 5.9 & 8.1 & 0.73\\\\\n",
       "\t 4 & lemon & unknown & 152 & 6.5 & 8.5 & 0.72\\\\\n",
       "\t 4 & lemon & unknown & 118 & 6.1 & 8.1 & 0.70\\\\\n",
       "\\end{tabular}\n"
      ],
      "text/markdown": [
       "\n",
       "A data.frame: 59 × 7\n",
       "\n",
       "| fruit_label &lt;int&gt; | fruit_name &lt;fct&gt; | fruit_subtype &lt;chr&gt; | mass &lt;int&gt; | width &lt;dbl&gt; | height &lt;dbl&gt; | color_score &lt;dbl&gt; |\n",
       "|---|---|---|---|---|---|---|\n",
       "| 1 | apple | granny_smith | 192 | 8.4 | 7.3 | 0.55 |\n",
       "| 1 | apple | granny_smith | 180 | 8.0 | 6.8 | 0.59 |\n",
       "| 1 | apple | granny_smith | 176 | 7.4 | 7.2 | 0.60 |\n",
       "| ⋮ | ⋮ | ⋮ | ⋮ | ⋮ | ⋮ | ⋮ |\n",
       "| 4 | lemon | unknown | 116 | 5.9 | 8.1 | 0.73 |\n",
       "| 4 | lemon | unknown | 152 | 6.5 | 8.5 | 0.72 |\n",
       "| 4 | lemon | unknown | 118 | 6.1 | 8.1 | 0.70 |\n",
       "\n"
      ],
      "text/plain": [
       "   fruit_label fruit_name fruit_subtype mass width height color_score\n",
       "1  1           apple      granny_smith  192  8.4   7.3    0.55       \n",
       "2  1           apple      granny_smith  180  8.0   6.8    0.59       \n",
       "3  1           apple      granny_smith  176  7.4   7.2    0.60       \n",
       "⋮  ⋮           ⋮          ⋮             ⋮    ⋮     ⋮      ⋮          \n",
       "57 4           lemon      unknown       116  5.9   8.1    0.73       \n",
       "58 4           lemon      unknown       152  6.5   8.5    0.72       \n",
       "59 4           lemon      unknown       118  6.1   8.1    0.70       "
      ]
     },
     "metadata": {},
     "output_type": "display_data"
    }
   ],
   "source": [
    "fruit_data"
   ]
  },
  {
   "cell_type": "code",
   "execution_count": 44,
   "metadata": {
    "deletable": false,
    "nbgrader": {
     "cell_type": "code",
     "checksum": "e0fea44cef07fa7724e014ce4a659249",
     "grade": false,
     "grade_id": "cell-d15b464489d4f1a0",
     "locked": false,
     "schema_version": 3,
     "solution": true,
     "task": false
    }
   },
   "outputs": [
    {
     "data": {
      "text/html": [
       "<table class=\"dataframe\">\n",
       "<caption>A data.frame: 59 × 11</caption>\n",
       "<thead>\n",
       "\t<tr><th scope=col>fruit_label</th><th scope=col>fruit_name</th><th scope=col>fruit_subtype</th><th scope=col>mass</th><th scope=col>width</th><th scope=col>height</th><th scope=col>color_score</th><th scope=col>scaled_mass</th><th scope=col>scaled_width</th><th scope=col>scaled_height</th><th scope=col>scaled_color_score</th></tr>\n",
       "\t<tr><th scope=col>&lt;int&gt;</th><th scope=col>&lt;fct&gt;</th><th scope=col>&lt;chr&gt;</th><th scope=col>&lt;int&gt;</th><th scope=col>&lt;dbl&gt;</th><th scope=col>&lt;dbl&gt;</th><th scope=col>&lt;dbl&gt;</th><th scope=col>&lt;dbl[,1]&gt;</th><th scope=col>&lt;dbl[,1]&gt;</th><th scope=col>&lt;dbl[,1]&gt;</th><th scope=col>&lt;dbl[,1]&gt;</th></tr>\n",
       "</thead>\n",
       "<tbody>\n",
       "\t<tr><td>1</td><td>apple</td><td>granny_smith</td><td>192</td><td>8.4</td><td>7.3</td><td>0.55</td><td>0.5249358</td><td>1.5850841</td><td>-0.2889166</td><td>-2.769820</td></tr>\n",
       "\t<tr><td>1</td><td>apple</td><td>granny_smith</td><td>180</td><td>8.0</td><td>6.8</td><td>0.59</td><td>0.3068287</td><td>1.0954508</td><td>-0.6562889</td><td>-2.249376</td></tr>\n",
       "\t<tr><td>1</td><td>apple</td><td>granny_smith</td><td>176</td><td>7.4</td><td>7.2</td><td>0.60</td><td>0.2341263</td><td>0.3610008</td><td>-0.3623910</td><td>-2.119265</td></tr>\n",
       "\t<tr><td>⋮</td><td>⋮</td><td>⋮</td><td>⋮</td><td>⋮</td><td>⋮</td><td>⋮</td><td>⋮</td><td>⋮</td><td>⋮</td><td>⋮</td></tr>\n",
       "\t<tr><td>4</td><td>lemon</td><td>unknown</td><td>116</td><td>5.9</td><td>8.1</td><td>0.73</td><td>-0.8564094</td><td>-1.4751241</td><td>0.2988792</td><td>-0.4278225</td></tr>\n",
       "\t<tr><td>4</td><td>lemon</td><td>unknown</td><td>152</td><td>6.5</td><td>8.5</td><td>0.72</td><td>-0.2020880</td><td>-0.7406741</td><td>0.5927771</td><td>-0.5579334</td></tr>\n",
       "\t<tr><td>4</td><td>lemon</td><td>unknown</td><td>118</td><td>6.1</td><td>8.1</td><td>0.70</td><td>-0.8200582</td><td>-1.2303074</td><td>0.2988792</td><td>-0.8181553</td></tr>\n",
       "</tbody>\n",
       "</table>\n"
      ],
      "text/latex": [
       "A data.frame: 59 × 11\n",
       "\\begin{tabular}{lllllllllll}\n",
       " fruit\\_label & fruit\\_name & fruit\\_subtype & mass & width & height & color\\_score & scaled\\_mass & scaled\\_width & scaled\\_height & scaled\\_color\\_score\\\\\n",
       " <int> & <fct> & <chr> & <int> & <dbl> & <dbl> & <dbl> & <dbl{[},1{]}> & <dbl{[},1{]}> & <dbl{[},1{]}> & <dbl{[},1{]}>\\\\\n",
       "\\hline\n",
       "\t 1 & apple & granny\\_smith & 192 & 8.4 & 7.3 & 0.55 & 0.5249358 & 1.5850841 & -0.2889166 & -2.769820\\\\\n",
       "\t 1 & apple & granny\\_smith & 180 & 8.0 & 6.8 & 0.59 & 0.3068287 & 1.0954508 & -0.6562889 & -2.249376\\\\\n",
       "\t 1 & apple & granny\\_smith & 176 & 7.4 & 7.2 & 0.60 & 0.2341263 & 0.3610008 & -0.3623910 & -2.119265\\\\\n",
       "\t ⋮ & ⋮ & ⋮ & ⋮ & ⋮ & ⋮ & ⋮ & ⋮ & ⋮ & ⋮ & ⋮\\\\\n",
       "\t 4 & lemon & unknown & 116 & 5.9 & 8.1 & 0.73 & -0.8564094 & -1.4751241 & 0.2988792 & -0.4278225\\\\\n",
       "\t 4 & lemon & unknown & 152 & 6.5 & 8.5 & 0.72 & -0.2020880 & -0.7406741 & 0.5927771 & -0.5579334\\\\\n",
       "\t 4 & lemon & unknown & 118 & 6.1 & 8.1 & 0.70 & -0.8200582 & -1.2303074 & 0.2988792 & -0.8181553\\\\\n",
       "\\end{tabular}\n"
      ],
      "text/markdown": [
       "\n",
       "A data.frame: 59 × 11\n",
       "\n",
       "| fruit_label &lt;int&gt; | fruit_name &lt;fct&gt; | fruit_subtype &lt;chr&gt; | mass &lt;int&gt; | width &lt;dbl&gt; | height &lt;dbl&gt; | color_score &lt;dbl&gt; | scaled_mass &lt;dbl[,1]&gt; | scaled_width &lt;dbl[,1]&gt; | scaled_height &lt;dbl[,1]&gt; | scaled_color_score &lt;dbl[,1]&gt; |\n",
       "|---|---|---|---|---|---|---|---|---|---|---|\n",
       "| 1 | apple | granny_smith | 192 | 8.4 | 7.3 | 0.55 | 0.5249358 | 1.5850841 | -0.2889166 | -2.769820 |\n",
       "| 1 | apple | granny_smith | 180 | 8.0 | 6.8 | 0.59 | 0.3068287 | 1.0954508 | -0.6562889 | -2.249376 |\n",
       "| 1 | apple | granny_smith | 176 | 7.4 | 7.2 | 0.60 | 0.2341263 | 0.3610008 | -0.3623910 | -2.119265 |\n",
       "| ⋮ | ⋮ | ⋮ | ⋮ | ⋮ | ⋮ | ⋮ | ⋮ | ⋮ | ⋮ | ⋮ |\n",
       "| 4 | lemon | unknown | 116 | 5.9 | 8.1 | 0.73 | -0.8564094 | -1.4751241 | 0.2988792 | -0.4278225 |\n",
       "| 4 | lemon | unknown | 152 | 6.5 | 8.5 | 0.72 | -0.2020880 | -0.7406741 | 0.5927771 | -0.5579334 |\n",
       "| 4 | lemon | unknown | 118 | 6.1 | 8.1 | 0.70 | -0.8200582 | -1.2303074 | 0.2988792 | -0.8181553 |\n",
       "\n"
      ],
      "text/plain": [
       "   fruit_label fruit_name fruit_subtype mass width height color_score\n",
       "1  1           apple      granny_smith  192  8.4   7.3    0.55       \n",
       "2  1           apple      granny_smith  180  8.0   6.8    0.59       \n",
       "3  1           apple      granny_smith  176  7.4   7.2    0.60       \n",
       "⋮  ⋮           ⋮          ⋮             ⋮    ⋮     ⋮      ⋮          \n",
       "57 4           lemon      unknown       116  5.9   8.1    0.73       \n",
       "58 4           lemon      unknown       152  6.5   8.5    0.72       \n",
       "59 4           lemon      unknown       118  6.1   8.1    0.70       \n",
       "   scaled_mass scaled_width scaled_height scaled_color_score\n",
       "1  0.5249358   1.5850841    -0.2889166    -2.769820         \n",
       "2  0.3068287   1.0954508    -0.6562889    -2.249376         \n",
       "3  0.2341263   0.3610008    -0.3623910    -2.119265         \n",
       "⋮  ⋮           ⋮            ⋮             ⋮                 \n",
       "57 -0.8564094  -1.4751241   0.2988792     -0.4278225        \n",
       "58 -0.2020880  -0.7406741   0.5927771     -0.5579334        \n",
       "59 -0.8200582  -1.2303074   0.2988792     -0.8181553        "
      ]
     },
     "metadata": {},
     "output_type": "display_data"
    }
   ],
   "source": [
    " fruit_data_scaled <- fruit_data |> \n",
    " mutate(scaled_mass = scale(mass, center = TRUE), \n",
    "        scaled_width = scale(width, center = TRUE),\n",
    "        scaled_height = scale(height, center = TRUE),\n",
    "        scaled_color_score = scale(color_score, center = TRUE))\n",
    "\n",
    "fruit_data_scaled"
   ]
  },
  {
   "cell_type": "code",
   "execution_count": 45,
   "metadata": {
    "deletable": false,
    "editable": false,
    "nbgrader": {
     "cell_type": "code",
     "checksum": "477736f8bc1def4942f515ceb0cd0ff9",
     "grade": true,
     "grade_id": "cell-1897bc0107b67ecc",
     "locked": true,
     "points": 1,
     "schema_version": 3,
     "solution": false,
     "task": false
    }
   },
   "outputs": [
    {
     "name": "stdout",
     "output_type": "stream",
     "text": [
      "\u001b[32mTest passed\u001b[39m 🌈\n",
      "\u001b[32mTest passed\u001b[39m 😸\n",
      "\u001b[32mTest passed\u001b[39m 😸\n",
      "\u001b[32mTest passed\u001b[39m 🥇\n",
      "\u001b[32mTest passed\u001b[39m 🥇\n",
      "[1] \"Success!\"\n"
     ]
    }
   ],
   "source": [
    "test_1.5()"
   ]
  },
  {
   "cell_type": "markdown",
   "metadata": {
    "deletable": false,
    "editable": false,
    "nbgrader": {
     "cell_type": "markdown",
     "checksum": "d8353b551de8d946a616e4c9b870f7c0",
     "grade": false,
     "grade_id": "cell-b6f8f43cbdc8642a",
     "locked": true,
     "schema_version": 3,
     "solution": false,
     "task": false
    }
   },
   "source": [
    "\n",
    "**Question 1.6**\n",
    "<br>{points: 1}\n",
    "\n",
    "Let's repeat **Question 1.2** and **1.3** with the scaled variables:\n",
    "\n",
    "- calculate the distance with the scaled mass and width variables between observations 1 and 2\n",
    "- calculate the distances with the scaled mass and width variables between observations 1 and 44\n",
    "\n",
    "After you do this, think about how these distances compared to the distances you computed in **Question 1.2** and **1.3** for the same points.\n",
    "\n",
    "*Assign your answers to objects called `distance_2` and `distance_44` respectively.*"
   ]
  },
  {
   "cell_type": "code",
   "execution_count": 54,
   "metadata": {
    "deletable": false,
    "nbgrader": {
     "cell_type": "code",
     "checksum": "61f35f4c227b0b25d56ede46dc1b3e73",
     "grade": false,
     "grade_id": "cell-7723cc0237258b6c",
     "locked": false,
     "schema_version": 3,
     "solution": true,
     "task": false
    }
   },
   "outputs": [],
   "source": [
    "# your code here\n",
    "distance_2 <- fruit_data_scaled |>\n",
    "    slice(1,2) |>\n",
    "    select(scaled_mass, scaled_width) |>\n",
    "    dist()\n",
    "distance_44 <- fruit_data_scaled |>\n",
    "    slice(1,44) |>\n",
    "    select(scaled_mass, scaled_width) |>\n",
    "    dist()"
   ]
  },
  {
   "cell_type": "code",
   "execution_count": 55,
   "metadata": {
    "deletable": false,
    "editable": false,
    "nbgrader": {
     "cell_type": "code",
     "checksum": "71dd1f49872536e853ad5ee75534122a",
     "grade": true,
     "grade_id": "cell-7316457bcda1bf40",
     "locked": true,
     "points": 1,
     "schema_version": 3,
     "solution": false,
     "task": false
    }
   },
   "outputs": [
    {
     "name": "stdout",
     "output_type": "stream",
     "text": [
      "\u001b[32mTest passed\u001b[39m 🎉\n",
      "\u001b[32mTest passed\u001b[39m 🎊\n",
      "\u001b[32mTest passed\u001b[39m 🌈\n",
      "\u001b[32mTest passed\u001b[39m 🌈\n",
      "\u001b[32mTest passed\u001b[39m 😀\n",
      "\u001b[32mTest passed\u001b[39m 🥳\n",
      "[1] \"Success!\"\n"
     ]
    }
   ],
   "source": [
    "test_1.6()"
   ]
  },
  {
   "cell_type": "markdown",
   "metadata": {
    "deletable": false,
    "editable": false,
    "nbgrader": {
     "cell_type": "markdown",
     "checksum": "67f52f4e83254e5d82de8b5512fb253c",
     "grade": false,
     "grade_id": "cell-6e0a8546a65b79e8",
     "locked": true,
     "schema_version": 3,
     "solution": false,
     "task": false
    }
   },
   "source": [
    "## Randomness and Setting Seeds\n",
    "\n",
    "This worksheet uses functions from the `tidymodels` library, which not only allows us to perform K-nearest neighbour classification, but also allows us to evaluate how well our classification worked. In order to ensure that the steps in the worksheet are reproducible, we need to set a *seed*, i.e., a numerical \"starting value,\" which determines the sequence of random numbers R will generate.\n",
    "\n",
    "Below in many cells we have included a call to `set.seed`. **Do not remove these lines of code**; they are necessary to make sure the autotesting code functions properly.\n",
    "\n",
    "> *The reason we have `set.seed` in so many places is that Jupyter notebooks are organized into cells that can be run out of order. Since things can be run out of order, the exact sequence of random values that is used in each cell is hard to determine, which makes autotesting really difficult.  We had two options: either enforce that you only ever run the code by hitting \"Restart & Run All\" to ensure that we get the same values of randomness each time, or put `set.seed` in a lot of places (we chose the latter). One drawback of calling `set.seed` everywhere is that the numbers that will be generated won't really be random. For the purposes of teaching and learning, that is fine here. But __in your course project and other data analyses outside of this course, you must call `set.seed` only once at the beginning of the analysis, so that your random numbers are actually reasonably random.__*"
   ]
  },
  {
   "cell_type": "markdown",
   "metadata": {
    "deletable": false,
    "editable": false,
    "nbgrader": {
     "cell_type": "markdown",
     "checksum": "b233a104af7a8d925b3354da1935bed3",
     "grade": false,
     "grade_id": "cell-0e8089ce4f710660",
     "locked": true,
     "schema_version": 3,
     "solution": false
    }
   },
   "source": [
    "## 2. Splitting the data into a training and test set\n",
    "\n",
    "In this exercise, we will be partitioning `fruit_data` into a training (75%) and testing (25%) set using the `tidymodels` package. After creating the test set, we will put the test set away in a lock box and not touch it again until we have found the best k-nn classifier we can make using the training set. We will use the variable `fruit_name` as our class label. \n",
    "\n",
    "\n",
    "**Question 2.0**\n",
    "<br> {points: 1}\n",
    "\n",
    "To create the training and test set, first use the `initial_split` function to split `fruit_data`. Specify you want to use *75%* of the data. For the `strata` argument, place the variable we want to classify, `fruit_name`. Name the object you create `fruit_split`. \n",
    "\n",
    "Next, pass the `fruit_split` object to the `training` and `testing` functions and name your respective objects `fruit_train` and `fruit_test`. "
   ]
  },
  {
   "cell_type": "code",
   "execution_count": 56,
   "metadata": {
    "deletable": false,
    "nbgrader": {
     "cell_type": "code",
     "checksum": "b008fa6b5d42c05562f48a86f64272f2",
     "grade": false,
     "grade_id": "cell-c262636f2b9777e3",
     "locked": false,
     "schema_version": 3,
     "solution": true
    }
   },
   "outputs": [
    {
     "data": {
      "text/html": [
       "<table class=\"dataframe\">\n",
       "<caption>A data.frame: 43 × 7</caption>\n",
       "<thead>\n",
       "\t<tr><th scope=col>fruit_label</th><th scope=col>fruit_name</th><th scope=col>fruit_subtype</th><th scope=col>mass</th><th scope=col>width</th><th scope=col>height</th><th scope=col>color_score</th></tr>\n",
       "\t<tr><th scope=col>&lt;int&gt;</th><th scope=col>&lt;fct&gt;</th><th scope=col>&lt;chr&gt;</th><th scope=col>&lt;int&gt;</th><th scope=col>&lt;dbl&gt;</th><th scope=col>&lt;dbl&gt;</th><th scope=col>&lt;dbl&gt;</th></tr>\n",
       "</thead>\n",
       "<tbody>\n",
       "\t<tr><td>1</td><td>apple   </td><td>granny_smith</td><td>192</td><td>8.4</td><td>7.3</td><td>0.55</td></tr>\n",
       "\t<tr><td>1</td><td>apple   </td><td>granny_smith</td><td>176</td><td>7.4</td><td>7.2</td><td>0.60</td></tr>\n",
       "\t<tr><td>2</td><td>mandarin</td><td>mandarin    </td><td> 76</td><td>5.8</td><td>4.0</td><td>0.81</td></tr>\n",
       "\t<tr><td>⋮</td><td>⋮</td><td>⋮</td><td>⋮</td><td>⋮</td><td>⋮</td><td>⋮</td></tr>\n",
       "\t<tr><td>3</td><td>orange</td><td>turkey_navel</td><td>154</td><td>7.1</td><td>7.5</td><td>0.78</td></tr>\n",
       "\t<tr><td>3</td><td>orange</td><td>turkey_navel</td><td>180</td><td>7.6</td><td>8.2</td><td>0.79</td></tr>\n",
       "\t<tr><td>3</td><td>orange</td><td>turkey_navel</td><td>154</td><td>7.2</td><td>7.2</td><td>0.82</td></tr>\n",
       "</tbody>\n",
       "</table>\n"
      ],
      "text/latex": [
       "A data.frame: 43 × 7\n",
       "\\begin{tabular}{lllllll}\n",
       " fruit\\_label & fruit\\_name & fruit\\_subtype & mass & width & height & color\\_score\\\\\n",
       " <int> & <fct> & <chr> & <int> & <dbl> & <dbl> & <dbl>\\\\\n",
       "\\hline\n",
       "\t 1 & apple    & granny\\_smith & 192 & 8.4 & 7.3 & 0.55\\\\\n",
       "\t 1 & apple    & granny\\_smith & 176 & 7.4 & 7.2 & 0.60\\\\\n",
       "\t 2 & mandarin & mandarin     &  76 & 5.8 & 4.0 & 0.81\\\\\n",
       "\t ⋮ & ⋮ & ⋮ & ⋮ & ⋮ & ⋮ & ⋮\\\\\n",
       "\t 3 & orange & turkey\\_navel & 154 & 7.1 & 7.5 & 0.78\\\\\n",
       "\t 3 & orange & turkey\\_navel & 180 & 7.6 & 8.2 & 0.79\\\\\n",
       "\t 3 & orange & turkey\\_navel & 154 & 7.2 & 7.2 & 0.82\\\\\n",
       "\\end{tabular}\n"
      ],
      "text/markdown": [
       "\n",
       "A data.frame: 43 × 7\n",
       "\n",
       "| fruit_label &lt;int&gt; | fruit_name &lt;fct&gt; | fruit_subtype &lt;chr&gt; | mass &lt;int&gt; | width &lt;dbl&gt; | height &lt;dbl&gt; | color_score &lt;dbl&gt; |\n",
       "|---|---|---|---|---|---|---|\n",
       "| 1 | apple    | granny_smith | 192 | 8.4 | 7.3 | 0.55 |\n",
       "| 1 | apple    | granny_smith | 176 | 7.4 | 7.2 | 0.60 |\n",
       "| 2 | mandarin | mandarin     |  76 | 5.8 | 4.0 | 0.81 |\n",
       "| ⋮ | ⋮ | ⋮ | ⋮ | ⋮ | ⋮ | ⋮ |\n",
       "| 3 | orange | turkey_navel | 154 | 7.1 | 7.5 | 0.78 |\n",
       "| 3 | orange | turkey_navel | 180 | 7.6 | 8.2 | 0.79 |\n",
       "| 3 | orange | turkey_navel | 154 | 7.2 | 7.2 | 0.82 |\n",
       "\n"
      ],
      "text/plain": [
       "   fruit_label fruit_name fruit_subtype mass width height color_score\n",
       "1  1           apple      granny_smith  192  8.4   7.3    0.55       \n",
       "2  1           apple      granny_smith  176  7.4   7.2    0.60       \n",
       "3  2           mandarin   mandarin       76  5.8   4.0    0.81       \n",
       "⋮  ⋮           ⋮          ⋮             ⋮    ⋮     ⋮      ⋮          \n",
       "41 3           orange     turkey_navel  154  7.1   7.5    0.78       \n",
       "42 3           orange     turkey_navel  180  7.6   8.2    0.79       \n",
       "43 3           orange     turkey_navel  154  7.2   7.2    0.82       "
      ]
     },
     "metadata": {},
     "output_type": "display_data"
    },
    {
     "data": {
      "text/html": [
       "<table class=\"dataframe\">\n",
       "<caption>A data.frame: 16 × 7</caption>\n",
       "<thead>\n",
       "\t<tr><th scope=col>fruit_label</th><th scope=col>fruit_name</th><th scope=col>fruit_subtype</th><th scope=col>mass</th><th scope=col>width</th><th scope=col>height</th><th scope=col>color_score</th></tr>\n",
       "\t<tr><th scope=col>&lt;int&gt;</th><th scope=col>&lt;fct&gt;</th><th scope=col>&lt;chr&gt;</th><th scope=col>&lt;int&gt;</th><th scope=col>&lt;dbl&gt;</th><th scope=col>&lt;dbl&gt;</th><th scope=col>&lt;dbl&gt;</th></tr>\n",
       "</thead>\n",
       "<tbody>\n",
       "\t<tr><td>1</td><td>apple   </td><td>granny_smith</td><td>180</td><td>8.0</td><td>6.8</td><td>0.59</td></tr>\n",
       "\t<tr><td>2</td><td>mandarin</td><td>mandarin    </td><td> 80</td><td>5.9</td><td>4.3</td><td>0.81</td></tr>\n",
       "\t<tr><td>1</td><td>apple   </td><td>braeburn    </td><td>178</td><td>7.1</td><td>7.8</td><td>0.92</td></tr>\n",
       "\t<tr><td>⋮</td><td>⋮</td><td>⋮</td><td>⋮</td><td>⋮</td><td>⋮</td><td>⋮</td></tr>\n",
       "\t<tr><td>4</td><td>lemon</td><td>spanish_belsan</td><td>186</td><td>7.2</td><td>9.2</td><td>0.72</td></tr>\n",
       "\t<tr><td>4</td><td>lemon</td><td>unknown       </td><td>118</td><td>5.9</td><td>8.0</td><td>0.72</td></tr>\n",
       "\t<tr><td>4</td><td>lemon</td><td>unknown       </td><td>116</td><td>5.9</td><td>8.1</td><td>0.73</td></tr>\n",
       "</tbody>\n",
       "</table>\n"
      ],
      "text/latex": [
       "A data.frame: 16 × 7\n",
       "\\begin{tabular}{lllllll}\n",
       " fruit\\_label & fruit\\_name & fruit\\_subtype & mass & width & height & color\\_score\\\\\n",
       " <int> & <fct> & <chr> & <int> & <dbl> & <dbl> & <dbl>\\\\\n",
       "\\hline\n",
       "\t 1 & apple    & granny\\_smith & 180 & 8.0 & 6.8 & 0.59\\\\\n",
       "\t 2 & mandarin & mandarin     &  80 & 5.9 & 4.3 & 0.81\\\\\n",
       "\t 1 & apple    & braeburn     & 178 & 7.1 & 7.8 & 0.92\\\\\n",
       "\t ⋮ & ⋮ & ⋮ & ⋮ & ⋮ & ⋮ & ⋮\\\\\n",
       "\t 4 & lemon & spanish\\_belsan & 186 & 7.2 & 9.2 & 0.72\\\\\n",
       "\t 4 & lemon & unknown        & 118 & 5.9 & 8.0 & 0.72\\\\\n",
       "\t 4 & lemon & unknown        & 116 & 5.9 & 8.1 & 0.73\\\\\n",
       "\\end{tabular}\n"
      ],
      "text/markdown": [
       "\n",
       "A data.frame: 16 × 7\n",
       "\n",
       "| fruit_label &lt;int&gt; | fruit_name &lt;fct&gt; | fruit_subtype &lt;chr&gt; | mass &lt;int&gt; | width &lt;dbl&gt; | height &lt;dbl&gt; | color_score &lt;dbl&gt; |\n",
       "|---|---|---|---|---|---|---|\n",
       "| 1 | apple    | granny_smith | 180 | 8.0 | 6.8 | 0.59 |\n",
       "| 2 | mandarin | mandarin     |  80 | 5.9 | 4.3 | 0.81 |\n",
       "| 1 | apple    | braeburn     | 178 | 7.1 | 7.8 | 0.92 |\n",
       "| ⋮ | ⋮ | ⋮ | ⋮ | ⋮ | ⋮ | ⋮ |\n",
       "| 4 | lemon | spanish_belsan | 186 | 7.2 | 9.2 | 0.72 |\n",
       "| 4 | lemon | unknown        | 118 | 5.9 | 8.0 | 0.72 |\n",
       "| 4 | lemon | unknown        | 116 | 5.9 | 8.1 | 0.73 |\n",
       "\n"
      ],
      "text/plain": [
       "   fruit_label fruit_name fruit_subtype  mass width height color_score\n",
       "1  1           apple      granny_smith   180  8.0   6.8    0.59       \n",
       "2  2           mandarin   mandarin        80  5.9   4.3    0.81       \n",
       "3  1           apple      braeburn       178  7.1   7.8    0.92       \n",
       "⋮  ⋮           ⋮          ⋮              ⋮    ⋮     ⋮      ⋮          \n",
       "14 4           lemon      spanish_belsan 186  7.2   9.2    0.72       \n",
       "15 4           lemon      unknown        118  5.9   8.0    0.72       \n",
       "16 4           lemon      unknown        116  5.9   8.1    0.73       "
      ]
     },
     "metadata": {},
     "output_type": "display_data"
    }
   ],
   "source": [
    "# Set the seed. Don't remove this!\n",
    "set.seed(3456) \n",
    "\n",
    "# Randomly take 75% of the data in the training set. \n",
    "# This will be proportional to the different number of fruit names in the dataset.\n",
    "\n",
    "fruit_split <- initial_split(fruit_data, prop = 0.75, strata = fruit_name)  \n",
    "fruit_train <- training(fruit_split)   \n",
    "fruit_test <- testing(fruit_split)\n",
    "\n",
    "fruit_train\n",
    "fruit_test"
   ]
  },
  {
   "cell_type": "code",
   "execution_count": 57,
   "metadata": {
    "deletable": false,
    "editable": false,
    "nbgrader": {
     "cell_type": "code",
     "checksum": "b26c071c7713ad3fe803ab4bd016e677",
     "grade": true,
     "grade_id": "cell-7432078031e563b8",
     "locked": true,
     "points": 1,
     "schema_version": 3,
     "solution": false
    }
   },
   "outputs": [
    {
     "name": "stdout",
     "output_type": "stream",
     "text": [
      "\u001b[32mTest passed\u001b[39m 🎊\n",
      "\u001b[32mTest passed\u001b[39m 🎉\n",
      "\u001b[32mTest passed\u001b[39m 🥳\n",
      "\u001b[32mTest passed\u001b[39m 🥳\n",
      "\u001b[32mTest passed\u001b[39m 🌈\n",
      "\u001b[32mTest passed\u001b[39m 🎊\n",
      "[1] \"Success!\"\n"
     ]
    }
   ],
   "source": [
    "test_2.0()"
   ]
  },
  {
   "cell_type": "markdown",
   "metadata": {
    "deletable": false,
    "editable": false,
    "nbgrader": {
     "cell_type": "markdown",
     "checksum": "a9af5f95503e3c7b209dcccd5348ff44",
     "grade": false,
     "grade_id": "cell-9f6c24da5042200c",
     "locked": true,
     "schema_version": 3,
     "solution": false,
     "task": false
    }
   },
   "source": [
    "**Question 2.1** \n",
    "<br> {points: 1}\n",
    "\n",
    "K-nearest neighbors is sensitive to the scale of the predictors so we should do some preprocessing to standardize them. Remember that standardizing involves centering/shifting (subtracting the mean of each variable) and scaling (dividing by its standard deviation). Also remember that standardization is *part of your training procedure*, so you can't use your test data to compute the shift / scale values for each variable. Therefore, you must pass only the training data to your recipe to compute the preprocessing steps. This ensures that our test data does not influence any aspect of our model training. Once we have created the standardization preprocessor, we can then later on apply it separately to both the training and test data sets.\n",
    "\n",
    "For this exercise, let's see if `mass` and `color_score` can predict `fruit_name`. \n",
    "\n",
    "To scale and center the data, first, pass the vector and the predictors to the `recipe` function. Remember to place your vector *before* your predictors. To scale your predictors, use the `step_scale(all_predictors())` function. To center your predictors, use the `step_center(all_predictors())` function.  \n",
    "\n",
    "*Assign your answer to an object called `fruit_recipe`.*"
   ]
  },
  {
   "cell_type": "code",
   "execution_count": 60,
   "metadata": {
    "deletable": false,
    "nbgrader": {
     "cell_type": "code",
     "checksum": "71d7cde637c29d8e9acb0197bf50c359",
     "grade": false,
     "grade_id": "cell-aca4cc578b245211",
     "locked": false,
     "schema_version": 3,
     "solution": true,
     "task": false
    }
   },
   "outputs": [
    {
     "name": "stderr",
     "output_type": "stream",
     "text": [
      "\n",
      "\n",
      "\u001b[36m──\u001b[39m \u001b[1mRecipe\u001b[22m \u001b[36m──────────────────────────────────────────────────────────────────────\u001b[39m\n",
      "\n",
      "\n",
      "\n",
      "── Inputs \n",
      "\n",
      "Number of variables by role\n",
      "\n",
      "outcome:   1\n",
      "predictor: 2\n",
      "\n",
      "\n",
      "\n",
      "── Operations \n",
      "\n",
      "\u001b[36m•\u001b[39m Scaling for: \u001b[34mall_predictors()\u001b[39m\n",
      "\n",
      "\u001b[36m•\u001b[39m Centering for: \u001b[34mall_predictors()\u001b[39m\n",
      "\n"
     ]
    }
   ],
   "source": [
    "set.seed(2020) # DO NOT REMOVE\n",
    "\n",
    "fruit_recipe <- recipe(fruit_name ~ mass + color_score , data = fruit_train) |>\n",
    "    step_scale(all_predictors()) |>\n",
    "    step_center(all_predictors())\n",
    "\n",
    "fruit_recipe"
   ]
  },
  {
   "cell_type": "code",
   "execution_count": 61,
   "metadata": {
    "deletable": false,
    "editable": false,
    "nbgrader": {
     "cell_type": "code",
     "checksum": "38ce11b9e4c25a61724ed945c13badcc",
     "grade": true,
     "grade_id": "cell-2453aaa31ba794b6",
     "locked": true,
     "points": 1,
     "schema_version": 3,
     "solution": false,
     "task": false
    }
   },
   "outputs": [
    {
     "name": "stdout",
     "output_type": "stream",
     "text": [
      "\u001b[32mTest passed\u001b[39m 😀\n",
      "\u001b[32mTest passed\u001b[39m 🥇\n",
      "\u001b[32mTest passed\u001b[39m 🥳\n",
      "\u001b[32mTest passed\u001b[39m 🥳\n",
      "\u001b[32mTest passed\u001b[39m 🎉\n",
      "\u001b[32mTest passed\u001b[39m 🥇\n",
      "[1] \"Success!\"\n"
     ]
    }
   ],
   "source": [
    "test_2.1()"
   ]
  },
  {
   "cell_type": "markdown",
   "metadata": {
    "deletable": false,
    "editable": false,
    "nbgrader": {
     "cell_type": "markdown",
     "checksum": "ff6abff7b1910f8b822605d9bbb6fdbf",
     "grade": false,
     "grade_id": "cell-6693330a0f077083",
     "locked": true,
     "schema_version": 3,
     "solution": false
    }
   },
   "source": [
    "**Question 2.2**\n",
    "<br> {points: 1}\n",
    "\n",
    "So far, we have split the training and testing datasets as well as preprocessed the data. Now, let's create our K-nearest neighbour classifier with only the training set using the `tidymodels` package. First, create the classifier by specifying that we want $K = 3$ neighbors and that we want to use the *straight-line* distance. \n",
    "\n",
    "*Assign your answer to an object called `knn_spec`*.  \n",
    "\n",
    "Next, train the classifier with the training data set using the `workflow` function. This function allows you to bundle together your pre-processing, modeling, and post-processing requests. Scaffolding is provided below for you.\n",
    "\n",
    "*Assign your answer to an object called `fruit_fit`*."
   ]
  },
  {
   "cell_type": "code",
   "execution_count": 68,
   "metadata": {
    "deletable": false,
    "nbgrader": {
     "cell_type": "code",
     "checksum": "1622936b33fa7c94944d3c0189353368",
     "grade": false,
     "grade_id": "cell-00b2a6b0ba7df6c4",
     "locked": false,
     "schema_version": 3,
     "solution": true
    }
   },
   "outputs": [
    {
     "data": {
      "text/plain": [
       "══ Workflow [trained] ══════════════════════════════════════════════════════════\n",
       "\u001b[3mPreprocessor:\u001b[23m Recipe\n",
       "\u001b[3mModel:\u001b[23m nearest_neighbor()\n",
       "\n",
       "── Preprocessor ────────────────────────────────────────────────────────────────\n",
       "2 Recipe Steps\n",
       "\n",
       "• step_scale()\n",
       "• step_center()\n",
       "\n",
       "── Model ───────────────────────────────────────────────────────────────────────\n",
       "\n",
       "Call:\n",
       "kknn::train.kknn(formula = ..y ~ ., data = data, ks = min_rows(3,     data, 5), kernel = ~\"rectangular\")\n",
       "\n",
       "Type of response variable: nominal\n",
       "Minimal misclassification: 0.09302326\n",
       "Best kernel: rectangular\n",
       "Best k: 3"
      ]
     },
     "metadata": {},
     "output_type": "display_data"
    }
   ],
   "source": [
    "set.seed(2020) # DO NOT REMOVE\n",
    "\n",
    "knn_spec <- nearest_neighbor(weight_func = \"rectangular\", neighbors = 3) |>\n",
    "       set_engine(\"kknn\") |>\n",
    "       set_mode(\"classification\")\n",
    "\n",
    "fruit_fit <- workflow() |>\n",
    "       add_recipe(fruit_recipe) |>\n",
    "       add_model(knn_spec) |>\n",
    "       fit(data = fruit_train)\n",
    "\n",
    "\n",
    "fruit_fit"
   ]
  },
  {
   "cell_type": "code",
   "execution_count": 69,
   "metadata": {
    "deletable": false,
    "editable": false,
    "nbgrader": {
     "cell_type": "code",
     "checksum": "e7f635299ba4528a5cf607a17c0560af",
     "grade": true,
     "grade_id": "cell-b8ce3699299555d5",
     "locked": true,
     "points": 1,
     "schema_version": 3,
     "solution": false
    }
   },
   "outputs": [
    {
     "name": "stdout",
     "output_type": "stream",
     "text": [
      "\u001b[32mTest passed\u001b[39m 🌈\n",
      "\u001b[32mTest passed\u001b[39m 🌈\n",
      "\u001b[32mTest passed\u001b[39m 🎊\n",
      "\u001b[32mTest passed\u001b[39m 🎉\n",
      "\u001b[32mTest passed\u001b[39m 😀\n",
      "\u001b[32mTest passed\u001b[39m 😀\n",
      "\u001b[32mTest passed\u001b[39m 🌈\n",
      "\u001b[32mTest passed\u001b[39m 🥳\n",
      "\u001b[32mTest passed\u001b[39m 🎉\n",
      "\u001b[32mTest passed\u001b[39m 😀\n",
      "[1] \"Success!\"\n"
     ]
    }
   ],
   "source": [
    "test_2.2()"
   ]
  },
  {
   "cell_type": "markdown",
   "metadata": {
    "deletable": false,
    "editable": false,
    "nbgrader": {
     "cell_type": "markdown",
     "checksum": "de81da7b3b67f3e00a430dbaeb396409",
     "grade": false,
     "grade_id": "cell-512f0c24a1511248",
     "locked": true,
     "schema_version": 3,
     "solution": false,
     "task": false
    }
   },
   "source": [
    "**Question 2.3**\n",
    "<br> {points: 1}\n",
    "\n",
    "Now that we have created our K-nearest neighbor classifier object, let's predict the class labels for our test set.\n",
    "\n",
    "First, pass your fitted model and the **test dataset** to the `predict` function. Then, use the `bind_cols` function to add the column of predictions to the original test data. \n",
    "\n",
    "*Assign your answer to an object called `fruit_test_predictions`.*"
   ]
  },
  {
   "cell_type": "code",
   "execution_count": 70,
   "metadata": {
    "deletable": false,
    "nbgrader": {
     "cell_type": "code",
     "checksum": "9c8a59077ea7d15d61096ca9ca2b74dd",
     "grade": false,
     "grade_id": "cell-29a65e0d69fd64d3",
     "locked": false,
     "schema_version": 3,
     "solution": true
    }
   },
   "outputs": [
    {
     "data": {
      "text/html": [
       "<table class=\"dataframe\">\n",
       "<caption>A tibble: 16 × 8</caption>\n",
       "<thead>\n",
       "\t<tr><th scope=col>.pred_class</th><th scope=col>fruit_label</th><th scope=col>fruit_name</th><th scope=col>fruit_subtype</th><th scope=col>mass</th><th scope=col>width</th><th scope=col>height</th><th scope=col>color_score</th></tr>\n",
       "\t<tr><th scope=col>&lt;fct&gt;</th><th scope=col>&lt;int&gt;</th><th scope=col>&lt;fct&gt;</th><th scope=col>&lt;chr&gt;</th><th scope=col>&lt;int&gt;</th><th scope=col>&lt;dbl&gt;</th><th scope=col>&lt;dbl&gt;</th><th scope=col>&lt;dbl&gt;</th></tr>\n",
       "</thead>\n",
       "<tbody>\n",
       "\t<tr><td>apple   </td><td>1</td><td>apple   </td><td>granny_smith</td><td>180</td><td>8.0</td><td>6.8</td><td>0.59</td></tr>\n",
       "\t<tr><td>mandarin</td><td>2</td><td>mandarin</td><td>mandarin    </td><td> 80</td><td>5.9</td><td>4.3</td><td>0.81</td></tr>\n",
       "\t<tr><td>apple   </td><td>1</td><td>apple   </td><td>braeburn    </td><td>178</td><td>7.1</td><td>7.8</td><td>0.92</td></tr>\n",
       "\t<tr><td>⋮</td><td>⋮</td><td>⋮</td><td>⋮</td><td>⋮</td><td>⋮</td><td>⋮</td><td>⋮</td></tr>\n",
       "\t<tr><td>lemon</td><td>4</td><td>lemon</td><td>spanish_belsan</td><td>186</td><td>7.2</td><td>9.2</td><td>0.72</td></tr>\n",
       "\t<tr><td>lemon</td><td>4</td><td>lemon</td><td>unknown       </td><td>118</td><td>5.9</td><td>8.0</td><td>0.72</td></tr>\n",
       "\t<tr><td>lemon</td><td>4</td><td>lemon</td><td>unknown       </td><td>116</td><td>5.9</td><td>8.1</td><td>0.73</td></tr>\n",
       "</tbody>\n",
       "</table>\n"
      ],
      "text/latex": [
       "A tibble: 16 × 8\n",
       "\\begin{tabular}{llllllll}\n",
       " .pred\\_class & fruit\\_label & fruit\\_name & fruit\\_subtype & mass & width & height & color\\_score\\\\\n",
       " <fct> & <int> & <fct> & <chr> & <int> & <dbl> & <dbl> & <dbl>\\\\\n",
       "\\hline\n",
       "\t apple    & 1 & apple    & granny\\_smith & 180 & 8.0 & 6.8 & 0.59\\\\\n",
       "\t mandarin & 2 & mandarin & mandarin     &  80 & 5.9 & 4.3 & 0.81\\\\\n",
       "\t apple    & 1 & apple    & braeburn     & 178 & 7.1 & 7.8 & 0.92\\\\\n",
       "\t ⋮ & ⋮ & ⋮ & ⋮ & ⋮ & ⋮ & ⋮ & ⋮\\\\\n",
       "\t lemon & 4 & lemon & spanish\\_belsan & 186 & 7.2 & 9.2 & 0.72\\\\\n",
       "\t lemon & 4 & lemon & unknown        & 118 & 5.9 & 8.0 & 0.72\\\\\n",
       "\t lemon & 4 & lemon & unknown        & 116 & 5.9 & 8.1 & 0.73\\\\\n",
       "\\end{tabular}\n"
      ],
      "text/markdown": [
       "\n",
       "A tibble: 16 × 8\n",
       "\n",
       "| .pred_class &lt;fct&gt; | fruit_label &lt;int&gt; | fruit_name &lt;fct&gt; | fruit_subtype &lt;chr&gt; | mass &lt;int&gt; | width &lt;dbl&gt; | height &lt;dbl&gt; | color_score &lt;dbl&gt; |\n",
       "|---|---|---|---|---|---|---|---|\n",
       "| apple    | 1 | apple    | granny_smith | 180 | 8.0 | 6.8 | 0.59 |\n",
       "| mandarin | 2 | mandarin | mandarin     |  80 | 5.9 | 4.3 | 0.81 |\n",
       "| apple    | 1 | apple    | braeburn     | 178 | 7.1 | 7.8 | 0.92 |\n",
       "| ⋮ | ⋮ | ⋮ | ⋮ | ⋮ | ⋮ | ⋮ | ⋮ |\n",
       "| lemon | 4 | lemon | spanish_belsan | 186 | 7.2 | 9.2 | 0.72 |\n",
       "| lemon | 4 | lemon | unknown        | 118 | 5.9 | 8.0 | 0.72 |\n",
       "| lemon | 4 | lemon | unknown        | 116 | 5.9 | 8.1 | 0.73 |\n",
       "\n"
      ],
      "text/plain": [
       "   .pred_class fruit_label fruit_name fruit_subtype  mass width height\n",
       "1  apple       1           apple      granny_smith   180  8.0   6.8   \n",
       "2  mandarin    2           mandarin   mandarin        80  5.9   4.3   \n",
       "3  apple       1           apple      braeburn       178  7.1   7.8   \n",
       "⋮  ⋮           ⋮           ⋮          ⋮              ⋮    ⋮     ⋮     \n",
       "14 lemon       4           lemon      spanish_belsan 186  7.2   9.2   \n",
       "15 lemon       4           lemon      unknown        118  5.9   8.0   \n",
       "16 lemon       4           lemon      unknown        116  5.9   8.1   \n",
       "   color_score\n",
       "1  0.59       \n",
       "2  0.81       \n",
       "3  0.92       \n",
       "⋮  ⋮          \n",
       "14 0.72       \n",
       "15 0.72       \n",
       "16 0.73       "
      ]
     },
     "metadata": {},
     "output_type": "display_data"
    }
   ],
   "source": [
    "set.seed(2020) # DO NOT REMOVE\n",
    "\n",
    "fruit_test_predictions <- predict(fruit_fit , fruit_test) |>\n",
    "       bind_cols(fruit_test)\n",
    "\n",
    "\n",
    "fruit_test_predictions"
   ]
  },
  {
   "cell_type": "code",
   "execution_count": 71,
   "metadata": {
    "deletable": false,
    "editable": false,
    "nbgrader": {
     "cell_type": "code",
     "checksum": "f76e36541eb840d9aa116186c3d19d12",
     "grade": true,
     "grade_id": "cell-144f33352d2b6add",
     "locked": true,
     "points": 1,
     "schema_version": 3,
     "solution": false
    }
   },
   "outputs": [
    {
     "name": "stdout",
     "output_type": "stream",
     "text": [
      "\u001b[32mTest passed\u001b[39m 🌈\n",
      "\u001b[32mTest passed\u001b[39m 🌈\n",
      "\u001b[32mTest passed\u001b[39m 🎊\n",
      "[1] \"Success!\"\n"
     ]
    }
   ],
   "source": [
    "test_2.3()"
   ]
  },
  {
   "cell_type": "markdown",
   "metadata": {
    "deletable": false,
    "editable": false,
    "nbgrader": {
     "cell_type": "markdown",
     "checksum": "962e83775c37ad3e549fa36b5e70462d",
     "grade": false,
     "grade_id": "cell-baa81bf7577a344f",
     "locked": true,
     "schema_version": 3,
     "solution": false
    }
   },
   "source": [
    "**Question 2.4**\n",
    "<br> {points: 1}\n",
    "\n",
    "Great! We have now computed some predictions for our test datasets! From glancing at the dataframe above, it looks like most of them are correct, but wouldn't it be interesting if we could find out our classifier's accuracy? \n",
    "\n",
    "Thankfully, the `metrics` function from the `tidymodels` package can help us. To get the statistics about the quality of our model, you need to specify the `truth` and `estimate` arguments. In the `truth` argument, you should put the column name for the true values of the response variable. In the `estimate` argument, you should put the column name for response variable predictions. \n",
    "\n",
    "*Assign your answer to an object called `fruit_prediction_accuracy`.*"
   ]
  },
  {
   "cell_type": "code",
   "execution_count": 72,
   "metadata": {
    "deletable": false,
    "nbgrader": {
     "cell_type": "code",
     "checksum": "ee126d204fa9f564ae7d5fa0152fe763",
     "grade": false,
     "grade_id": "cell-4ac19dfcaec7e27c",
     "locked": false,
     "schema_version": 3,
     "solution": true
    }
   },
   "outputs": [
    {
     "data": {
      "text/html": [
       "<table class=\"dataframe\">\n",
       "<caption>A tibble: 2 × 3</caption>\n",
       "<thead>\n",
       "\t<tr><th scope=col>.metric</th><th scope=col>.estimator</th><th scope=col>.estimate</th></tr>\n",
       "\t<tr><th scope=col>&lt;chr&gt;</th><th scope=col>&lt;chr&gt;</th><th scope=col>&lt;dbl&gt;</th></tr>\n",
       "</thead>\n",
       "<tbody>\n",
       "\t<tr><td>accuracy</td><td>multiclass</td><td>0.8125000</td></tr>\n",
       "\t<tr><td>kap     </td><td>multiclass</td><td>0.7333333</td></tr>\n",
       "</tbody>\n",
       "</table>\n"
      ],
      "text/latex": [
       "A tibble: 2 × 3\n",
       "\\begin{tabular}{lll}\n",
       " .metric & .estimator & .estimate\\\\\n",
       " <chr> & <chr> & <dbl>\\\\\n",
       "\\hline\n",
       "\t accuracy & multiclass & 0.8125000\\\\\n",
       "\t kap      & multiclass & 0.7333333\\\\\n",
       "\\end{tabular}\n"
      ],
      "text/markdown": [
       "\n",
       "A tibble: 2 × 3\n",
       "\n",
       "| .metric &lt;chr&gt; | .estimator &lt;chr&gt; | .estimate &lt;dbl&gt; |\n",
       "|---|---|---|\n",
       "| accuracy | multiclass | 0.8125000 |\n",
       "| kap      | multiclass | 0.7333333 |\n",
       "\n"
      ],
      "text/plain": [
       "  .metric  .estimator .estimate\n",
       "1 accuracy multiclass 0.8125000\n",
       "2 kap      multiclass 0.7333333"
      ]
     },
     "metadata": {},
     "output_type": "display_data"
    }
   ],
   "source": [
    "set.seed(2020) # DO NOT REMOVE\n",
    "\n",
    "fruit_prediction_accuracy <- fruit_test_predictions |>\n",
    "         metrics(truth = fruit_name, estimate = .pred_class)             \n",
    "\n",
    "\n",
    "fruit_prediction_accuracy"
   ]
  },
  {
   "cell_type": "code",
   "execution_count": 73,
   "metadata": {
    "deletable": false,
    "editable": false,
    "nbgrader": {
     "cell_type": "code",
     "checksum": "6518c3556f30d94035a357daab620cb6",
     "grade": true,
     "grade_id": "cell-a268da3370127d6c",
     "locked": true,
     "points": 1,
     "schema_version": 3,
     "solution": false
    }
   },
   "outputs": [
    {
     "name": "stdout",
     "output_type": "stream",
     "text": [
      "\u001b[32mTest passed\u001b[39m 🌈\n",
      "\u001b[32mTest passed\u001b[39m 🌈\n",
      "\u001b[32mTest passed\u001b[39m 🎊\n",
      "\u001b[32mTest passed\u001b[39m 🎉\n",
      "[1] \"Success!\"\n"
     ]
    }
   ],
   "source": [
    "test_2.4()"
   ]
  },
  {
   "cell_type": "markdown",
   "metadata": {
    "deletable": false,
    "editable": false,
    "nbgrader": {
     "cell_type": "markdown",
     "checksum": "85b92a9f2dce2d1223c1ce1b498af911",
     "grade": false,
     "grade_id": "cell-67a957c51db2a297",
     "locked": true,
     "schema_version": 3,
     "solution": false
    }
   },
   "source": [
    "**Question 2.5**\n",
    "<br> {points: 1}\n",
    "\n",
    "Now, let's look at the *confusion matrix* for the classifier. This will show us a table comparing the predicted labels with the true labels. \n",
    "\n",
    "A confusion matrix is essentially a classification matrix. The columns of the confusion matrix represent the actual class and the rows represent the predicted class (or vice versa). Shown below is an example of a confusion matrix.\n",
    "\n",
    "|                  |          |  Actual Values |                |\n",
    "|:----------------:|----------|:--------------:|:--------------:|\n",
    "|                  |          |    Positive    |    Negative    |\n",
    "|**Predicted Value**  | Positive |  True Positive | False Positive|\n",
    "|                  | Negative | False Negative | True Negative  |\n",
    "\n",
    "\n",
    "- A **true positive** is an outcome where the model correctly predicts the positive class.\n",
    "- A **true negative** is an outcome where the model correctly predicts the negative class.\n",
    "- A **false positive** is an outcome where the model incorrectly predicts the positive class.\n",
    "- A **false negative** is an outcome where the model incorrectly predicts the negative class.\n",
    "\n",
    "<br>\n",
    "\n",
    "We can create a confusion matrix by using the `conf_mat` function. Similar to the `metrics` function, you will have to specify the `truth` and `estimate` arguments. \n",
    "\n",
    "*Assign your answer to an object called `fruit_mat`*."
   ]
  },
  {
   "cell_type": "code",
   "execution_count": 74,
   "metadata": {
    "deletable": false,
    "nbgrader": {
     "cell_type": "code",
     "checksum": "f24e7fdd4cf6febe4d9718342d5b04a4",
     "grade": false,
     "grade_id": "cell-f0716222fa3e3c93",
     "locked": false,
     "schema_version": 3,
     "solution": true
    }
   },
   "outputs": [
    {
     "data": {
      "text/plain": [
       "          Truth\n",
       "Prediction apple mandarin orange lemon\n",
       "  apple        4        0      0     0\n",
       "  mandarin     0        1      0     0\n",
       "  orange       0        0      3     0\n",
       "  lemon        1        0      2     5"
      ]
     },
     "metadata": {},
     "output_type": "display_data"
    }
   ],
   "source": [
    "set.seed(2020) # DO NOT REMOVE\n",
    "\n",
    "fruit_mat <- fruit_test_predictions |> \n",
    "       conf_mat (truth = fruit_name, estimate = .pred_class)\n",
    "\n",
    "fruit_mat"
   ]
  },
  {
   "cell_type": "code",
   "execution_count": 75,
   "metadata": {
    "deletable": false,
    "editable": false,
    "nbgrader": {
     "cell_type": "code",
     "checksum": "50ba35a8c51cc1a58b6bdbbb2dcfbda0",
     "grade": true,
     "grade_id": "cell-d3d5c46250e8450a",
     "locked": true,
     "points": 1,
     "schema_version": 3,
     "solution": false
    }
   },
   "outputs": [
    {
     "name": "stdout",
     "output_type": "stream",
     "text": [
      "\u001b[32mTest passed\u001b[39m 🌈\n",
      "\u001b[32mTest passed\u001b[39m 🌈\n",
      "\u001b[32mTest passed\u001b[39m 🎊\n",
      "[1] \"Success!\"\n"
     ]
    }
   ],
   "source": [
    "test_2.5()"
   ]
  },
  {
   "cell_type": "markdown",
   "metadata": {
    "deletable": false,
    "editable": false,
    "nbgrader": {
     "cell_type": "markdown",
     "checksum": "ffc78c73873a943eef6ee4b2d880157d",
     "grade": false,
     "grade_id": "cell-76907faaa508f23b",
     "locked": true,
     "schema_version": 3,
     "solution": false,
     "task": false
    }
   },
   "source": [
    "**Question 2.6** Multiple Choice:\n",
    "<br> {points: 1}\n",
    "\n",
    "Reading `fruit_mat`, how many observations were labelled correctly?\n",
    "\n",
    "A. 14\n",
    "\n",
    "B. 12\n",
    "\n",
    "C. 10\n",
    "\n",
    "D. 13\n",
    "\n",
    "*Assign your answer to an object called `answer2.6`. Make sure your answer is an uppercase letter and is surrounded by quotation marks (e.g. `\"F\"`).*"
   ]
  },
  {
   "cell_type": "code",
   "execution_count": 82,
   "metadata": {
    "deletable": false,
    "nbgrader": {
     "cell_type": "code",
     "checksum": "d7dc42422b7bc986c7a575478f241a04",
     "grade": false,
     "grade_id": "cell-c4d8f09cbf40df59",
     "locked": false,
     "schema_version": 3,
     "solution": true,
     "task": false
    }
   },
   "outputs": [],
   "source": [
    "# your code here\n",
    "\n",
    "answer2.6 <- \"D\""
   ]
  },
  {
   "cell_type": "code",
   "execution_count": 83,
   "metadata": {
    "deletable": false,
    "editable": false,
    "nbgrader": {
     "cell_type": "code",
     "checksum": "2a8cb4af39a241cd0760105114251180",
     "grade": true,
     "grade_id": "cell-5715f106e3bbf143",
     "locked": true,
     "points": 1,
     "schema_version": 3,
     "solution": false,
     "task": false
    }
   },
   "outputs": [
    {
     "name": "stdout",
     "output_type": "stream",
     "text": [
      "\u001b[32mTest passed\u001b[39m 🌈\n",
      "\u001b[32mTest passed\u001b[39m 🥳\n",
      "[1] \"Success!\"\n"
     ]
    }
   ],
   "source": [
    "test_2.6()"
   ]
  },
  {
   "cell_type": "markdown",
   "metadata": {
    "deletable": false,
    "editable": false,
    "nbgrader": {
     "cell_type": "markdown",
     "checksum": "d86327e25e6c2025d3ec47a6a7782eef",
     "grade": false,
     "grade_id": "cell-d30d37a17f392bd1",
     "locked": true,
     "schema_version": 3,
     "solution": false,
     "task": false
    }
   },
   "source": [
    "**Question 2.7** Multiple Choice:\n",
    "<br> {points: 1}\n",
    "\n",
    "Reading `fruit_mat`, let's suppse that we are really interested in the lemons, and treat \"lemon\" as being the \"positive\" class. What is the precision of our classifier?\n",
    "\n",
    "*Assign your answer to an object called `answer2.7`.*"
   ]
  },
  {
   "cell_type": "code",
   "execution_count": 124,
   "metadata": {
    "deletable": false,
    "nbgrader": {
     "cell_type": "code",
     "checksum": "eb186f88af2c1cb1abdcc5878a5b3dfc",
     "grade": false,
     "grade_id": "cell-0024ea9f3a912edd",
     "locked": false,
     "schema_version": 3,
     "solution": true,
     "task": false
    }
   },
   "outputs": [],
   "source": [
    "# your code here\n",
    "answer2.7 <- 5/8"
   ]
  },
  {
   "cell_type": "code",
   "execution_count": 125,
   "metadata": {
    "deletable": false,
    "editable": false,
    "nbgrader": {
     "cell_type": "code",
     "checksum": "5c79a13c63827b7dea4aae1abe2754b6",
     "grade": true,
     "grade_id": "cell-ea3ca27f85d995a4",
     "locked": true,
     "points": 1,
     "schema_version": 3,
     "solution": false,
     "task": false
    }
   },
   "outputs": [
    {
     "name": "stdout",
     "output_type": "stream",
     "text": [
      "\u001b[32mTest passed\u001b[39m 😀\n",
      "\u001b[32mTest passed\u001b[39m 🎉\n",
      "[1] \"Success!\"\n"
     ]
    }
   ],
   "source": [
    "test_2.7()"
   ]
  },
  {
   "cell_type": "markdown",
   "metadata": {
    "deletable": false,
    "editable": false,
    "nbgrader": {
     "cell_type": "markdown",
     "checksum": "ca708f32f35ca9c34c6f7934056ee65b",
     "grade": false,
     "grade_id": "cell-edb7f27a20306941",
     "locked": true,
     "schema_version": 3,
     "solution": false,
     "task": false
    }
   },
   "source": [
    "**Question 2.8** Multiple Choice:\n",
    "<br> {points: 1}\n",
    "\n",
    "Again, let us treat \"lemon\" as being the \"positive\" class. What is the recall of our classifier?\n",
    "\n",
    "*Assign your answer to an object called `answer2.8`.*"
   ]
  },
  {
   "cell_type": "code",
   "execution_count": 133,
   "metadata": {
    "deletable": false,
    "nbgrader": {
     "cell_type": "code",
     "checksum": "549cfc01975db43a08eccbe55a8a3d72",
     "grade": false,
     "grade_id": "cell-ee3466bcbf038ae5",
     "locked": false,
     "schema_version": 3,
     "solution": true,
     "task": false
    }
   },
   "outputs": [],
   "source": [
    "# your code here\n",
    "answer2.8 <- 1"
   ]
  },
  {
   "cell_type": "code",
   "execution_count": 134,
   "metadata": {
    "deletable": false,
    "editable": false,
    "nbgrader": {
     "cell_type": "code",
     "checksum": "d0b46de82a9825d63eaf17ccdaefa2ef",
     "grade": true,
     "grade_id": "cell-210e04ec89001994",
     "locked": true,
     "points": 0,
     "schema_version": 3,
     "solution": false,
     "task": false
    }
   },
   "outputs": [
    {
     "name": "stdout",
     "output_type": "stream",
     "text": [
      "\u001b[32mTest passed\u001b[39m 🎊\n",
      "\u001b[32mTest passed\u001b[39m 🥳\n",
      "[1] \"Success!\"\n"
     ]
    }
   ],
   "source": [
    "test_2.8()"
   ]
  },
  {
   "cell_type": "markdown",
   "metadata": {
    "deletable": false,
    "editable": false,
    "nbgrader": {
     "cell_type": "markdown",
     "checksum": "7df408afe47dc0f564a96c403fbd4b51",
     "grade": false,
     "grade_id": "cell-0063191266f982c7",
     "locked": true,
     "schema_version": 3,
     "solution": false
    }
   },
   "source": [
    "### 3. Cross-validation\n",
    "\n",
    "**Question 3.1**\n",
    "<br> {points: 1}\n",
    "\n",
    "The vast majority of predictive models in statistics and machine learning have parameters that you have to pick. For the past few exercises, we have had to pick the number of neighbours for the class vote, which we have done arbitraily. But, is it possible to make this selection, *i.e., tune the model, in a principled way?* Ideally, we want to pick the number of neighborurs to maximize the performance of our classifier on data *it hasn’t seen yet*.\n",
    "\n",
    "An important aspect of the tuning process is that we can, if we want to, split our training data again, train and evaluate a classifier for each split, and then choose the parameter based on all of the different results. If we just split our training data once, our best parameter choice will depend strongly on the randomness from how this single split was made. Using multiple different splits, we’ll get a more robust estimate of accuracy, which will lead to a more suitable choice of the number of neighbours $K$ to perform well on unseen data.\n",
    "\n",
    "The idea of training and evaluating models on multiple training data splits times is called \"cross-validation\". In cross-validation, we split our overall training data into $C$ evenly-sized chunks, and then iteratively use 1 chunk as the **validation set** and combine the remaining $C−1$ chunks as the **training set.** The validation set is used in a similar was as the test set, **except** that the test set is only used once at the end to report model performance whether we use model performance on the validation set to select the model during cross-validation. \n",
    "\n",
    "---\n",
    "\n",
    "We can perform a cross-validation in R using the `vfold_cv` function. To use this function, you have to identify the training set as well as specify the `v` (the number of folds) and the `strata` argument (the label variable). \n",
    "\n",
    "For this exercise, perform **$5$-fold cross-validation**.\n",
    "\n",
    "*Assign your answer to an object called `fruit_vfold`*."
   ]
  },
  {
   "cell_type": "code",
   "execution_count": 97,
   "metadata": {
    "deletable": false,
    "nbgrader": {
     "cell_type": "code",
     "checksum": "afdcc7d9663ecfdcb036296b6ebbe466",
     "grade": false,
     "grade_id": "cell-40206dc81c114f74",
     "locked": false,
     "schema_version": 3,
     "solution": true
    }
   },
   "outputs": [],
   "source": [
    "set.seed(2020) # DO NOT REMOVE\n",
    "\n",
    "fruit_vfold <- vfold_cv(fruit_train, v = 5, strata = fruit_name)\n"
   ]
  },
  {
   "cell_type": "code",
   "execution_count": 95,
   "metadata": {
    "deletable": false,
    "editable": false,
    "nbgrader": {
     "cell_type": "code",
     "checksum": "b591b806779aacafd2bb2a3e4511ae01",
     "grade": true,
     "grade_id": "cell-4f7b62f0f7b0a200",
     "locked": true,
     "points": 1,
     "schema_version": 3,
     "solution": false
    }
   },
   "outputs": [
    {
     "name": "stdout",
     "output_type": "stream",
     "text": [
      "\u001b[32mTest passed\u001b[39m 😀\n",
      "\u001b[32mTest passed\u001b[39m 🥇\n",
      "\u001b[32mTest passed\u001b[39m 😸\n",
      "\u001b[32mTest passed\u001b[39m 😀\n",
      "\u001b[32mTest passed\u001b[39m 🥇\n",
      "\u001b[32mTest passed\u001b[39m 😸\n",
      "[1] \"Success!\"\n"
     ]
    }
   ],
   "source": [
    "test_3.1()"
   ]
  },
  {
   "cell_type": "markdown",
   "metadata": {
    "deletable": false,
    "editable": false,
    "nbgrader": {
     "cell_type": "markdown",
     "checksum": "4d1e589450a8e1099c29da82263525f7",
     "grade": false,
     "grade_id": "cell-068da1c1156e503a",
     "locked": true,
     "schema_version": 3,
     "solution": false
    }
   },
   "source": [
    "**Question 3.2**\n",
    "<br> {points: 1}\n",
    "\n",
    "Now perform the workflow analysis again. You can reuse the `fruit_recipe` and `knn_spec` objects you made earlier. When you are fitting the knn model, use the `fit_resamples` function instead of the `fit` function for training. This function will allow us to run a cross-validation on each train/validation split we created in the previous question. \n",
    "\n",
    "*Assign your answer to an object called `fruit_resample_fit`*."
   ]
  },
  {
   "cell_type": "code",
   "execution_count": 99,
   "metadata": {
    "deletable": false,
    "nbgrader": {
     "cell_type": "code",
     "checksum": "b67c2a89cd7ef78fb5be1bf95859d72e",
     "grade": false,
     "grade_id": "cell-0474eb947592495c",
     "locked": false,
     "schema_version": 3,
     "solution": true
    }
   },
   "outputs": [
    {
     "name": "stderr",
     "output_type": "stream",
     "text": [
      "→ \u001b[33m\u001b[1mA\u001b[22m\u001b[39m | \u001b[33mwarning\u001b[39m: No observations were detected in `truth` for level(s): 'mandarin'\n",
      "               Computation will proceed by ignoring those levels.\n",
      "\n",
      "There were issues with some computations   \u001b[1m\u001b[33mA\u001b[39m\u001b[22m: x1\n",
      "\n",
      "There were issues with some computations   \u001b[1m\u001b[33mA\u001b[39m\u001b[22m: x3\n",
      "\n",
      "\n",
      "\n"
     ]
    }
   ],
   "source": [
    "set.seed(2020) # DO NOT REMOVE\n",
    "\n",
    "fruit_resample_fit <- workflow() |>\n",
    "       add_recipe(fruit_recipe) |>\n",
    "       add_model(knn_spec) |>\n",
    "       fit_resamples(resamples = fruit_vfold)\n"
   ]
  },
  {
   "cell_type": "code",
   "execution_count": 100,
   "metadata": {
    "deletable": false,
    "editable": false,
    "nbgrader": {
     "cell_type": "code",
     "checksum": "2f8e388622fdde399326dcbb41f693bd",
     "grade": true,
     "grade_id": "cell-099fb002dba6ced0",
     "locked": true,
     "points": 1,
     "schema_version": 3,
     "solution": false
    }
   },
   "outputs": [
    {
     "name": "stdout",
     "output_type": "stream",
     "text": [
      "\u001b[32mTest passed\u001b[39m 😸\n",
      "\u001b[32mTest passed\u001b[39m 🥳\n",
      "\u001b[32mTest passed\u001b[39m 🌈\n",
      "\u001b[32mTest passed\u001b[39m 😸\n",
      "\u001b[32mTest passed\u001b[39m 🎉\n",
      "\u001b[32mTest passed\u001b[39m 🎊\n",
      "[1] \"Success!\"\n"
     ]
    }
   ],
   "source": [
    "test_3.2()"
   ]
  },
  {
   "cell_type": "markdown",
   "metadata": {
    "deletable": false,
    "editable": false,
    "nbgrader": {
     "cell_type": "markdown",
     "checksum": "40bdb9b98b1c06b579eb2d8f5e162461",
     "grade": false,
     "grade_id": "cell-df3dc35f0cbb35e2",
     "locked": true,
     "schema_version": 3,
     "solution": false,
     "task": false
    }
   },
   "source": [
    "**Question 3.3** \n",
    "<br> {points: 1}\n",
    "\n",
    "Now that we have ran a cross-validation on each train/validation split, one has to ask, how accurate was the classifier's validation across the folds? We can aggregate the *mean* and *standard error* by using the `collect_metrics` function. The standard error is essentially a measure of how uncertain we are in the mean value. \n",
    "\n",
    "Use the `collect_metrics` function on the `fruit_resample_fit` object and assign your answer to an object called `fruit_metrics`."
   ]
  },
  {
   "cell_type": "code",
   "execution_count": 101,
   "metadata": {
    "deletable": false,
    "nbgrader": {
     "cell_type": "code",
     "checksum": "aa2b50e63553e0fab6b486d57fad0794",
     "grade": false,
     "grade_id": "cell-1119165a08beb72d",
     "locked": false,
     "schema_version": 3,
     "solution": true,
     "task": false
    }
   },
   "outputs": [
    {
     "data": {
      "text/html": [
       "<table class=\"dataframe\">\n",
       "<caption>A tibble: 2 × 6</caption>\n",
       "<thead>\n",
       "\t<tr><th scope=col>.metric</th><th scope=col>.estimator</th><th scope=col>mean</th><th scope=col>n</th><th scope=col>std_err</th><th scope=col>.config</th></tr>\n",
       "\t<tr><th scope=col>&lt;chr&gt;</th><th scope=col>&lt;chr&gt;</th><th scope=col>&lt;dbl&gt;</th><th scope=col>&lt;int&gt;</th><th scope=col>&lt;dbl&gt;</th><th scope=col>&lt;chr&gt;</th></tr>\n",
       "</thead>\n",
       "<tbody>\n",
       "\t<tr><td>accuracy</td><td>multiclass</td><td>0.8827778</td><td>5</td><td>0.039853125</td><td>Preprocessor1_Model1</td></tr>\n",
       "\t<tr><td>roc_auc </td><td>hand_till </td><td>0.9620370</td><td>5</td><td>0.009945625</td><td>Preprocessor1_Model1</td></tr>\n",
       "</tbody>\n",
       "</table>\n"
      ],
      "text/latex": [
       "A tibble: 2 × 6\n",
       "\\begin{tabular}{llllll}\n",
       " .metric & .estimator & mean & n & std\\_err & .config\\\\\n",
       " <chr> & <chr> & <dbl> & <int> & <dbl> & <chr>\\\\\n",
       "\\hline\n",
       "\t accuracy & multiclass & 0.8827778 & 5 & 0.039853125 & Preprocessor1\\_Model1\\\\\n",
       "\t roc\\_auc  & hand\\_till  & 0.9620370 & 5 & 0.009945625 & Preprocessor1\\_Model1\\\\\n",
       "\\end{tabular}\n"
      ],
      "text/markdown": [
       "\n",
       "A tibble: 2 × 6\n",
       "\n",
       "| .metric &lt;chr&gt; | .estimator &lt;chr&gt; | mean &lt;dbl&gt; | n &lt;int&gt; | std_err &lt;dbl&gt; | .config &lt;chr&gt; |\n",
       "|---|---|---|---|---|---|\n",
       "| accuracy | multiclass | 0.8827778 | 5 | 0.039853125 | Preprocessor1_Model1 |\n",
       "| roc_auc  | hand_till  | 0.9620370 | 5 | 0.009945625 | Preprocessor1_Model1 |\n",
       "\n"
      ],
      "text/plain": [
       "  .metric  .estimator mean      n std_err     .config             \n",
       "1 accuracy multiclass 0.8827778 5 0.039853125 Preprocessor1_Model1\n",
       "2 roc_auc  hand_till  0.9620370 5 0.009945625 Preprocessor1_Model1"
      ]
     },
     "metadata": {},
     "output_type": "display_data"
    }
   ],
   "source": [
    "# your code here\n",
    "fruit_metrics <- fruit_resample_fit |>\n",
    "    collect_metrics()\n",
    "fruit_metrics"
   ]
  },
  {
   "cell_type": "code",
   "execution_count": 102,
   "metadata": {
    "deletable": false,
    "editable": false,
    "nbgrader": {
     "cell_type": "code",
     "checksum": "ff6f588520207e25a68b527978186260",
     "grade": true,
     "grade_id": "cell-7337cd2a0af4b896",
     "locked": true,
     "points": 1,
     "schema_version": 3,
     "solution": false,
     "task": false
    }
   },
   "outputs": [
    {
     "name": "stdout",
     "output_type": "stream",
     "text": [
      "\u001b[32mTest passed\u001b[39m 🎊\n",
      "\u001b[32mTest passed\u001b[39m 😀\n",
      "[1] \"Success!\"\n"
     ]
    }
   ],
   "source": [
    "test_3.3()"
   ]
  },
  {
   "cell_type": "markdown",
   "metadata": {
    "deletable": false,
    "editable": false,
    "nbgrader": {
     "cell_type": "markdown",
     "checksum": "5939bdb0bd8c070ee2404571f6f32a2b",
     "grade": false,
     "grade_id": "cell-b65f60bbbc0a4884",
     "locked": true,
     "schema_version": 3,
     "solution": false
    }
   },
   "source": [
    "## 4. Parameter value selection\n",
    "\n",
    "Using a 5-fold cross-validation, we have established a prediction accuracy for our classifier. \n",
    "\n",
    "If we had to improve our classifier, we have to change the parameter: number of neighbours, $K$. Since cross-validation helps us evaluate the accuracy of our classifier, we can use cross-validation to calculate an accuracy for each value of $K$ in a reasonable range, and then pick the value of $K$ that gives us the best accuracy. \n",
    "\n",
    "The great thing about the `tidymodels` package is that it provides a very simple syntax for tuning models. Using `tune()`, each parameter in the model can be adjusted rather than given a specific value. \n",
    "\n",
    "**Question 4.0**\n",
    "<br> {points: 1}\n",
    "\n",
    "Create a new K-nearest neighbor model specification but instead of specifying a particular value for the `neighbors` argument, insert `tune()`. \n",
    "\n",
    "*Assign your answer to an object called `knn_tune`.* "
   ]
  },
  {
   "cell_type": "code",
   "execution_count": 105,
   "metadata": {
    "deletable": false,
    "nbgrader": {
     "cell_type": "code",
     "checksum": "e4d8871755f64d87e26be17856b5fea5",
     "grade": false,
     "grade_id": "cell-2d0448675438bdec",
     "locked": false,
     "schema_version": 3,
     "solution": true
    }
   },
   "outputs": [
    {
     "data": {
      "text/plain": [
       "K-Nearest Neighbor Model Specification (classification)\n",
       "\n",
       "Main Arguments:\n",
       "  neighbors = tune()\n",
       "  weight_func = rectangular\n",
       "\n",
       "Computational engine: kknn \n"
      ]
     },
     "metadata": {},
     "output_type": "display_data"
    }
   ],
   "source": [
    "set.seed(2020) # DO NOT REMOVE\n",
    "knn_tune <- nearest_neighbor(weight_func = \"rectangular\",\n",
    "                             neighbors = tune()) |>\n",
    "  set_engine(\"kknn\") |>\n",
    "  set_mode(\"classification\")\n",
    "knn_tune"
   ]
  },
  {
   "cell_type": "code",
   "execution_count": 106,
   "metadata": {
    "deletable": false,
    "editable": false,
    "nbgrader": {
     "cell_type": "code",
     "checksum": "ccc6b19b3179ffd5a1ba1b251fcfb151",
     "grade": true,
     "grade_id": "cell-381d21c4c1474e80",
     "locked": true,
     "points": 1,
     "schema_version": 3,
     "solution": false
    }
   },
   "outputs": [
    {
     "name": "stdout",
     "output_type": "stream",
     "text": [
      "\u001b[32mTest passed\u001b[39m 🌈\n",
      "\u001b[32mTest passed\u001b[39m 🌈\n",
      "\u001b[32mTest passed\u001b[39m 🎊\n",
      "\u001b[32mTest passed\u001b[39m 🎉\n",
      "\u001b[32mTest passed\u001b[39m 😀\n",
      "\u001b[32mTest passed\u001b[39m 😀\n",
      "[1] \"Success!\"\n"
     ]
    }
   ],
   "source": [
    "test_4.0()"
   ]
  },
  {
   "cell_type": "markdown",
   "metadata": {
    "deletable": false,
    "editable": false,
    "nbgrader": {
     "cell_type": "markdown",
     "checksum": "a44cafde61efbc0f0e75bb30bab2612d",
     "grade": false,
     "grade_id": "cell-706cde9c0d8d2699",
     "locked": true,
     "schema_version": 3,
     "solution": false,
     "task": false
    }
   },
   "source": [
    "**Question 4.1**\n",
    "<br>{points: 1}\n",
    "\n",
    "Now, create a `workflow()` analysis that combines `fruit_recipe` and our new `knn_tune` model specification. \n",
    "\n",
    "Instead of using `fit` or `fit_resamples`, we will use the `tune_grid` function to fit the model for each value in a range of parameter values. For the `resamples` argument, input the cross-validation `fruit_vfold` model we created earlier. The `grid` argument specifies that the tuning should try $X$ amount of values of the number of neighbors $K$ when tuning. For this exercise, use *10 $K$ values when tuning*. \n",
    "\n",
    "Finally, aggregate the mean and standard error by using the `collect_metrics` function.\n",
    "\n",
    "*Assign your answer to an object called `knn_results`.*"
   ]
  },
  {
   "cell_type": "code",
   "execution_count": 107,
   "metadata": {
    "deletable": false,
    "nbgrader": {
     "cell_type": "code",
     "checksum": "2bcc2de28443d2365c46fc4535d5de7d",
     "grade": false,
     "grade_id": "cell-c0d2f1edbe342214",
     "locked": false,
     "schema_version": 3,
     "solution": true,
     "task": false
    }
   },
   "outputs": [
    {
     "name": "stderr",
     "output_type": "stream",
     "text": [
      "→ \u001b[33m\u001b[1mA\u001b[22m\u001b[39m | \u001b[33mwarning\u001b[39m: No observations were detected in `truth` for level(s): 'mandarin'\n",
      "               Computation will proceed by ignoring those levels.\n",
      "\n",
      "There were issues with some computations   \u001b[1m\u001b[33mA\u001b[39m\u001b[22m: x1\n",
      "\n",
      "There were issues with some computations   \u001b[1m\u001b[33mA\u001b[39m\u001b[22m: x2\n",
      "\n",
      "There were issues with some computations   \u001b[1m\u001b[33mA\u001b[39m\u001b[22m: x3\n",
      "\n",
      "\n",
      "\n"
     ]
    },
    {
     "data": {
      "text/html": [
       "<table class=\"dataframe\">\n",
       "<caption>A tibble: 20 × 7</caption>\n",
       "<thead>\n",
       "\t<tr><th scope=col>neighbors</th><th scope=col>.metric</th><th scope=col>.estimator</th><th scope=col>mean</th><th scope=col>n</th><th scope=col>std_err</th><th scope=col>.config</th></tr>\n",
       "\t<tr><th scope=col>&lt;int&gt;</th><th scope=col>&lt;chr&gt;</th><th scope=col>&lt;chr&gt;</th><th scope=col>&lt;dbl&gt;</th><th scope=col>&lt;int&gt;</th><th scope=col>&lt;dbl&gt;</th><th scope=col>&lt;chr&gt;</th></tr>\n",
       "</thead>\n",
       "<tbody>\n",
       "\t<tr><td>2</td><td>accuracy</td><td>multiclass</td><td>0.8827778</td><td>5</td><td>0.03985313</td><td>Preprocessor1_Model01</td></tr>\n",
       "\t<tr><td>2</td><td>roc_auc </td><td>hand_till </td><td>0.9421296</td><td>5</td><td>0.02232327</td><td>Preprocessor1_Model01</td></tr>\n",
       "\t<tr><td>3</td><td>accuracy</td><td>multiclass</td><td>0.8827778</td><td>5</td><td>0.03985313</td><td>Preprocessor1_Model02</td></tr>\n",
       "\t<tr><td>⋮</td><td>⋮</td><td>⋮</td><td>⋮</td><td>⋮</td><td>⋮</td><td>⋮</td></tr>\n",
       "\t<tr><td>13</td><td>roc_auc </td><td>hand_till </td><td>0.8960648</td><td>5</td><td>0.03687828</td><td>Preprocessor1_Model09</td></tr>\n",
       "\t<tr><td>14</td><td>accuracy</td><td>multiclass</td><td>0.6088889</td><td>5</td><td>0.04876088</td><td>Preprocessor1_Model10</td></tr>\n",
       "\t<tr><td>14</td><td>roc_auc </td><td>hand_till </td><td>0.8743056</td><td>5</td><td>0.03734608</td><td>Preprocessor1_Model10</td></tr>\n",
       "</tbody>\n",
       "</table>\n"
      ],
      "text/latex": [
       "A tibble: 20 × 7\n",
       "\\begin{tabular}{lllllll}\n",
       " neighbors & .metric & .estimator & mean & n & std\\_err & .config\\\\\n",
       " <int> & <chr> & <chr> & <dbl> & <int> & <dbl> & <chr>\\\\\n",
       "\\hline\n",
       "\t 2 & accuracy & multiclass & 0.8827778 & 5 & 0.03985313 & Preprocessor1\\_Model01\\\\\n",
       "\t 2 & roc\\_auc  & hand\\_till  & 0.9421296 & 5 & 0.02232327 & Preprocessor1\\_Model01\\\\\n",
       "\t 3 & accuracy & multiclass & 0.8827778 & 5 & 0.03985313 & Preprocessor1\\_Model02\\\\\n",
       "\t ⋮ & ⋮ & ⋮ & ⋮ & ⋮ & ⋮ & ⋮\\\\\n",
       "\t 13 & roc\\_auc  & hand\\_till  & 0.8960648 & 5 & 0.03687828 & Preprocessor1\\_Model09\\\\\n",
       "\t 14 & accuracy & multiclass & 0.6088889 & 5 & 0.04876088 & Preprocessor1\\_Model10\\\\\n",
       "\t 14 & roc\\_auc  & hand\\_till  & 0.8743056 & 5 & 0.03734608 & Preprocessor1\\_Model10\\\\\n",
       "\\end{tabular}\n"
      ],
      "text/markdown": [
       "\n",
       "A tibble: 20 × 7\n",
       "\n",
       "| neighbors &lt;int&gt; | .metric &lt;chr&gt; | .estimator &lt;chr&gt; | mean &lt;dbl&gt; | n &lt;int&gt; | std_err &lt;dbl&gt; | .config &lt;chr&gt; |\n",
       "|---|---|---|---|---|---|---|\n",
       "| 2 | accuracy | multiclass | 0.8827778 | 5 | 0.03985313 | Preprocessor1_Model01 |\n",
       "| 2 | roc_auc  | hand_till  | 0.9421296 | 5 | 0.02232327 | Preprocessor1_Model01 |\n",
       "| 3 | accuracy | multiclass | 0.8827778 | 5 | 0.03985313 | Preprocessor1_Model02 |\n",
       "| ⋮ | ⋮ | ⋮ | ⋮ | ⋮ | ⋮ | ⋮ |\n",
       "| 13 | roc_auc  | hand_till  | 0.8960648 | 5 | 0.03687828 | Preprocessor1_Model09 |\n",
       "| 14 | accuracy | multiclass | 0.6088889 | 5 | 0.04876088 | Preprocessor1_Model10 |\n",
       "| 14 | roc_auc  | hand_till  | 0.8743056 | 5 | 0.03734608 | Preprocessor1_Model10 |\n",
       "\n"
      ],
      "text/plain": [
       "   neighbors .metric  .estimator mean      n std_err    .config              \n",
       "1  2         accuracy multiclass 0.8827778 5 0.03985313 Preprocessor1_Model01\n",
       "2  2         roc_auc  hand_till  0.9421296 5 0.02232327 Preprocessor1_Model01\n",
       "3  3         accuracy multiclass 0.8827778 5 0.03985313 Preprocessor1_Model02\n",
       "⋮  ⋮         ⋮        ⋮          ⋮         ⋮ ⋮          ⋮                    \n",
       "18 13        roc_auc  hand_till  0.8960648 5 0.03687828 Preprocessor1_Model09\n",
       "19 14        accuracy multiclass 0.6088889 5 0.04876088 Preprocessor1_Model10\n",
       "20 14        roc_auc  hand_till  0.8743056 5 0.03734608 Preprocessor1_Model10"
      ]
     },
     "metadata": {},
     "output_type": "display_data"
    }
   ],
   "source": [
    "set.seed(1234) # set the seed, don't remove this\n",
    "\n",
    "knn_results <- workflow() |>\n",
    "       add_recipe(fruit_recipe) |>\n",
    "       add_model(knn_tune) |>\n",
    "       tune_grid(resamples = fruit_vfold, grid = 10) |>\n",
    "       collect_metrics()\n",
    "\n",
    "\n",
    "knn_results"
   ]
  },
  {
   "cell_type": "code",
   "execution_count": 109,
   "metadata": {
    "deletable": false,
    "editable": false,
    "nbgrader": {
     "cell_type": "code",
     "checksum": "e2d9381f3f1c945a4f208684ea04e6b5",
     "grade": true,
     "grade_id": "cell-0cbc6a47a2b14884",
     "locked": true,
     "points": 1,
     "schema_version": 3,
     "solution": false,
     "task": false
    }
   },
   "outputs": [
    {
     "name": "stdout",
     "output_type": "stream",
     "text": [
      "\u001b[32mTest passed\u001b[39m 🥇\n",
      "\u001b[32mTest passed\u001b[39m 🥳\n",
      "\u001b[32mTest passed\u001b[39m 🎉\n",
      "\u001b[32mTest passed\u001b[39m 🥇\n",
      "[1] \"Success!\"\n"
     ]
    }
   ],
   "source": [
    "test_4.1()"
   ]
  },
  {
   "cell_type": "markdown",
   "metadata": {
    "deletable": false,
    "editable": false,
    "nbgrader": {
     "cell_type": "markdown",
     "checksum": "2a60ce3465536d0a1c1c38957b89569c",
     "grade": false,
     "grade_id": "cell-e8a71fe7a9789225",
     "locked": true,
     "schema_version": 3,
     "solution": false,
     "task": false
    }
   },
   "source": [
    "**Question 4.2**\n",
    "<br>{points: 1} \n",
    "\n",
    "\n",
    "Now, let's find the best value of the number of neighbors. \n",
    "\n",
    "First, from `knn_results`, filter for `accuracy` from the `.metric` column. \n",
    "\n",
    "*Assign your answer to an object called `accuracies`.*\n",
    "\n",
    "Next, create a line plot using the `accuracies` dataset with `neighbors` on the x-axis and the `mean` on the y-axis. \n",
    "\n",
    "*Assign your answer to an object called `accuracy_versus_k`.*"
   ]
  },
  {
   "cell_type": "code",
   "execution_count": 111,
   "metadata": {
    "deletable": false,
    "nbgrader": {
     "cell_type": "code",
     "checksum": "c1de51d8f96cc10a0e548c35636e24a9",
     "grade": false,
     "grade_id": "cell-b8ae5cb978d3f8f2",
     "locked": false,
     "schema_version": 3,
     "solution": true,
     "task": false
    }
   },
   "outputs": [
    {
     "data": {
      "application/pdf": "[encoded data removed]",
      "image/jpeg": "[encoded data removed]",
      "image/png": "[encoded data removed]",
      "image/svg+xml": [
       "<?xml version=\"1.0\" encoding=\"UTF-8\"?>\n",
       "<svg xmlns=\"http://www.w3.org/2000/svg\" xmlns:xlink=\"http://www.w3.org/1999/xlink\" width=\"720pt\" height=\"432pt\" viewBox=\"0 0 720 432\" version=\"1.1\">\n",
       "<defs>\n",
       "<g>\n",
       "<symbol overflow=\"visible\" id=\"glyph0-0\">\n",
       "<path style=\"stroke:none;\" d=\"M 0.296875 0 L 0.296875 -5.859375 L 2.625 -5.859375 L 2.625 0 Z M 0.578125 -0.296875 L 2.34375 -0.296875 L 2.34375 -5.578125 L 0.578125 -5.578125 Z M 0.578125 -0.296875 \"/>\n",
       "</symbol>\n",
       "<symbol overflow=\"visible\" id=\"glyph0-1\">\n",
       "<path style=\"stroke:none;\" d=\"M 4.546875 -3.03125 C 4.546875 -2.445312 4.488281 -1.957031 4.375 -1.5625 C 4.269531 -1.164062 4.117188 -0.84375 3.921875 -0.59375 C 3.734375 -0.351562 3.507812 -0.179688 3.25 -0.078125 C 3 0.0234375 2.726562 0.078125 2.4375 0.078125 C 2.144531 0.078125 1.867188 0.0234375 1.609375 -0.078125 C 1.359375 -0.179688 1.140625 -0.351562 0.953125 -0.59375 C 0.765625 -0.84375 0.613281 -1.164062 0.5 -1.5625 C 0.394531 -1.957031 0.34375 -2.445312 0.34375 -3.03125 C 0.34375 -3.632812 0.394531 -4.132812 0.5 -4.53125 C 0.613281 -4.9375 0.765625 -5.257812 0.953125 -5.5 C 1.140625 -5.738281 1.359375 -5.90625 1.609375 -6 C 1.867188 -6.09375 2.15625 -6.140625 2.46875 -6.140625 C 2.75 -6.140625 3.015625 -6.09375 3.265625 -6 C 3.523438 -5.90625 3.75 -5.738281 3.9375 -5.5 C 4.125 -5.257812 4.269531 -4.9375 4.375 -4.53125 C 4.488281 -4.132812 4.546875 -3.632812 4.546875 -3.03125 Z M 3.765625 -3.03125 C 3.765625 -3.507812 3.734375 -3.90625 3.671875 -4.21875 C 3.617188 -4.539062 3.535156 -4.796875 3.421875 -4.984375 C 3.304688 -5.179688 3.164062 -5.316406 3 -5.390625 C 2.84375 -5.472656 2.664062 -5.515625 2.46875 -5.515625 C 2.25 -5.515625 2.054688 -5.472656 1.890625 -5.390625 C 1.722656 -5.316406 1.582031 -5.179688 1.46875 -4.984375 C 1.351562 -4.796875 1.265625 -4.539062 1.203125 -4.21875 C 1.148438 -3.90625 1.125 -3.507812 1.125 -3.03125 C 1.125 -2.5625 1.148438 -2.164062 1.203125 -1.84375 C 1.265625 -1.53125 1.351562 -1.273438 1.46875 -1.078125 C 1.582031 -0.890625 1.71875 -0.753906 1.875 -0.671875 C 2.039062 -0.585938 2.226562 -0.546875 2.4375 -0.546875 C 2.644531 -0.546875 2.828125 -0.585938 2.984375 -0.671875 C 3.148438 -0.753906 3.289062 -0.890625 3.40625 -1.078125 C 3.519531 -1.273438 3.609375 -1.53125 3.671875 -1.84375 C 3.734375 -2.164062 3.765625 -2.5625 3.765625 -3.03125 Z M 3.765625 -3.03125 \"/>\n",
       "</symbol>\n",
       "<symbol overflow=\"visible\" id=\"glyph0-2\">\n",
       "<path style=\"stroke:none;\" d=\"M 0.796875 0 L 0.796875 -0.9375 L 1.640625 -0.9375 L 1.640625 0 Z M 0.796875 0 \"/>\n",
       "</symbol>\n",
       "<symbol overflow=\"visible\" id=\"glyph0-3\">\n",
       "<path style=\"stroke:none;\" d=\"M 3.78125 -1.375 L 3.78125 0 L 3.046875 0 L 3.046875 -1.375 L 0.203125 -1.375 L 0.203125 -1.96875 L 2.96875 -6.046875 L 3.78125 -6.046875 L 3.78125 -1.984375 L 4.640625 -1.984375 L 4.640625 -1.375 Z M 3.046875 -5.1875 C 3.046875 -5.164062 3.035156 -5.132812 3.015625 -5.09375 C 2.992188 -5.050781 2.96875 -5.003906 2.9375 -4.953125 C 2.90625 -4.898438 2.875 -4.847656 2.84375 -4.796875 C 2.8125 -4.742188 2.785156 -4.703125 2.765625 -4.671875 L 1.21875 -2.390625 C 1.195312 -2.359375 1.171875 -2.320312 1.140625 -2.28125 C 1.117188 -2.25 1.09375 -2.210938 1.0625 -2.171875 C 1.039062 -2.140625 1.015625 -2.101562 0.984375 -2.0625 C 0.953125 -2.03125 0.929688 -2.003906 0.921875 -1.984375 L 3.046875 -1.984375 Z M 3.046875 -5.1875 \"/>\n",
       "</symbol>\n",
       "<symbol overflow=\"visible\" id=\"glyph0-4\">\n",
       "<path style=\"stroke:none;\" d=\"M 4.5 -1.984375 C 4.5 -1.679688 4.457031 -1.398438 4.375 -1.140625 C 4.289062 -0.890625 4.164062 -0.671875 4 -0.484375 C 3.84375 -0.304688 3.640625 -0.164062 3.390625 -0.0625 C 3.148438 0.03125 2.867188 0.078125 2.546875 0.078125 C 2.191406 0.078125 1.882812 0.015625 1.625 -0.109375 C 1.363281 -0.242188 1.144531 -0.4375 0.96875 -0.6875 C 0.789062 -0.945312 0.660156 -1.257812 0.578125 -1.625 C 0.492188 -2 0.453125 -2.421875 0.453125 -2.890625 C 0.453125 -3.421875 0.5 -3.890625 0.59375 -4.296875 C 0.695312 -4.703125 0.835938 -5.039062 1.015625 -5.3125 C 1.203125 -5.59375 1.429688 -5.800781 1.703125 -5.9375 C 1.972656 -6.070312 2.273438 -6.140625 2.609375 -6.140625 C 2.816406 -6.140625 3.007812 -6.117188 3.1875 -6.078125 C 3.375 -6.035156 3.539062 -5.960938 3.6875 -5.859375 C 3.832031 -5.765625 3.957031 -5.640625 4.0625 -5.484375 C 4.175781 -5.328125 4.269531 -5.132812 4.34375 -4.90625 L 3.59375 -4.78125 C 3.519531 -5.039062 3.394531 -5.226562 3.21875 -5.34375 C 3.039062 -5.457031 2.835938 -5.515625 2.609375 -5.515625 C 2.390625 -5.515625 2.191406 -5.460938 2.015625 -5.359375 C 1.847656 -5.265625 1.703125 -5.117188 1.578125 -4.921875 C 1.460938 -4.722656 1.375 -4.472656 1.3125 -4.171875 C 1.25 -3.867188 1.21875 -3.515625 1.21875 -3.109375 C 1.351562 -3.367188 1.546875 -3.566406 1.796875 -3.703125 C 2.054688 -3.835938 2.351562 -3.90625 2.6875 -3.90625 C 2.957031 -3.90625 3.203125 -3.859375 3.421875 -3.765625 C 3.648438 -3.679688 3.84375 -3.554688 4 -3.390625 C 4.164062 -3.222656 4.289062 -3.019531 4.375 -2.78125 C 4.457031 -2.539062 4.5 -2.273438 4.5 -1.984375 Z M 3.71875 -1.953125 C 3.71875 -2.160156 3.691406 -2.347656 3.640625 -2.515625 C 3.585938 -2.679688 3.507812 -2.820312 3.40625 -2.9375 C 3.300781 -3.0625 3.171875 -3.15625 3.015625 -3.21875 C 2.867188 -3.28125 2.695312 -3.3125 2.5 -3.3125 C 2.363281 -3.3125 2.222656 -3.289062 2.078125 -3.25 C 1.929688 -3.207031 1.800781 -3.140625 1.6875 -3.046875 C 1.570312 -2.953125 1.476562 -2.828125 1.40625 -2.671875 C 1.332031 -2.523438 1.296875 -2.34375 1.296875 -2.125 C 1.296875 -1.90625 1.320312 -1.695312 1.375 -1.5 C 1.4375 -1.3125 1.519531 -1.144531 1.625 -1 C 1.726562 -0.851562 1.851562 -0.738281 2 -0.65625 C 2.15625 -0.570312 2.332031 -0.53125 2.53125 -0.53125 C 2.71875 -0.53125 2.882812 -0.5625 3.03125 -0.625 C 3.175781 -0.695312 3.300781 -0.789062 3.40625 -0.90625 C 3.507812 -1.03125 3.585938 -1.179688 3.640625 -1.359375 C 3.691406 -1.535156 3.71875 -1.734375 3.71875 -1.953125 Z M 3.71875 -1.953125 \"/>\n",
       "</symbol>\n",
       "<symbol overflow=\"visible\" id=\"glyph0-5\">\n",
       "<path style=\"stroke:none;\" d=\"M 4.515625 -1.6875 C 4.515625 -1.425781 4.472656 -1.1875 4.390625 -0.96875 C 4.304688 -0.757812 4.179688 -0.578125 4.015625 -0.421875 C 3.847656 -0.265625 3.632812 -0.140625 3.375 -0.046875 C 3.113281 0.0351562 2.804688 0.078125 2.453125 0.078125 C 2.097656 0.078125 1.789062 0.0351562 1.53125 -0.046875 C 1.269531 -0.140625 1.050781 -0.265625 0.875 -0.421875 C 0.707031 -0.578125 0.582031 -0.757812 0.5 -0.96875 C 0.414062 -1.1875 0.375 -1.421875 0.375 -1.671875 C 0.375 -1.898438 0.40625 -2.097656 0.46875 -2.265625 C 0.539062 -2.441406 0.632812 -2.59375 0.75 -2.71875 C 0.863281 -2.84375 0.992188 -2.941406 1.140625 -3.015625 C 1.285156 -3.085938 1.4375 -3.140625 1.59375 -3.171875 L 1.59375 -3.1875 C 1.414062 -3.226562 1.257812 -3.289062 1.125 -3.375 C 1 -3.46875 0.890625 -3.578125 0.796875 -3.703125 C 0.710938 -3.828125 0.644531 -3.960938 0.59375 -4.109375 C 0.550781 -4.265625 0.53125 -4.425781 0.53125 -4.59375 C 0.53125 -4.800781 0.566406 -5 0.640625 -5.1875 C 0.722656 -5.375 0.84375 -5.535156 1 -5.671875 C 1.164062 -5.816406 1.367188 -5.929688 1.609375 -6.015625 C 1.847656 -6.097656 2.125 -6.140625 2.4375 -6.140625 C 2.757812 -6.140625 3.039062 -6.097656 3.28125 -6.015625 C 3.53125 -5.929688 3.734375 -5.816406 3.890625 -5.671875 C 4.046875 -5.535156 4.160156 -5.375 4.234375 -5.1875 C 4.316406 -5 4.359375 -4.796875 4.359375 -4.578125 C 4.359375 -4.410156 4.332031 -4.25 4.28125 -4.09375 C 4.238281 -3.945312 4.171875 -3.8125 4.078125 -3.6875 C 3.992188 -3.5625 3.882812 -3.457031 3.75 -3.375 C 3.613281 -3.289062 3.457031 -3.226562 3.28125 -3.1875 L 3.28125 -3.171875 C 3.457031 -3.140625 3.617188 -3.085938 3.765625 -3.015625 C 3.921875 -2.941406 4.050781 -2.84375 4.15625 -2.71875 C 4.269531 -2.59375 4.359375 -2.441406 4.421875 -2.265625 C 4.484375 -2.097656 4.515625 -1.90625 4.515625 -1.6875 Z M 3.5625 -4.546875 C 3.5625 -4.691406 3.539062 -4.828125 3.5 -4.953125 C 3.457031 -5.078125 3.390625 -5.1875 3.296875 -5.28125 C 3.210938 -5.375 3.097656 -5.441406 2.953125 -5.484375 C 2.816406 -5.535156 2.644531 -5.5625 2.4375 -5.5625 C 2.226562 -5.5625 2.050781 -5.535156 1.90625 -5.484375 C 1.769531 -5.441406 1.65625 -5.375 1.5625 -5.28125 C 1.476562 -5.1875 1.414062 -5.078125 1.375 -4.953125 C 1.332031 -4.828125 1.3125 -4.691406 1.3125 -4.546875 C 1.3125 -4.421875 1.328125 -4.296875 1.359375 -4.171875 C 1.390625 -4.046875 1.445312 -3.929688 1.53125 -3.828125 C 1.613281 -3.722656 1.726562 -3.632812 1.875 -3.5625 C 2.019531 -3.5 2.207031 -3.46875 2.4375 -3.46875 C 2.6875 -3.46875 2.882812 -3.5 3.03125 -3.5625 C 3.175781 -3.632812 3.285156 -3.722656 3.359375 -3.828125 C 3.441406 -3.929688 3.492188 -4.046875 3.515625 -4.171875 C 3.546875 -4.296875 3.5625 -4.421875 3.5625 -4.546875 Z M 3.703125 -1.765625 C 3.703125 -1.910156 3.679688 -2.050781 3.640625 -2.1875 C 3.609375 -2.320312 3.539062 -2.441406 3.4375 -2.546875 C 3.34375 -2.648438 3.210938 -2.734375 3.046875 -2.796875 C 2.878906 -2.859375 2.675781 -2.890625 2.4375 -2.890625 C 2.207031 -2.890625 2.007812 -2.859375 1.84375 -2.796875 C 1.6875 -2.734375 1.554688 -2.648438 1.453125 -2.546875 C 1.359375 -2.441406 1.289062 -2.316406 1.25 -2.171875 C 1.207031 -2.035156 1.1875 -1.894531 1.1875 -1.75 C 1.1875 -1.5625 1.207031 -1.390625 1.25 -1.234375 C 1.289062 -1.078125 1.363281 -0.941406 1.46875 -0.828125 C 1.570312 -0.722656 1.703125 -0.640625 1.859375 -0.578125 C 2.023438 -0.523438 2.222656 -0.5 2.453125 -0.5 C 2.691406 -0.5 2.890625 -0.523438 3.046875 -0.578125 C 3.210938 -0.640625 3.34375 -0.722656 3.4375 -0.828125 C 3.53125 -0.941406 3.597656 -1.078125 3.640625 -1.234375 C 3.679688 -1.390625 3.703125 -1.566406 3.703125 -1.765625 Z M 3.703125 -1.765625 \"/>\n",
       "</symbol>\n",
       "<symbol overflow=\"visible\" id=\"glyph0-6\">\n",
       "<path style=\"stroke:none;\" d=\"M 0.671875 0 L 0.671875 -0.65625 L 2.21875 -0.65625 L 2.21875 -5.3125 L 0.84375 -4.34375 L 0.84375 -5.0625 L 2.28125 -6.046875 L 2.984375 -6.046875 L 2.984375 -0.65625 L 4.46875 -0.65625 L 4.46875 0 Z M 0.671875 0 \"/>\n",
       "</symbol>\n",
       "<symbol overflow=\"visible\" id=\"glyph0-7\">\n",
       "<path style=\"stroke:none;\" d=\"M 0.4375 0 L 0.4375 -0.546875 C 0.582031 -0.878906 0.757812 -1.171875 0.96875 -1.421875 C 1.1875 -1.679688 1.410156 -1.914062 1.640625 -2.125 C 1.867188 -2.332031 2.097656 -2.523438 2.328125 -2.703125 C 2.554688 -2.878906 2.757812 -3.054688 2.9375 -3.234375 C 3.125 -3.410156 3.273438 -3.597656 3.390625 -3.796875 C 3.503906 -3.992188 3.5625 -4.210938 3.5625 -4.453125 C 3.5625 -4.628906 3.535156 -4.78125 3.484375 -4.90625 C 3.429688 -5.039062 3.351562 -5.148438 3.25 -5.234375 C 3.15625 -5.328125 3.039062 -5.394531 2.90625 -5.4375 C 2.769531 -5.476562 2.617188 -5.5 2.453125 -5.5 C 2.296875 -5.5 2.148438 -5.476562 2.015625 -5.4375 C 1.878906 -5.394531 1.757812 -5.332031 1.65625 -5.25 C 1.550781 -5.164062 1.460938 -5.054688 1.390625 -4.921875 C 1.328125 -4.796875 1.285156 -4.648438 1.265625 -4.484375 L 0.484375 -4.5625 C 0.503906 -4.78125 0.5625 -4.984375 0.65625 -5.171875 C 0.75 -5.359375 0.878906 -5.523438 1.046875 -5.671875 C 1.210938 -5.816406 1.410156 -5.929688 1.640625 -6.015625 C 1.878906 -6.097656 2.148438 -6.140625 2.453125 -6.140625 C 2.753906 -6.140625 3.019531 -6.101562 3.25 -6.03125 C 3.488281 -5.957031 3.6875 -5.847656 3.84375 -5.703125 C 4.007812 -5.566406 4.132812 -5.394531 4.21875 -5.1875 C 4.3125 -4.988281 4.359375 -4.753906 4.359375 -4.484375 C 4.359375 -4.273438 4.320312 -4.078125 4.25 -3.890625 C 4.175781 -3.710938 4.078125 -3.539062 3.953125 -3.375 C 3.828125 -3.207031 3.6875 -3.046875 3.53125 -2.890625 C 3.375 -2.742188 3.207031 -2.59375 3.03125 -2.4375 C 2.851562 -2.289062 2.675781 -2.144531 2.5 -2 C 2.320312 -1.863281 2.15625 -1.722656 2 -1.578125 C 1.84375 -1.429688 1.703125 -1.28125 1.578125 -1.125 C 1.453125 -0.976562 1.359375 -0.820312 1.296875 -0.65625 L 4.453125 -0.65625 L 4.453125 0 Z M 0.4375 0 \"/>\n",
       "</symbol>\n",
       "<symbol overflow=\"visible\" id=\"glyph0-8\">\n",
       "<path style=\"stroke:none;\" d=\"M 4.5 -1.671875 C 4.5 -1.390625 4.453125 -1.140625 4.359375 -0.921875 C 4.273438 -0.703125 4.144531 -0.519531 3.96875 -0.375 C 3.800781 -0.226562 3.585938 -0.113281 3.328125 -0.03125 C 3.078125 0.0390625 2.785156 0.078125 2.453125 0.078125 C 2.078125 0.078125 1.757812 0.0351562 1.5 -0.046875 C 1.25 -0.140625 1.039062 -0.265625 0.875 -0.421875 C 0.707031 -0.578125 0.582031 -0.75 0.5 -0.9375 C 0.414062 -1.132812 0.359375 -1.34375 0.328125 -1.5625 L 1.140625 -1.625 C 1.160156 -1.46875 1.203125 -1.320312 1.265625 -1.1875 C 1.328125 -1.0625 1.410156 -0.945312 1.515625 -0.84375 C 1.617188 -0.75 1.75 -0.675781 1.90625 -0.625 C 2.0625 -0.570312 2.242188 -0.546875 2.453125 -0.546875 C 2.835938 -0.546875 3.140625 -0.640625 3.359375 -0.828125 C 3.585938 -1.023438 3.703125 -1.316406 3.703125 -1.703125 C 3.703125 -1.921875 3.648438 -2.097656 3.546875 -2.234375 C 3.453125 -2.367188 3.332031 -2.472656 3.1875 -2.546875 C 3.039062 -2.628906 2.878906 -2.679688 2.703125 -2.703125 C 2.523438 -2.734375 2.363281 -2.75 2.21875 -2.75 L 1.78125 -2.75 L 1.78125 -3.421875 L 2.203125 -3.421875 C 2.347656 -3.421875 2.5 -3.429688 2.65625 -3.453125 C 2.820312 -3.484375 2.96875 -3.535156 3.09375 -3.609375 C 3.226562 -3.691406 3.335938 -3.800781 3.421875 -3.9375 C 3.503906 -4.070312 3.546875 -4.242188 3.546875 -4.453125 C 3.546875 -4.773438 3.445312 -5.03125 3.25 -5.21875 C 3.0625 -5.40625 2.78125 -5.5 2.40625 -5.5 C 2.070312 -5.5 1.796875 -5.410156 1.578125 -5.234375 C 1.367188 -5.066406 1.25 -4.820312 1.21875 -4.5 L 0.4375 -4.5625 C 0.46875 -4.832031 0.539062 -5.066406 0.65625 -5.265625 C 0.769531 -5.460938 0.914062 -5.625 1.09375 -5.75 C 1.269531 -5.882812 1.46875 -5.984375 1.6875 -6.046875 C 1.914062 -6.109375 2.160156 -6.140625 2.421875 -6.140625 C 2.753906 -6.140625 3.039062 -6.097656 3.28125 -6.015625 C 3.53125 -5.929688 3.734375 -5.816406 3.890625 -5.671875 C 4.046875 -5.523438 4.160156 -5.351562 4.234375 -5.15625 C 4.304688 -4.96875 4.34375 -4.765625 4.34375 -4.546875 C 4.34375 -4.367188 4.316406 -4.203125 4.265625 -4.046875 C 4.210938 -3.890625 4.132812 -3.75 4.03125 -3.625 C 3.9375 -3.5 3.804688 -3.390625 3.640625 -3.296875 C 3.484375 -3.210938 3.296875 -3.148438 3.078125 -3.109375 L 3.078125 -3.09375 C 3.316406 -3.0625 3.523438 -3.003906 3.703125 -2.921875 C 3.890625 -2.835938 4.039062 -2.734375 4.15625 -2.609375 C 4.269531 -2.484375 4.351562 -2.335938 4.40625 -2.171875 C 4.46875 -2.015625 4.5 -1.847656 4.5 -1.671875 Z M 4.5 -1.671875 \"/>\n",
       "</symbol>\n",
       "<symbol overflow=\"visible\" id=\"glyph0-9\">\n",
       "<path style=\"stroke:none;\" d=\"M 4.515625 -1.96875 C 4.515625 -1.664062 4.46875 -1.390625 4.375 -1.140625 C 4.289062 -0.890625 4.15625 -0.671875 3.96875 -0.484375 C 3.789062 -0.304688 3.566406 -0.164062 3.296875 -0.0625 C 3.035156 0.03125 2.726562 0.078125 2.375 0.078125 C 2.0625 0.078125 1.785156 0.0390625 1.546875 -0.03125 C 1.304688 -0.101562 1.101562 -0.203125 0.9375 -0.328125 C 0.78125 -0.460938 0.648438 -0.613281 0.546875 -0.78125 C 0.453125 -0.957031 0.390625 -1.148438 0.359375 -1.359375 L 1.140625 -1.4375 C 1.171875 -1.320312 1.210938 -1.210938 1.265625 -1.109375 C 1.328125 -1.003906 1.40625 -0.910156 1.5 -0.828125 C 1.601562 -0.742188 1.722656 -0.675781 1.859375 -0.625 C 2.003906 -0.570312 2.179688 -0.546875 2.390625 -0.546875 C 2.585938 -0.546875 2.769531 -0.578125 2.9375 -0.640625 C 3.101562 -0.703125 3.242188 -0.789062 3.359375 -0.90625 C 3.472656 -1.03125 3.5625 -1.175781 3.625 -1.34375 C 3.6875 -1.519531 3.71875 -1.722656 3.71875 -1.953125 C 3.71875 -2.140625 3.6875 -2.3125 3.625 -2.46875 C 3.570312 -2.625 3.488281 -2.757812 3.375 -2.875 C 3.257812 -2.988281 3.117188 -3.078125 2.953125 -3.140625 C 2.796875 -3.203125 2.613281 -3.234375 2.40625 -3.234375 C 2.28125 -3.234375 2.160156 -3.21875 2.046875 -3.1875 C 1.941406 -3.164062 1.84375 -3.132812 1.75 -3.09375 C 1.65625 -3.0625 1.570312 -3.015625 1.5 -2.953125 C 1.425781 -2.898438 1.351562 -2.847656 1.28125 -2.796875 L 0.53125 -2.796875 L 0.734375 -6.046875 L 4.171875 -6.046875 L 4.171875 -5.390625 L 1.4375 -5.390625 L 1.3125 -3.46875 C 1.457031 -3.582031 1.628906 -3.675781 1.828125 -3.75 C 2.035156 -3.820312 2.28125 -3.859375 2.5625 -3.859375 C 2.863281 -3.859375 3.132812 -3.8125 3.375 -3.71875 C 3.613281 -3.632812 3.816406 -3.503906 3.984375 -3.328125 C 4.160156 -3.160156 4.289062 -2.960938 4.375 -2.734375 C 4.46875 -2.503906 4.515625 -2.25 4.515625 -1.96875 Z M 4.515625 -1.96875 \"/>\n",
       "</symbol>\n",
       "<symbol overflow=\"visible\" id=\"glyph0-10\">\n",
       "<path style=\"stroke:none;\" d=\"M 4.453125 -5.421875 C 4.148438 -4.960938 3.867188 -4.515625 3.609375 -4.078125 C 3.359375 -3.648438 3.140625 -3.21875 2.953125 -2.78125 C 2.773438 -2.351562 2.632812 -1.910156 2.53125 -1.453125 C 2.425781 -0.992188 2.375 -0.507812 2.375 0 L 1.5625 0 C 1.5625 -0.476562 1.617188 -0.953125 1.734375 -1.421875 C 1.847656 -1.890625 2.003906 -2.347656 2.203125 -2.796875 C 2.398438 -3.242188 2.625 -3.679688 2.875 -4.109375 C 3.132812 -4.546875 3.410156 -4.972656 3.703125 -5.390625 L 0.453125 -5.390625 L 0.453125 -6.046875 L 4.453125 -6.046875 Z M 4.453125 -5.421875 \"/>\n",
       "</symbol>\n",
       "<symbol overflow=\"visible\" id=\"glyph0-11\">\n",
       "<path style=\"stroke:none;\" d=\"M 4.46875 -3.15625 C 4.46875 -2.613281 4.414062 -2.140625 4.3125 -1.734375 C 4.21875 -1.328125 4.078125 -0.988281 3.890625 -0.71875 C 3.703125 -0.445312 3.472656 -0.242188 3.203125 -0.109375 C 2.929688 0.015625 2.625 0.078125 2.28125 0.078125 C 2.050781 0.078125 1.84375 0.0507812 1.65625 0 C 1.46875 -0.0390625 1.300781 -0.109375 1.15625 -0.203125 C 1.007812 -0.304688 0.882812 -0.4375 0.78125 -0.59375 C 0.675781 -0.757812 0.59375 -0.953125 0.53125 -1.171875 L 1.28125 -1.296875 C 1.351562 -1.035156 1.472656 -0.84375 1.640625 -0.71875 C 1.816406 -0.59375 2.035156 -0.53125 2.296875 -0.53125 C 2.503906 -0.53125 2.691406 -0.578125 2.859375 -0.671875 C 3.035156 -0.773438 3.1875 -0.925781 3.3125 -1.125 C 3.4375 -1.320312 3.53125 -1.566406 3.59375 -1.859375 C 3.664062 -2.160156 3.707031 -2.515625 3.71875 -2.921875 C 3.65625 -2.785156 3.570312 -2.664062 3.46875 -2.5625 C 3.363281 -2.457031 3.242188 -2.367188 3.109375 -2.296875 C 2.972656 -2.222656 2.828125 -2.164062 2.671875 -2.125 C 2.515625 -2.082031 2.359375 -2.0625 2.203125 -2.0625 C 1.929688 -2.0625 1.679688 -2.109375 1.453125 -2.203125 C 1.234375 -2.304688 1.046875 -2.445312 0.890625 -2.625 C 0.742188 -2.800781 0.625 -3.015625 0.53125 -3.265625 C 0.445312 -3.515625 0.40625 -3.796875 0.40625 -4.109375 C 0.40625 -4.421875 0.453125 -4.703125 0.546875 -4.953125 C 0.640625 -5.203125 0.769531 -5.414062 0.9375 -5.59375 C 1.113281 -5.769531 1.328125 -5.90625 1.578125 -6 C 1.828125 -6.09375 2.109375 -6.140625 2.421875 -6.140625 C 3.097656 -6.140625 3.609375 -5.890625 3.953125 -5.390625 C 4.296875 -4.890625 4.46875 -4.144531 4.46875 -3.15625 Z M 3.640625 -3.890625 C 3.640625 -4.117188 3.609375 -4.332031 3.546875 -4.53125 C 3.492188 -4.726562 3.414062 -4.898438 3.3125 -5.046875 C 3.207031 -5.191406 3.078125 -5.304688 2.921875 -5.390625 C 2.773438 -5.472656 2.601562 -5.515625 2.40625 -5.515625 C 2.21875 -5.515625 2.046875 -5.476562 1.890625 -5.40625 C 1.742188 -5.34375 1.617188 -5.25 1.515625 -5.125 C 1.410156 -5.007812 1.332031 -4.863281 1.28125 -4.6875 C 1.226562 -4.507812 1.203125 -4.316406 1.203125 -4.109375 C 1.203125 -3.898438 1.222656 -3.707031 1.265625 -3.53125 C 1.316406 -3.363281 1.394531 -3.210938 1.5 -3.078125 C 1.601562 -2.953125 1.726562 -2.851562 1.875 -2.78125 C 2.019531 -2.707031 2.191406 -2.671875 2.390625 -2.671875 C 2.535156 -2.671875 2.679688 -2.695312 2.828125 -2.75 C 2.972656 -2.800781 3.101562 -2.875 3.21875 -2.96875 C 3.34375 -3.070312 3.441406 -3.195312 3.515625 -3.34375 C 3.597656 -3.5 3.640625 -3.679688 3.640625 -3.890625 Z M 3.640625 -3.890625 \"/>\n",
       "</symbol>\n",
       "<symbol overflow=\"visible\" id=\"glyph1-0\">\n",
       "<path style=\"stroke:none;\" d=\"M 0.359375 0 L 0.359375 -7.328125 L 3.28125 -7.328125 L 3.28125 0 Z M 0.734375 -0.359375 L 2.921875 -0.359375 L 2.921875 -6.96875 L 0.734375 -6.96875 Z M 0.734375 -0.359375 \"/>\n",
       "</symbol>\n",
       "<symbol overflow=\"visible\" id=\"glyph1-1\">\n",
       "<path style=\"stroke:none;\" d=\"M 5.8125 0 L 1.765625 -6.453125 C 1.765625 -6.273438 1.769531 -6.097656 1.78125 -5.921875 C 1.789062 -5.773438 1.796875 -5.617188 1.796875 -5.453125 C 1.804688 -5.296875 1.8125 -5.15625 1.8125 -5.03125 L 1.8125 0 L 0.90625 0 L 0.90625 -7.5625 L 2.09375 -7.5625 L 6.1875 -1.078125 C 6.175781 -1.253906 6.164062 -1.429688 6.15625 -1.609375 C 6.144531 -1.753906 6.132812 -1.914062 6.125 -2.09375 C 6.125 -2.269531 6.125 -2.441406 6.125 -2.609375 L 6.125 -7.5625 L 7.046875 -7.5625 L 7.046875 0 Z M 5.8125 0 \"/>\n",
       "</symbol>\n",
       "<symbol overflow=\"visible\" id=\"glyph1-2\">\n",
       "<path style=\"stroke:none;\" d=\"M 1.484375 -2.703125 C 1.484375 -2.398438 1.515625 -2.117188 1.578125 -1.859375 C 1.640625 -1.609375 1.734375 -1.390625 1.859375 -1.203125 C 1.992188 -1.015625 2.160156 -0.867188 2.359375 -0.765625 C 2.566406 -0.671875 2.816406 -0.625 3.109375 -0.625 C 3.523438 -0.625 3.859375 -0.707031 4.109375 -0.875 C 4.359375 -1.039062 4.53125 -1.253906 4.625 -1.515625 L 5.46875 -1.265625 C 5.40625 -1.109375 5.316406 -0.945312 5.203125 -0.78125 C 5.097656 -0.613281 4.953125 -0.460938 4.765625 -0.328125 C 4.585938 -0.203125 4.363281 -0.0976562 4.09375 -0.015625 C 3.820312 0.0664062 3.492188 0.109375 3.109375 0.109375 C 2.242188 0.109375 1.585938 -0.144531 1.140625 -0.65625 C 0.691406 -1.164062 0.46875 -1.925781 0.46875 -2.9375 C 0.46875 -3.488281 0.535156 -3.953125 0.671875 -4.328125 C 0.804688 -4.703125 0.988281 -5.007812 1.21875 -5.25 C 1.457031 -5.488281 1.734375 -5.660156 2.046875 -5.765625 C 2.367188 -5.867188 2.707031 -5.921875 3.0625 -5.921875 C 3.550781 -5.921875 3.957031 -5.84375 4.28125 -5.6875 C 4.613281 -5.53125 4.878906 -5.3125 5.078125 -5.03125 C 5.273438 -4.75 5.414062 -4.421875 5.5 -4.046875 C 5.582031 -3.671875 5.625 -3.265625 5.625 -2.828125 L 5.625 -2.703125 Z M 4.625 -3.4375 C 4.570312 -4.050781 4.414062 -4.5 4.15625 -4.78125 C 3.90625 -5.0625 3.535156 -5.203125 3.046875 -5.203125 C 2.890625 -5.203125 2.722656 -5.175781 2.546875 -5.125 C 2.367188 -5.070312 2.203125 -4.976562 2.046875 -4.84375 C 1.898438 -4.71875 1.773438 -4.539062 1.671875 -4.3125 C 1.566406 -4.082031 1.507812 -3.789062 1.5 -3.4375 Z M 4.625 -3.4375 \"/>\n",
       "</symbol>\n",
       "<symbol overflow=\"visible\" id=\"glyph1-3\">\n",
       "<path style=\"stroke:none;\" d=\"M 0.734375 -7.046875 L 0.734375 -7.96875 L 1.703125 -7.96875 L 1.703125 -7.046875 Z M 0.734375 0 L 0.734375 -5.8125 L 1.703125 -5.8125 L 1.703125 0 Z M 0.734375 0 \"/>\n",
       "</symbol>\n",
       "<symbol overflow=\"visible\" id=\"glyph1-4\">\n",
       "<path style=\"stroke:none;\" d=\"M 2.9375 2.28125 C 2.601562 2.28125 2.304688 2.242188 2.046875 2.171875 C 1.796875 2.109375 1.578125 2.015625 1.390625 1.890625 C 1.210938 1.765625 1.066406 1.613281 0.953125 1.4375 C 0.835938 1.257812 0.753906 1.0625 0.703125 0.84375 L 1.671875 0.703125 C 1.734375 0.972656 1.875 1.179688 2.09375 1.328125 C 2.320312 1.472656 2.613281 1.546875 2.96875 1.546875 C 3.1875 1.546875 3.382812 1.515625 3.5625 1.453125 C 3.738281 1.390625 3.890625 1.289062 4.015625 1.15625 C 4.148438 1.03125 4.25 0.859375 4.3125 0.640625 C 4.382812 0.421875 4.421875 0.160156 4.421875 -0.140625 L 4.421875 -1.078125 L 4.40625 -1.078125 C 4.332031 -0.929688 4.242188 -0.789062 4.140625 -0.65625 C 4.035156 -0.519531 3.90625 -0.398438 3.75 -0.296875 C 3.601562 -0.191406 3.425781 -0.109375 3.21875 -0.046875 C 3.019531 0.015625 2.789062 0.046875 2.53125 0.046875 C 2.164062 0.046875 1.847656 -0.015625 1.578125 -0.140625 C 1.316406 -0.265625 1.101562 -0.445312 0.9375 -0.6875 C 0.769531 -0.9375 0.648438 -1.242188 0.578125 -1.609375 C 0.503906 -1.984375 0.46875 -2.410156 0.46875 -2.890625 C 0.46875 -3.359375 0.503906 -3.773438 0.578125 -4.140625 C 0.648438 -4.515625 0.773438 -4.832031 0.953125 -5.09375 C 1.128906 -5.351562 1.351562 -5.550781 1.625 -5.6875 C 1.90625 -5.832031 2.242188 -5.90625 2.640625 -5.90625 C 3.054688 -5.90625 3.414062 -5.8125 3.71875 -5.625 C 4.019531 -5.4375 4.253906 -5.164062 4.421875 -4.8125 C 4.421875 -4.90625 4.421875 -5.003906 4.421875 -5.109375 C 4.429688 -5.222656 4.4375 -5.328125 4.4375 -5.421875 C 4.445312 -5.523438 4.457031 -5.613281 4.46875 -5.6875 C 4.476562 -5.757812 4.484375 -5.800781 4.484375 -5.8125 L 5.40625 -5.8125 C 5.40625 -5.78125 5.398438 -5.722656 5.390625 -5.640625 C 5.390625 -5.566406 5.382812 -5.472656 5.375 -5.359375 C 5.375 -5.253906 5.375 -5.132812 5.375 -5 C 5.375 -4.875 5.375 -4.742188 5.375 -4.609375 L 5.375 -0.171875 C 5.375 0.640625 5.171875 1.25 4.765625 1.65625 C 4.367188 2.070312 3.757812 2.28125 2.9375 2.28125 Z M 4.421875 -2.90625 C 4.421875 -3.3125 4.375 -3.65625 4.28125 -3.9375 C 4.195312 -4.226562 4.082031 -4.460938 3.9375 -4.640625 C 3.789062 -4.828125 3.625 -4.960938 3.4375 -5.046875 C 3.257812 -5.140625 3.070312 -5.1875 2.875 -5.1875 C 2.632812 -5.1875 2.425781 -5.140625 2.25 -5.046875 C 2.070312 -4.960938 1.921875 -4.828125 1.796875 -4.640625 C 1.679688 -4.460938 1.597656 -4.226562 1.546875 -3.9375 C 1.492188 -3.644531 1.46875 -3.300781 1.46875 -2.90625 C 1.46875 -2.488281 1.492188 -2.132812 1.546875 -1.84375 C 1.597656 -1.5625 1.679688 -1.332031 1.796875 -1.15625 C 1.910156 -0.976562 2.054688 -0.851562 2.234375 -0.78125 C 2.410156 -0.707031 2.617188 -0.671875 2.859375 -0.671875 C 3.054688 -0.671875 3.242188 -0.710938 3.421875 -0.796875 C 3.609375 -0.878906 3.773438 -1.007812 3.921875 -1.1875 C 4.066406 -1.363281 4.1875 -1.59375 4.28125 -1.875 C 4.375 -2.15625 4.421875 -2.5 4.421875 -2.90625 Z M 4.421875 -2.90625 \"/>\n",
       "</symbol>\n",
       "<symbol overflow=\"visible\" id=\"glyph1-5\">\n",
       "<path style=\"stroke:none;\" d=\"M 1.703125 -4.8125 C 1.804688 -5.007812 1.921875 -5.175781 2.046875 -5.3125 C 2.171875 -5.457031 2.304688 -5.570312 2.453125 -5.65625 C 2.609375 -5.75 2.773438 -5.816406 2.953125 -5.859375 C 3.140625 -5.898438 3.34375 -5.921875 3.5625 -5.921875 C 3.9375 -5.921875 4.238281 -5.867188 4.46875 -5.765625 C 4.707031 -5.671875 4.894531 -5.53125 5.03125 -5.34375 C 5.175781 -5.164062 5.273438 -4.953125 5.328125 -4.703125 C 5.378906 -4.453125 5.40625 -4.175781 5.40625 -3.875 L 5.40625 0 L 4.4375 0 L 4.4375 -3.6875 C 4.4375 -3.9375 4.421875 -4.148438 4.390625 -4.328125 C 4.359375 -4.515625 4.296875 -4.671875 4.203125 -4.796875 C 4.117188 -4.921875 4 -5.015625 3.84375 -5.078125 C 3.6875 -5.140625 3.484375 -5.171875 3.234375 -5.171875 C 3.003906 -5.171875 2.796875 -5.128906 2.609375 -5.046875 C 2.429688 -4.960938 2.273438 -4.84375 2.140625 -4.6875 C 2.003906 -4.539062 1.898438 -4.359375 1.828125 -4.140625 C 1.765625 -3.929688 1.734375 -3.691406 1.734375 -3.421875 L 1.734375 0 L 0.765625 0 L 0.765625 -7.96875 L 1.734375 -7.96875 L 1.734375 -5.890625 C 1.734375 -5.773438 1.726562 -5.65625 1.71875 -5.53125 C 1.71875 -5.414062 1.710938 -5.304688 1.703125 -5.203125 C 1.703125 -5.109375 1.695312 -5.023438 1.6875 -4.953125 C 1.6875 -4.890625 1.6875 -4.84375 1.6875 -4.8125 Z M 1.703125 -4.8125 \"/>\n",
       "</symbol>\n",
       "<symbol overflow=\"visible\" id=\"glyph1-6\">\n",
       "<path style=\"stroke:none;\" d=\"M 5.65625 -2.9375 C 5.65625 -0.90625 4.941406 0.109375 3.515625 0.109375 C 3.078125 0.109375 2.710938 0.03125 2.421875 -0.125 C 2.128906 -0.289062 1.890625 -0.550781 1.703125 -0.90625 C 1.703125 -0.8125 1.695312 -0.710938 1.6875 -0.609375 C 1.6875 -0.515625 1.679688 -0.421875 1.671875 -0.328125 C 1.671875 -0.242188 1.664062 -0.171875 1.65625 -0.109375 C 1.65625 -0.046875 1.648438 -0.0078125 1.640625 0 L 0.703125 0 C 0.710938 -0.03125 0.71875 -0.0820312 0.71875 -0.15625 C 0.71875 -0.238281 0.71875 -0.332031 0.71875 -0.4375 C 0.726562 -0.550781 0.734375 -0.671875 0.734375 -0.796875 C 0.734375 -0.921875 0.734375 -1.054688 0.734375 -1.203125 L 0.734375 -7.96875 L 1.703125 -7.96875 L 1.703125 -5.703125 C 1.703125 -5.585938 1.703125 -5.484375 1.703125 -5.390625 C 1.703125 -5.296875 1.703125 -5.207031 1.703125 -5.125 C 1.691406 -5.039062 1.6875 -4.957031 1.6875 -4.875 L 1.703125 -4.875 C 1.890625 -5.25 2.128906 -5.515625 2.421875 -5.671875 C 2.710938 -5.835938 3.078125 -5.921875 3.515625 -5.921875 C 4.253906 -5.921875 4.796875 -5.671875 5.140625 -5.171875 C 5.484375 -4.679688 5.65625 -3.9375 5.65625 -2.9375 Z M 4.640625 -2.90625 C 4.640625 -3.300781 4.613281 -3.640625 4.5625 -3.921875 C 4.507812 -4.210938 4.425781 -4.453125 4.3125 -4.640625 C 4.207031 -4.828125 4.066406 -4.960938 3.890625 -5.046875 C 3.722656 -5.128906 3.515625 -5.171875 3.265625 -5.171875 C 3.015625 -5.171875 2.789062 -5.128906 2.59375 -5.046875 C 2.394531 -4.960938 2.226562 -4.828125 2.09375 -4.640625 C 1.96875 -4.460938 1.867188 -4.222656 1.796875 -3.921875 C 1.734375 -3.628906 1.703125 -3.269531 1.703125 -2.84375 C 1.703125 -2.425781 1.734375 -2.078125 1.796875 -1.796875 C 1.867188 -1.515625 1.96875 -1.285156 2.09375 -1.109375 C 2.226562 -0.929688 2.394531 -0.800781 2.59375 -0.71875 C 2.789062 -0.644531 3.015625 -0.609375 3.265625 -0.609375 C 3.492188 -0.609375 3.691406 -0.648438 3.859375 -0.734375 C 4.035156 -0.816406 4.179688 -0.945312 4.296875 -1.125 C 4.410156 -1.3125 4.492188 -1.550781 4.546875 -1.84375 C 4.609375 -2.132812 4.640625 -2.488281 4.640625 -2.90625 Z M 4.640625 -2.90625 \"/>\n",
       "</symbol>\n",
       "<symbol overflow=\"visible\" id=\"glyph1-7\">\n",
       "<path style=\"stroke:none;\" d=\"M 5.65625 -2.90625 C 5.65625 -1.894531 5.429688 -1.140625 4.984375 -0.640625 C 4.535156 -0.140625 3.882812 0.109375 3.03125 0.109375 C 2.625 0.109375 2.257812 0.046875 1.9375 -0.078125 C 1.625 -0.203125 1.359375 -0.390625 1.140625 -0.640625 C 0.921875 -0.890625 0.753906 -1.203125 0.640625 -1.578125 C 0.523438 -1.953125 0.46875 -2.394531 0.46875 -2.90625 C 0.46875 -4.914062 1.332031 -5.921875 3.0625 -5.921875 C 3.519531 -5.921875 3.910156 -5.859375 4.234375 -5.734375 C 4.566406 -5.609375 4.835938 -5.421875 5.046875 -5.171875 C 5.253906 -4.921875 5.40625 -4.601562 5.5 -4.21875 C 5.601562 -3.84375 5.65625 -3.40625 5.65625 -2.90625 Z M 4.640625 -2.90625 C 4.640625 -3.363281 4.601562 -3.738281 4.53125 -4.03125 C 4.46875 -4.320312 4.367188 -4.554688 4.234375 -4.734375 C 4.097656 -4.910156 3.929688 -5.03125 3.734375 -5.09375 C 3.546875 -5.164062 3.328125 -5.203125 3.078125 -5.203125 C 2.835938 -5.203125 2.613281 -5.164062 2.40625 -5.09375 C 2.207031 -5.019531 2.039062 -4.894531 1.90625 -4.71875 C 1.769531 -4.539062 1.664062 -4.304688 1.59375 -4.015625 C 1.519531 -3.722656 1.484375 -3.351562 1.484375 -2.90625 C 1.484375 -2.457031 1.519531 -2.082031 1.59375 -1.78125 C 1.675781 -1.488281 1.785156 -1.253906 1.921875 -1.078125 C 2.054688 -0.910156 2.21875 -0.789062 2.40625 -0.71875 C 2.59375 -0.644531 2.800781 -0.609375 3.03125 -0.609375 C 3.269531 -0.609375 3.488281 -0.640625 3.6875 -0.703125 C 3.894531 -0.773438 4.066406 -0.898438 4.203125 -1.078125 C 4.347656 -1.253906 4.457031 -1.488281 4.53125 -1.78125 C 4.601562 -2.082031 4.640625 -2.457031 4.640625 -2.90625 Z M 4.640625 -2.90625 \"/>\n",
       "</symbol>\n",
       "<symbol overflow=\"visible\" id=\"glyph1-8\">\n",
       "<path style=\"stroke:none;\" d=\"M 0.765625 0 L 0.765625 -4.453125 C 0.765625 -4.578125 0.757812 -4.703125 0.75 -4.828125 C 0.75 -4.953125 0.75 -5.070312 0.75 -5.1875 C 0.75 -5.3125 0.742188 -5.425781 0.734375 -5.53125 C 0.734375 -5.632812 0.734375 -5.726562 0.734375 -5.8125 L 1.640625 -5.8125 C 1.648438 -5.726562 1.65625 -5.632812 1.65625 -5.53125 C 1.664062 -5.425781 1.671875 -5.316406 1.671875 -5.203125 C 1.679688 -5.085938 1.6875 -4.976562 1.6875 -4.875 C 1.6875 -4.78125 1.6875 -4.695312 1.6875 -4.625 L 1.703125 -4.625 C 1.773438 -4.84375 1.847656 -5.035156 1.921875 -5.203125 C 2.003906 -5.367188 2.097656 -5.503906 2.203125 -5.609375 C 2.304688 -5.710938 2.425781 -5.789062 2.5625 -5.84375 C 2.707031 -5.894531 2.882812 -5.921875 3.09375 -5.921875 C 3.164062 -5.921875 3.238281 -5.910156 3.3125 -5.890625 C 3.382812 -5.878906 3.441406 -5.867188 3.484375 -5.859375 L 3.484375 -4.984375 C 3.421875 -4.992188 3.34375 -5.003906 3.25 -5.015625 C 3.164062 -5.023438 3.070312 -5.03125 2.96875 -5.03125 C 2.738281 -5.03125 2.546875 -4.976562 2.390625 -4.875 C 2.242188 -4.78125 2.117188 -4.644531 2.015625 -4.46875 C 1.921875 -4.289062 1.847656 -4.078125 1.796875 -3.828125 C 1.753906 -3.585938 1.734375 -3.320312 1.734375 -3.03125 L 1.734375 0 Z M 0.765625 0 \"/>\n",
       "</symbol>\n",
       "<symbol overflow=\"visible\" id=\"glyph1-9\">\n",
       "<path style=\"stroke:none;\" d=\"M 5.109375 -1.609375 C 5.109375 -1.335938 5.050781 -1.09375 4.9375 -0.875 C 4.832031 -0.664062 4.679688 -0.488281 4.484375 -0.34375 C 4.285156 -0.195312 4.039062 -0.0820312 3.75 0 C 3.457031 0.0703125 3.125 0.109375 2.75 0.109375 C 2.40625 0.109375 2.097656 0.0820312 1.828125 0.03125 C 1.554688 -0.0195312 1.316406 -0.101562 1.109375 -0.21875 C 0.910156 -0.332031 0.742188 -0.484375 0.609375 -0.671875 C 0.472656 -0.859375 0.375 -1.085938 0.3125 -1.359375 L 1.15625 -1.53125 C 1.238281 -1.21875 1.410156 -0.988281 1.671875 -0.84375 C 1.929688 -0.695312 2.289062 -0.625 2.75 -0.625 C 2.957031 -0.625 3.144531 -0.640625 3.3125 -0.671875 C 3.488281 -0.703125 3.640625 -0.75 3.765625 -0.8125 C 3.890625 -0.882812 3.984375 -0.976562 4.046875 -1.09375 C 4.117188 -1.207031 4.15625 -1.351562 4.15625 -1.53125 C 4.15625 -1.707031 4.113281 -1.847656 4.03125 -1.953125 C 3.957031 -2.066406 3.84375 -2.160156 3.6875 -2.234375 C 3.539062 -2.316406 3.363281 -2.382812 3.15625 -2.4375 C 2.945312 -2.5 2.71875 -2.5625 2.46875 -2.625 C 2.238281 -2.6875 2.007812 -2.753906 1.78125 -2.828125 C 1.550781 -2.898438 1.34375 -3 1.15625 -3.125 C 0.96875 -3.25 0.816406 -3.398438 0.703125 -3.578125 C 0.585938 -3.765625 0.53125 -4 0.53125 -4.28125 C 0.53125 -4.8125 0.71875 -5.210938 1.09375 -5.484375 C 1.476562 -5.765625 2.03125 -5.90625 2.75 -5.90625 C 3.394531 -5.90625 3.90625 -5.789062 4.28125 -5.5625 C 4.65625 -5.332031 4.894531 -4.972656 5 -4.484375 L 4.125 -4.375 C 4.09375 -4.519531 4.035156 -4.644531 3.953125 -4.75 C 3.867188 -4.851562 3.765625 -4.9375 3.640625 -5 C 3.515625 -5.0625 3.375 -5.101562 3.21875 -5.125 C 3.070312 -5.15625 2.914062 -5.171875 2.75 -5.171875 C 2.3125 -5.171875 1.988281 -5.101562 1.78125 -4.96875 C 1.582031 -4.84375 1.484375 -4.644531 1.484375 -4.375 C 1.484375 -4.21875 1.519531 -4.085938 1.59375 -3.984375 C 1.664062 -3.878906 1.769531 -3.789062 1.90625 -3.71875 C 2.050781 -3.65625 2.21875 -3.597656 2.40625 -3.546875 C 2.601562 -3.492188 2.816406 -3.4375 3.046875 -3.375 C 3.203125 -3.332031 3.359375 -3.289062 3.515625 -3.25 C 3.679688 -3.207031 3.835938 -3.15625 3.984375 -3.09375 C 4.140625 -3.03125 4.285156 -2.957031 4.421875 -2.875 C 4.554688 -2.789062 4.671875 -2.6875 4.765625 -2.5625 C 4.867188 -2.445312 4.953125 -2.3125 5.015625 -2.15625 C 5.078125 -2 5.109375 -1.816406 5.109375 -1.609375 Z M 5.109375 -1.609375 \"/>\n",
       "</symbol>\n",
       "<symbol overflow=\"visible\" id=\"glyph2-0\">\n",
       "<path style=\"stroke:none;\" d=\"M 0 -0.359375 L -7.328125 -0.359375 L -7.328125 -3.28125 L 0 -3.28125 Z M -0.359375 -0.734375 L -0.359375 -2.921875 L -6.96875 -2.921875 L -6.96875 -0.734375 Z M -0.359375 -0.734375 \"/>\n",
       "</symbol>\n",
       "<symbol overflow=\"visible\" id=\"glyph2-1\">\n",
       "<path style=\"stroke:none;\" d=\"M 0 -6.265625 L -2.21875 -5.40625 L -2.21875 -1.953125 L 0 -1.078125 L 0 -0.015625 L -7.5625 -3.109375 L -7.5625 -4.28125 L 0 -7.3125 Z M -5.515625 -4.125 C -5.648438 -4.070312 -5.789062 -4.019531 -5.9375 -3.96875 C -6.09375 -3.914062 -6.226562 -3.867188 -6.34375 -3.828125 C -6.46875 -3.785156 -6.566406 -3.75 -6.640625 -3.71875 C -6.722656 -3.695312 -6.773438 -3.679688 -6.796875 -3.671875 C -6.773438 -3.671875 -6.722656 -3.65625 -6.640625 -3.625 C -6.554688 -3.601562 -6.453125 -3.570312 -6.328125 -3.53125 C -6.210938 -3.488281 -6.082031 -3.441406 -5.9375 -3.390625 C -5.789062 -3.335938 -5.644531 -3.285156 -5.5 -3.234375 L -3.015625 -2.265625 L -3.015625 -5.09375 Z M -5.515625 -4.125 \"/>\n",
       "</symbol>\n",
       "<symbol overflow=\"visible\" id=\"glyph2-2\">\n",
       "<path style=\"stroke:none;\" d=\"M -2.9375 -1.484375 C -2.601562 -1.484375 -2.296875 -1.503906 -2.015625 -1.546875 C -1.734375 -1.597656 -1.488281 -1.679688 -1.28125 -1.796875 C -1.082031 -1.910156 -0.925781 -2.0625 -0.8125 -2.25 C -0.707031 -2.4375 -0.65625 -2.664062 -0.65625 -2.9375 C -0.65625 -3.28125 -0.75 -3.566406 -0.9375 -3.796875 C -1.125 -4.035156 -1.410156 -4.179688 -1.796875 -4.234375 L -1.734375 -5.203125 C -1.492188 -5.171875 -1.257812 -5.101562 -1.03125 -5 C -0.8125 -4.894531 -0.617188 -4.75 -0.453125 -4.5625 C -0.285156 -4.375 -0.148438 -4.144531 -0.046875 -3.875 C 0.0546875 -3.613281 0.109375 -3.3125 0.109375 -2.96875 C 0.109375 -2.507812 0.03125 -2.117188 -0.125 -1.796875 C -0.28125 -1.484375 -0.492188 -1.226562 -0.765625 -1.03125 C -1.035156 -0.832031 -1.351562 -0.6875 -1.71875 -0.59375 C -2.082031 -0.507812 -2.476562 -0.46875 -2.90625 -0.46875 C -3.300781 -0.46875 -3.644531 -0.5 -3.9375 -0.5625 C -4.238281 -0.625 -4.5 -0.710938 -4.71875 -0.828125 C -4.945312 -0.953125 -5.132812 -1.09375 -5.28125 -1.25 C -5.4375 -1.40625 -5.5625 -1.570312 -5.65625 -1.75 C -5.75 -1.9375 -5.816406 -2.128906 -5.859375 -2.328125 C -5.898438 -2.535156 -5.921875 -2.742188 -5.921875 -2.953125 C -5.921875 -3.285156 -5.875 -3.578125 -5.78125 -3.828125 C -5.695312 -4.085938 -5.578125 -4.304688 -5.421875 -4.484375 C -5.265625 -4.671875 -5.078125 -4.820312 -4.859375 -4.9375 C -4.648438 -5.050781 -4.425781 -5.128906 -4.1875 -5.171875 L -4.109375 -4.1875 C -4.429688 -4.132812 -4.6875 -4.003906 -4.875 -3.796875 C -5.0625 -3.597656 -5.15625 -3.3125 -5.15625 -2.9375 C -5.15625 -2.65625 -5.109375 -2.421875 -5.015625 -2.234375 C -4.929688 -2.054688 -4.796875 -1.910156 -4.609375 -1.796875 C -4.421875 -1.679688 -4.1875 -1.597656 -3.90625 -1.546875 C -3.632812 -1.503906 -3.3125 -1.484375 -2.9375 -1.484375 Z M -2.9375 -1.484375 \"/>\n",
       "</symbol>\n",
       "<symbol overflow=\"visible\" id=\"glyph2-3\">\n",
       "<path style=\"stroke:none;\" d=\"M -5.8125 -1.6875 L -2.125 -1.6875 C -1.84375 -1.6875 -1.609375 -1.707031 -1.421875 -1.75 C -1.234375 -1.789062 -1.078125 -1.859375 -0.953125 -1.953125 C -0.835938 -2.046875 -0.753906 -2.164062 -0.703125 -2.3125 C -0.660156 -2.46875 -0.640625 -2.660156 -0.640625 -2.890625 C -0.640625 -3.117188 -0.675781 -3.320312 -0.75 -3.5 C -0.832031 -3.6875 -0.953125 -3.84375 -1.109375 -3.96875 C -1.265625 -4.101562 -1.453125 -4.207031 -1.671875 -4.28125 C -1.898438 -4.351562 -2.15625 -4.390625 -2.4375 -4.390625 L -5.8125 -4.390625 L -5.8125 -5.359375 L -1.234375 -5.359375 C -1.117188 -5.359375 -0.992188 -5.359375 -0.859375 -5.359375 C -0.722656 -5.359375 -0.59375 -5.359375 -0.46875 -5.359375 C -0.351562 -5.367188 -0.25 -5.375 -0.15625 -5.375 C -0.0703125 -5.375 -0.0195312 -5.378906 0 -5.390625 L 0 -4.46875 C -0.0195312 -4.46875 -0.0664062 -4.460938 -0.140625 -4.453125 C -0.222656 -4.453125 -0.3125 -4.445312 -0.40625 -4.4375 C -0.507812 -4.4375 -0.613281 -4.4375 -0.71875 -4.4375 C -0.832031 -4.4375 -0.925781 -4.4375 -1 -4.4375 L -1 -4.421875 C -0.820312 -4.328125 -0.664062 -4.222656 -0.53125 -4.109375 C -0.394531 -3.992188 -0.28125 -3.863281 -0.1875 -3.71875 C -0.09375 -3.570312 -0.0195312 -3.40625 0.03125 -3.21875 C 0.0820312 -3.03125 0.109375 -2.8125 0.109375 -2.5625 C 0.109375 -2.238281 0.0703125 -1.957031 0 -1.71875 C -0.0820312 -1.488281 -0.207031 -1.296875 -0.375 -1.140625 C -0.539062 -0.992188 -0.75 -0.882812 -1 -0.8125 C -1.257812 -0.75 -1.570312 -0.71875 -1.9375 -0.71875 L -5.8125 -0.71875 Z M -5.8125 -1.6875 \"/>\n",
       "</symbol>\n",
       "<symbol overflow=\"visible\" id=\"glyph2-4\">\n",
       "<path style=\"stroke:none;\" d=\"M 0 -0.765625 L -4.453125 -0.765625 C -4.578125 -0.765625 -4.703125 -0.757812 -4.828125 -0.75 C -4.953125 -0.75 -5.070312 -0.75 -5.1875 -0.75 C -5.3125 -0.75 -5.425781 -0.742188 -5.53125 -0.734375 C -5.632812 -0.734375 -5.726562 -0.734375 -5.8125 -0.734375 L -5.8125 -1.640625 C -5.726562 -1.648438 -5.632812 -1.65625 -5.53125 -1.65625 C -5.425781 -1.664062 -5.316406 -1.671875 -5.203125 -1.671875 C -5.085938 -1.679688 -4.976562 -1.6875 -4.875 -1.6875 C -4.78125 -1.6875 -4.695312 -1.6875 -4.625 -1.6875 L -4.625 -1.703125 C -4.84375 -1.773438 -5.035156 -1.847656 -5.203125 -1.921875 C -5.367188 -2.003906 -5.503906 -2.097656 -5.609375 -2.203125 C -5.710938 -2.304688 -5.789062 -2.425781 -5.84375 -2.5625 C -5.894531 -2.707031 -5.921875 -2.882812 -5.921875 -3.09375 C -5.921875 -3.164062 -5.910156 -3.238281 -5.890625 -3.3125 C -5.878906 -3.382812 -5.867188 -3.441406 -5.859375 -3.484375 L -4.984375 -3.484375 C -4.992188 -3.421875 -5.003906 -3.34375 -5.015625 -3.25 C -5.023438 -3.164062 -5.03125 -3.070312 -5.03125 -2.96875 C -5.03125 -2.738281 -4.976562 -2.546875 -4.875 -2.390625 C -4.78125 -2.242188 -4.644531 -2.117188 -4.46875 -2.015625 C -4.289062 -1.921875 -4.078125 -1.847656 -3.828125 -1.796875 C -3.585938 -1.753906 -3.320312 -1.734375 -3.03125 -1.734375 L 0 -1.734375 Z M 0 -0.765625 \"/>\n",
       "</symbol>\n",
       "<symbol overflow=\"visible\" id=\"glyph2-5\">\n",
       "<path style=\"stroke:none;\" d=\"M 0.109375 -2.21875 C 0.109375 -1.632812 -0.0390625 -1.195312 -0.34375 -0.90625 C -0.65625 -0.613281 -1.082031 -0.46875 -1.625 -0.46875 C -2.007812 -0.46875 -2.320312 -0.539062 -2.5625 -0.6875 C -2.8125 -0.832031 -3.003906 -1.019531 -3.140625 -1.25 C -3.285156 -1.488281 -3.382812 -1.757812 -3.4375 -2.0625 C -3.488281 -2.363281 -3.519531 -2.664062 -3.53125 -2.96875 L -3.546875 -4.28125 L -3.859375 -4.28125 C -4.097656 -4.28125 -4.300781 -4.253906 -4.46875 -4.203125 C -4.644531 -4.148438 -4.78125 -4.070312 -4.875 -3.96875 C -4.976562 -3.863281 -5.054688 -3.734375 -5.109375 -3.578125 C -5.160156 -3.429688 -5.1875 -3.25 -5.1875 -3.03125 C -5.1875 -2.84375 -5.171875 -2.671875 -5.140625 -2.515625 C -5.117188 -2.367188 -5.070312 -2.238281 -5 -2.125 C -4.925781 -2.019531 -4.828125 -1.929688 -4.703125 -1.859375 C -4.585938 -1.796875 -4.441406 -1.753906 -4.265625 -1.734375 L -4.34375 -0.71875 C -4.570312 -0.757812 -4.78125 -0.828125 -4.96875 -0.921875 C -5.164062 -1.023438 -5.332031 -1.171875 -5.46875 -1.359375 C -5.613281 -1.546875 -5.722656 -1.773438 -5.796875 -2.046875 C -5.878906 -2.328125 -5.921875 -2.664062 -5.921875 -3.0625 C -5.921875 -3.789062 -5.753906 -4.335938 -5.421875 -4.703125 C -5.085938 -5.078125 -4.601562 -5.265625 -3.96875 -5.265625 L -1.46875 -5.265625 C -1.175781 -5.265625 -0.957031 -5.300781 -0.8125 -5.375 C -0.664062 -5.445312 -0.59375 -5.585938 -0.59375 -5.796875 C -0.59375 -5.847656 -0.597656 -5.898438 -0.609375 -5.953125 C -0.617188 -6.015625 -0.628906 -6.070312 -0.640625 -6.125 L -0.03125 -6.125 C 0 -6 0.0195312 -5.875 0.03125 -5.75 C 0.0390625 -5.632812 0.046875 -5.507812 0.046875 -5.375 C 0.046875 -5.1875 0.0234375 -5.023438 -0.015625 -4.890625 C -0.0664062 -4.765625 -0.140625 -4.660156 -0.234375 -4.578125 C -0.335938 -4.492188 -0.460938 -4.429688 -0.609375 -4.390625 C -0.753906 -4.347656 -0.921875 -4.320312 -1.109375 -4.3125 L -1.109375 -4.28125 C -0.921875 -4.175781 -0.75 -4.0625 -0.59375 -3.9375 C -0.445312 -3.8125 -0.320312 -3.664062 -0.21875 -3.5 C -0.113281 -3.34375 -0.0351562 -3.15625 0.015625 -2.9375 C 0.078125 -2.726562 0.109375 -2.488281 0.109375 -2.21875 Z M -0.625 -2.4375 C -0.625 -2.75 -0.675781 -3.019531 -0.78125 -3.25 C -0.894531 -3.476562 -1.039062 -3.671875 -1.21875 -3.828125 C -1.394531 -3.984375 -1.585938 -4.097656 -1.796875 -4.171875 C -2.003906 -4.242188 -2.203125 -4.28125 -2.390625 -4.28125 L -2.875 -4.28125 L -2.84375 -3.21875 C -2.84375 -2.988281 -2.828125 -2.765625 -2.796875 -2.546875 C -2.765625 -2.335938 -2.703125 -2.148438 -2.609375 -1.984375 C -2.523438 -1.828125 -2.398438 -1.703125 -2.234375 -1.609375 C -2.078125 -1.515625 -1.867188 -1.46875 -1.609375 -1.46875 C -1.296875 -1.46875 -1.050781 -1.550781 -0.875 -1.71875 C -0.707031 -1.882812 -0.625 -2.125 -0.625 -2.4375 Z M -0.625 -2.4375 \"/>\n",
       "</symbol>\n",
       "<symbol overflow=\"visible\" id=\"glyph2-6\">\n",
       "<path style=\"stroke:none;\" d=\"M 0 -3.25 C 0.351562 -3.113281 0.671875 -2.972656 0.953125 -2.828125 C 1.234375 -2.679688 1.472656 -2.519531 1.671875 -2.34375 C 1.867188 -2.175781 2.019531 -1.984375 2.125 -1.765625 C 2.226562 -1.546875 2.28125 -1.300781 2.28125 -1.03125 C 2.28125 -0.90625 2.273438 -0.789062 2.265625 -0.6875 C 2.265625 -0.582031 2.25 -0.472656 2.21875 -0.359375 L 1.5 -0.359375 C 1.507812 -0.429688 1.515625 -0.507812 1.515625 -0.59375 C 1.523438 -0.675781 1.53125 -0.75 1.53125 -0.8125 C 1.53125 -1.09375 1.421875 -1.351562 1.203125 -1.59375 C 0.992188 -1.84375 0.660156 -2.054688 0.203125 -2.234375 L -0.03125 -2.328125 L -5.8125 -0.03125 L -5.8125 -1.0625 L -2.59375 -2.28125 C -2.5 -2.320312 -2.367188 -2.367188 -2.203125 -2.421875 C -2.046875 -2.472656 -1.882812 -2.523438 -1.71875 -2.578125 C -1.5625 -2.640625 -1.414062 -2.691406 -1.28125 -2.734375 C -1.15625 -2.773438 -1.078125 -2.800781 -1.046875 -2.8125 C -1.085938 -2.820312 -1.164062 -2.847656 -1.28125 -2.890625 C -1.40625 -2.929688 -1.535156 -2.976562 -1.671875 -3.03125 C -1.816406 -3.082031 -1.960938 -3.132812 -2.109375 -3.1875 C -2.253906 -3.238281 -2.382812 -3.28125 -2.5 -3.3125 L -5.8125 -4.453125 L -5.8125 -5.484375 Z M 0 -3.25 \"/>\n",
       "</symbol>\n",
       "<symbol overflow=\"visible\" id=\"glyph2-7\">\n",
       "<path style=\"stroke:none;\" d=\"\"/>\n",
       "</symbol>\n",
       "<symbol overflow=\"visible\" id=\"glyph2-8\">\n",
       "<path style=\"stroke:none;\" d=\"M 0 -0.90625 L -7.5625 -0.90625 L -7.5625 -6.640625 L -6.734375 -6.640625 L -6.734375 -1.921875 L -4.296875 -1.921875 L -4.296875 -6.328125 L -3.46875 -6.328125 L -3.46875 -1.921875 L -0.84375 -1.921875 L -0.84375 -6.859375 L 0 -6.859375 Z M 0 -0.90625 \"/>\n",
       "</symbol>\n",
       "<symbol overflow=\"visible\" id=\"glyph2-9\">\n",
       "<path style=\"stroke:none;\" d=\"M -1.609375 -5.109375 C -1.335938 -5.109375 -1.09375 -5.050781 -0.875 -4.9375 C -0.664062 -4.832031 -0.488281 -4.679688 -0.34375 -4.484375 C -0.195312 -4.285156 -0.0820312 -4.039062 0 -3.75 C 0.0703125 -3.457031 0.109375 -3.125 0.109375 -2.75 C 0.109375 -2.40625 0.0820312 -2.097656 0.03125 -1.828125 C -0.0195312 -1.554688 -0.101562 -1.316406 -0.21875 -1.109375 C -0.332031 -0.910156 -0.484375 -0.742188 -0.671875 -0.609375 C -0.859375 -0.472656 -1.085938 -0.375 -1.359375 -0.3125 L -1.53125 -1.15625 C -1.21875 -1.238281 -0.988281 -1.410156 -0.84375 -1.671875 C -0.695312 -1.929688 -0.625 -2.289062 -0.625 -2.75 C -0.625 -2.957031 -0.640625 -3.144531 -0.671875 -3.3125 C -0.703125 -3.488281 -0.75 -3.640625 -0.8125 -3.765625 C -0.882812 -3.890625 -0.976562 -3.984375 -1.09375 -4.046875 C -1.207031 -4.117188 -1.351562 -4.15625 -1.53125 -4.15625 C -1.707031 -4.15625 -1.847656 -4.113281 -1.953125 -4.03125 C -2.066406 -3.957031 -2.160156 -3.84375 -2.234375 -3.6875 C -2.316406 -3.539062 -2.382812 -3.363281 -2.4375 -3.15625 C -2.5 -2.945312 -2.5625 -2.71875 -2.625 -2.46875 C -2.6875 -2.238281 -2.753906 -2.007812 -2.828125 -1.78125 C -2.898438 -1.550781 -3 -1.34375 -3.125 -1.15625 C -3.25 -0.96875 -3.398438 -0.816406 -3.578125 -0.703125 C -3.765625 -0.585938 -4 -0.53125 -4.28125 -0.53125 C -4.8125 -0.53125 -5.210938 -0.71875 -5.484375 -1.09375 C -5.765625 -1.476562 -5.90625 -2.03125 -5.90625 -2.75 C -5.90625 -3.394531 -5.789062 -3.90625 -5.5625 -4.28125 C -5.332031 -4.65625 -4.972656 -4.894531 -4.484375 -5 L -4.375 -4.125 C -4.519531 -4.09375 -4.644531 -4.035156 -4.75 -3.953125 C -4.851562 -3.867188 -4.9375 -3.765625 -5 -3.640625 C -5.0625 -3.515625 -5.101562 -3.375 -5.125 -3.21875 C -5.15625 -3.070312 -5.171875 -2.914062 -5.171875 -2.75 C -5.171875 -2.3125 -5.101562 -1.988281 -4.96875 -1.78125 C -4.84375 -1.582031 -4.644531 -1.484375 -4.375 -1.484375 C -4.21875 -1.484375 -4.085938 -1.519531 -3.984375 -1.59375 C -3.878906 -1.664062 -3.789062 -1.769531 -3.71875 -1.90625 C -3.65625 -2.050781 -3.597656 -2.21875 -3.546875 -2.40625 C -3.492188 -2.601562 -3.4375 -2.816406 -3.375 -3.046875 C -3.332031 -3.203125 -3.289062 -3.359375 -3.25 -3.515625 C -3.207031 -3.679688 -3.15625 -3.835938 -3.09375 -3.984375 C -3.03125 -4.140625 -2.957031 -4.285156 -2.875 -4.421875 C -2.789062 -4.554688 -2.6875 -4.671875 -2.5625 -4.765625 C -2.445312 -4.867188 -2.3125 -4.953125 -2.15625 -5.015625 C -2 -5.078125 -1.816406 -5.109375 -1.609375 -5.109375 Z M -1.609375 -5.109375 \"/>\n",
       "</symbol>\n",
       "<symbol overflow=\"visible\" id=\"glyph2-10\">\n",
       "<path style=\"stroke:none;\" d=\"M -0.046875 -2.96875 C -0.00390625 -2.820312 0.0234375 -2.671875 0.046875 -2.515625 C 0.078125 -2.367188 0.09375 -2.195312 0.09375 -2 C 0.09375 -1.226562 -0.347656 -0.84375 -1.234375 -0.84375 L -5.109375 -0.84375 L -5.109375 -0.171875 L -5.8125 -0.171875 L -5.8125 -0.875 L -7.109375 -1.15625 L -7.109375 -1.8125 L -5.8125 -1.8125 L -5.8125 -2.875 L -5.109375 -2.875 L -5.109375 -1.8125 L -1.4375 -1.8125 C -1.15625 -1.8125 -0.957031 -1.851562 -0.84375 -1.9375 C -0.738281 -2.03125 -0.6875 -2.191406 -0.6875 -2.421875 C -0.6875 -2.515625 -0.691406 -2.601562 -0.703125 -2.6875 C -0.710938 -2.769531 -0.726562 -2.863281 -0.75 -2.96875 Z M -0.046875 -2.96875 \"/>\n",
       "</symbol>\n",
       "<symbol overflow=\"visible\" id=\"glyph2-11\">\n",
       "<path style=\"stroke:none;\" d=\"M -7.046875 -0.734375 L -7.96875 -0.734375 L -7.96875 -1.703125 L -7.046875 -1.703125 Z M 0 -0.734375 L -5.8125 -0.734375 L -5.8125 -1.703125 L 0 -1.703125 Z M 0 -0.734375 \"/>\n",
       "</symbol>\n",
       "<symbol overflow=\"visible\" id=\"glyph2-12\">\n",
       "<path style=\"stroke:none;\" d=\"M 0 -4.125 L -3.6875 -4.125 C -3.96875 -4.125 -4.203125 -4.101562 -4.390625 -4.0625 C -4.578125 -4.03125 -4.726562 -3.972656 -4.84375 -3.890625 C -4.96875 -3.804688 -5.050781 -3.695312 -5.09375 -3.5625 C -5.144531 -3.425781 -5.171875 -3.257812 -5.171875 -3.0625 C -5.171875 -2.851562 -5.128906 -2.664062 -5.046875 -2.5 C -4.972656 -2.34375 -4.859375 -2.203125 -4.703125 -2.078125 C -4.546875 -1.960938 -4.351562 -1.875 -4.125 -1.8125 C -3.90625 -1.75 -3.65625 -1.71875 -3.375 -1.71875 L 0 -1.71875 L 0 -0.765625 L -4.578125 -0.765625 C -4.691406 -0.765625 -4.816406 -0.757812 -4.953125 -0.75 C -5.085938 -0.75 -5.210938 -0.75 -5.328125 -0.75 C -5.453125 -0.75 -5.554688 -0.742188 -5.640625 -0.734375 C -5.734375 -0.734375 -5.789062 -0.734375 -5.8125 -0.734375 L -5.8125 -1.640625 C -5.789062 -1.648438 -5.738281 -1.65625 -5.65625 -1.65625 C -5.582031 -1.65625 -5.492188 -1.65625 -5.390625 -1.65625 C -5.296875 -1.664062 -5.191406 -1.671875 -5.078125 -1.671875 C -4.972656 -1.679688 -4.882812 -1.6875 -4.8125 -1.6875 L -4.8125 -1.703125 C -4.988281 -1.785156 -5.144531 -1.875 -5.28125 -1.96875 C -5.414062 -2.070312 -5.53125 -2.191406 -5.625 -2.328125 C -5.71875 -2.460938 -5.789062 -2.617188 -5.84375 -2.796875 C -5.894531 -2.972656 -5.921875 -3.175781 -5.921875 -3.40625 C -5.921875 -3.84375 -5.832031 -4.1875 -5.65625 -4.4375 C -5.476562 -4.695312 -5.195312 -4.878906 -4.8125 -4.984375 L -4.8125 -5 C -4.988281 -5.082031 -5.144531 -5.175781 -5.28125 -5.28125 C -5.414062 -5.394531 -5.53125 -5.519531 -5.625 -5.65625 C -5.71875 -5.800781 -5.789062 -5.960938 -5.84375 -6.140625 C -5.894531 -6.316406 -5.921875 -6.519531 -5.921875 -6.75 C -5.921875 -7.050781 -5.878906 -7.304688 -5.796875 -7.515625 C -5.722656 -7.734375 -5.601562 -7.910156 -5.4375 -8.046875 C -5.269531 -8.179688 -5.054688 -8.28125 -4.796875 -8.34375 C -4.535156 -8.40625 -4.226562 -8.4375 -3.875 -8.4375 L 0 -8.4375 L 0 -7.484375 L -3.6875 -7.484375 C -3.96875 -7.484375 -4.203125 -7.460938 -4.390625 -7.421875 C -4.578125 -7.390625 -4.726562 -7.332031 -4.84375 -7.25 C -4.96875 -7.164062 -5.050781 -7.054688 -5.09375 -6.921875 C -5.144531 -6.785156 -5.171875 -6.617188 -5.171875 -6.421875 C -5.171875 -6.210938 -5.128906 -6.023438 -5.046875 -5.859375 C -4.972656 -5.703125 -4.859375 -5.5625 -4.703125 -5.4375 C -4.554688 -5.320312 -4.367188 -5.234375 -4.140625 -5.171875 C -3.921875 -5.109375 -3.664062 -5.078125 -3.375 -5.078125 L 0 -5.078125 Z M 0 -4.125 \"/>\n",
       "</symbol>\n",
       "<symbol overflow=\"visible\" id=\"glyph2-13\">\n",
       "<path style=\"stroke:none;\" d=\"M -2.703125 -1.484375 C -2.398438 -1.484375 -2.117188 -1.515625 -1.859375 -1.578125 C -1.609375 -1.640625 -1.390625 -1.734375 -1.203125 -1.859375 C -1.015625 -1.992188 -0.867188 -2.160156 -0.765625 -2.359375 C -0.671875 -2.566406 -0.625 -2.816406 -0.625 -3.109375 C -0.625 -3.523438 -0.707031 -3.859375 -0.875 -4.109375 C -1.039062 -4.359375 -1.253906 -4.53125 -1.515625 -4.625 L -1.265625 -5.46875 C -1.109375 -5.40625 -0.945312 -5.316406 -0.78125 -5.203125 C -0.613281 -5.097656 -0.460938 -4.953125 -0.328125 -4.765625 C -0.203125 -4.585938 -0.0976562 -4.363281 -0.015625 -4.09375 C 0.0664062 -3.820312 0.109375 -3.492188 0.109375 -3.109375 C 0.109375 -2.242188 -0.144531 -1.585938 -0.65625 -1.140625 C -1.164062 -0.691406 -1.925781 -0.46875 -2.9375 -0.46875 C -3.488281 -0.46875 -3.953125 -0.535156 -4.328125 -0.671875 C -4.703125 -0.804688 -5.007812 -0.988281 -5.25 -1.21875 C -5.488281 -1.457031 -5.660156 -1.734375 -5.765625 -2.046875 C -5.867188 -2.367188 -5.921875 -2.707031 -5.921875 -3.0625 C -5.921875 -3.550781 -5.84375 -3.957031 -5.6875 -4.28125 C -5.53125 -4.613281 -5.3125 -4.878906 -5.03125 -5.078125 C -4.75 -5.273438 -4.421875 -5.414062 -4.046875 -5.5 C -3.671875 -5.582031 -3.265625 -5.625 -2.828125 -5.625 L -2.703125 -5.625 Z M -3.4375 -4.625 C -4.050781 -4.570312 -4.5 -4.414062 -4.78125 -4.15625 C -5.0625 -3.90625 -5.203125 -3.535156 -5.203125 -3.046875 C -5.203125 -2.890625 -5.175781 -2.722656 -5.125 -2.546875 C -5.070312 -2.367188 -4.976562 -2.203125 -4.84375 -2.046875 C -4.71875 -1.898438 -4.539062 -1.773438 -4.3125 -1.671875 C -4.082031 -1.566406 -3.789062 -1.507812 -3.4375 -1.5 Z M -3.4375 -4.625 \"/>\n",
       "</symbol>\n",
       "</g>\n",
       "<clipPath id=\"clip1\">\n",
       "  <path d=\"M 35.152344 5.480469 L 714.523438 5.480469 L 714.523438 399.851562 L 35.152344 399.851562 Z M 35.152344 5.480469 \"/>\n",
       "</clipPath>\n",
       "<clipPath id=\"clip2\">\n",
       "  <path d=\"M 35.152344 321 L 714.523438 321 L 714.523438 323 L 35.152344 323 Z M 35.152344 321 \"/>\n",
       "</clipPath>\n",
       "<clipPath id=\"clip3\">\n",
       "  <path d=\"M 35.152344 202 L 714.523438 202 L 714.523438 203 L 35.152344 203 Z M 35.152344 202 \"/>\n",
       "</clipPath>\n",
       "<clipPath id=\"clip4\">\n",
       "  <path d=\"M 35.152344 82 L 714.523438 82 L 714.523438 84 L 35.152344 84 Z M 35.152344 82 \"/>\n",
       "</clipPath>\n",
       "<clipPath id=\"clip5\">\n",
       "  <path d=\"M 40 5.480469 L 41 5.480469 L 41 399.851562 L 40 399.851562 Z M 40 5.480469 \"/>\n",
       "</clipPath>\n",
       "<clipPath id=\"clip6\">\n",
       "  <path d=\"M 91 5.480469 L 93 5.480469 L 93 399.851562 L 91 399.851562 Z M 91 5.480469 \"/>\n",
       "</clipPath>\n",
       "<clipPath id=\"clip7\">\n",
       "  <path d=\"M 142 5.480469 L 144 5.480469 L 144 399.851562 L 142 399.851562 Z M 142 5.480469 \"/>\n",
       "</clipPath>\n",
       "<clipPath id=\"clip8\">\n",
       "  <path d=\"M 194 5.480469 L 195 5.480469 L 195 399.851562 L 194 399.851562 Z M 194 5.480469 \"/>\n",
       "</clipPath>\n",
       "<clipPath id=\"clip9\">\n",
       "  <path d=\"M 245 5.480469 L 247 5.480469 L 247 399.851562 L 245 399.851562 Z M 245 5.480469 \"/>\n",
       "</clipPath>\n",
       "<clipPath id=\"clip10\">\n",
       "  <path d=\"M 297 5.480469 L 298 5.480469 L 298 399.851562 L 297 399.851562 Z M 297 5.480469 \"/>\n",
       "</clipPath>\n",
       "<clipPath id=\"clip11\">\n",
       "  <path d=\"M 348 5.480469 L 350 5.480469 L 350 399.851562 L 348 399.851562 Z M 348 5.480469 \"/>\n",
       "</clipPath>\n",
       "<clipPath id=\"clip12\">\n",
       "  <path d=\"M 400 5.480469 L 401 5.480469 L 401 399.851562 L 400 399.851562 Z M 400 5.480469 \"/>\n",
       "</clipPath>\n",
       "<clipPath id=\"clip13\">\n",
       "  <path d=\"M 451 5.480469 L 453 5.480469 L 453 399.851562 L 451 399.851562 Z M 451 5.480469 \"/>\n",
       "</clipPath>\n",
       "<clipPath id=\"clip14\">\n",
       "  <path d=\"M 503 5.480469 L 504 5.480469 L 504 399.851562 L 503 399.851562 Z M 503 5.480469 \"/>\n",
       "</clipPath>\n",
       "<clipPath id=\"clip15\">\n",
       "  <path d=\"M 554 5.480469 L 556 5.480469 L 556 399.851562 L 554 399.851562 Z M 554 5.480469 \"/>\n",
       "</clipPath>\n",
       "<clipPath id=\"clip16\">\n",
       "  <path d=\"M 606 5.480469 L 607 5.480469 L 607 399.851562 L 606 399.851562 Z M 606 5.480469 \"/>\n",
       "</clipPath>\n",
       "<clipPath id=\"clip17\">\n",
       "  <path d=\"M 657 5.480469 L 659 5.480469 L 659 399.851562 L 657 399.851562 Z M 657 5.480469 \"/>\n",
       "</clipPath>\n",
       "<clipPath id=\"clip18\">\n",
       "  <path d=\"M 709 5.480469 L 710 5.480469 L 710 399.851562 L 709 399.851562 Z M 709 5.480469 \"/>\n",
       "</clipPath>\n",
       "<clipPath id=\"clip19\">\n",
       "  <path d=\"M 35.152344 381 L 714.523438 381 L 714.523438 383 L 35.152344 383 Z M 35.152344 381 \"/>\n",
       "</clipPath>\n",
       "<clipPath id=\"clip20\">\n",
       "  <path d=\"M 35.152344 261 L 714.523438 261 L 714.523438 263 L 35.152344 263 Z M 35.152344 261 \"/>\n",
       "</clipPath>\n",
       "<clipPath id=\"clip21\">\n",
       "  <path d=\"M 35.152344 142 L 714.523438 142 L 714.523438 144 L 35.152344 144 Z M 35.152344 142 \"/>\n",
       "</clipPath>\n",
       "<clipPath id=\"clip22\">\n",
       "  <path d=\"M 35.152344 22 L 714.523438 22 L 714.523438 24 L 35.152344 24 Z M 35.152344 22 \"/>\n",
       "</clipPath>\n",
       "<clipPath id=\"clip23\">\n",
       "  <path d=\"M 65 5.480469 L 67 5.480469 L 67 399.851562 L 65 399.851562 Z M 65 5.480469 \"/>\n",
       "</clipPath>\n",
       "<clipPath id=\"clip24\">\n",
       "  <path d=\"M 116 5.480469 L 119 5.480469 L 119 399.851562 L 116 399.851562 Z M 116 5.480469 \"/>\n",
       "</clipPath>\n",
       "<clipPath id=\"clip25\">\n",
       "  <path d=\"M 168 5.480469 L 170 5.480469 L 170 399.851562 L 168 399.851562 Z M 168 5.480469 \"/>\n",
       "</clipPath>\n",
       "<clipPath id=\"clip26\">\n",
       "  <path d=\"M 219 5.480469 L 221 5.480469 L 221 399.851562 L 219 399.851562 Z M 219 5.480469 \"/>\n",
       "</clipPath>\n",
       "<clipPath id=\"clip27\">\n",
       "  <path d=\"M 271 5.480469 L 273 5.480469 L 273 399.851562 L 271 399.851562 Z M 271 5.480469 \"/>\n",
       "</clipPath>\n",
       "<clipPath id=\"clip28\">\n",
       "  <path d=\"M 322 5.480469 L 324 5.480469 L 324 399.851562 L 322 399.851562 Z M 322 5.480469 \"/>\n",
       "</clipPath>\n",
       "<clipPath id=\"clip29\">\n",
       "  <path d=\"M 374 5.480469 L 376 5.480469 L 376 399.851562 L 374 399.851562 Z M 374 5.480469 \"/>\n",
       "</clipPath>\n",
       "<clipPath id=\"clip30\">\n",
       "  <path d=\"M 425 5.480469 L 427 5.480469 L 427 399.851562 L 425 399.851562 Z M 425 5.480469 \"/>\n",
       "</clipPath>\n",
       "<clipPath id=\"clip31\">\n",
       "  <path d=\"M 477 5.480469 L 479 5.480469 L 479 399.851562 L 477 399.851562 Z M 477 5.480469 \"/>\n",
       "</clipPath>\n",
       "<clipPath id=\"clip32\">\n",
       "  <path d=\"M 528 5.480469 L 530 5.480469 L 530 399.851562 L 528 399.851562 Z M 528 5.480469 \"/>\n",
       "</clipPath>\n",
       "<clipPath id=\"clip33\">\n",
       "  <path d=\"M 580 5.480469 L 582 5.480469 L 582 399.851562 L 580 399.851562 Z M 580 5.480469 \"/>\n",
       "</clipPath>\n",
       "<clipPath id=\"clip34\">\n",
       "  <path d=\"M 631 5.480469 L 633 5.480469 L 633 399.851562 L 631 399.851562 Z M 631 5.480469 \"/>\n",
       "</clipPath>\n",
       "<clipPath id=\"clip35\">\n",
       "  <path d=\"M 683 5.480469 L 685 5.480469 L 685 399.851562 L 683 399.851562 Z M 683 5.480469 \"/>\n",
       "</clipPath>\n",
       "</defs>\n",
       "<g id=\"surface568\">\n",
       "<rect x=\"0\" y=\"0\" width=\"720\" height=\"432\" style=\"fill:rgb(100%,100%,100%);fill-opacity:1;stroke:none;\"/>\n",
       "<rect x=\"0\" y=\"0\" width=\"720\" height=\"432\" style=\"fill:rgb(100%,100%,100%);fill-opacity:1;stroke:none;\"/>\n",
       "<path style=\"fill:none;stroke-width:1.066978;stroke-linecap:round;stroke-linejoin:round;stroke:rgb(100%,100%,100%);stroke-opacity:1;stroke-miterlimit:10;\" d=\"M 0 432 L 720 432 L 720 0 L 0 0 Z M 0 432 \"/>\n",
       "<g clip-path=\"url(#clip1)\" clip-rule=\"nonzero\">\n",
       "<path style=\" stroke:none;fill-rule:nonzero;fill:rgb(92.156863%,92.156863%,92.156863%);fill-opacity:1;\" d=\"M 35.152344 399.847656 L 714.523438 399.847656 L 714.523438 5.476562 L 35.152344 5.476562 Z M 35.152344 399.847656 \"/>\n",
       "</g>\n",
       "<g clip-path=\"url(#clip2)\" clip-rule=\"nonzero\">\n",
       "<path style=\"fill:none;stroke-width:0.533489;stroke-linecap:butt;stroke-linejoin:round;stroke:rgb(100%,100%,100%);stroke-opacity:1;stroke-miterlimit:10;\" d=\"M 35.152344 322.171875 L 714.519531 322.171875 \"/>\n",
       "</g>\n",
       "<g clip-path=\"url(#clip3)\" clip-rule=\"nonzero\">\n",
       "<path style=\"fill:none;stroke-width:0.533489;stroke-linecap:butt;stroke-linejoin:round;stroke:rgb(100%,100%,100%);stroke-opacity:1;stroke-miterlimit:10;\" d=\"M 35.152344 202.664062 L 714.519531 202.664062 \"/>\n",
       "</g>\n",
       "<g clip-path=\"url(#clip4)\" clip-rule=\"nonzero\">\n",
       "<path style=\"fill:none;stroke-width:0.533489;stroke-linecap:butt;stroke-linejoin:round;stroke:rgb(100%,100%,100%);stroke-opacity:1;stroke-miterlimit:10;\" d=\"M 35.152344 83.160156 L 714.519531 83.160156 \"/>\n",
       "</g>\n",
       "<g clip-path=\"url(#clip5)\" clip-rule=\"nonzero\">\n",
       "<path style=\"fill:none;stroke-width:0.533489;stroke-linecap:butt;stroke-linejoin:round;stroke:rgb(100%,100%,100%);stroke-opacity:1;stroke-miterlimit:10;\" d=\"M 40.296875 399.847656 L 40.296875 5.480469 \"/>\n",
       "</g>\n",
       "<g clip-path=\"url(#clip6)\" clip-rule=\"nonzero\">\n",
       "<path style=\"fill:none;stroke-width:0.533489;stroke-linecap:butt;stroke-linejoin:round;stroke:rgb(100%,100%,100%);stroke-opacity:1;stroke-miterlimit:10;\" d=\"M 91.765625 399.847656 L 91.765625 5.480469 \"/>\n",
       "</g>\n",
       "<g clip-path=\"url(#clip7)\" clip-rule=\"nonzero\">\n",
       "<path style=\"fill:none;stroke-width:0.533489;stroke-linecap:butt;stroke-linejoin:round;stroke:rgb(100%,100%,100%);stroke-opacity:1;stroke-miterlimit:10;\" d=\"M 143.230469 399.847656 L 143.230469 5.480469 \"/>\n",
       "</g>\n",
       "<g clip-path=\"url(#clip8)\" clip-rule=\"nonzero\">\n",
       "<path style=\"fill:none;stroke-width:0.533489;stroke-linecap:butt;stroke-linejoin:round;stroke:rgb(100%,100%,100%);stroke-opacity:1;stroke-miterlimit:10;\" d=\"M 194.699219 399.847656 L 194.699219 5.480469 \"/>\n",
       "</g>\n",
       "<g clip-path=\"url(#clip9)\" clip-rule=\"nonzero\">\n",
       "<path style=\"fill:none;stroke-width:0.533489;stroke-linecap:butt;stroke-linejoin:round;stroke:rgb(100%,100%,100%);stroke-opacity:1;stroke-miterlimit:10;\" d=\"M 246.167969 399.847656 L 246.167969 5.480469 \"/>\n",
       "</g>\n",
       "<g clip-path=\"url(#clip10)\" clip-rule=\"nonzero\">\n",
       "<path style=\"fill:none;stroke-width:0.533489;stroke-linecap:butt;stroke-linejoin:round;stroke:rgb(100%,100%,100%);stroke-opacity:1;stroke-miterlimit:10;\" d=\"M 297.632812 399.847656 L 297.632812 5.480469 \"/>\n",
       "</g>\n",
       "<g clip-path=\"url(#clip11)\" clip-rule=\"nonzero\">\n",
       "<path style=\"fill:none;stroke-width:0.533489;stroke-linecap:butt;stroke-linejoin:round;stroke:rgb(100%,100%,100%);stroke-opacity:1;stroke-miterlimit:10;\" d=\"M 349.101562 399.847656 L 349.101562 5.480469 \"/>\n",
       "</g>\n",
       "<g clip-path=\"url(#clip12)\" clip-rule=\"nonzero\">\n",
       "<path style=\"fill:none;stroke-width:0.533489;stroke-linecap:butt;stroke-linejoin:round;stroke:rgb(100%,100%,100%);stroke-opacity:1;stroke-miterlimit:10;\" d=\"M 400.570312 399.847656 L 400.570312 5.480469 \"/>\n",
       "</g>\n",
       "<g clip-path=\"url(#clip13)\" clip-rule=\"nonzero\">\n",
       "<path style=\"fill:none;stroke-width:0.533489;stroke-linecap:butt;stroke-linejoin:round;stroke:rgb(100%,100%,100%);stroke-opacity:1;stroke-miterlimit:10;\" d=\"M 452.035156 399.847656 L 452.035156 5.480469 \"/>\n",
       "</g>\n",
       "<g clip-path=\"url(#clip14)\" clip-rule=\"nonzero\">\n",
       "<path style=\"fill:none;stroke-width:0.533489;stroke-linecap:butt;stroke-linejoin:round;stroke:rgb(100%,100%,100%);stroke-opacity:1;stroke-miterlimit:10;\" d=\"M 503.503906 399.847656 L 503.503906 5.480469 \"/>\n",
       "</g>\n",
       "<g clip-path=\"url(#clip15)\" clip-rule=\"nonzero\">\n",
       "<path style=\"fill:none;stroke-width:0.533489;stroke-linecap:butt;stroke-linejoin:round;stroke:rgb(100%,100%,100%);stroke-opacity:1;stroke-miterlimit:10;\" d=\"M 554.972656 399.847656 L 554.972656 5.480469 \"/>\n",
       "</g>\n",
       "<g clip-path=\"url(#clip16)\" clip-rule=\"nonzero\">\n",
       "<path style=\"fill:none;stroke-width:0.533489;stroke-linecap:butt;stroke-linejoin:round;stroke:rgb(100%,100%,100%);stroke-opacity:1;stroke-miterlimit:10;\" d=\"M 606.4375 399.847656 L 606.4375 5.480469 \"/>\n",
       "</g>\n",
       "<g clip-path=\"url(#clip17)\" clip-rule=\"nonzero\">\n",
       "<path style=\"fill:none;stroke-width:0.533489;stroke-linecap:butt;stroke-linejoin:round;stroke:rgb(100%,100%,100%);stroke-opacity:1;stroke-miterlimit:10;\" d=\"M 657.90625 399.847656 L 657.90625 5.480469 \"/>\n",
       "</g>\n",
       "<g clip-path=\"url(#clip18)\" clip-rule=\"nonzero\">\n",
       "<path style=\"fill:none;stroke-width:0.533489;stroke-linecap:butt;stroke-linejoin:round;stroke:rgb(100%,100%,100%);stroke-opacity:1;stroke-miterlimit:10;\" d=\"M 709.375 399.847656 L 709.375 5.480469 \"/>\n",
       "</g>\n",
       "<g clip-path=\"url(#clip19)\" clip-rule=\"nonzero\">\n",
       "<path style=\"fill:none;stroke-width:1.066978;stroke-linecap:butt;stroke-linejoin:round;stroke:rgb(100%,100%,100%);stroke-opacity:1;stroke-miterlimit:10;\" d=\"M 35.152344 381.921875 L 714.519531 381.921875 \"/>\n",
       "</g>\n",
       "<g clip-path=\"url(#clip20)\" clip-rule=\"nonzero\">\n",
       "<path style=\"fill:none;stroke-width:1.066978;stroke-linecap:butt;stroke-linejoin:round;stroke:rgb(100%,100%,100%);stroke-opacity:1;stroke-miterlimit:10;\" d=\"M 35.152344 262.417969 L 714.519531 262.417969 \"/>\n",
       "</g>\n",
       "<g clip-path=\"url(#clip21)\" clip-rule=\"nonzero\">\n",
       "<path style=\"fill:none;stroke-width:1.066978;stroke-linecap:butt;stroke-linejoin:round;stroke:rgb(100%,100%,100%);stroke-opacity:1;stroke-miterlimit:10;\" d=\"M 35.152344 142.910156 L 714.519531 142.910156 \"/>\n",
       "</g>\n",
       "<g clip-path=\"url(#clip22)\" clip-rule=\"nonzero\">\n",
       "<path style=\"fill:none;stroke-width:1.066978;stroke-linecap:butt;stroke-linejoin:round;stroke:rgb(100%,100%,100%);stroke-opacity:1;stroke-miterlimit:10;\" d=\"M 35.152344 23.40625 L 714.519531 23.40625 \"/>\n",
       "</g>\n",
       "<g clip-path=\"url(#clip23)\" clip-rule=\"nonzero\">\n",
       "<path style=\"fill:none;stroke-width:1.066978;stroke-linecap:butt;stroke-linejoin:round;stroke:rgb(100%,100%,100%);stroke-opacity:1;stroke-miterlimit:10;\" d=\"M 66.03125 399.847656 L 66.03125 5.480469 \"/>\n",
       "</g>\n",
       "<g clip-path=\"url(#clip24)\" clip-rule=\"nonzero\">\n",
       "<path style=\"fill:none;stroke-width:1.066978;stroke-linecap:butt;stroke-linejoin:round;stroke:rgb(100%,100%,100%);stroke-opacity:1;stroke-miterlimit:10;\" d=\"M 117.5 399.847656 L 117.5 5.480469 \"/>\n",
       "</g>\n",
       "<g clip-path=\"url(#clip25)\" clip-rule=\"nonzero\">\n",
       "<path style=\"fill:none;stroke-width:1.066978;stroke-linecap:butt;stroke-linejoin:round;stroke:rgb(100%,100%,100%);stroke-opacity:1;stroke-miterlimit:10;\" d=\"M 168.964844 399.847656 L 168.964844 5.480469 \"/>\n",
       "</g>\n",
       "<g clip-path=\"url(#clip26)\" clip-rule=\"nonzero\">\n",
       "<path style=\"fill:none;stroke-width:1.066978;stroke-linecap:butt;stroke-linejoin:round;stroke:rgb(100%,100%,100%);stroke-opacity:1;stroke-miterlimit:10;\" d=\"M 220.433594 399.847656 L 220.433594 5.480469 \"/>\n",
       "</g>\n",
       "<g clip-path=\"url(#clip27)\" clip-rule=\"nonzero\">\n",
       "<path style=\"fill:none;stroke-width:1.066978;stroke-linecap:butt;stroke-linejoin:round;stroke:rgb(100%,100%,100%);stroke-opacity:1;stroke-miterlimit:10;\" d=\"M 271.902344 399.847656 L 271.902344 5.480469 \"/>\n",
       "</g>\n",
       "<g clip-path=\"url(#clip28)\" clip-rule=\"nonzero\">\n",
       "<path style=\"fill:none;stroke-width:1.066978;stroke-linecap:butt;stroke-linejoin:round;stroke:rgb(100%,100%,100%);stroke-opacity:1;stroke-miterlimit:10;\" d=\"M 323.367188 399.847656 L 323.367188 5.480469 \"/>\n",
       "</g>\n",
       "<g clip-path=\"url(#clip29)\" clip-rule=\"nonzero\">\n",
       "<path style=\"fill:none;stroke-width:1.066978;stroke-linecap:butt;stroke-linejoin:round;stroke:rgb(100%,100%,100%);stroke-opacity:1;stroke-miterlimit:10;\" d=\"M 374.835938 399.847656 L 374.835938 5.480469 \"/>\n",
       "</g>\n",
       "<g clip-path=\"url(#clip30)\" clip-rule=\"nonzero\">\n",
       "<path style=\"fill:none;stroke-width:1.066978;stroke-linecap:butt;stroke-linejoin:round;stroke:rgb(100%,100%,100%);stroke-opacity:1;stroke-miterlimit:10;\" d=\"M 426.304688 399.847656 L 426.304688 5.480469 \"/>\n",
       "</g>\n",
       "<g clip-path=\"url(#clip31)\" clip-rule=\"nonzero\">\n",
       "<path style=\"fill:none;stroke-width:1.066978;stroke-linecap:butt;stroke-linejoin:round;stroke:rgb(100%,100%,100%);stroke-opacity:1;stroke-miterlimit:10;\" d=\"M 477.769531 399.847656 L 477.769531 5.480469 \"/>\n",
       "</g>\n",
       "<g clip-path=\"url(#clip32)\" clip-rule=\"nonzero\">\n",
       "<path style=\"fill:none;stroke-width:1.066978;stroke-linecap:butt;stroke-linejoin:round;stroke:rgb(100%,100%,100%);stroke-opacity:1;stroke-miterlimit:10;\" d=\"M 529.238281 399.847656 L 529.238281 5.480469 \"/>\n",
       "</g>\n",
       "<g clip-path=\"url(#clip33)\" clip-rule=\"nonzero\">\n",
       "<path style=\"fill:none;stroke-width:1.066978;stroke-linecap:butt;stroke-linejoin:round;stroke:rgb(100%,100%,100%);stroke-opacity:1;stroke-miterlimit:10;\" d=\"M 580.707031 399.847656 L 580.707031 5.480469 \"/>\n",
       "</g>\n",
       "<g clip-path=\"url(#clip34)\" clip-rule=\"nonzero\">\n",
       "<path style=\"fill:none;stroke-width:1.066978;stroke-linecap:butt;stroke-linejoin:round;stroke:rgb(100%,100%,100%);stroke-opacity:1;stroke-miterlimit:10;\" d=\"M 632.171875 399.847656 L 632.171875 5.480469 \"/>\n",
       "</g>\n",
       "<g clip-path=\"url(#clip35)\" clip-rule=\"nonzero\">\n",
       "<path style=\"fill:none;stroke-width:1.066978;stroke-linecap:butt;stroke-linejoin:round;stroke:rgb(100%,100%,100%);stroke-opacity:1;stroke-miterlimit:10;\" d=\"M 683.640625 399.847656 L 683.640625 5.480469 \"/>\n",
       "</g>\n",
       "<path style=\"fill-rule:nonzero;fill:rgb(0%,0%,0%);fill-opacity:1;stroke-width:0.708661;stroke-linecap:round;stroke-linejoin:round;stroke:rgb(0%,0%,0%);stroke-opacity:1;stroke-miterlimit:10;\" d=\"M 67.984375 93.449219 C 67.984375 96.054688 64.078125 96.054688 64.078125 93.449219 C 64.078125 90.84375 67.984375 90.84375 67.984375 93.449219 \"/>\n",
       "<path style=\"fill-rule:nonzero;fill:rgb(0%,0%,0%);fill-opacity:1;stroke-width:0.708661;stroke-linecap:round;stroke-linejoin:round;stroke:rgb(0%,0%,0%);stroke-opacity:1;stroke-miterlimit:10;\" d=\"M 119.453125 93.449219 C 119.453125 96.054688 115.542969 96.054688 115.542969 93.449219 C 115.542969 90.84375 119.453125 90.84375 119.453125 93.449219 \"/>\n",
       "<path style=\"fill-rule:nonzero;fill:rgb(0%,0%,0%);fill-opacity:1;stroke-width:0.708661;stroke-linecap:round;stroke-linejoin:round;stroke:rgb(0%,0%,0%);stroke-opacity:1;stroke-miterlimit:10;\" d=\"M 170.921875 93.449219 C 170.921875 96.054688 167.011719 96.054688 167.011719 93.449219 C 167.011719 90.84375 170.921875 90.84375 170.921875 93.449219 \"/>\n",
       "<path style=\"fill-rule:nonzero;fill:rgb(0%,0%,0%);fill-opacity:1;stroke-width:0.708661;stroke-linecap:round;stroke-linejoin:round;stroke:rgb(0%,0%,0%);stroke-opacity:1;stroke-miterlimit:10;\" d=\"M 222.386719 151.542969 C 222.386719 154.148438 218.480469 154.148438 218.480469 151.542969 C 218.480469 148.9375 222.386719 148.9375 222.386719 151.542969 \"/>\n",
       "<path style=\"fill-rule:nonzero;fill:rgb(0%,0%,0%);fill-opacity:1;stroke-width:0.708661;stroke-linecap:round;stroke-linejoin:round;stroke:rgb(0%,0%,0%);stroke-opacity:1;stroke-miterlimit:10;\" d=\"M 325.324219 193.039062 C 325.324219 195.644531 321.414062 195.644531 321.414062 193.039062 C 321.414062 190.429688 325.324219 190.429688 325.324219 193.039062 \"/>\n",
       "<path style=\"fill-rule:nonzero;fill:rgb(0%,0%,0%);fill-opacity:1;stroke-width:0.708661;stroke-linecap:round;stroke-linejoin:round;stroke:rgb(0%,0%,0%);stroke-opacity:1;stroke-miterlimit:10;\" d=\"M 428.257812 222.914062 C 428.257812 225.519531 424.347656 225.519531 424.347656 222.914062 C 424.347656 220.308594 428.257812 220.308594 428.257812 222.914062 \"/>\n",
       "<path style=\"fill-rule:nonzero;fill:rgb(0%,0%,0%);fill-opacity:1;stroke-width:0.708661;stroke-linecap:round;stroke-linejoin:round;stroke:rgb(0%,0%,0%);stroke-opacity:1;stroke-miterlimit:10;\" d=\"M 479.726562 222.914062 C 479.726562 225.519531 475.816406 225.519531 475.816406 222.914062 C 475.816406 220.308594 479.726562 220.308594 479.726562 222.914062 \"/>\n",
       "<path style=\"fill-rule:nonzero;fill:rgb(0%,0%,0%);fill-opacity:1;stroke-width:0.708661;stroke-linecap:round;stroke-linejoin:round;stroke:rgb(0%,0%,0%);stroke-opacity:1;stroke-miterlimit:10;\" d=\"M 582.660156 218.265625 C 582.660156 220.871094 578.75 220.871094 578.75 218.265625 C 578.75 215.660156 582.660156 215.660156 582.660156 218.265625 \"/>\n",
       "<path style=\"fill-rule:nonzero;fill:rgb(0%,0%,0%);fill-opacity:1;stroke-width:0.708661;stroke-linecap:round;stroke-linejoin:round;stroke:rgb(0%,0%,0%);stroke-opacity:1;stroke-miterlimit:10;\" d=\"M 634.128906 242.167969 C 634.128906 244.773438 630.21875 244.773438 630.21875 242.167969 C 630.21875 239.5625 634.128906 239.5625 634.128906 242.167969 \"/>\n",
       "<path style=\"fill-rule:nonzero;fill:rgb(0%,0%,0%);fill-opacity:1;stroke-width:0.708661;stroke-linecap:round;stroke-linejoin:round;stroke:rgb(0%,0%,0%);stroke-opacity:1;stroke-miterlimit:10;\" d=\"M 685.59375 257.105469 C 685.59375 259.710938 681.683594 259.710938 681.683594 257.105469 C 681.683594 254.5 685.59375 254.5 685.59375 257.105469 \"/>\n",
       "<path style=\"fill:none;stroke-width:1.066978;stroke-linecap:butt;stroke-linejoin:round;stroke:rgb(0%,0%,0%);stroke-opacity:1;stroke-miterlimit:10;\" d=\"M 66.03125 93.449219 L 168.964844 93.449219 L 220.433594 151.542969 L 323.367188 193.039062 L 426.304688 222.914062 L 477.769531 222.914062 L 580.707031 218.265625 L 632.171875 242.167969 L 683.640625 257.105469 \"/>\n",
       "<g style=\"fill:rgb(30.196078%,30.196078%,30.196078%);fill-opacity:1;\">\n",
       "  <use xlink:href=\"#glyph0-1\" x=\"18.21875\" y=\"385.387695\"/>\n",
       "  <use xlink:href=\"#glyph0-2\" x=\"23.21875\" y=\"385.387695\"/>\n",
       "  <use xlink:href=\"#glyph0-3\" x=\"25.21875\" y=\"385.387695\"/>\n",
       "</g>\n",
       "<g style=\"fill:rgb(30.196078%,30.196078%,30.196078%);fill-opacity:1;\">\n",
       "  <use xlink:href=\"#glyph0-1\" x=\"18.21875\" y=\"265.883789\"/>\n",
       "  <use xlink:href=\"#glyph0-2\" x=\"23.21875\" y=\"265.883789\"/>\n",
       "  <use xlink:href=\"#glyph0-4\" x=\"25.21875\" y=\"265.883789\"/>\n",
       "</g>\n",
       "<g style=\"fill:rgb(30.196078%,30.196078%,30.196078%);fill-opacity:1;\">\n",
       "  <use xlink:href=\"#glyph0-1\" x=\"18.21875\" y=\"146.375977\"/>\n",
       "  <use xlink:href=\"#glyph0-2\" x=\"23.21875\" y=\"146.375977\"/>\n",
       "  <use xlink:href=\"#glyph0-5\" x=\"25.21875\" y=\"146.375977\"/>\n",
       "</g>\n",
       "<g style=\"fill:rgb(30.196078%,30.196078%,30.196078%);fill-opacity:1;\">\n",
       "  <use xlink:href=\"#glyph0-6\" x=\"18.21875\" y=\"26.87207\"/>\n",
       "  <use xlink:href=\"#glyph0-2\" x=\"23.21875\" y=\"26.87207\"/>\n",
       "  <use xlink:href=\"#glyph0-1\" x=\"25.21875\" y=\"26.87207\"/>\n",
       "</g>\n",
       "<path style=\"fill:none;stroke-width:1.066978;stroke-linecap:butt;stroke-linejoin:round;stroke:rgb(20%,20%,20%);stroke-opacity:1;stroke-miterlimit:10;\" d=\"M 32.410156 381.921875 L 35.152344 381.921875 \"/>\n",
       "<path style=\"fill:none;stroke-width:1.066978;stroke-linecap:butt;stroke-linejoin:round;stroke:rgb(20%,20%,20%);stroke-opacity:1;stroke-miterlimit:10;\" d=\"M 32.410156 262.417969 L 35.152344 262.417969 \"/>\n",
       "<path style=\"fill:none;stroke-width:1.066978;stroke-linecap:butt;stroke-linejoin:round;stroke:rgb(20%,20%,20%);stroke-opacity:1;stroke-miterlimit:10;\" d=\"M 32.410156 142.910156 L 35.152344 142.910156 \"/>\n",
       "<path style=\"fill:none;stroke-width:1.066978;stroke-linecap:butt;stroke-linejoin:round;stroke:rgb(20%,20%,20%);stroke-opacity:1;stroke-miterlimit:10;\" d=\"M 32.410156 23.40625 L 35.152344 23.40625 \"/>\n",
       "<path style=\"fill:none;stroke-width:1.066978;stroke-linecap:butt;stroke-linejoin:round;stroke:rgb(20%,20%,20%);stroke-opacity:1;stroke-miterlimit:10;\" d=\"M 66.03125 402.589844 L 66.03125 399.847656 \"/>\n",
       "<path style=\"fill:none;stroke-width:1.066978;stroke-linecap:butt;stroke-linejoin:round;stroke:rgb(20%,20%,20%);stroke-opacity:1;stroke-miterlimit:10;\" d=\"M 117.5 402.589844 L 117.5 399.847656 \"/>\n",
       "<path style=\"fill:none;stroke-width:1.066978;stroke-linecap:butt;stroke-linejoin:round;stroke:rgb(20%,20%,20%);stroke-opacity:1;stroke-miterlimit:10;\" d=\"M 168.964844 402.589844 L 168.964844 399.847656 \"/>\n",
       "<path style=\"fill:none;stroke-width:1.066978;stroke-linecap:butt;stroke-linejoin:round;stroke:rgb(20%,20%,20%);stroke-opacity:1;stroke-miterlimit:10;\" d=\"M 220.433594 402.589844 L 220.433594 399.847656 \"/>\n",
       "<path style=\"fill:none;stroke-width:1.066978;stroke-linecap:butt;stroke-linejoin:round;stroke:rgb(20%,20%,20%);stroke-opacity:1;stroke-miterlimit:10;\" d=\"M 271.902344 402.589844 L 271.902344 399.847656 \"/>\n",
       "<path style=\"fill:none;stroke-width:1.066978;stroke-linecap:butt;stroke-linejoin:round;stroke:rgb(20%,20%,20%);stroke-opacity:1;stroke-miterlimit:10;\" d=\"M 323.367188 402.589844 L 323.367188 399.847656 \"/>\n",
       "<path style=\"fill:none;stroke-width:1.066978;stroke-linecap:butt;stroke-linejoin:round;stroke:rgb(20%,20%,20%);stroke-opacity:1;stroke-miterlimit:10;\" d=\"M 374.835938 402.589844 L 374.835938 399.847656 \"/>\n",
       "<path style=\"fill:none;stroke-width:1.066978;stroke-linecap:butt;stroke-linejoin:round;stroke:rgb(20%,20%,20%);stroke-opacity:1;stroke-miterlimit:10;\" d=\"M 426.304688 402.589844 L 426.304688 399.847656 \"/>\n",
       "<path style=\"fill:none;stroke-width:1.066978;stroke-linecap:butt;stroke-linejoin:round;stroke:rgb(20%,20%,20%);stroke-opacity:1;stroke-miterlimit:10;\" d=\"M 477.769531 402.589844 L 477.769531 399.847656 \"/>\n",
       "<path style=\"fill:none;stroke-width:1.066978;stroke-linecap:butt;stroke-linejoin:round;stroke:rgb(20%,20%,20%);stroke-opacity:1;stroke-miterlimit:10;\" d=\"M 529.238281 402.589844 L 529.238281 399.847656 \"/>\n",
       "<path style=\"fill:none;stroke-width:1.066978;stroke-linecap:butt;stroke-linejoin:round;stroke:rgb(20%,20%,20%);stroke-opacity:1;stroke-miterlimit:10;\" d=\"M 580.707031 402.589844 L 580.707031 399.847656 \"/>\n",
       "<path style=\"fill:none;stroke-width:1.066978;stroke-linecap:butt;stroke-linejoin:round;stroke:rgb(20%,20%,20%);stroke-opacity:1;stroke-miterlimit:10;\" d=\"M 632.171875 402.589844 L 632.171875 399.847656 \"/>\n",
       "<path style=\"fill:none;stroke-width:1.066978;stroke-linecap:butt;stroke-linejoin:round;stroke:rgb(20%,20%,20%);stroke-opacity:1;stroke-miterlimit:10;\" d=\"M 683.640625 402.589844 L 683.640625 399.847656 \"/>\n",
       "<g style=\"fill:rgb(30.196078%,30.196078%,30.196078%);fill-opacity:1;\">\n",
       "  <use xlink:href=\"#glyph0-7\" x=\"63.53125\" y=\"411.74707\"/>\n",
       "</g>\n",
       "<g style=\"fill:rgb(30.196078%,30.196078%,30.196078%);fill-opacity:1;\">\n",
       "  <use xlink:href=\"#glyph0-8\" x=\"115\" y=\"411.74707\"/>\n",
       "</g>\n",
       "<g style=\"fill:rgb(30.196078%,30.196078%,30.196078%);fill-opacity:1;\">\n",
       "  <use xlink:href=\"#glyph0-3\" x=\"166.464844\" y=\"411.74707\"/>\n",
       "</g>\n",
       "<g style=\"fill:rgb(30.196078%,30.196078%,30.196078%);fill-opacity:1;\">\n",
       "  <use xlink:href=\"#glyph0-9\" x=\"217.933594\" y=\"411.74707\"/>\n",
       "</g>\n",
       "<g style=\"fill:rgb(30.196078%,30.196078%,30.196078%);fill-opacity:1;\">\n",
       "  <use xlink:href=\"#glyph0-4\" x=\"269.402344\" y=\"411.74707\"/>\n",
       "</g>\n",
       "<g style=\"fill:rgb(30.196078%,30.196078%,30.196078%);fill-opacity:1;\">\n",
       "  <use xlink:href=\"#glyph0-10\" x=\"320.867188\" y=\"411.74707\"/>\n",
       "</g>\n",
       "<g style=\"fill:rgb(30.196078%,30.196078%,30.196078%);fill-opacity:1;\">\n",
       "  <use xlink:href=\"#glyph0-5\" x=\"372.335938\" y=\"411.74707\"/>\n",
       "</g>\n",
       "<g style=\"fill:rgb(30.196078%,30.196078%,30.196078%);fill-opacity:1;\">\n",
       "  <use xlink:href=\"#glyph0-11\" x=\"423.804688\" y=\"411.74707\"/>\n",
       "</g>\n",
       "<g style=\"fill:rgb(30.196078%,30.196078%,30.196078%);fill-opacity:1;\">\n",
       "  <use xlink:href=\"#glyph0-6\" x=\"472.769531\" y=\"411.74707\"/>\n",
       "  <use xlink:href=\"#glyph0-1\" x=\"477.769531\" y=\"411.74707\"/>\n",
       "</g>\n",
       "<g style=\"fill:rgb(30.196078%,30.196078%,30.196078%);fill-opacity:1;\">\n",
       "  <use xlink:href=\"#glyph0-6\" x=\"524.238281\" y=\"411.74707\"/>\n",
       "  <use xlink:href=\"#glyph0-6\" x=\"529.238281\" y=\"411.74707\"/>\n",
       "</g>\n",
       "<g style=\"fill:rgb(30.196078%,30.196078%,30.196078%);fill-opacity:1;\">\n",
       "  <use xlink:href=\"#glyph0-6\" x=\"575.707031\" y=\"411.74707\"/>\n",
       "  <use xlink:href=\"#glyph0-7\" x=\"580.707031\" y=\"411.74707\"/>\n",
       "</g>\n",
       "<g style=\"fill:rgb(30.196078%,30.196078%,30.196078%);fill-opacity:1;\">\n",
       "  <use xlink:href=\"#glyph0-6\" x=\"627.171875\" y=\"411.74707\"/>\n",
       "  <use xlink:href=\"#glyph0-8\" x=\"632.171875\" y=\"411.74707\"/>\n",
       "</g>\n",
       "<g style=\"fill:rgb(30.196078%,30.196078%,30.196078%);fill-opacity:1;\">\n",
       "  <use xlink:href=\"#glyph0-6\" x=\"678.640625\" y=\"411.74707\"/>\n",
       "  <use xlink:href=\"#glyph0-3\" x=\"683.640625\" y=\"411.74707\"/>\n",
       "</g>\n",
       "<g style=\"fill:rgb(0%,0%,0%);fill-opacity:1;\">\n",
       "  <use xlink:href=\"#glyph1-1\" x=\"349.835938\" y=\"424.477539\"/>\n",
       "  <use xlink:href=\"#glyph1-2\" x=\"357.835938\" y=\"424.477539\"/>\n",
       "  <use xlink:href=\"#glyph1-3\" x=\"363.835938\" y=\"424.477539\"/>\n",
       "  <use xlink:href=\"#glyph1-4\" x=\"365.835938\" y=\"424.477539\"/>\n",
       "  <use xlink:href=\"#glyph1-5\" x=\"371.835938\" y=\"424.477539\"/>\n",
       "  <use xlink:href=\"#glyph1-6\" x=\"377.835938\" y=\"424.477539\"/>\n",
       "  <use xlink:href=\"#glyph1-7\" x=\"383.835938\" y=\"424.477539\"/>\n",
       "  <use xlink:href=\"#glyph1-8\" x=\"389.835938\" y=\"424.477539\"/>\n",
       "  <use xlink:href=\"#glyph1-9\" x=\"393.835938\" y=\"424.477539\"/>\n",
       "</g>\n",
       "<g style=\"fill:rgb(0%,0%,0%);fill-opacity:1;\">\n",
       "  <use xlink:href=\"#glyph2-1\" x=\"13.438477\" y=\"248.664062\"/>\n",
       "  <use xlink:href=\"#glyph2-2\" x=\"13.438477\" y=\"241.664062\"/>\n",
       "  <use xlink:href=\"#glyph2-2\" x=\"13.438477\" y=\"235.664062\"/>\n",
       "  <use xlink:href=\"#glyph2-3\" x=\"13.438477\" y=\"229.664062\"/>\n",
       "  <use xlink:href=\"#glyph2-4\" x=\"13.438477\" y=\"223.664062\"/>\n",
       "  <use xlink:href=\"#glyph2-5\" x=\"13.438477\" y=\"219.664062\"/>\n",
       "  <use xlink:href=\"#glyph2-2\" x=\"13.438477\" y=\"213.664062\"/>\n",
       "  <use xlink:href=\"#glyph2-6\" x=\"13.438477\" y=\"207.664062\"/>\n",
       "  <use xlink:href=\"#glyph2-7\" x=\"13.438477\" y=\"201.664062\"/>\n",
       "  <use xlink:href=\"#glyph2-8\" x=\"13.438477\" y=\"198.664062\"/>\n",
       "  <use xlink:href=\"#glyph2-9\" x=\"13.438477\" y=\"191.664062\"/>\n",
       "  <use xlink:href=\"#glyph2-10\" x=\"13.438477\" y=\"185.664062\"/>\n",
       "  <use xlink:href=\"#glyph2-11\" x=\"13.438477\" y=\"182.664062\"/>\n",
       "  <use xlink:href=\"#glyph2-12\" x=\"13.438477\" y=\"180.664062\"/>\n",
       "  <use xlink:href=\"#glyph2-5\" x=\"13.438477\" y=\"171.664062\"/>\n",
       "  <use xlink:href=\"#glyph2-10\" x=\"13.438477\" y=\"165.664062\"/>\n",
       "  <use xlink:href=\"#glyph2-13\" x=\"13.438477\" y=\"162.664062\"/>\n",
       "</g>\n",
       "</g>\n",
       "</svg>\n"
      ],
      "text/plain": [
       "plot without title"
      ]
     },
     "metadata": {
      "application/pdf": {
       "height": 360,
       "width": 600
      },
      "image/jpeg": {
       "height": 360,
       "width": 600
      },
      "image/png": {
       "height": 360,
       "width": 600
      },
      "image/svg+xml": {
       "height": 360,
       "isolated": true,
       "width": 600
      }
     },
     "output_type": "display_data"
    }
   ],
   "source": [
    "accuracies <- knn_results |> \n",
    "       filter(.metric == \"accuracy\")\n",
    "\n",
    "accuracy_versus_k <- ggplot(accuracies, aes(x = neighbors, y = mean))+\n",
    "       geom_point() +\n",
    "       geom_line() +\n",
    "       labs(x = \"Neighbors\", y = \"Accuracy Estimate\") +\n",
    "       scale_x_continuous(breaks = seq(0, 14, by = 1)) +  # adjusting the x-axis\n",
    "       scale_y_continuous(limits = c(0.4, 1.0)) # adjusting the y-axis\n",
    "\n",
    "\n",
    "accuracy_versus_k"
   ]
  },
  {
   "cell_type": "code",
   "execution_count": 113,
   "metadata": {
    "deletable": false,
    "editable": false,
    "nbgrader": {
     "cell_type": "code",
     "checksum": "d36c5097a082447e87d5b791da2a3696",
     "grade": true,
     "grade_id": "cell-6d62d960eaff34d6",
     "locked": true,
     "points": 1,
     "schema_version": 3,
     "solution": false,
     "task": false
    }
   },
   "outputs": [
    {
     "name": "stdout",
     "output_type": "stream",
     "text": [
      "\u001b[32mTest passed\u001b[39m 🎉\n",
      "\u001b[32mTest passed\u001b[39m 🥳\n",
      "\u001b[32mTest passed\u001b[39m 😀\n",
      "\u001b[32mTest passed\u001b[39m 😸\n",
      "\u001b[32mTest passed\u001b[39m 🌈\n",
      "\u001b[32mTest passed\u001b[39m 😸\n",
      "[1] \"Success!\"\n"
     ]
    }
   ],
   "source": [
    "test_4.2()"
   ]
  },
  {
   "cell_type": "markdown",
   "metadata": {
    "deletable": false,
    "editable": false,
    "nbgrader": {
     "cell_type": "markdown",
     "checksum": "55568644264b3cb3301d7ae175ae5cc8",
     "grade": false,
     "grade_id": "cell-ff9e1c1f4f70c1e9",
     "locked": true,
     "schema_version": 3,
     "solution": false,
     "task": false
    }
   },
   "source": [
    "From the plot above, we can see that $K = 2$, $3$, or $4$ provides the highest accuracy. Larger $K$ values result in a reduced accuracy estimate. Remember: the values you see on this plot are estimates of the true accuracy of our classifier. Although the $K = 2$, $3$ or $4$ value is higher than the others on this plot, that doesn’t mean the classifier is necessarily more accurate with this parameter value! "
   ]
  },
  {
   "cell_type": "markdown",
   "metadata": {
    "deletable": false,
    "editable": false,
    "nbgrader": {
     "cell_type": "markdown",
     "checksum": "b96cf43f98ea9bf9e2c9958a497023ff",
     "grade": false,
     "grade_id": "cell-0b119208147a50fc",
     "locked": true,
     "schema_version": 3,
     "solution": false,
     "task": false
    }
   },
   "source": [
    "Great, now you have completed a full workflow analysis with cross-validation using the `tidymodels` package! For your information, we can choose any number of folds and typically, the more we use the better our accuracy estimate will be (lower standard error). However, more folds would mean a greater computation time. In practice, $C$ is chosen to be either 5 or 10. "
   ]
  },
  {
   "cell_type": "code",
   "execution_count": null,
   "metadata": {
    "deletable": false,
    "editable": false,
    "nbgrader": {
     "cell_type": "code",
     "checksum": "b1e27fcdb53cd0811a4aebaba6c3c824",
     "grade": false,
     "grade_id": "cell-4609bfd4722e6480",
     "locked": true,
     "schema_version": 3,
     "solution": false,
     "task": false
    }
   },
   "outputs": [],
   "source": [
    "source('cleanup.R')"
   ]
  }
 ],
 "metadata": {
  "kernelspec": {
   "display_name": "R",
   "language": "R",
   "name": "ir"
  },
  "language_info": {
   "codemirror_mode": "r",
   "file_extension": ".r",
   "mimetype": "text/x-r-source",
   "name": "R",
   "pygments_lexer": "r",
   "version": "4.3.1"
  }
 },
 "nbformat": 4,
 "nbformat_minor": 4
}
